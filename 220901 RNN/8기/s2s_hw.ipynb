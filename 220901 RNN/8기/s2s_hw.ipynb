{
  "cells": [
    {
      "cell_type": "markdown",
      "metadata": {
        "id": "XhqgooEJc3ml"
      },
      "source": [
        "# PATH"
      ]
    },
    {
      "cell_type": "markdown",
      "metadata": {
        "id": "a6JAywISdMna"
      },
      "source": [
        "구글 드라이브"
      ]
    },
    {
      "cell_type": "code",
      "execution_count": 8,
      "metadata": {
        "colab": {
          "base_uri": "https://localhost:8080/"
        },
        "id": "4KzgUpIpcORE",
        "outputId": "0d683fea-b4fa-4ef9-c2a2-2746a70cce55"
      },
      "outputs": [
        {
          "output_type": "stream",
          "name": "stdout",
          "text": [
            "Drive already mounted at /content/drive; to attempt to forcibly remount, call drive.mount(\"/content/drive\", force_remount=True).\n"
          ]
        }
      ],
      "source": [
        "import os\n",
        "import sys\n",
        "from google.colab import drive\n",
        "\n",
        "drive.mount('/content/drive')"
      ]
    },
    {
      "cell_type": "code",
      "execution_count": 9,
      "metadata": {
        "id": "-e32kvctRklL"
      },
      "outputs": [],
      "source": [
        "os.chdir('/content/drive/MyDrive/0901_RNN/보충/RNN 과제')"
      ]
    },
    {
      "cell_type": "code",
      "execution_count": 10,
      "metadata": {
        "colab": {
          "base_uri": "https://localhost:8080/",
          "height": 0
        },
        "id": "TK1fCrA9fHwN",
        "outputId": "ab92ec71-498b-41fe-e806-51df6535921d"
      },
      "outputs": [
        {
          "output_type": "execute_result",
          "data": {
            "text/plain": [
              "'/content/drive/MyDrive/0901_RNN/보충/RNN 과제'"
            ],
            "application/vnd.google.colaboratory.intrinsic+json": {
              "type": "string"
            }
          },
          "metadata": {},
          "execution_count": 10
        }
      ],
      "source": [
        "os.getcwd()"
      ]
    },
    {
      "cell_type": "code",
      "execution_count": 11,
      "metadata": {
        "colab": {
          "base_uri": "https://localhost:8080/",
          "height": 0
        },
        "id": "yR9lFnfZMQ8k",
        "outputId": "d3363e5e-7fd9-4573-db64-298a39511fb7"
      },
      "outputs": [
        {
          "output_type": "execute_result",
          "data": {
            "text/plain": [
              "'/content/drive/MyDrive/0901_RNN/보충/RNN 과제/data/data_hw'"
            ],
            "application/vnd.google.colaboratory.intrinsic+json": {
              "type": "string"
            }
          },
          "metadata": {},
          "execution_count": 11
        }
      ],
      "source": [
        "root_data = f\"{os.getcwd()}/data/data_hw\"\n",
        "root_data"
      ]
    },
    {
      "cell_type": "code",
      "execution_count": 12,
      "metadata": {
        "id": "eUaOJiEaP8t9"
      },
      "outputs": [],
      "source": [
        "# 데이터 불러올 때 사용할 경로로 이후에 있을 unzip과 연동되는 내용입니다! \n",
        "path_train_data = \"data/data_hw/1.Training/원천데이터/일상생활및구어체_영한_train_set.json\"\n",
        "\n",
        "path_val_data = \"data/data_hw/2.Validation/원천데이터/일상생활및구어체_영한_valid_set.json\"\n"
      ]
    },
    {
      "cell_type": "markdown",
      "metadata": {
        "id": "lllM7QIsLKHG"
      },
      "source": [
        "# 사전 준비 사항"
      ]
    },
    {
      "cell_type": "code",
      "execution_count": 13,
      "metadata": {
        "colab": {
          "base_uri": "https://localhost:8080/",
          "height": 0
        },
        "id": "N4M6g36zarsi",
        "outputId": "f35b1254-6541-4a8c-913b-baae3d70dc1c"
      },
      "outputs": [
        {
          "output_type": "execute_result",
          "data": {
            "text/plain": [
              "'cuda'"
            ],
            "application/vnd.google.colaboratory.intrinsic+json": {
              "type": "string"
            }
          },
          "metadata": {},
          "execution_count": 13
        }
      ],
      "source": [
        "import torch\n",
        "\n",
        "device = 'cuda' if torch.cuda.is_available() else \"cpu\"\n",
        "device"
      ]
    },
    {
      "cell_type": "markdown",
      "metadata": {
        "id": "SdN8CiTlc7xF"
      },
      "source": [
        "# 1. Data\n",
        "\n",
        "실습에서 사용했던 영어-프랑스어와 달리 현재 사용할 데이터 셋은 영어-한국어 데이터 셋입니다. \n",
        "\n",
        "특히 압축을 풀어야 사용하실 수 있으니 유의하여 진행해주시길 바랍니다.\n",
        "\n",
        "다행인 점은 용량이 그리 크지 않을겁니다!\n",
        "\n",
        "저장 경로는 위에서 path_train_data와 path_val_data와 동일하게 맞췄습니다."
      ]
    },
    {
      "cell_type": "code",
      "execution_count": 14,
      "metadata": {
        "id": "4bGHHia2LnOo"
      },
      "outputs": [],
      "source": [
        "!unzip -qq data/data_hw/1.Training/원천데이터/TS1.zip -d data/data_hw/1.Training/원천데이터\n",
        "\n",
        "!unzip -qq data/data_hw/2.Validation/원천데이터/VS1.zip -d data/data_hw/2.Validation/원천데이터\n"
      ]
    },
    {
      "cell_type": "markdown",
      "metadata": {
        "id": "tfrW60WrP0rn"
      },
      "source": [
        "## 데이터 구조 확인"
      ]
    },
    {
      "cell_type": "code",
      "execution_count": 15,
      "metadata": {
        "id": "SDeLynUqP0Jr"
      },
      "outputs": [],
      "source": [
        "import json"
      ]
    },
    {
      "cell_type": "code",
      "execution_count": 16,
      "metadata": {
        "id": "2VEmaNPbP5hr"
      },
      "outputs": [],
      "source": [
        "# 좀 오래 걸릴 수 있다.\n",
        "\n",
        "# 경로는 앞서 PATH에서 선언했고 unzip에서도 경로를 지정했습니다. 만약 여기에 변화가 생기신다면 에러가 생길 수 있으니 유의하셔야 합니다.\n",
        "with open(path_train_data, 'r') as f:\n",
        "  raw_train_data = json.load(f) # 학습데이터\n",
        "\n",
        "with open(path_val_data, 'r') as f:\n",
        "  raw_val_data = json.load(f) # 평가데이터/테스트데이터\n"
      ]
    },
    {
      "cell_type": "code",
      "execution_count": 17,
      "metadata": {
        "colab": {
          "base_uri": "https://localhost:8080/"
        },
        "id": "jNhgtA6iR2HG",
        "outputId": "e9c178c8-9a6f-4976-9400-412c339449a9"
      },
      "outputs": [
        {
          "output_type": "execute_result",
          "data": {
            "text/plain": [
              "dict_keys(['data'])"
            ]
          },
          "metadata": {},
          "execution_count": 17
        }
      ],
      "source": [
        "# 현재 데이터의 구조가 {'data':~~~ }로 되어있는것을 알 수 있습니다.\n",
        "raw_train_data.keys()"
      ]
    },
    {
      "cell_type": "code",
      "execution_count": 18,
      "metadata": {
        "colab": {
          "base_uri": "https://localhost:8080/"
        },
        "id": "uMcJ230kRgJ_",
        "outputId": "8e536a6f-70bc-43e9-bee1-8b3645e2085a"
      },
      "outputs": [
        {
          "output_type": "execute_result",
          "data": {
            "text/plain": [
              "1200307"
            ]
          },
          "metadata": {},
          "execution_count": 18
        }
      ],
      "source": [
        "# 학습 데이터 개수 확인\n",
        "len(raw_train_data['data'])"
      ]
    },
    {
      "cell_type": "markdown",
      "metadata": {
        "id": "pOcoZtgOYicO"
      },
      "source": [
        "지금 데이터가 너무 많아서 전처리만 해도 1,2시간 걸릴 수 있습니다. 그래서 숙제에서는 매우 일부 데이터만(10,000개) 이용하도록 하겠습니다."
      ]
    },
    {
      "cell_type": "code",
      "execution_count": 19,
      "metadata": {
        "id": "OXGulbjhYg-o"
      },
      "outputs": [],
      "source": [
        "raw_train_data = raw_train_data['data'][:10000]\n",
        "raw_val_data = raw_val_data['data'][:1000]"
      ]
    },
    {
      "cell_type": "code",
      "execution_count": 20,
      "metadata": {
        "id": "GMFaFQF0SJb4"
      },
      "outputs": [],
      "source": [
        "# 샘플로 하나 확인\n",
        "sample_data = raw_train_data[0]"
      ]
    },
    {
      "cell_type": "code",
      "execution_count": 21,
      "metadata": {
        "colab": {
          "base_uri": "https://localhost:8080/"
        },
        "id": "I68Quh9gSRag",
        "outputId": "7979afce-aae2-4004-c6ee-a3334f3d7130"
      },
      "outputs": [
        {
          "output_type": "execute_result",
          "data": {
            "text/plain": [
              "{'sn': 'ECOAR1A00003',\n",
              " 'data_set': '일상생활및구어체',\n",
              " 'domain': '해외고객과의채팅',\n",
              " 'subdomain': '숙박,음식점',\n",
              " 'en_original': \"I'm glad to hear that, and I hope you do consider doing business with us.\",\n",
              " 'en': \"I'm glad to hear that, and I hope you do consider doing business with us.\",\n",
              " 'mt': '그 소식을 들으니 기쁩니다. 우리와 거래하는 것을 고려해 보시기 바랍니다.',\n",
              " 'ko': '그 말을 들으니 기쁘고, 저희와 거래하는 것을 고려해 주셨으면 합니다.',\n",
              " 'source_language': 'en',\n",
              " 'target_language': 'ko',\n",
              " 'word_count_ko': 10.0,\n",
              " 'word_count_en': 15.0,\n",
              " 'word_ratio': 0.667,\n",
              " 'file_name': '해외고객과의채팅_숙박,음식점.xlsx',\n",
              " 'source': '크라우드 소싱',\n",
              " 'license': 'open',\n",
              " 'style': '구어체',\n",
              " 'included_unknown_words': False,\n",
              " 'ner': None}"
            ]
          },
          "metadata": {},
          "execution_count": 21
        }
      ],
      "source": [
        "# 아래의 예시를 보고 데이터를 어떻게 처리할지 잘 생각하셔야 합니다!\n",
        "# 보았을 때 우리가 사용해야 하는 건 ko와 en가 되고\n",
        "# 실제 데이터를 사용한다고 할 때 이 외에 필요한 데이터가 더 있을 수 있습니다.\n",
        "# 모델링 과정에서는 어떻게 데이터들이 저장되어 있는지 주의해서 처리하시면 됩니다.\n",
        "sample_data"
      ]
    },
    {
      "cell_type": "markdown",
      "metadata": {
        "id": "LoZkQRO3l20O"
      },
      "source": [
        "# 2. Preprocess\n",
        "\n",
        "세션 설명 코드에서는 알파벳 하나하나 사용했지만, 이번 과정에서는 토큰화를 진행하여 사용하는 과정을 Dataset에 바로 적용해보고자 합니다! \n",
        "\n",
        "토큰화는 앞서 word embedding 세션에서 사용한 것들을 그대로 이용하고자 합니다. 세부 커스터마이징은 자유롭습니다.\n",
        "\n",
        "전처리 과정에서 중요한 점은, 앞의 구현 코드에서 여러 개의 for loop을 이용해서 구현했었지만, 실제 데이터를 사용한다면 매우 오래 걸리게 됩니다. 실제 데이터를 사용할 때엔 결국 얼마나 효율적으로 빠르게 정리할 수 있을지 고민해보시면서 접근하시길 바랍니다.\n",
        "\n",
        "즉, 전처리에서 챙길 통찰은 얼마나 \"효율적\"으로 할 수 있는가? 입니다."
      ]
    },
    {
      "cell_type": "markdown",
      "metadata": {
        "id": "IngQKWx3VRtO"
      },
      "source": [
        "## Tokenizer"
      ]
    },
    {
      "cell_type": "markdown",
      "metadata": {
        "id": "LDkdDQHWuvzF"
      },
      "source": [
        "지금은 단순히 품사를 기준으로 문장 그대로 단어로 들어가서 학습이 진행된다.\n",
        "\n",
        "그러나 이후에는 같은 품사끼리(예를 들면, 한국어의 동사와 영어의 동사끼리) 매칭하면 훨씬 정확히 학습을 할 수 있지 않을까 싶다.\n",
        "\n",
        "추가로 stem,norm 등을 적용하여 품사의 형태를 바꿔주면 더욱 학습 효과가 높을 것이다.(예를 들면, gone -> go)"
      ]
    },
    {
      "cell_type": "markdown",
      "metadata": {
        "id": "BJ4rGt7wTFHv"
      },
      "source": [
        "### 1. 한국어 토큰화"
      ]
    },
    {
      "cell_type": "code",
      "execution_count": null,
      "metadata": {
        "id": "ttmiDFAEU_BK"
      },
      "outputs": [],
      "source": [
        "#konlpy 설치 (mecab 제외). 3~40초 정도 소요\n",
        "%%bash\n",
        "apt-get update\n",
        "apt-get install g++ openjdk-8-jdk python-dev python3-dev\n",
        "pip3 install JPype1\n",
        "pip3 install konlpy"
      ]
    },
    {
      "cell_type": "code",
      "execution_count": 23,
      "metadata": {
        "colab": {
          "base_uri": "https://localhost:8080/"
        },
        "id": "gV7CNL2KVDqN",
        "outputId": "a72a43e6-6636-4730-a271-ee47f7659228"
      },
      "outputs": [
        {
          "output_type": "stream",
          "name": "stdout",
          "text": [
            "env: JAVA_HOME=\"/usr/lib/jvm/java-8-openjdk-amd64\"\n"
          ]
        }
      ],
      "source": [
        "# java 경로 설정\n",
        "%env JAVA_HOME \"/usr/lib/jvm/java-8-openjdk-amd64\""
      ]
    },
    {
      "cell_type": "code",
      "execution_count": 24,
      "metadata": {
        "id": "S0aHtzksVPOT"
      },
      "outputs": [],
      "source": [
        "from konlpy.tag import Okt"
      ]
    },
    {
      "cell_type": "code",
      "execution_count": 25,
      "metadata": {
        "id": "ly1Fg2bXVYVF"
      },
      "outputs": [],
      "source": [
        "okt = Okt()"
      ]
    },
    {
      "cell_type": "code",
      "execution_count": 26,
      "metadata": {
        "colab": {
          "base_uri": "https://localhost:8080/"
        },
        "id": "9VgTJBRAhneY",
        "outputId": "78f481a7-9ba9-43fa-ae1b-91a012afda74"
      },
      "outputs": [
        {
          "output_type": "execute_result",
          "data": {
            "text/plain": [
              "[('그', 'Noun'),\n",
              " ('말', 'Noun'),\n",
              " ('을', 'Josa'),\n",
              " ('들으니', 'Verb'),\n",
              " ('기쁘고', 'Adjective'),\n",
              " (',', 'Punctuation'),\n",
              " ('저희', 'Noun'),\n",
              " ('와', 'Josa'),\n",
              " ('거래', 'Noun'),\n",
              " ('하는', 'Verb'),\n",
              " ('것', 'Noun'),\n",
              " ('을', 'Josa'),\n",
              " ('고려', 'Noun'),\n",
              " ('해', 'Verb'),\n",
              " ('주셨으면', 'Verb'),\n",
              " ('합니다', 'Verb'),\n",
              " ('.', 'Punctuation')]"
            ]
          },
          "metadata": {},
          "execution_count": 26
        }
      ],
      "source": [
        "okt.pos(sample_data['ko'])"
      ]
    },
    {
      "cell_type": "code",
      "execution_count": 27,
      "metadata": {
        "id": "3SkBQf_FT4OJ"
      },
      "outputs": [],
      "source": [
        "stop_words = []\n",
        "\n",
        "def CustomTokenizer_ko(sentence):\n",
        "\n",
        "    # stop_words = ['하다','다', '것', '의하다', '돼다', '수', '등'] # 의미없는 단어만을 담은 리스트\n",
        "    stop_pos = ['KoreanParticle'] # 의미없는 품사를 담은 리스트\n",
        "    result = [] # 추출한 단어 중 의미있는 것들을 담은 리스트\n",
        "\n",
        "    # Punctuation : 맞춤표, 쉼표\n",
        "    # Alpha : \n",
        "    # Suffix : 접미사 ex. 먹보에서 -보\n",
        "    # KoreanParticle : ex. ㅋㅋㅋ\n",
        "\n",
        "    for word,char in okt.pos(sentence, stem = False, norm = False):\n",
        "      # stem, norm모두 False로 하여 최대한 재가공을 하지 않는다.\n",
        "      # 왜냐하면 영어를 토큰화할 때, 사용하는 nltk는 위 기능을 제공하지 않는 것 같기 때문이다.\n",
        "      # 따라서 nltk와 같게 그냥 문장 그대로를 끊어주기만 하자!\n",
        "\n",
        "      if char not in stop_pos: # 의미없는 품사 제외\n",
        "        if word not in stop_words: # 의미없는 단어 제외\n",
        "          result.append(word)\n",
        "    \n",
        "    #######\n",
        "    # 띄어쓰기를 넣어주어야\n",
        "\n",
        "    return result"
      ]
    },
    {
      "cell_type": "code",
      "execution_count": 28,
      "metadata": {
        "colab": {
          "base_uri": "https://localhost:8080/"
        },
        "id": "aGMdyWtdWF31",
        "outputId": "798d6796-8931-4a97-c789-b6b1fdf62bcd"
      },
      "outputs": [
        {
          "output_type": "execute_result",
          "data": {
            "text/plain": [
              "['그',\n",
              " '말',\n",
              " '을',\n",
              " '들으니',\n",
              " '기쁘고',\n",
              " ',',\n",
              " '저희',\n",
              " '와',\n",
              " '거래',\n",
              " '하는',\n",
              " '것',\n",
              " '을',\n",
              " '고려',\n",
              " '해',\n",
              " '주셨으면',\n",
              " '합니다',\n",
              " '.']"
            ]
          },
          "metadata": {},
          "execution_count": 28
        }
      ],
      "source": [
        "# 한국어 처리 어떻게 되고 있는지 확인\n",
        "CustomTokenizer_ko(sample_data['ko'])"
      ]
    },
    {
      "cell_type": "markdown",
      "metadata": {
        "id": "TVrPe1HATJoC"
      },
      "source": [
        "### 2. 영어 토큰화"
      ]
    },
    {
      "cell_type": "code",
      "execution_count": 29,
      "metadata": {
        "id": "UNLxwNF-VE2F",
        "colab": {
          "base_uri": "https://localhost:8080/"
        },
        "outputId": "da5cb931-2e8b-421f-89ec-fe543707d552"
      },
      "outputs": [
        {
          "output_type": "stream",
          "name": "stdout",
          "text": [
            "*** Introductory Examples for the NLTK Book ***\n",
            "Loading text1, ..., text9 and sent1, ..., sent9\n",
            "Type the name of the text or sentence to view it.\n",
            "Type: 'texts()' or 'sents()' to list the materials.\n",
            "text1: Moby Dick by Herman Melville 1851\n",
            "text2: Sense and Sensibility by Jane Austen 1811\n",
            "text3: The Book of Genesis\n",
            "text4: Inaugural Address Corpus\n",
            "text5: Chat Corpus\n",
            "text6: Monty Python and the Holy Grail\n",
            "text7: Wall Street Journal\n",
            "text8: Personals Corpus\n",
            "text9: The Man Who Was Thursday by G . K . Chesterton 1908\n"
          ]
        }
      ],
      "source": [
        "# 설치시에 시간이 좀 걸린다.\n",
        "\n",
        "import nltk\n",
        "from nltk.tokenize import word_tokenize\n",
        "from nltk.tag import pos_tag\n",
        "nltk.download(\"book\", quiet=True)\n",
        "from nltk.book import *"
      ]
    },
    {
      "cell_type": "code",
      "execution_count": 30,
      "metadata": {
        "colab": {
          "base_uri": "https://localhost:8080/"
        },
        "id": "KMJ20ix8VkFd",
        "outputId": "393b7260-737e-403e-de02-6a38c591f7d0"
      },
      "outputs": [
        {
          "output_type": "execute_result",
          "data": {
            "text/plain": [
              "[('I', 'PRP'),\n",
              " (\"'m\", 'VBP'),\n",
              " ('glad', 'JJ'),\n",
              " ('to', 'TO'),\n",
              " ('hear', 'VB'),\n",
              " ('that', 'IN'),\n",
              " (',', ','),\n",
              " ('and', 'CC'),\n",
              " ('I', 'PRP'),\n",
              " ('hope', 'VBP'),\n",
              " ('you', 'PRP'),\n",
              " ('do', 'VBP'),\n",
              " ('consider', 'VB'),\n",
              " ('doing', 'VBG'),\n",
              " ('business', 'NN'),\n",
              " ('with', 'IN'),\n",
              " ('us', 'PRP'),\n",
              " ('.', '.')]"
            ]
          },
          "metadata": {},
          "execution_count": 30
        }
      ],
      "source": [
        "sentence = sample_data['en']\n",
        "tagged_list = pos_tag(word_tokenize(sentence))\n",
        "tagged_list"
      ]
    },
    {
      "cell_type": "code",
      "execution_count": 31,
      "metadata": {
        "colab": {
          "base_uri": "https://localhost:8080/"
        },
        "id": "vlzF4gqEV_Jc",
        "outputId": "cc137225-58dd-44d1-ea4a-83c29c208d99"
      },
      "outputs": [
        {
          "output_type": "execute_result",
          "data": {
            "text/plain": [
              "['I',\n",
              " \"'m\",\n",
              " 'glad',\n",
              " 'to',\n",
              " 'hear',\n",
              " 'that',\n",
              " ',',\n",
              " 'and',\n",
              " 'I',\n",
              " 'hope',\n",
              " 'you',\n",
              " 'do',\n",
              " 'consider',\n",
              " 'doing',\n",
              " 'business',\n",
              " 'with',\n",
              " 'us',\n",
              " '.']"
            ]
          },
          "metadata": {},
          "execution_count": 31
        }
      ],
      "source": [
        "# 필요없는 품사 제거\n",
        "\n",
        "# ------------------------------------\n",
        "# NNP: 단수 고유명사\n",
        "# VB: 동사\n",
        "# VBP: 동사 현재형\n",
        "# TO: to 전치사\n",
        "# NN: 명사(단수형 혹은 집합형)\n",
        "# DT: 관형사\n",
        "# ------------------------------------\n",
        "\n",
        "stop_pos = [] # ',','NN' 등 제거할 품사를 넣는다.\n",
        "\n",
        "nouns_list = [t[0] for t in tagged_list if t[1] not in []]\n",
        "nouns_list"
      ]
    },
    {
      "cell_type": "code",
      "execution_count": 32,
      "metadata": {
        "colab": {
          "base_uri": "https://localhost:8080/"
        },
        "id": "OfFIoyiUtYrP",
        "outputId": "336c56f7-6e7e-44b9-8437-a264ed5cd3c5"
      },
      "outputs": [
        {
          "output_type": "execute_result",
          "data": {
            "text/plain": [
              "['I',\n",
              " \"'m\",\n",
              " 'glad',\n",
              " 'to',\n",
              " 'hear',\n",
              " 'that',\n",
              " ',',\n",
              " 'and',\n",
              " 'I',\n",
              " 'hope',\n",
              " 'you',\n",
              " 'do',\n",
              " 'consider',\n",
              " 'doing',\n",
              " 'business',\n",
              " 'with',\n",
              " 'us',\n",
              " '.']"
            ]
          },
          "metadata": {},
          "execution_count": 32
        }
      ],
      "source": [
        "word_tokenize(sentence+'\\n')"
      ]
    },
    {
      "cell_type": "code",
      "execution_count": 33,
      "metadata": {
        "id": "-KvRzevzmJ6w"
      },
      "outputs": [],
      "source": [
        "def CustomTokenizer_en(sentence):\n",
        "  tagged_list = pos_tag(word_tokenize(sentence))\n",
        "  nouns_list = [t[0] for t in tagged_list if t[1] not in []]\n",
        "  \n",
        "  return nouns_list"
      ]
    },
    {
      "cell_type": "code",
      "execution_count": 34,
      "metadata": {
        "colab": {
          "base_uri": "https://localhost:8080/"
        },
        "id": "52fEXh63pUKf",
        "outputId": "6a4f7795-69e2-4f4b-fe61-350d5f7ad76f"
      },
      "outputs": [
        {
          "output_type": "execute_result",
          "data": {
            "text/plain": [
              "['I',\n",
              " \"'m\",\n",
              " 'glad',\n",
              " 'to',\n",
              " 'hear',\n",
              " 'that',\n",
              " ',',\n",
              " 'and',\n",
              " 'I',\n",
              " 'hope',\n",
              " 'you',\n",
              " 'do',\n",
              " 'consider',\n",
              " 'doing',\n",
              " 'business',\n",
              " 'with',\n",
              " 'us',\n",
              " '.']"
            ]
          },
          "metadata": {},
          "execution_count": 34
        }
      ],
      "source": [
        "CustomTokenizer_en(sample_data['en'])"
      ]
    },
    {
      "cell_type": "code",
      "execution_count": 35,
      "metadata": {
        "colab": {
          "base_uri": "https://localhost:8080/"
        },
        "id": "AoG7Gg1Wp2Kj",
        "outputId": "2597f7c2-c340-4c5c-9fe5-1eb81650210e"
      },
      "outputs": [
        {
          "output_type": "execute_result",
          "data": {
            "text/plain": [
              "[\"i'm\",\n",
              " 'glad',\n",
              " 'to',\n",
              " 'hear',\n",
              " 'that',\n",
              " 'and',\n",
              " 'i',\n",
              " 'hope',\n",
              " 'you',\n",
              " 'do',\n",
              " 'consider',\n",
              " 'doing',\n",
              " 'business',\n",
              " 'with',\n",
              " 'us']"
            ]
          },
          "metadata": {},
          "execution_count": 35
        }
      ],
      "source": [
        "# 참고로 nltk이외에도 keras에서 제공하는 기능도 있다.\n",
        "\n",
        "from tensorflow.keras.preprocessing.text import text_to_word_sequence as CustomTokenizer_en1\n",
        "\n",
        "CustomTokenizer_en1(sample_data['en'])\n"
      ]
    },
    {
      "cell_type": "markdown",
      "metadata": {
        "id": "L9_z0sVcW7Cy"
      },
      "source": [
        "## 본격적인 전처리 과정\n",
        "\n",
        "전처리릏 할 때 주의할 점은, 우리가 가지고 있는 것은 train 데이터 뿐이라는 점입니다.\n",
        "\n",
        "토큰화를 하고, token들을 수집할 때 평가데이터(혹은 테스트 데이터)에 대한 정보는 가지고 있을 수 없습니다. 그렇기 때문에 train data를 기준으로 전처리가 진행되어야 합니다."
      ]
    },
    {
      "cell_type": "markdown",
      "metadata": {
        "id": "HgfddQJuaQe-"
      },
      "source": [
        "### Tokenization"
      ]
    },
    {
      "cell_type": "code",
      "execution_count": 36,
      "metadata": {
        "id": "zPHGhgX4YXJR"
      },
      "outputs": [],
      "source": [
        "from tqdm import tqdm"
      ]
    },
    {
      "cell_type": "code",
      "execution_count": 37,
      "metadata": {
        "colab": {
          "base_uri": "https://localhost:8080/"
        },
        "id": "sJjWUAipWPsN",
        "outputId": "80bbbaa3-a796-46d7-ddc6-58d37693197c"
      },
      "outputs": [
        {
          "output_type": "stream",
          "name": "stderr",
          "text": [
            "100%|██████████| 10000/10000 [00:47<00:00, 210.92it/s]\n"
          ]
        }
      ],
      "source": [
        "# 시간이 좀 걸린다.\n",
        "\n",
        "src_vocab = set() # source 즉, 유일한 '한국어' 단어\n",
        "tar_vocab = set() # target 즉, 유일한 '영어' 단어\n",
        "\n",
        "src_seq_tr = [] # 전체 문장; 한국어\n",
        "tar_seq_tr = [] # 전체 문장; 영어\n",
        "\n",
        "# 전체 raw data에서 문장하나씩 loop 돌아가는 것\n",
        "for raw_tr_dat in tqdm(raw_train_data):\n",
        "\n",
        "  # 문장별 tokenization\n",
        "  src_tmp = CustomTokenizer_ko(raw_tr_dat['ko'])\n",
        "  tar_tmp = CustomTokenizer_en(raw_tr_dat['en'])\n",
        "\n",
        "  # 입력 시퀀스에서 문장의 끝을 알리는 <EOS> 토큰 추가; 한국어\n",
        "  src_tmp = src_tmp + ['\\n']\n",
        "\n",
        "  # 출력 시퀀스에서 시작과 끝을 알리는 <SOS>, <EOS> 토큰 추가; 영어\n",
        "  tar_tmp = ['\\t'] + tar_tmp + ['\\n']\n",
        "\n",
        "  # 한국어, 영어 단어집합 구성; 리스트를 세트에 추가하는 것임으로 update()를 사용한다.\n",
        "  src_vocab.update(src_tmp)\n",
        "  tar_vocab.update(tar_tmp)\n",
        "\n",
        "  # tokenization 끝난 문장 보관\n",
        "  src_seq_tr.append(src_tmp)\n",
        "  tar_seq_tr.append(tar_tmp)\n",
        "\n",
        "  "
      ]
    },
    {
      "cell_type": "code",
      "execution_count": 38,
      "metadata": {
        "colab": {
          "base_uri": "https://localhost:8080/"
        },
        "id": "jNkP7Rv7oK9O",
        "outputId": "91171ecf-3d86-4386-f5f2-96e53e7cec33"
      },
      "outputs": [
        {
          "output_type": "stream",
          "name": "stdout",
          "text": [
            "unique한 한국어 단어 수 : 8865\n",
            "unique한 영어 단어 수 : 7293\n"
          ]
        }
      ],
      "source": [
        "print('unique한 한국어 단어 수 :', len(src_vocab))\n",
        "print('unique한 영어 단어 수 :', len(tar_vocab))"
      ]
    },
    {
      "cell_type": "code",
      "execution_count": 39,
      "metadata": {
        "colab": {
          "base_uri": "https://localhost:8080/"
        },
        "id": "btHLB68SofoE",
        "outputId": "57a8f79f-762d-4690-b2bb-7e8f697dd632"
      },
      "outputs": [
        {
          "output_type": "execute_result",
          "data": {
            "text/plain": [
              "[['그',\n",
              "  '말',\n",
              "  '을',\n",
              "  '들으니',\n",
              "  '기쁘고',\n",
              "  ',',\n",
              "  '저희',\n",
              "  '와',\n",
              "  '거래',\n",
              "  '하는',\n",
              "  '것',\n",
              "  '을',\n",
              "  '고려',\n",
              "  '해',\n",
              "  '주셨으면',\n",
              "  '합니다',\n",
              "  '.',\n",
              "  '\\n'],\n",
              " ['확실히',\n",
              "  '생각',\n",
              "  '하고',\n",
              "  '있습니다만',\n",
              "  ',',\n",
              "  '몇',\n",
              "  '가지',\n",
              "  '여쭤',\n",
              "  '보고',\n",
              "  '싶은',\n",
              "  '게',\n",
              "  '있어요',\n",
              "  '.',\n",
              "  '\\n'],\n",
              " ['오늘날',\n",
              "  '세계',\n",
              "  '5',\n",
              "  '가구',\n",
              "  '중',\n",
              "  '1',\n",
              "  '가구',\n",
              "  '는',\n",
              "  '고양이',\n",
              "  '나',\n",
              "  '개',\n",
              "  '또는',\n",
              "  '둘',\n",
              "  '다를',\n",
              "  '키우고',\n",
              "  '있습니다',\n",
              "  '.',\n",
              "  '\\n']]"
            ]
          },
          "metadata": {},
          "execution_count": 39
        }
      ],
      "source": [
        "src_seq_tr[:3] # 입력인 한국어의 경우에 뒤에 '\\n'이 잘 붙어 있다."
      ]
    },
    {
      "cell_type": "code",
      "execution_count": 40,
      "metadata": {
        "colab": {
          "base_uri": "https://localhost:8080/"
        },
        "id": "MqYWCYPXo9I-",
        "outputId": "f11b2120-d801-48f4-c7ec-2c5388c3b26e"
      },
      "outputs": [
        {
          "output_type": "execute_result",
          "data": {
            "text/plain": [
              "[['\\t',\n",
              "  'I',\n",
              "  \"'m\",\n",
              "  'glad',\n",
              "  'to',\n",
              "  'hear',\n",
              "  'that',\n",
              "  ',',\n",
              "  'and',\n",
              "  'I',\n",
              "  'hope',\n",
              "  'you',\n",
              "  'do',\n",
              "  'consider',\n",
              "  'doing',\n",
              "  'business',\n",
              "  'with',\n",
              "  'us',\n",
              "  '.',\n",
              "  '\\n'],\n",
              " ['\\t',\n",
              "  'I',\n",
              "  \"'m\",\n",
              "  'definitely',\n",
              "  'thinking',\n",
              "  'about',\n",
              "  'it',\n",
              "  ',',\n",
              "  'but',\n",
              "  'I',\n",
              "  'have',\n",
              "  'some',\n",
              "  'queries',\n",
              "  'to',\n",
              "  'ask',\n",
              "  'you',\n",
              "  '.',\n",
              "  '\\n'],\n",
              " ['\\t',\n",
              "  'In',\n",
              "  'today',\n",
              "  \"'s\",\n",
              "  'world',\n",
              "  ',',\n",
              "  'one',\n",
              "  'in',\n",
              "  'every',\n",
              "  'five',\n",
              "  'families',\n",
              "  'has',\n",
              "  'either',\n",
              "  'a',\n",
              "  'cat',\n",
              "  ',',\n",
              "  'dog',\n",
              "  ',',\n",
              "  'or',\n",
              "  'both',\n",
              "  '.',\n",
              "  '\\n']]"
            ]
          },
          "metadata": {},
          "execution_count": 40
        }
      ],
      "source": [
        "tar_seq_tr[:3] # 입력인 영어의 경우에 앞에는 '\\t'가 뒤에는 '\\n'이 잘 붙어 있다."
      ]
    },
    {
      "cell_type": "markdown",
      "metadata": {
        "id": "PtNW4DUIyEbN"
      },
      "source": [
        "* 고민해볼 점: 과연 한국어 단어집합에 한국어만 있을까요?\n",
        "\n",
        "* 답변 : 한국어에 영어가 있어도, 아주 복잡한 형태가 아닌 이상 괜찮을 것도 같다."
      ]
    },
    {
      "cell_type": "code",
      "execution_count": 41,
      "metadata": {
        "colab": {
          "base_uri": "https://localhost:8080/"
        },
        "id": "cOKQYlV7n7Z0",
        "outputId": "df67bf23-8735-45c1-dbbf-11bdc479b03b"
      },
      "outputs": [
        {
          "output_type": "execute_result",
          "data": {
            "text/plain": [
              "['나', '는', '너', '를', 'love', '한다', '.']"
            ]
          },
          "metadata": {},
          "execution_count": 41
        }
      ],
      "source": [
        "s = '나는 너를 love한다.'\n",
        "CustomTokenizer_ko(s)"
      ]
    },
    {
      "cell_type": "markdown",
      "metadata": {
        "id": "cK_E98-daSy7"
      },
      "source": [
        "### token - index 정리"
      ]
    },
    {
      "cell_type": "code",
      "execution_count": 43,
      "metadata": {
        "id": "Iz3i3MtRZ-P-"
      },
      "outputs": [],
      "source": [
        "# 최종 정수 인코딩 하기 전 보기 편하기 위해 sort\n",
        "src_vocab = sorted(list(src_vocab))\n",
        "tar_vocab = sorted(list(tar_vocab))"
      ]
    },
    {
      "cell_type": "code",
      "execution_count": 44,
      "metadata": {
        "colab": {
          "base_uri": "https://localhost:8080/"
        },
        "id": "xrGkd41Has-Q",
        "outputId": "8f0a7b7e-e3cf-46f3-9b2b-e46be301a352"
      },
      "outputs": [
        {
          "output_type": "stream",
          "name": "stdout",
          "text": [
            "{'\\n': 1, '!': 2, '\"': 3, '$10,000': 4, '$10,000만': 5, '$100': 6, '$100,000': 7, '$120': 8, '$20': 9, '$21': 10, '$5': 11, '$50,000': 12, '$500,000': 13, '$6,000': 14, \"'\": 15, '(': 16, ')': 17, ',': 18, '-': 19, '.': 20, '0': 21, '0.006': 22, '0.2': 23, '0.26%': 24, '0.5%': 25, '0.95%': 26, '0000000': 27, '1': 28, '1%': 29, '1,000': 30, '1,000,000원': 31, '1,000달러': 32, '1,000만': 33, '1,000원': 34, '1,200달러': 35, '1,250,000원': 36, '1,500': 37, '1,500달러': 38, '1,700,000원': 39, '1.50%': 40, '10': 41, '10%': 42, '10,000': 43, '10,000달러': 44, '10.9%': 45, '100': 46, '100%': 47, '100,000달러': 48, '1000': 49, '1000만': 50, '1000억원': 51, '100달러': 52, '100만': 53, '100만달러': 54, '100만원': 55, '10~14일': 56, '10년': 57, '10달러': 58, '10만': 59, '10분': 60, '10시': 61, '10월': 62, '10일': 63, '10초': 64, '11': 65, '1100': 66, '11시': 67, '11월': 68, '11일': 69, '12': 70, '12%': 71, '12.99달러': 72, '1200만': 73, '123': 74, '123-456': 75, '1234': 76, '1234-5678': 77, '123456': 78, '1234567': 79, '12345678': 80, '123456789': 81, '123546789': 82, '125달러': 83, '128': 84, '12년': 85, '12월': 86, '12일': 87, '13': 88, '135': 89, '13일': 90, '140,000원': 91, '140달러': 92, '142': 93, '144': 94, '14일': 95, '15': 96, '15%': 97, '15,000': 98, '15,000달러': 99, '150': 100, '150달러': 101, '15~20': 102, '15년': 103, '15달러': 104, '15만': 105, '15분': 106, '15일': 107, '16': 108, '1600만': 109, '16달러': 110, '16일': 111, '17일': 112, '18': 113, '18,000,000,000원': 114, '18일': 115, '19': 116, '1952년': 117, '19일': 118, '1:1': 119, '1~2년': 120, '1년': 121, '1분': 122, '1시': 123, '1시간': 124, '1억': 125, '1억원': 126, '1월': 127, '1일': 128, '2': 129, '2%': 130, '2,000,000달러': 131, '2,000달러': 132, '2,500달러': 133, '2,500만': 134, '2-4': 135, '2.5%': 136, '20': 137, '20%': 138, '20,000,000원': 139, '20,000달러': 140, '200': 141, '2000년': 142, '2000달러': 143, '2002년': 144, '200569978005': 145, '200달러': 146, '200만': 147, '2019년': 148, '2021': 149, '2021년': 150, '2022년': 151, '2070만': 152, '20년': 153, '20달러': 154, '20분': 155, '20일': 156, '21일': 157, '22달러': 158, '22일': 159, '23일': 160, '24시간': 161, '25': 162, '25%': 163, '2500달러': 164, '250달러': 165, '25년': 166, '25달러': 167, '25만': 168, '25분': 169, '27일': 170, '280': 171, '2929달러': 172, '29일': 173, '2~3': 174, '2년': 175, '2달러': 176, '2만': 177, '2분': 178, '2시': 179, '2시간': 180, '2월': 181, '2일': 182, '2천만': 183, '3': 184, '3%': 185, '3,000': 186, '3,000달러': 187, '3,500': 188, '3,500달러': 189, '3-5시간': 190, '3-7': 191, '3.5%': 192, '30': 193, '300': 194, '3000': 195, '3000달러': 196, '300달러': 197, '30년': 198, '30분': 199, '30시간': 200, '30일': 201, '30회': 202, '31': 203, '31일': 204, '320달러': 205, '34.5': 206, '350': 207, '35년': 208, '365일': 209, '370': 210, '3~4': 211, '3~4일': 212, '3~5%': 213, '3~5일': 214, '3년': 215, '3시': 216, '3시간': 217, '3월': 218, '3일': 219, '3천': 220, '4': 221, '4%': 222, '4,000달러': 223, '4.99달러': 224, '40': 225, '40%': 226, '40,000달러': 227, '4000': 228, '400달러': 229, '404': 230, '40만': 231, '40분': 232, '40초': 233, '420': 234, '45.5': 235, '450': 236, '45만': 237, '45분': 238, '475달러': 239, '48시간': 240, '4달러': 241, '4시': 242, '4시간': 243, '4월': 244, '4일': 245, '5': 246, '5%': 247, '5,200': 248, '5.0': 249, '50': 250, '50%': 251, '50,000,000': 252, '50,000,000달러': 253, '50,000달러': 254, '50-60%': 255, '500': 256, '500,000': 257, '500,000원': 258, '500달러': 259, '500만': 260, '500만원': 261, '50달러': 262, '50만': 263, '50분': 264, '50억': 265, '51.5': 266, '52': 267, '55,000원': 268, '550': 269, '550달러': 270, '58,000,000달러': 271, '5900달러': 272, '5년': 273, '5달러': 274, '5만': 275, '5분': 276, '5시': 277, '5월': 278, '5일': 279, '6': 280, '6%': 281, '6.4': 282, '60': 283, '600만': 284, '60~90분': 285, '60만': 286, '60일': 287, '60초': 288, '63': 289, '6시': 290, '6월': 291, '6일': 292, '7': 293, '7%': 294, '7,000달러': 295, '7,200': 296, '70': 297, '700달러': 298, '70달러': 299, '72': 300, '75%': 301, '750': 302, '7500': 303, '7500만원': 304, '750달러': 305, '7~10일': 306, '7~8시간': 307, '7시': 308, '7월': 309, '7일': 310, '8': 311, '8%': 312, '8,000달러': 313, '8,400달러': 314, '80%': 315, '800': 316, '80달러': 317, '8~9': 318, '8달러': 319, '8만': 320, '8시': 321, '8월': 322, '8일': 323, '8회': 324, '9': 325, '9,500달러': 326, '9.99달러': 327, '900달러': 328, '90만': 329, '90분': 330, '93': 331, '99%': 332, '9:16': 333, '9만': 334, '9시': 335, '9월': 336, '9일': 337, ';': 338, '?': 339, '?\"': 340, 'A': 341, 'AAA': 342, 'AAA1@BBB1.com': 343, 'AAA@BBB.com': 344, 'ABCDE': 345, 'AI': 346, 'ANR': 347, 'ATM': 348, 'Associates': 349, 'B': 350, 'BBB': 351, 'BBB@email.com': 352, 'BSE': 353, 'Bank': 354, 'C': 355, 'CCTV': 356, 'CEO': 357, 'CFM': 358, 'CMS': 359, 'COVID': 360, 'CSS': 361, 'CT': 362, 'Company': 363, 'Corporation': 364, 'D': 365, 'DCA': 366, 'DVR': 367, 'Drive': 368, 'E': 369, 'EOB': 370, 'EPP': 371, 'ESG': 372, 'ETF': 373, 'EVA': 374, 'Enter': 375, 'Expo': 376, 'FFF': 377, 'FFFF': 378, 'FOMO': 379, 'Fair': 380, 'Fi': 381, 'Food': 382, 'Fu': 383, 'G': 384, 'GB': 385, 'GPS': 386, 'GVWR': 387, 'HDD': 388, 'HTML': 389, 'ID': 390, 'IP': 391, 'IPO': 392, 'IT': 393, 'IVR': 394, 'IaaS': 395, 'International': 396, 'IoT': 397, 'JLPT': 398, 'K': 399, 'Kabsat': 400, 'Korea': 401, 'LED': 402, 'Limited': 403, 'Locust': 404, 'M': 405, 'MAR': 406, 'MMS': 407, 'MOU': 408, 'Medical': 409, 'NFT': 410, 'NI': 411, 'NSE': 412, 'NTFS': 413, 'PDA': 414, 'PDF': 415, 'PPE': 416, 'PRO': 417, 'PSA': 418, 'PVP': 419, 'Precision': 420, 'Private': 421, 'QR': 422, 'RAM': 423, 'ROI': 424, 'RV': 425, 'SD': 426, 'SEO': 427, 'SIM': 428, 'SKU': 429, 'SNS': 430, 'SPV': 431, 'SSD': 432, 'SSL': 433, 'Salalah': 434, 'South': 435, 'TPU': 436, 'TV': 437, 'Touch': 438, 'UI': 439, 'UN': 440, 'USB': 441, 'VC': 442, 'VIP': 443, 'VPN': 444, 'VR': 445, 'VVIP': 446, 'View': 447, 'WIFI': 448, 'WTO': 449, 'Web': 450, 'Wi': 451, 'by': 452, 'car': 453, 'cm': 454, 'demat': 455, 'e': 456, 'found': 457, 'km': 458, 'm': 459, 'mm': 460, 'mmHg': 461, 'not': 462, 'pdf': 463, 'x': 464, '㎡': 465, '가': 466, '가게': 467, '가게용': 468, '가겠습니다': 469, '가격': 470, '가격표': 471, '가고': 472, '가공': 473, '가교': 474, '가구': 475, '가급적': 476, '가기': 477, '가까운': 478, '가까워요': 479, '가까워지니까': 480, '가까이': 481, '가깝고': 482, '가깝기': 483, '가깝진': 484, '가꾸기': 485, '가끔': 486, '가는': 487, '가능': 488, '가능성': 489, '가능하게': 490, '가능하고': 491, '가능하기를': 492, '가능하니까': 493, '가능하다는': 494, '가능하다면': 495, '가능하세요': 496, '가능하시니': 497, '가능하신': 498, '가능하신가요': 499, '가능하십니까': 500, '가능하십니다': 501, '가능하지': 502, '가능하지만': 503, '가능한': 504, '가능한가요': 505, '가능한데': 506, '가능한지': 507, '가능할': 508, '가능할까': 509, '가능합니까': 510, '가능합니다': 511, '가능해요': 512, '가닥': 513, '가득': 514, '가득해': 515, '가든': 516, '가려고': 517, '가령': 518, '가로': 519, '가르쳐': 520, '가르치고': 521, '가르칠': 522, '가를': 523, '가리키기만': 524, '가면': 525, '가미': 526, '가벼운': 527, '가변': 528, '가본': 529, '가봐야': 530, '가상': 531, '가상화': 532, '가서': 533, '가세': 534, '가셨나요': 535, '가소성': 536, '가솔린': 537, '가스': 538, '가스나': 539, '가스레인지': 540, '가슴': 541, '가시': 542, '가시나요': 543, '가야': 544, '가에': 545, '가열': 546, '가옥': 547, '가요': 548, '가용성': 549, '가을': 550, '가의': 551, '가이드': 552, '가이드북': 553, '가입': 554, '가입자': 555, '가장': 556, '가전': 557, '가전제품': 558, '가정': 559, '가정식': 560, '가젯': 561, '가져': 562, '가져가거든요': 563, '가져가면': 564, '가져가실': 565, '가져갈': 566, '가져갈게요': 567, '가져다': 568, '가져다주다니': 569, '가져다주세요': 570, '가져다주실': 571, '가져야': 572, '가져오겠습니다': 573, '가져오셔도': 574, '가져올게요': 575, '가져옵니다': 576, '가져와야': 577, '가져왔어': 578, '가져왔어요': 579, '가져주셔서': 580, '가졌습니다': 581, '가족': 582, '가지': 583, '가지는': 584, '가지러': 585, '가지실': 586, '가진': 587, '가질': 588, '가집니다': 589, '가차': 590, '가치': 591, '가판': 592, '각': 593, '각각': 594, '각국': 595, '각도': 596, '각본': 597, '각서': 598, '각자': 599, '각종': 600, '간': 601, '간격': 602, '간결하고': 603, '간과': 604, '간극': 605, '간단하지만': 606, '간단한': 607, '간단합니까': 608, '간단합니다': 609, '간단해': 610, '간단히': 611, '간략하게': 612, '간략한': 613, '간략히': 614, '간사': 615, '간은': 616, '간의': 617, '간이며': 618, '간장': 619, '간접비': 620, '간주': 621, '간행물': 622, '간호사': 623, '갇혀': 624, '갈': 625, '갈래': 626, '갈비': 627, '갈아탄': 628, '감': 629, '감당': 630, '감독': 631, '감동': 632, '감명': 633, '감사': 634, '감사하겠습니다': 635, '감사하고': 636, '감사하다고': 637, '감사한데요': 638, '감사할': 639, '감사합니다': 640, '감사합니다만': 641, '감사해야': 642, '감사해요': 643, '감소': 644, '감수': 645, '감시': 646, '감싸고': 647, '감안': 648, '감염': 649, '감정': 650, '감지': 651, '갑니다': 652, '갑자기': 653, '갑작스러운': 654, '갑작스럽게': 655, '값': 656, '갓': 657, '갔다': 658, '갔습니다': 659, '갔어요': 660, '갔을': 661, '강남': 662, '강남역': 663, '강도': 664, '강력하게': 665, '강력한': 666, '강력합니다': 667, '강력히': 668, '강릉': 669, '강세': 670, '강아지': 671, '강연': 672, '강의': 673, '강의실': 674, '강점': 675, '강제': 676, '강조': 677, '강좌': 678, '강철': 679, '강합니다': 680, '강해질': 681, '강화하기': 682, '강화하며': 683, '강화합니다': 684, '강화해야': 685, '강화했습니다': 686, '갖게': 687, '갖고': 688, '갖는': 689, '갖다': 690, '갖자': 691, '갖죠': 692, '갖추고': 693, '갖추면': 694, '갖추어져': 695, '갖춘': 696, '갖춰져': 697, '같고': 698, '같군요': 699, '같나요': 700, '같네요': 701, '같다고': 702, '같습니까': 703, '같습니다': 704, '같아': 705, '같아서': 706, '같아서요': 707, '같아요': 708, '같았습니다': 709, '같으니': 710, '같은': 711, '같은가요': 712, '같은데': 713, '같은데요': 714, '같은지': 715, '같을까요': 716, '같이': 717, '같지': 718, '같지는': 719, '같지만': 720, '갚겠습니다': 721, '갚기': 722, '갚기만': 723, '갚는': 724, '갚아야': 725, '갚으셔야': 726, '갚으실': 727, '갚을': 728, '갚지': 729, '개': 730, '개구': 731, '개국': 732, '개념': 733, '개는': 734, '개당': 735, '개도': 736, '개면': 737, '개발': 738, '개발자': 739, '개방': 740, '개별': 741, '개봉': 742, '개선': 743, '개설': 744, '개시': 745, '개업': 746, '개요': 747, '개월': 748, '개월치': 749, '개인': 750, '개인실': 751, '개인정보': 752, '개인화': 753, '개입': 754, '개정': 755, '개조': 756, '개척': 757, '개체': 758, '개최': 759, '개회': 760, '객': 761, '객관': 762, '객실': 763, '갱신': 764, '거': 765, '거고': 766, '거기': 767, '거나': 768, '거대한': 769, '거도': 770, '거든요': 771, '거뜬히': 772, '거란': 773, '거래': 774, '거래소': 775, '거래처': 776, '거론': 777, '거리': 778, '거버넌스': 779, '거부': 780, '거셨나': 781, '거슬러': 782, '거신': 783, '거실': 784, '거야': 785, '거의': 786, '거절': 787, '거점': 788, '거주': 789, '거주지': 790, '거처': 791, '거쳤습니다': 792, '거품': 793, '걱정': 794, '걱정거리': 795, '건': 796, '건가': 797, '건강': 798, '건강하고': 799, '건강한': 800, '건강합니다': 801, '건강히': 802, '건너지': 803, '건너편': 804, '건네줄': 805, '건대': 806, '건데': 807, '건물': 808, '건배': 809, '건설': 810, '건설업': 811, '건의': 812, '건조기': 813, '건지': 814, '건축': 815, '건축물': 816, '걸': 817, '걸게': 818, '걸고': 819, '걸기': 820, '걸기를': 821, '걸까': 822, '걸려': 823, '걸려서': 824, '걸려오는': 825, '걸려요': 826, '걸리겠네요': 827, '걸리나요': 828, '걸리는': 829, '걸리는지': 830, '걸리면': 831, '걸리지': 832, '걸리지만': 833, '걸린다고': 834, '걸릴': 835, '걸릴까': 836, '걸립니까': 837, '걸립니다': 838, '걸어': 839, '걸어서': 840, '걸어야': 841, '걸어주세요': 842, '걸었습니다': 843, '걸었어요': 844, '걸었지만': 845, '걸음걸이': 846, '걸쭉한': 847, '걸쳐': 848, '걸쳐서': 849, '검': 850, '검게': 851, '검사': 852, '검색': 853, '검수': 854, '검안': 855, '검은색': 856, '검증': 857, '검토': 858, '겁': 859, '겁니다': 860, '것': 861, '것이므': 862, '것입': 863, '게': 864, '게다가': 865, '게스트': 866, '게스트하우스': 867, '게시': 868, '게시판': 869, '게으르다고': 870, '게이': 871, '게이트': 872, '게임': 873, '게장': 874, '게재': 875, '겠네요': 876, '겠습니다': 877, '겨울': 878, '겨울철': 879, '격려': 880, '격식': 881, '격자': 882, '겪고': 883, '겪었는지': 884, '겪었어요': 885, '겪었으므로': 886, '겪으셨던': 887, '겪을': 888, '견과류': 889, '견본': 890, '견인차': 891, '견적': 892, '견학': 893, '결과': 894, '결국': 895, '결기': 896, '결론': 897, '결절': 898, '결정': 899, '결제': 900, '결코': 901, '결함': 902, '결합': 903, '결혼': 904, '결혼식': 905, '경': 906, '경고': 907, '경과': 908, '경기도': 909, '경량': 910, '경력': 911, '경로': 912, '경보': 913, '경비원': 914, '경시': 915, '경영': 916, '경우': 917, '경의': 918, '경작': 919, '경쟁': 920, '경쟁력': 921, '경쟁자': 922, '경제': 923, '경청': 924, '경치': 925, '경품': 926, '경향': 927, '경험': 928, '곁들이면': 929, '곁들인': 930, '계': 931, '계란': 932, '계란빵': 933, '계란찜': 934, '계산': 935, '계산서': 936, '계세': 937, '계셨나요': 938, '계셨으면': 939, '계속': 940, '계시': 941, '계시길': 942, '계시나요': 943, '계시네요': 944, '계시는가요': 945, '계시다는': 946, '계시다면': 947, '계신': 948, '계신가요': 949, '계신다고': 950, '계신다니': 951, '계신지': 952, '계십니까': 953, '계십니다': 954, '계약': 955, '계약금': 956, '계약서': 957, '계열': 958, '계절': 959, '계정': 960, '계정은': 961, '계좌': 962, '계층': 963, '계획': 964, '고': 965, '고가': 966, '고개': 967, '고객': 968, '고구마': 969, '고귀한': 970, '고급': 971, '고급스러운': 972, '고급스러워': 973, '고급스럽고': 974, '고기': 975, '고대': 976, '고도': 977, '고등어': 978, '고려': 979, '고려인삼': 980, '고르는': 981, '고를': 982, '고마워': 983, '고마워요': 984, '고맙고': 985, '고맙습니다': 986, '고문': 987, '고민': 988, '고소한': 989, '고속': 990, '고압': 991, '고양이': 992, '고여': 993, '고요': 994, '고용': 995, '고용주': 996, '고위': 997, '고유': 998, '고장': 999, '고정': 1000, '고정기': 1001, '고집': 1002, '고쳐지면': 1003, '고추장': 1004, '고칠': 1005, '고통': 1006, '고프면': 1007, '고향': 1008, '고화질': 1009, '곡': 1010, '곡물': 1011, '곤경': 1012, '곤혹': 1013, '곧': 1014, '곧게': 1015, '골드': 1016, '골랐습니다': 1017, '골프': 1018, '곰팡이': 1019, '곱': 1020, '곳': 1021, '곳곳': 1022, '곳도': 1023, '공': 1024, '공간': 1025, '공감': 1026, '공개': 1027, '공격': 1028, '공공': 1029, '공과금': 1030, '공급': 1031, '공기': 1032, '공기업': 1033, '공동': 1034, '공동체': 1035, '공략': 1036, '공모': 1037, '공백': 1038, '공부': 1039, '공사': 1040, '공식': 1041, '공압': 1042, '공연': 1043, '공용': 1044, '공유': 1045, '공인': 1046, '공자': 1047, '공장': 1048, '공정': 1049, '공정한': 1050, '공제': 1051, '공지': 1052, '공짜': 1053, '공통': 1054, '공통점': 1055, '공학': 1056, '공함': 1057, '공항': 1058, '과': 1059, '과감': 1060, '과거': 1061, '과대': 1062, '과세': 1063, '과소': 1064, '과실': 1065, '과업': 1066, '과의': 1067, '과일': 1068, '과자': 1069, '과장': 1070, '과정': 1071, '과제': 1072, '과학': 1073, '과학자': 1074, '관': 1075, '관계': 1076, '관계없이': 1077, '관광': 1078, '관광객': 1079, '관광지': 1080, '관대해요': 1081, '관련': 1082, '관리': 1083, '관리자': 1084, '관세': 1085, '관세청': 1086, '관습': 1087, '관심': 1088, '관심사': 1089, '관용': 1090, '관점': 1091, '관찰': 1092, '관할': 1093, '관해': 1094, '관행': 1095, '괌': 1096, '광': 1097, '광고': 1098, '광대역': 1099, '광도': 1100, '광범위한': 1101, '광석': 1102, '광택': 1103, '괜': 1104, '괜찮': 1105, '괜찮겠습니까': 1106, '괜찮나요': 1107, '괜찮네요': 1108, '괜찮다면': 1109, '괜찮습니까': 1110, '괜찮습니다': 1111, '괜찮습니다만': 1112, '괜찮아': 1113, '괜찮아요': 1114, '괜찮았습니다': 1115, '괜찮았어요': 1116, '괜찮으세요': 1117, '괜찮으시다면': 1118, '괜찮으시면': 1119, '괜찮으신': 1120, '괜찮으실까': 1121, '괜찮은': 1122, '괜찮은가요': 1123, '괜찮을': 1124, '괜찮을까요': 1125, '괴롭히는': 1126, '굉장하네요': 1127, '굉장히': 1128, '교대': 1129, '교류': 1130, '교사': 1131, '교수': 1132, '교실': 1133, '교육': 1134, '교재': 1135, '교직원': 1136, '교체': 1137, '교통': 1138, '교환': 1139, '교환학생': 1140, '교훈': 1141, '구': 1142, '구가': 1143, '구경': 1144, '구독': 1145, '구독료': 1146, '구동': 1147, '구름': 1148, '구매': 1149, '구별': 1150, '구비': 1151, '구상': 1152, '구석구석': 1153, '구성': 1154, '구역': 1155, '구워': 1156, '구워내는': 1157, '구이': 1158, '구입': 1159, '구절판': 1160, '구조': 1161, '구조원': 1162, '구체': 1163, '구축': 1164, '구축함': 1165, '구현': 1166, '구형': 1167, '국': 1168, '국가': 1169, '국경': 1170, '국내': 1171, '국내선': 1172, '국내외': 1173, '국물': 1174, '국법': 1175, '국수': 1176, '국적': 1177, '국제': 1178, '국제공항': 1179, '국한': 1180, '군': 1181, '군데': 1182, '굴삭기': 1183, '굴착기': 1184, '굵은': 1185, '굽는': 1186, '궁궐': 1187, '궁극': 1188, '궁금하네요': 1189, '궁금하더라고요': 1190, '궁금하신': 1191, '궁금하실': 1192, '궁금한': 1193, '궁금합니다': 1194, '궁금해서': 1195, '궁금해서요': 1196, '궁금해요': 1197, '궁금했어요': 1198, '권': 1199, '권리': 1200, '권장': 1201, '권한': 1202, '권합니다': 1203, '귀': 1204, '귀국': 1205, '귀사': 1206, '귀중': 1207, '귀중한': 1208, '귀하': 1209, '귀하는': 1210, '귀하도': 1211, '귀한': 1212, '규모': 1213, '규정': 1214, '규제': 1215, '규칙': 1216, '균열': 1217, '균형': 1218, '그': 1219, '그거': 1220, '그건': 1221, '그걸': 1222, '그걿': 1223, '그것': 1224, '그게': 1225, '그날': 1226, '그냥': 1227, '그녀': 1228, '그늘': 1229, '그다음': 1230, '그대로': 1231, '그동안': 1232, '그때': 1233, '그땐': 1234, '그라브락스': 1235, '그래': 1236, '그래도': 1237, '그래서': 1238, '그래야겠어요': 1239, '그래요': 1240, '그래프': 1241, '그래픽': 1242, '그랬는데': 1243, '그랬더니': 1244, '그랬듯이': 1245, '그러게요': 1246, '그러기': 1247, '그러나': 1248, '그러는데': 1249, '그러니': 1250, '그러니까': 1251, '그러더라고요': 1252, '그러려고': 1253, '그러려면': 1254, '그러면': 1255, '그러므로': 1256, '그러실': 1257, '그러지': 1258, '그러한': 1259, '그러할': 1260, '그런': 1261, '그런데': 1262, '그런지': 1263, '그럴': 1264, '그럴게요': 1265, '그럼': 1266, '그럼에도': 1267, '그럼요': 1268, '그렇게': 1269, '그렇겠지만': 1270, '그렇고': 1271, '그렇군요': 1272, '그렇기': 1273, '그렇네요': 1274, '그렇다': 1275, '그렇다고': 1276, '그렇다면': 1277, '그렇습니까': 1278, '그렇습니다': 1279, '그렇죠': 1280, '그렇지': 1281, '그렇지만': 1282, '그려요': 1283, '그룹': 1284, '그릇': 1285, '그리': 1286, '그리고': 1287, '그리고는': 1288, '그리스': 1289, '그린': 1290, '그릴': 1291, '그림': 1292, '그만한': 1293, '그저': 1294, '그중': 1295, '극구': 1296, '극복': 1297, '극장': 1298, '극적': 1299, '근거': 1300, '근데': 1301, '근로자': 1302, '근무': 1303, '근원': 1304, '근접하지': 1305, '근처': 1306, '글': 1307, '글꼴': 1308, '글로벌': 1309, '글루텐': 1310, '글쎄': 1311, '글쎄요': 1312, '글씨': 1313, '금': 1314, '금기': 1315, '금년': 1316, '금리': 1317, '금색': 1318, '금속': 1319, '금액': 1320, '금요일': 1321, '금융': 1322, '금융감독원': 1323, '금은': 1324, '금전': 1325, '금제': 1326, '금지': 1327, '급': 1328, '급등': 1329, '급성': 1330, '급여': 1331, '급우': 1332, '급증': 1333, '급하게': 1334, '급하니까': 1335, '급한': 1336, '급히': 1337, '긍정': 1338, '기': 1339, '기가바이트': 1340, '기간': 1341, '기계': 1342, '기공식': 1343, '기관': 1344, '기구': 1345, '기금': 1346, '기기': 1347, '기꺼이': 1348, '기념': 1349, '기념일': 1350, '기는': 1351, '기능': 1352, '기다려': 1353, '기다려도': 1354, '기다려야': 1355, '기다려주세요': 1356, '기다렸습니다': 1357, '기다렸어요': 1358, '기다리게': 1359, '기다리겠습니다': 1360, '기다리고': 1361, '기다리는': 1362, '기다리며': 1363, '기다리셔야': 1364, '기다리셨습니다': 1365, '기다리시면': 1366, '기다리지': 1367, '기다릴': 1368, '기다릴게요': 1369, '기대': 1370, '기대하겠습니다': 1371, '기대하고': 1372, '기대하며': 1373, '기대할': 1374, '기대할게요': 1375, '기대합니다': 1376, '기도': 1377, '기둥': 1378, '기록': 1379, '기를': 1380, '기밀': 1381, '기반': 1382, '기본': 1383, '기부': 1384, '기분': 1385, '기뻐': 1386, '기뻐요': 1387, '기뻤습니다': 1388, '기쁘게': 1389, '기쁘고': 1390, '기쁘네요': 1391, '기쁠': 1392, '기쁩니다': 1393, '기사': 1394, '기숙사': 1395, '기술': 1396, '기술자': 1397, '기어': 1398, '기어는요': 1399, '기억': 1400, '기억나요': 1401, '기억나지': 1402, '기업': 1403, '기업가': 1404, '기업은행': 1405, '기업인': 1406, '기에': 1407, '기여': 1408, '기였죠': 1409, '기온': 1410, '기와': 1411, '기울였습니다': 1412, '기울이고': 1413, '기원': 1414, '기입': 1415, '기자': 1416, '기재': 1417, '기적': 1418, '기존': 1419, '기준': 1420, '기중기': 1421, '기차': 1422, '기차역': 1423, '기차표': 1424, '기초': 1425, '기타': 1426, '기표': 1427, '기한': 1428, '기호': 1429, '기혼': 1430, '기회': 1431, '기획': 1432, '기후변화': 1433, '긴': 1434, '긴급': 1435, '긴급히': 1436, '긴밀하게': 1437, '긴밀히': 1438, '길': 1439, '길다': 1440, '길다고': 1441, '길어질수록': 1442, '길이': 1443, '김': 1444, '김밥': 1445, '김치': 1446, '김치볶음밥': 1447, '깊은': 1448, '깊이': 1449, '까다로운': 1450, '까다로울': 1451, '까맣게': 1452, '까요': 1453, '까지': 1454, '까지는': 1455, '까지로': 1456, '까지만': 1457, '까지의': 1458, '깔끔하고': 1459, '깔린': 1460, '깜박이는': 1461, '깜빡': 1462, '깜짝': 1463, '깨끗하고': 1464, '깨어': 1465, '깨우쳐': 1466, '깨졌다는': 1467, '깨지지': 1468, '깻잎': 1469, '꺼낸': 1470, '꺼져': 1471, '께': 1472, '께서': 1473, '께서는': 1474, '꼭': 1475, '꼼꼼하게': 1476, '꼼꼼히': 1477, '꽉': 1478, '꽤': 1479, '꾸밀': 1480, '꾸준한': 1481, '꾸준히': 1482, '꿀': 1483, '꿈': 1484, '꿰맬': 1485, '끄는': 1486, '끊지': 1487, '끌': 1488, '끌리는': 1489, '끌어': 1490, '끌었습니다': 1491, '끓는': 1492, '끓는점': 1493, '끓이는': 1494, '끔찍한': 1495, '끔찍했습니다': 1496, '끝': 1497, '끝나기': 1498, '끝나길': 1499, '끝나네요': 1500, '끝나면': 1501, '끝날': 1502, '끝납니다': 1503, '끝났나요': 1504, '끝났다': 1505, '끝났으니': 1506, '끝내고': 1507, '끝내기': 1508, '끝내는': 1509, '끝내려고요': 1510, '끝내셨나요': 1511, '끝내야': 1512, '끝내죠': 1513, '끝낼': 1514, '끼쳐': 1515, '끼치지': 1516, '나': 1517, '나가고': 1518, '나가는': 1519, '나갈': 1520, '나갔습니다': 1521, '나나': 1522, '나네요': 1523, '나누고': 1524, '나누면': 1525, '나누면서': 1526, '나누어야': 1527, '나누죠': 1528, '나누지': 1529, '나눈': 1530, '나눌': 1531, '나눠': 1532, '나눠줘도': 1533, '나눴습니다': 1534, '나뉩니다': 1535, '나는지': 1536, '나라': 1537, '나를': 1538, '나머지': 1539, '나면': 1540, '나무': 1541, '나빠졌어요': 1542, '나빠지고': 1543, '나쁘지': 1544, '나쁜': 1545, '나쁠': 1546, '나사': 1547, '나서': 1548, '나서는': 1549, '나아': 1550, '나아가고': 1551, '나아갈': 1552, '나아지게': 1553, '나아지기': 1554, '나열': 1555, '나오기': 1556, '나오나요': 1557, '나오는': 1558, '나오는데': 1559, '나오는지': 1560, '나오죠': 1561, '나오지': 1562, '나온': 1563, '나올': 1564, '나옵니다': 1565, '나와': 1566, '나와서': 1567, '나와요': 1568, '나와있나요': 1569, '나와있는': 1570, '나왔으면': 1571, '나으실': 1572, '나은': 1573, '나은지': 1574, '나을': 1575, '나이': 1576, '나이라': 1577, '나이지리아': 1578, '나이트클럽': 1579, '나일론': 1580, '나중': 1581, '나타나지': 1582, '나타났습니다': 1583, '나타났어요': 1584, '나타내는': 1585, '나타냅니다': 1586, '나흘': 1587, '난': 1588, '난방': 1589, '난이도': 1590, '날': 1591, '날리의': 1592, '날씨': 1593, '날아가서': 1594, '날아간': 1595, '날짜': 1596, '날카로워졌습니다': 1597, '남겨': 1598, '남길': 1599, '남동쪽': 1600, '남미': 1601, '남성': 1602, '남아': 1603, '남아시아': 1604, '남았나요': 1605, '남았습니다': 1606, '남았어요': 1607, '남았으니': 1608, '남용': 1609, '남은': 1610, '남지': 1611, '남편': 1612, '납니다': 1613, '납부': 1614, '납품': 1615, '낫': 1616, '낫겠어요': 1617, '낫나요': 1618, '낫다': 1619, '낫습니다': 1620, '났습니다': 1621, '났을': 1622, '낭비': 1623, '낭비할': 1624, '낮기': 1625, '낮습니다': 1626, '낮아요': 1627, '낮아지죠': 1628, '낮은': 1629, '낮잠': 1630, '낮추겠습니다': 1631, '낮출': 1632, '낮춰': 1633, '낮춰야': 1634, '낯설게': 1635, '내': 1636, '내고': 1637, '내기': 1638, '내내': 1639, '내년': 1640, '내놓으면': 1641, '내놓을': 1642, '내는': 1643, '내려간다고': 1644, '내려오는': 1645, '내렸습니다': 1646, '내리게': 1647, '내리겠습니다': 1648, '내리는': 1649, '내린': 1650, '내릴': 1651, '내면': 1652, '내밀어': 1653, '내부': 1654, '내서': 1655, '내셔야': 1656, '내시': 1657, '내야': 1658, '내어': 1659, '내연': 1660, '내용': 1661, '내일': 1662, '내장': 1663, '내주셔서': 1664, '내주시고': 1665, '내주시면': 1666, '내지': 1667, '낸': 1668, '낸다는': 1669, '낸싱': 1670, '낼': 1671, '냄비': 1672, '냅니다': 1673, '냅킨': 1674, '냈습니까': 1675, '냉각': 1676, '냉동고': 1677, '냉면': 1678, '냉장': 1679, '너': 1680, '너무': 1681, '너무나': 1682, '너무해': 1683, '너비': 1684, '너희': 1685, '널': 1686, '널리': 1687, '넓기만': 1688, '넓습니다': 1689, '넓어서': 1690, '넓으니': 1691, '넓은': 1692, '넓은가요': 1693, '넓히고': 1694, '넘게': 1695, '넘기시면': 1696, '넘는': 1697, '넘버': 1698, '넘습니다': 1699, '넘어가겠습니다': 1700, '넘어갈': 1701, '넘어갑시다': 1702, '넘어설': 1703, '넘어지거나': 1704, '넘었고': 1705, '넘었습니다': 1706, '넘으면': 1707, '넘쳐나는': 1708, '넘치시네요': 1709, '넣기': 1710, '넣는': 1711, '넣어': 1712, '넣어서': 1713, '넣어야': 1714, '넣었다': 1715, '넣을': 1716, '넣지': 1717, '네': 1718, '네가지': 1719, '네트워크': 1720, '네트워킹': 1721, '넷째': 1722, '년': 1723, '노': 1724, '노고': 1725, '노동자': 1726, '노란색': 1727, '노래': 1728, '노래방': 1729, '노력': 1730, '노인': 1731, '노점': 1732, '노출': 1733, '노트북': 1734, '노프': 1735, '녹색': 1736, '녹음': 1737, '녹이게': 1738, '녹차': 1739, '녹화': 1740, '논란': 1741, '논문': 1742, '논의': 1743, '논픽션': 1744, '놀': 1745, '놀라긴': 1746, '놀라운': 1747, '놀라워요': 1748, '놀랄': 1749, '놀랍군요': 1750, '놀랍습니다': 1751, '놀랍죠': 1752, '놀랐습니다': 1753, '놀랐어요': 1754, '놀랐지만': 1755, '놀이터': 1756, '농': 1757, '농기': 1758, '농기구': 1759, '농담': 1760, '농부': 1761, '농어': 1762, '농업': 1763, '농작물': 1764, '높다고': 1765, '높습니까': 1766, '높습니다': 1767, '높아서': 1768, '높아요': 1769, '높아져': 1770, '높아집니다': 1771, '높였습니다': 1772, '높으면': 1773, '높은': 1774, '높을': 1775, '높을수록': 1776, '높이': 1777, '높이기': 1778, '높이는': 1779, '높이려면': 1780, '놓아야': 1781, '놓았으니': 1782, '놓았으며': 1783, '놓을': 1784, '놓을게요': 1785, '놓이네요': 1786, '놓쳐': 1787, '놓쳤을': 1788, '놓치는': 1789, '놓치지': 1790, '놓친': 1791, '뇌파': 1792, '누가': 1793, '누구': 1794, '누구신지': 1795, '누군가': 1796, '누군지': 1797, '누락': 1798, '누려': 1799, '누르는데': 1800, '누르면': 1801, '누르세요': 1802, '누르시면': 1803, '누리': 1804, '누릴': 1805, '누수': 1806, '눈': 1807, '눌러야': 1808, '눌렀어요': 1809, '눌릴': 1810, '뉴스': 1811, '뉴스레터': 1812, '뉴욕': 1813, '뉴질랜드': 1814, '느껴져요': 1815, '느껴지네요': 1816, '느껴지실지': 1817, '느껴지지': 1818, '느끼기': 1819, '느끼지': 1820, '느낄': 1821, '느낌': 1822, '느낍니다': 1823, '느리게': 1824, '느리며': 1825, '느리면': 1826, '느린': 1827, '느슨한': 1828, '는': 1829, '늘': 1830, '늘리고': 1831, '늘리기': 1832, '늘리는': 1833, '늘릴': 1834, '늘어나고': 1835, '늘어나는': 1836, '늘어납니다': 1837, '늘어났습니다': 1838, '늙어가고': 1839, '능력': 1840, '늦': 1841, '늦어서': 1842, '늦어진': 1843, '늦었으니': 1844, '늦었음에도': 1845, '늦은': 1846, '니': 1847, '니까': 1848, '님': 1849, '다': 1850, '다가': 1851, '다가갈': 1852, '다가오는': 1853, '다국적': 1854, '다녀오겠습니다': 1855, '다녀왔습니다': 1856, '다년': 1857, '다니는': 1858, '다단계': 1859, '다도': 1860, '다듬을': 1861, '다량': 1862, '다루고': 1863, '다루는': 1864, '다루어': 1865, '다루어질': 1866, '다루죠': 1867, '다룰': 1868, '다룹니다': 1869, '다뤄야': 1870, '다르게': 1871, '다르겠지만': 1872, '다르고': 1873, '다르니까': 1874, '다르다는': 1875, '다르므로': 1876, '다르죠': 1877, '다르지': 1878, '다르지만': 1879, '다른': 1880, '다를': 1881, '다름이': 1882, '다릅니까': 1883, '다릅니다': 1884, '다리미': 1885, '다만': 1886, '다섯': 1887, '다섯째': 1888, '다소': 1889, '다시': 1890, '다시는': 1891, '다양성': 1892, '다양하게': 1893, '다양한': 1894, '다양합니까': 1895, '다양합니다': 1896, '다양해요': 1897, '다용': 1898, '다운': 1899, '다운로드': 1900, '다음': 1901, '다음주': 1902, '다이닝': 1903, '다인': 1904, '다채로웠으': 1905, '다큐멘터리': 1906, '다해': 1907, '다행': 1908, '다행히': 1909, '단': 1910, '단가': 1911, '단거리': 1912, '단계': 1913, '단골': 1914, '단기': 1915, '단기간': 1916, '단단한': 1917, '단독': 1918, '단돈': 1919, '단말기': 1920, '단백질': 1921, '단순하게': 1922, '단순하고': 1923, '단순한': 1924, '단순해요': 1925, '단순히': 1926, '단어': 1927, '단열': 1928, '단위': 1929, '단일': 1930, '단점': 1931, '단정하게': 1932, '단지': 1933, '단체': 1934, '단편': 1935, '단합': 1936, '닫습니다': 1937, '닫을': 1938, '달': 1939, '달라': 1940, '달라지기': 1941, '달라질': 1942, '달라집니다': 1943, '달러': 1944, '달려': 1945, '달려있습니다': 1946, '달리': 1947, '달린': 1948, '달성': 1949, '달았으면': 1950, '달이': 1951, '달콤한': 1952, '닭': 1953, '닭고기': 1954, '닭발': 1955, '담': 1956, '담가': 1957, '담겨': 1958, '담고': 1959, '담당': 1960, '담당자': 1961, '담배': 1962, '담백한': 1963, '담보': 1964, '담아': 1965, '담은': 1966, '답': 1967, '답니': 1968, '답답했지만': 1969, '답변': 1970, '답장': 1971, '답지': 1972, '당': 1973, '당국': 1974, '당근': 1975, '당분간': 1976, '당사': 1977, '당사자': 1978, '당시': 1979, '당신': 1980, '당연하죠': 1981, '당연한': 1982, '당연합니다': 1983, '당연히': 1984, '당일': 1985, '당장': 1986, '당하지': 1987, '당할': 1988, '당황': 1989, '대': 1990, '대가': 1991, '대고': 1992, '대구': 1993, '대규모': 1994, '대금': 1995, '대기': 1996, '대기업': 1997, '대나무': 1998, '대다수': 1999, '대단하네요': 2000, '대단한': 2001, '대단합니다': 2002, '대단히': 2003, '대답': 2004, '대략': 2005, '대량': 2006, '대로': 2007, '대륙': 2008, '대를': 2009, '대리인': 2010, '대리점': 2011, '대만': 2012, '대박': 2013, '대본': 2014, '대부분': 2015, '대비': 2016, '대상': 2017, '대상자': 2018, '대신': 2019, '대안': 2020, '대야': 2021, '대에': 2022, '대에는': 2023, '대여': 2024, '대역': 2025, '대역폭': 2026, '대와': 2027, '대요': 2028, '대유행': 2029, '대응': 2030, '대의': 2031, '대입': 2032, '대적': 2033, '대접': 2034, '대중': 2035, '대지': 2036, '대책': 2037, '대처': 2038, '대체': 2039, '대출': 2040, '대출받을': 2041, '대충': 2042, '대치': 2043, '대칭': 2044, '대통령': 2045, '대폭': 2046, '대표': 2047, '대피소': 2048, '대학': 2049, '대학교': 2050, '대한': 2051, '대한민국': 2052, '대해': 2053, '대행': 2054, '대형': 2055, '대화': 2056, '댓글': 2057, '더': 2058, '더뎌지게': 2059, '더듬거나': 2060, '더라도': 2061, '더블': 2062, '더욱': 2063, '더위': 2064, '더하고': 2065, '더하면': 2066, '덕분': 2067, '덜': 2068, '덜고': 2069, '덜어줄': 2070, '덤프': 2071, '덤프트럭': 2072, '덥습니다': 2073, '덧붙여서': 2074, '덧붙일게요': 2075, '덩굴': 2076, '데': 2077, '데도': 2078, '데려': 2079, '데려갈': 2080, '데려갑니다': 2081, '데려오고': 2082, '데리': 2083, '데모': 2084, '데뷔': 2085, '데스크': 2086, '데스크탑': 2087, '데워': 2088, '데이터': 2089, '데이터베이스': 2090, '데이트': 2091, '데코': 2092, '데크': 2093, '덴마크': 2094, '도': 2095, '도구': 2096, '도넛': 2097, '도달': 2098, '도대체': 2099, '도로': 2100, '도록': 2101, '도를': 2102, '도매': 2103, '도메인': 2104, '도서관': 2105, '도시': 2106, '도시락': 2107, '도안': 2108, '도어': 2109, '도와주나요': 2110, '도와주는': 2111, '도와주셔서': 2112, '도와주셨으면': 2113, '도와주시겠어요': 2114, '도와주실': 2115, '도와주십시오': 2116, '도와주죠': 2117, '도와줄': 2118, '도와줄게요': 2119, '도와줬으면': 2120, '도용': 2121, '도우': 2122, '도우미': 2123, '도울': 2124, '도움': 2125, '도움말': 2126, '도입': 2127, '도전': 2128, '도착': 2129, '도체': 2130, '도쿄': 2131, '독립': 2132, '독방': 2133, '독일': 2134, '독자': 2135, '독점': 2136, '독촉': 2137, '독특한': 2138, '독특합니다': 2139, '돈': 2140, '돈벌이': 2141, '돋보이게': 2142, '돋보일': 2143, '돌려': 2144, '돌려서': 2145, '돌려야': 2146, '돌려주세요': 2147, '돌볼': 2148, '돌봐': 2149, '돌아가게': 2150, '돌아가는지': 2151, '돌아가라고': 2152, '돌아가면': 2153, '돌아가죠': 2154, '돌아갑니다': 2155, '돌아오겠습니다': 2156, '돌아오시는': 2157, '돌아온': 2158, '돌아올': 2159, '돌아올지': 2160, '돌잔치': 2161, '돌파': 2162, '돔': 2163, '돕고': 2164, '돕기': 2165, '돕는': 2166, '돕습니다': 2167, '동': 2168, '동감': 2169, '동거': 2170, '동기': 2171, '동남아시아': 2172, '동네': 2173, '동등': 2174, '동료': 2175, '동물': 2176, '동물성': 2177, '동반': 2178, '동부': 2179, '동생': 2180, '동시': 2181, '동안': 2182, '동양': 2183, '동영상': 2184, '동의': 2185, '동인': 2186, '동일': 2187, '동일시': 2188, '동일하지': 2189, '동일한': 2190, '동일한가요': 2191, '동일합니다': 2192, '동일해요': 2193, '동전': 2194, '동참': 2195, '동행': 2196, '동향': 2197, '돼': 2198, '돼가나요': 2199, '돼서': 2200, '돼요': 2201, '돼지': 2202, '돼지고기': 2203, '됐고': 2204, '됐네요': 2205, '됐는지': 2206, '됐습니다': 2207, '됐어요': 2208, '됐으면': 2209, '됐을': 2210, '됐죠': 2211, '되': 2212, '되거든요': 2213, '되게': 2214, '되겠네요': 2215, '되겠습니다': 2216, '되겠으니': 2217, '되겠죠': 2218, '되고': 2219, '되기': 2220, '되기까지': 2221, '되길': 2222, '되나요': 2223, '되네요': 2224, '되는': 2225, '되는거죠': 2226, '되는군요': 2227, '되는데': 2228, '되는데요': 2229, '되는지': 2230, '되더라고요': 2231, '되도록': 2232, '되돌릴': 2233, '되려면': 2234, '되며': 2235, '되면': 2236, '되므로': 2237, '되세요': 2238, '되셔서': 2239, '되셨다면': 2240, '되셨습니까': 2241, '되시고': 2242, '되시길': 2243, '되시나요': 2244, '되시죠': 2245, '되신': 2246, '되실': 2247, '되십시오': 2248, '되어': 2249, '되어가는지': 2250, '되어도': 2251, '되어서': 2252, '되어서는': 2253, '되어서요': 2254, '되어야': 2255, '되어요': 2256, '되어있었어요': 2257, '되어주셔서': 2258, '되었': 2259, '되었고': 2260, '되었기': 2261, '되었나요': 2262, '되었네요': 2263, '되었는지': 2264, '되었다고': 2265, '되었다는': 2266, '되었습니다': 2267, '되었어요': 2268, '되었으며': 2269, '되었으면': 2270, '되었으므로': 2271, '되었을': 2272, '되었음': 2273, '되었죠': 2274, '되죠': 2275, '되지': 2276, '되지는': 2277, '되지만': 2278, '되지요': 2279, '되찾지': 2280, '된': 2281, '된다': 2282, '된다고': 2283, '된다는': 2284, '된다면': 2285, '된답니다': 2286, '될': 2287, '될까': 2288, '됨에': 2289, '됩니까': 2290, '됩니다': 2291, '두': 2292, '두겠습니다': 2293, '두겠으며': 2294, '두고': 2295, '두기': 2296, '두꺼운': 2297, '두드렸어요': 2298, '두려워': 2299, '두세요': 2300, '두셔야': 2301, '두셨으면': 2302, '두시': 2303, '두시겠어요': 2304, '두었기': 2305, '두었는데': 2306, '두었다가': 2307, '두었습니다': 2308, '두운': 2309, '두지': 2310, '둔': 2311, '둘': 2312, '둘러보세요': 2313, '둘러싸고': 2314, '둘째': 2315, '둡니다': 2316, '둬야': 2317, '둬요': 2318, '뒀습니다': 2319, '뒀어요': 2320, '뒤': 2321, '뒷': 2322, '뒷마당': 2323, '뒷받침': 2324, '듀얼': 2325, '드': 2326, '드나': 2327, '드는': 2328, '드는지': 2329, '드디어': 2330, '드라마': 2331, '드라이브': 2332, '드러났습니까': 2333, '드럼': 2334, '드레스': 2335, '드레싱': 2336, '드려': 2337, '드려도': 2338, '드려서': 2339, '드려야': 2340, '드려야겠네요': 2341, '드려요': 2342, '드렸는데': 2343, '드렸다니': 2344, '드렸던': 2345, '드렸습니다': 2346, '드렸습니다만': 2347, '드렸어요': 2348, '드렸었는데': 2349, '드렸으니': 2350, '드렸으며': 2351, '드렸잖아요': 2352, '드렸지만': 2353, '드로잉': 2354, '드리게': 2355, '드리겠고': 2356, '드리겠다고': 2357, '드리겠습니다': 2358, '드리겠습니다만': 2359, '드리겠어요': 2360, '드리겠지만': 2361, '드리고': 2362, '드리고자': 2363, '드리기': 2364, '드리기로': 2365, '드리길': 2366, '드리는': 2367, '드리도록': 2368, '드리려': 2369, '드리려고': 2370, '드리며': 2371, '드리면': 2372, '드리지': 2373, '드린': 2374, '드릴': 2375, '드릴게요': 2376, '드릴께요': 2377, '드릴테니': 2378, '드립니다': 2379, '드세요': 2380, '드셔': 2381, '드셨나요': 2382, '드셨다니': 2383, '드셨다면': 2384, '드셨으면': 2385, '드시겠습니까': 2386, '드시겠어요': 2387, '드시고': 2388, '드시길': 2389, '드시나요': 2390, '드실': 2391, '드실거라': 2392, '드실래요': 2393, '드십니까': 2394, '든': 2395, '든지': 2396, '듣게': 2397, '듣고': 2398, '듣기': 2399, '듣네요': 2400, '듣는': 2401, '듣다': 2402, '듣던': 2403, '듣도록': 2404, '듣지': 2405, '들': 2406, '들거나': 2407, '들고': 2408, '들까': 2409, '들께': 2410, '들떠있어요': 2411, '들려요': 2412, '들려주셨어요': 2413, '들렸습니다': 2414, '들를': 2415, '들리겠지만': 2416, '들리고': 2417, '들리긴': 2418, '들리네요': 2419, '들리는데': 2420, '들리는데요': 2421, '들리시나요': 2422, '들리지만': 2423, '들릴지': 2424, '들립니다': 2425, '들면': 2426, '들어': 2427, '들어가거든요': 2428, '들어가고': 2429, '들어가는데': 2430, '들어가든': 2431, '들어가야': 2432, '들어갈': 2433, '들어갑니다': 2434, '들어서': 2435, '들어야': 2436, '들어오면': 2437, '들어올': 2438, '들어왔습니다': 2439, '들어왔어요': 2440, '들어요': 2441, '들어있나요': 2442, '들어있습니다': 2443, '들어주셔서': 2444, '들어주시고': 2445, '들어준다면': 2446, '들었고': 2447, '들었는데': 2448, '들었는데요': 2449, '들었습니다': 2450, '들었어요': 2451, '들었으니': 2452, '들였습니다': 2453, '들으니': 2454, '들으세요': 2455, '들으셨나요': 2456, '들은': 2457, '들을': 2458, '들이': 2459, '들이죠': 2460, '들일': 2461, '들입니다': 2462, '들자면': 2463, '들지': 2464, '듭': 2465, '듭니': 2466, '등': 2467, '등급': 2468, '등등': 2469, '등록': 2470, '등록증': 2471, '등본': 2472, '등장': 2473, '디네': 2474, '디럭스': 2475, '디바이스': 2476, '디스크': 2477, '디스플레이': 2478, '디시': 2479, '디자이너': 2480, '디자인': 2481, '디저스터': 2482, '디저트': 2483, '디젤': 2484, '디지털': 2485, '디지털로': 2486, '딜러': 2487, '딥': 2488, '딩기': 2489, '따냈습니다': 2490, '따뜻하게': 2491, '따뜻한': 2492, '따라': 2493, '따라가고': 2494, '따라서': 2495, '따라야': 2496, '따라오세요': 2497, '따라주세요': 2498, '따로': 2499, '따르고': 2500, '따르고자': 2501, '따르기': 2502, '따르는': 2503, '따르는지': 2504, '따르면': 2505, '따른': 2506, '따를게요': 2507, '딱': 2508, '딱입니다': 2509, '딸린': 2510, '땀': 2511, '때': 2512, '때때로': 2513, '때로는': 2514, '때문': 2515, '떠나지': 2516, '떠올랐는데': 2517, '떡': 2518, '떡볶이': 2519, '떨고': 2520, '떨어뜨리지': 2521, '떨어져': 2522, '떨어졌거든요': 2523, '떨어졌기': 2524, '떨어졌나요': 2525, '떨어지고': 2526, '떨어지는': 2527, '떨어지면': 2528, '떨어지지': 2529, '떨어진': 2530, '떨어질': 2531, '떨어집니다': 2532, '떨지': 2533, '또': 2534, '또는': 2535, '또래': 2536, '또한': 2537, '똑같고': 2538, '똑같습니다': 2539, '똑똑한': 2540, '똑바로': 2541, '뚜렷한': 2542, '뛰어난': 2543, '뛰어납니다': 2544, '뛰어들고': 2545, '뜨개질': 2546, '뜨고': 2547, '뜨는': 2548, '뜰': 2549, '뜻': 2550, '뜻입': 2551, '띄게': 2552, '띄는': 2553, '띄지요': 2554, '라': 2555, '라고': 2556, '라는': 2557, '라도': 2558, '라디오': 2559, '라면': 2560, '라발': 2561, '라서': 2562, '라우터': 2563, '라운드': 2564, '라운지': 2565, '라이': 2566, '라이브': 2567, '라이브러리': 2568, '라이선스': 2569, '라이센스': 2570, '라이트': 2571, '라이트닝': 2572, '라이프스타일': 2573, '라인': 2574, '라인업': 2575, '란': 2576, '랍니': 2577, '랑': 2578, '래': 2579, '래야': 2580, '랙티브': 2581, '랜드': 2582, '랩': 2583, '랩톱': 2584, '량': 2585, '러': 2586, '러너': 2587, '러닝': 2588, '러시': 2589, '럭셔리': 2590, '런가': 2591, '런던': 2592, '런칭': 2593, '레드': 2594, '레벨': 2595, '레스토랑': 2596, '레시피': 2597, '레어': 2598, '레이': 2599, '레이블': 2600, '레이아웃': 2601, '레인': 2602, '레지스트리': 2603, '레코드': 2604, '레크리에이션': 2605, '레터': 2606, '렌더링': 2607, '렌즈': 2608, '렌탈': 2609, '렌터카': 2610, '렌틸': 2611, '려고': 2612, '려면': 2613, '력': 2614, '령': 2615, '로': 2616, '로고': 2617, '로그': 2618, '로그아웃': 2619, '로그온': 2620, '로그인': 2621, '로는': 2622, '로더': 2623, '로드': 2624, '로드맵': 2625, '로만': 2626, '로봇': 2627, '로부터': 2628, '로비': 2629, '로서': 2630, '로열티': 2631, '로터리': 2632, '로트': 2633, '록': 2634, '론': 2635, '론칭': 2636, '롤': 2637, '롤러': 2638, '롤플레잉': 2639, '롭': 2640, '롭고': 2641, '료': 2642, '루프': 2643, '룸': 2644, '룸메이트': 2645, '룸서비스': 2646, '룸셰어': 2647, '륜': 2648, '률': 2649, '를': 2650, '리': 2651, '리가': 2652, '리기': 2653, '리뉴얼': 2654, '리더': 2655, '리드': 2656, '리디렉션': 2657, '리버풀': 2658, '리뷰': 2659, '리셉션': 2660, '리소스': 2661, '리스크': 2662, '리스트': 2663, '리조트': 2664, '리지': 2665, '리캐': 2666, '리커버리': 2667, '리테일': 2668, '리퍼': 2669, '리프트': 2670, '리허설': 2671, '린다': 2672, '릴': 2673, '링': 2674, '링스': 2675, '링크': 2676, '마': 2677, '마감': 2678, '마개': 2679, '마늘': 2680, '마닐라': 2681, '마다': 2682, '마당': 2683, '마드리드': 2684, '마땅치': 2685, '마력': 2686, '마련': 2687, '마리': 2688, '마무리': 2689, '마법': 2690, '마사지': 2691, '마세요': 2692, '마셔': 2693, '마셔요': 2694, '마스코트': 2695, '마스크': 2696, '마스터': 2697, '마시고': 2698, '마시고요': 2699, '마시기': 2700, '마시길': 2701, '마시는': 2702, '마시도록': 2703, '마시며': 2704, '마실': 2705, '마실게요': 2706, '마십시다': 2707, '마십시오': 2708, '마우스': 2709, '마을': 2710, '마음': 2711, '마이너스': 2712, '마이크': 2713, '마인더': 2714, '마인드': 2715, '마중': 2716, '마지막': 2717, '마차': 2718, '마찬가지': 2719, '마쳤습니다': 2720, '마쳤어요': 2721, '마치는': 2722, '마치는데': 2723, '마치도록': 2724, '마친': 2725, '마칠게요': 2726, '마침': 2727, '마침내': 2728, '마케터': 2729, '마케터입니': 2730, '마케팅': 2731, '마포구': 2732, '막': 2733, '막걸리': 2734, '막기': 2735, '막대': 2736, '막히는': 2737, '만': 2738, '만기': 2739, '만기일': 2740, '만나': 2741, '만나게': 2742, '만나고': 2743, '만나기': 2744, '만나기로': 2745, '만나기를': 2746, '만나는데': 2747, '만나러': 2748, '만나서': 2749, '만나실': 2750, '만나야': 2751, '만나요': 2752, '만난': 2753, '만난다고': 2754, '만날': 2755, '만났습니다': 2756, '만도': 2757, '만두': 2758, '만드나': 2759, '만드는': 2760, '만드는지': 2761, '만드시는지': 2762, '만드십니까': 2763, '만든': 2764, '만든다고': 2765, '만든다는': 2766, '만들': 2767, '만들게': 2768, '만들게요': 2769, '만들겠습니다': 2770, '만들고': 2771, '만들기': 2772, '만들려고': 2773, '만들려면': 2774, '만들어': 2775, '만들어요': 2776, '만들어져': 2777, '만들어져요': 2778, '만들어졌나요': 2779, '만들어졌는지': 2780, '만들어졌습니다': 2781, '만들어지는지': 2782, '만들어진': 2783, '만들어집니다': 2784, '만들었고': 2785, '만들었습니다': 2786, '만들었어요': 2787, '만들었죠': 2788, '만듭니': 2789, '만료': 2790, '만약': 2791, '만에': 2792, '만으로': 2793, '만으로는': 2794, '만으로도': 2795, '만을': 2796, '만의': 2797, '만이': 2798, '만일': 2799, '만족': 2800, '만족스러우면': 2801, '만족스럽습니다': 2802, '만족하고': 2803, '만족하세요': 2804, '만족하시길': 2805, '만족하지': 2806, '만족할': 2807, '만족합니다': 2808, '만족해': 2809, '만찬': 2810, '만큼': 2811, '만화': 2812, '만회': 2813, '많겠죠': 2814, '많고': 2815, '많네요': 2816, '많다고': 2817, '많다는': 2818, '많습니다': 2819, '많아서': 2820, '많아서요': 2821, '많아요': 2822, '많아지는': 2823, '많았답니다': 2824, '많았습니다': 2825, '많았죠': 2826, '많으니': 2827, '많으니까': 2828, '많으셨습니다': 2829, '많으시네요': 2830, '많은': 2831, '많은지': 2832, '많을': 2833, '많이': 2834, '많이는': 2835, '많잖아요': 2836, '말': 2837, '말고': 2838, '말고는': 2839, '말고도': 2840, '말레이시아': 2841, '말씀': 2842, '말씀드렸다시피': 2843, '말씀드렸듯이': 2844, '말씀드렸었나요': 2845, '말씀드리겠습니다': 2846, '말씀드리고': 2847, '말씀드리는데': 2848, '말씀드린': 2849, '말씀드릴': 2850, '말아야': 2851, '말아주세요': 2852, '말이네요': 2853, '맙소사': 2854, '맛': 2855, '맛보고': 2856, '맛보지': 2857, '맛볼': 2858, '맛있게': 2859, '맛있겠다': 2860, '맛있는': 2861, '맛있었길': 2862, '맛집': 2863, '맜있는': 2864, '망칠': 2865, '맞게': 2866, '맞나요': 2867, '맞네요': 2868, '맞는': 2869, '맞는지': 2870, '맞다면': 2871, '맞서고': 2872, '맞습니까': 2873, '맞습니다': 2874, '맞아': 2875, '맞아요': 2876, '맞으시죠': 2877, '맞으신': 2878, '맞으실까': 2879, '맞을': 2880, '맞을까요': 2881, '맞죠': 2882, '맞지': 2883, '맞추고': 2884, '맞추도록': 2885, '맞춤': 2886, '맞춰': 2887, '맞춰야': 2888, '맞춰져': 2889, '맡겨주셔서': 2890, '맡기겠습니다': 2891, '맡길': 2892, '맡습니다': 2893, '맡아주실': 2894, '맡을': 2895, '맡죠': 2896, '매': 2897, '매각': 2898, '매거진은': 2899, '매거진의': 2900, '매길': 2901, '매끄럽게': 2902, '매너': 2903, '매년': 2904, '매니저': 2905, '매달': 2906, '매도': 2907, '매력': 2908, '매료': 2909, '매매': 2910, '매물': 2911, '매번': 2912, '매수': 2913, '매우': 2914, '매운': 2915, '매월': 2916, '매일': 2917, '매입': 2918, '매장': 2919, '매점': 2920, '매주': 2921, '매진': 2922, '매체': 2923, '매출': 2924, '매치': 2925, '매크로': 2926, '매트': 2927, '매트리스': 2928, '매핑': 2929, '맥락': 2930, '맥주': 2931, '맨': 2932, '맬웨어': 2933, '맵': 2934, '맵핑': 2935, '맺고': 2936, '맺기': 2937, '맺는': 2938, '맺었습니다': 2939, '머': 2940, '머니': 2941, '머드': 2942, '머리': 2943, '머무는': 2944, '머무르는': 2945, '머무르려고': 2946, '머무르실': 2947, '머무를': 2948, '머물': 2949, '머물게': 2950, '머물고': 2951, '머물기에': 2952, '머신': 2953, '먹게': 2954, '먹고': 2955, '먹기': 2956, '먹는': 2957, '먹방': 2958, '먹습니다': 2959, '먹어': 2960, '먹어야': 2961, '먹었어요': 2962, '먹으라고': 2963, '먹으면': 2964, '먹으면서': 2965, '먹을': 2966, '먹을게요': 2967, '먹을래요': 2968, '먹이': 2969, '먼': 2970, '먼저': 2971, '먼지': 2972, '멀': 2973, '멀리': 2974, '멈추지': 2975, '멈춥니다': 2976, '멋져요': 2977, '멋지네요': 2978, '멋지다': 2979, '멋진': 2980, '멋질': 2981, '멋집니다': 2982, '멎을': 2983, '메가바이트': 2984, '메가비트': 2985, '메뉴': 2986, '메뉴판': 2987, '메모': 2988, '메시': 2989, '메시지': 2990, '메이커': 2991, '메이크업': 2992, '메인': 2993, '메일': 2994, '메커니즘': 2995, '메타': 2996, '멜론': 2997, '멤버': 2998, '멤버십': 2999, '며': 3000, '며칠': 3001, '면': 3002, '면역': 3003, '면적': 3004, '면접': 3005, '면제': 3006, '면직물': 3007, '면책': 3008, '면허': 3009, '면허증': 3010, '명': 3011, '명과': 3012, '명당': 3013, '명령': 3014, '명백하지만': 3015, '명백히': 3016, '명분': 3017, '명상': 3018, '명세서': 3019, '명시': 3020, '명의': 3021, '명인': 3022, '명칭': 3023, '명품': 3024, '명함': 3025, '명확하게': 3026, '명확하지': 3027, '명확한': 3028, '명확히': 3029, '몇': 3030, '몇대': 3031, '몇몇': 3032, '모': 3033, '모국': 3034, '모국어': 3035, '모금': 3036, '모기': 3037, '모기지': 3038, '모기지론': 3039, '모니터': 3040, '모니터링': 3041, '모델': 3042, '모뎀': 3043, '모두': 3044, '모듈': 3045, '모드': 3046, '모든': 3047, '모레': 3048, '모르거든요': 3049, '모르겠네요': 3050, '모르겠습니다': 3051, '모르겠어요': 3052, '모르겠으니': 3053, '모르겠지만': 3054, '모르기': 3055, '모르는': 3056, '모르니': 3057, '모르시나요': 3058, '모르지만': 3059, '모르타르': 3060, '모릅니다': 3061, '모바일': 3062, '모범': 3063, '모색': 3064, '모서리': 3065, '모습': 3066, '모시': 3067, '모시기에': 3068, '모시도록': 3069, '모실': 3070, '모아': 3071, '모양': 3072, '모여있어요': 3073, '모욕': 3074, '모을': 3075, '모의고사': 3076, '모임': 3077, '모자': 3078, '모터': 3079, '모터보트': 3080, '모텔': 3081, '모티브': 3082, '모험': 3083, '모형': 3084, '목걸이': 3085, '목격': 3086, '목록': 3087, '목별': 3088, '목소리': 3089, '목요일': 3090, '목욕': 3091, '목욕탕': 3092, '목적': 3093, '목적지': 3094, '목표': 3095, '몫': 3096, '몬순': 3097, '몰': 3098, '몰과': 3099, '몰두하고': 3100, '몰라서': 3101, '몰라요': 3102, '몰랐네요': 3103, '몰랐습니다': 3104, '몰랐어요': 3105, '몰이': 3106, '몸': 3107, '못': 3108, '묘목': 3109, '무': 3110, '무거운': 3111, '무게': 3112, '무너졌습니다': 3113, '무늬': 3114, '무대': 3115, '무드': 3116, '무례하고': 3117, '무례한': 3118, '무료': 3119, '무리': 3120, '무사하시길': 3121, '무서워서': 3122, '무선': 3123, '무슨': 3124, '무시': 3125, '무언가': 3126, '무엇': 3127, '무역': 3128, '무역수지': 3129, '무용': 3130, '무의미하게': 3131, '무작위': 3132, '무제한': 3133, '무중력': 3134, '무지': 3135, '묵': 3136, '묵고': 3137, '묵는': 3138, '묵시': 3139, '묵어야': 3140, '묵으셔도': 3141, '묶음': 3142, '문': 3143, '문득': 3144, '문법': 3145, '문서': 3146, '문신': 3147, '문의': 3148, '문의사항': 3149, '문자': 3150, '문제': 3151, '문제점': 3152, '문하': 3153, '문화': 3154, '묻고': 3155, '묻습니다': 3156, '물': 3157, '물가상승률': 3158, '물건': 3159, '물고기': 3160, '물론': 3161, '물류': 3162, '물리': 3163, '물속': 3164, '물어보겠습니다': 3165, '물어보고': 3166, '물어보려고': 3167, '물어보세요': 3168, '물어본다고': 3169, '물어봐': 3170, '물어봐도': 3171, '물어봤습니다': 3172, '물었습니다': 3173, '물의': 3174, '물이': 3175, '물질': 3176, '물체': 3177, '물품': 3178, '뭐': 3179, '뭐라고': 3180, '뭔': 3181, '뭔가': 3182, '뭘': 3183, '뮤직': 3184, '뮤추얼': 3185, '므': 3186, '미': 3187, '미결': 3188, '미국': 3189, '미국법': 3190, '미끼': 3191, '미납': 3192, '미니': 3193, '미니멀리즘': 3194, '미니바': 3195, '미디어': 3196, '미디엄': 3197, '미래': 3198, '미를': 3199, '미리': 3200, '미만': 3201, '미세하거나': 3202, '미수': 3203, '미슐랭': 3204, '미스': 3205, '미안하지만': 3206, '미약': 3207, '미얀마': 3208, '미용': 3209, '미적': 3210, '미지': 3211, '미치': 3212, '미치나': 3213, '미치는': 3214, '미치는지': 3215, '미칠': 3216, '미칠지': 3217, '미칩니다': 3218, '미터': 3219, '미팅': 3220, '미혼': 3221, '믹서': 3222, '민간': 3223, '민물': 3224, '민원': 3225, '민팅': 3226, '믿고': 3227, '믿기': 3228, '믿기지': 3229, '믿습니다': 3230, '믿어': 3231, '믿어요': 3232, '믿어주세요': 3233, '믿어주셔서': 3234, '믿으세요': 3235, '믿으실': 3236, '믿으십시오': 3237, '믿을': 3238, '믿지': 3239, '밀가루': 3240, '밀고': 3241, '밀레': 3242, '밀린': 3243, '밀어': 3244, '밀크티숍': 3245, '밀회': 3246, '및': 3247, '밑': 3248, '바': 3249, '바꾸거나': 3250, '바꾸고': 3251, '바꾸면': 3252, '바꾸셔야': 3253, '바꾸실': 3254, '바꾼': 3255, '바꿀': 3256, '바꿔': 3257, '바꿔야': 3258, '바꿨습니다': 3259, '바꿨어요': 3260, '바뀌나요': 3261, '바뀌었습니다': 3262, '바뀌지': 3263, '바뀌지는': 3264, '바뀐': 3265, '바뀝니다': 3266, '바나나': 3267, '바늘': 3268, '바다': 3269, '바닥': 3270, '바닥나는': 3271, '바닷물': 3272, '바디': 3273, '바라겠으니': 3274, '바라고요': 3275, '바라는': 3276, '바라며': 3277, '바라보는': 3278, '바라시나요': 3279, '바라요': 3280, '바라지': 3281, '바랄게요': 3282, '바람': 3283, '바람직하지': 3284, '바랍니다': 3285, '바랐습니다': 3286, '바램': 3287, '바로': 3288, '바르고': 3289, '바를': 3290, '바베이도스': 3291, '바베큐': 3292, '바비큐': 3293, '바빠서': 3294, '바쁘셨나요': 3295, '바쁘지': 3296, '바쁜': 3297, '바쁠': 3298, '바쁩니다': 3299, '바위': 3300, '바이': 3301, '바이러스': 3302, '바이오': 3303, '바이트': 3304, '바쳤어요': 3305, '바퀴': 3306, '바탕': 3307, '박': 3308, '박람회': 3309, '박물관': 3310, '박사': 3311, '박스': 3312, '밖': 3313, '밖에': 3314, '반': 3315, '반가운': 3316, '반가워요': 3317, '반갑습니다': 3318, '반길': 3319, '반납': 3320, '반년': 3321, '반대': 3322, '반대편': 3323, '반도체': 3324, '반드시': 3325, '반려': 3326, '반려견': 3327, '반려동물': 3328, '반면': 3329, '반영': 3330, '반응': 3331, '반찬': 3332, '반품': 3333, '받게': 3334, '받고': 3335, '받기로': 3336, '받기를': 3337, '받길': 3338, '받나요': 3339, '받네요': 3340, '받는': 3341, '받는다는': 3342, '받는지': 3343, '받습니다': 3344, '받아': 3345, '받아들여도': 3346, '받아들여질': 3347, '받아들이거나': 3348, '받아들이겠습니다': 3349, '받아들일': 3350, '받아서': 3351, '받아서요': 3352, '받아야': 3353, '받아요': 3354, '받아주셔서': 3355, '받아줄': 3356, '받았고': 3357, '받았기': 3358, '받았네요': 3359, '받았는데': 3360, '받았는지': 3361, '받았다': 3362, '받았다고': 3363, '받았습니까': 3364, '받았습니다': 3365, '받았어요': 3366, '받았으면': 3367, '받았죠': 3368, '받았지만': 3369, '받으려면': 3370, '받으면': 3371, '받으면서': 3372, '받으세요': 3373, '받으셔야': 3374, '받으셨나요': 3375, '받으셨는지': 3376, '받으셨잖아요': 3377, '받으시게': 3378, '받으시는': 3379, '받으시면': 3380, '받으신': 3381, '받으실': 3382, '받은': 3383, '받을': 3384, '받지': 3385, '발견': 3386, '발급': 3387, '발끝': 3388, '발복': 3389, '발생': 3390, '발송': 3391, '발신': 3392, '발자국': 3393, '발전': 3394, '발주': 3395, '발표': 3396, '발행': 3397, '발효': 3398, '발휘': 3399, '밝혀낼': 3400, '밝혀졌습니다': 3401, '밝혀지면': 3402, '밟아주세요': 3403, '밤': 3404, '밤낮': 3405, '밤늦게': 3406, '밤새도록': 3407, '밥': 3408, '밥그릇': 3409, '밧줄': 3410, '방': 3411, '방과': 3412, '방금': 3413, '방대한': 3414, '방문': 3415, '방문객': 3416, '방법': 3417, '방사성': 3418, '방송': 3419, '방송국': 3420, '방수': 3421, '방식': 3422, '방안': 3423, '방어': 3424, '방이': 3425, '방적': 3426, '방적기': 3427, '방지': 3428, '방출': 3429, '방침': 3430, '방해': 3431, '방향': 3432, '방화벽': 3433, '밭': 3434, '배': 3435, '배경': 3436, '배경음악': 3437, '배너': 3438, '배달': 3439, '배당금': 3440, '배려': 3441, '배분': 3442, '배색': 3443, '배송': 3444, '배송비': 3445, '배송지': 3446, '배수': 3447, '배우': 3448, '배우고': 3449, '배우기를': 3450, '배우는': 3451, '배우려는': 3452, '배우려면': 3453, '배우실': 3454, '배우십시오': 3455, '배우자': 3456, '배우죠': 3457, '배울': 3458, '배울수록': 3459, '배움': 3460, '배워': 3461, '배워야': 3462, '배웠다는': 3463, '배웠습니다': 3464, '배정': 3465, '배출': 3466, '배치': 3467, '배터리': 3468, '배포': 3469, '백': 3470, '백만': 3471, '백신': 3472, '백업': 3473, '백엔드': 3474, '밴과': 3475, '밴드': 3476, '밴은': 3477, '밸브': 3478, '뱅크': 3479, '뱅킹': 3480, '버': 3481, '버그': 3482, '버너': 3483, '버네': 3484, '버는': 3485, '버드': 3486, '버렸습니다': 3487, '버블': 3488, '버스': 3489, '버스정류장': 3490, '버전': 3491, '버터플라이': 3492, '버튼': 3493, '번': 3494, '번가': 3495, '번거로우시겠지만': 3496, '번거로워져요': 3497, '번거롭나요': 3498, '번거롭다고': 3499, '번식': 3500, '번역': 3501, '번역가': 3502, '번의': 3503, '번지': 3504, '번째': 3505, '번창': 3506, '번호': 3507, '벌': 3508, '벌고': 3509, '벌써': 3510, '벌어지고': 3511, '벌이': 3512, '범': 3513, '범위': 3514, '범인': 3515, '범죄': 3516, '범죄자': 3517, '범주': 3518, '법': 3519, '법률': 3520, '법원': 3521, '법인': 3522, '법인세': 3523, '법적': 3524, '법정': 3525, '벗어나나요': 3526, '벗어나지': 3527, '벗으라는': 3528, '베네수엘라': 3529, '베벨': 3530, '베스트셀러': 3531, '베어링': 3532, '베이스': 3533, '베타': 3534, '베테': 3535, '베트남': 3536, '벡터': 3537, '벤': 3538, '벤딩': 3539, '벤처캐피털': 3540, '벤츄리': 3541, '벤치': 3542, '벨': 3543, '벨트': 3544, '벽': 3545, '벽난로': 3546, '벽지': 3547, '변경': 3548, '변동': 3549, '변동성': 3550, '변명': 3551, '변속기': 3552, '변수': 3553, '변하네요': 3554, '변해요': 3555, '변호사': 3556, '변화': 3557, '변환': 3558, '별': 3559, '별관': 3560, '별도': 3561, '별로': 3562, '별장': 3563, '병': 3564, '병동': 3565, '병원': 3566, '병합': 3567, '보': 3568, '보거나': 3569, '보건': 3570, '보겠습니다': 3571, '보겠습니다만': 3572, '보겠지만': 3573, '보고': 3574, '보고서': 3575, '보관': 3576, '보기': 3577, '보내': 3578, '보내겠습니다': 3579, '보내고': 3580, '보내기를': 3581, '보내길': 3582, '보내는': 3583, '보내려고': 3584, '보내면': 3585, '보내서': 3586, '보내세요': 3587, '보내셔도': 3588, '보내셨어야죠': 3589, '보내시': 3590, '보내시고': 3591, '보내시기': 3592, '보내시길': 3593, '보내실': 3594, '보내십시오': 3595, '보내야': 3596, '보내온': 3597, '보내졌습니다': 3598, '보내주길': 3599, '보내주면': 3600, '보내주세요': 3601, '보내주셔서': 3602, '보내주셔야': 3603, '보내주시겠습니까': 3604, '보내주시겠어요': 3605, '보내주시기': 3606, '보내주시길': 3607, '보내주시면': 3608, '보내주신': 3609, '보내주실': 3610, '보내주십시오': 3611, '보내준다고': 3612, '보내줄': 3613, '보내줘서': 3614, '보내지': 3615, '보내질': 3616, '보낸': 3617, '보낼': 3618, '보낼까': 3619, '보냅니다': 3620, '보냈고': 3621, '보냈는데요': 3622, '보냈습니다': 3623, '보냈어요': 3624, '보냈지만': 3625, '보는': 3626, '보는데': 3627, '보니': 3628, '보다': 3629, '보다는': 3630, '보다도': 3631, '보다시피': 3632, '보던': 3633, '보도': 3634, '보도록': 3635, '보드': 3636, '보람': 3637, '보류': 3638, '보면': 3639, '보물': 3640, '보살핌으로': 3641, '보상': 3642, '보세요': 3643, '보셔도': 3644, '보셨나요': 3645, '보셨습니까': 3646, '보셨어요': 3647, '보셨으면': 3648, '보수': 3649, '보시': 3650, '보시겠습니까': 3651, '보시겠어요': 3652, '보시길': 3653, '보시다시피': 3654, '보실': 3655, '보실까': 3656, '보실래요': 3657, '보십시오': 3658, '보쌈': 3659, '보안': 3660, '보았고': 3661, '보았습니다': 3662, '보여': 3663, '보여요': 3664, '보여주고': 3665, '보여주기': 3666, '보여주는': 3667, '보여주세요': 3668, '보여줄': 3669, '보여줍니다': 3670, '보여줘': 3671, '보여줘요': 3672, '보여줬던': 3673, '보유': 3674, '보이': 3675, '보이네요': 3676, '보이는': 3677, '보이는군요': 3678, '보이는데': 3679, '보이는데요': 3680, '보이도록': 3681, '보이시나요': 3682, '보이지': 3683, '보인다': 3684, '보입니다': 3685, '보장': 3686, '보조': 3687, '보존': 3688, '보죠': 3689, '보증': 3690, '보증금': 3691, '보증인': 3692, '보지': 3693, '보철물': 3694, '보청기': 3695, '보통': 3696, '보트': 3697, '보행': 3698, '보험': 3699, '보험금': 3700, '보험료': 3701, '보험사': 3702, '보헤미안': 3703, '보호': 3704, '보호복': 3705, '복': 3706, '복구': 3707, '복사기': 3708, '복원': 3709, '복잡하다면': 3710, '복잡한': 3711, '복잡할': 3712, '복잡합니다': 3713, '복잡해서': 3714, '복잡해서요': 3715, '복장': 3716, '복판': 3717, '복호화': 3718, '볶음': 3719, '볶음밥': 3720, '본': 3721, '본드': 3722, '본론': 3723, '본부': 3724, '본사': 3725, '본인': 3726, '본체': 3727, '볼': 3728, '볼게요': 3729, '볼까': 3730, '볼륨': 3731, '볼일': 3732, '봄판': 3733, '봅니다': 3734, '봅시다': 3735, '봇': 3736, '봉쇄': 3737, '봐': 3738, '봐도': 3739, '봐야': 3740, '봐야겠어요': 3741, '봐요': 3742, '봐주세요': 3743, '봐주셨으면': 3744, '봐주시면': 3745, '봤는데': 3746, '봤습니다': 3747, '봤어요': 3748, '봤을': 3749, '봤지만': 3750, '뵐게요': 3751, '뵙게': 3752, '뵙겠습니다': 3753, '뵙는': 3754, '부': 3755, '부과': 3756, '부금': 3757, '부끄럽네요': 3758, '부담': 3759, '부당하다고': 3760, '부대': 3761, '부동산': 3762, '부두': 3763, '부드러운': 3764, '부드럽고': 3765, '부딪쳤습니다': 3766, '부딪히는': 3767, '부랍니다': 3768, '부로': 3769, '부록': 3770, '부르는': 3771, '부르셨나요': 3772, '부른': 3773, '부릅니다': 3774, '부모': 3775, '부모님': 3776, '부문': 3777, '부분': 3778, '부산': 3779, '부상': 3780, '부서': 3781, '부속품': 3782, '부수': 3783, '부양가족': 3784, '부업': 3785, '부엌': 3786, '부여': 3787, '부위': 3788, '부유한': 3789, '부응': 3790, '부의': 3791, '부인': 3792, '부자': 3793, '부작용': 3794, '부적': 3795, '부정': 3796, '부족': 3797, '부족하여': 3798, '부족해서': 3799, '부족해요': 3800, '부족했으며': 3801, '부지': 3802, '부착': 3803, '부채': 3804, '부처': 3805, '부츠': 3806, '부침개': 3807, '부탁': 3808, '부탁드려도': 3809, '부탁드려요': 3810, '부탁드립니다': 3811, '부터': 3812, '부팅': 3813, '부품': 3814, '부합': 3815, '부호화': 3816, '북': 3817, '북경어': 3818, '북미': 3819, '북부': 3820, '분': 3821, '분과': 3822, '분광': 3823, '분기': 3824, '분기점': 3825, '분께는': 3826, '분당': 3827, '분들': 3828, '분류': 3829, '분리': 3830, '분명': 3831, '분명히': 3832, '분사': 3833, '분산': 3834, '분석': 3835, '분쇄기': 3836, '분식점': 3837, '분실': 3838, '분야': 3839, '분위기': 3840, '분이세요': 3841, '분이시지요': 3842, '분쟁': 3843, '분젠': 3844, '분지': 3845, '분포': 3846, '분할': 3847, '분해': 3848, '불': 3849, '불가능': 3850, '불가능하고': 3851, '불가능하다면': 3852, '불가능한': 3853, '불가능합니다': 3854, '불고기': 3855, '불과': 3856, '불과하답니다': 3857, '불과할': 3858, '불과해요': 3859, '불교': 3860, '불구': 3861, '불규칙한': 3862, '불금': 3863, '불당': 3864, '불도저': 3865, '불량': 3866, '불량품': 3867, '불러': 3868, '불러일으키는': 3869, '불러주세요': 3870, '불러주셔서': 3871, '불러주시겠어요': 3872, '불리는': 3873, '불리는지': 3874, '불만': 3875, '불문': 3876, '불빛': 3877, '불안정합니다': 3878, '불안하게': 3879, '불쾌한': 3880, '불편': 3881, '불편하게': 3882, '불편하다는': 3883, '불편하시면': 3884, '불편하신': 3885, '불편하지': 3886, '불편할': 3887, '불편함을': 3888, '불편합니다': 3889, '불평': 3890, '불평등한': 3891, '불필요한': 3892, '불행한': 3893, '불행히도': 3894, '붉은빛': 3895, '붐': 3896, '붕괴': 3897, '붕어빵': 3898, '붙박': 3899, '붙습니다': 3900, '붙어': 3901, '붙일': 3902, '뷔페': 3903, '뷸': 3904, '브라우저': 3905, '브라우징': 3906, '브라질': 3907, '브랜드': 3908, '브랜딩': 3909, '브레이커': 3910, '브레이크': 3911, '브레인스토밍': 3912, '브로': 3913, '브로드밴드': 3914, '브로셔': 3915, '브로커': 3916, '브루나이': 3917, '브이': 3918, '블랙': 3919, '블레이드': 3920, '블렌드': 3921, '블렌딩': 3922, '블로그': 3923, '블록': 3924, '블루': 3925, '블루칩': 3926, '블룸': 3927, '비': 3928, '비간': 3929, '비건': 3930, '비계': 3931, '비공개': 3932, '비공식': 3933, '비교': 3934, '비누': 3935, '비는': 3936, '비도': 3937, '비디오': 3938, '비랴': 3939, '비록': 3940, '비롯': 3941, '비료': 3942, '비밀': 3943, '비밀번호': 3944, '비빔냉면': 3945, '비빔밥': 3946, '비상': 3947, '비서': 3948, '비스킷': 3949, '비스트': 3950, '비슷하게': 3951, '비슷한': 3952, '비슷한가요': 3953, '비슷합니다': 3954, '비실': 3955, '비싸': 3956, '비싸게': 3957, '비싸고': 3958, '비싸다고': 3959, '비싸서': 3960, '비싸요': 3961, '비싸졌죠': 3962, '비싸지': 3963, '비싸지는': 3964, '비싼': 3965, '비싼가요': 3966, '비싼거죠': 3967, '비쌀': 3968, '비쌉니까': 3969, '비쌉니다': 3970, '비어': 3971, '비영리': 3972, '비용': 3973, '비우셔야': 3974, '비워': 3975, '비율': 3976, '비자': 3977, '비전을': 3978, '비주': 3979, '비즈니스': 3980, '비축': 3981, '비커': 3982, '비트': 3983, '비트코인': 3984, '비평가': 3985, '비프': 3986, '비해': 3987, '비행': 3988, '비행기': 3989, '빅데이터': 3990, '빈': 3991, '빈방': 3992, '빈번': 3993, '빈손': 3994, '빈티': 3995, '빌드되': 3996, '빌딩': 3997, '빌라': 3998, '빌려': 3999, '빌려주는': 4000, '빌려주셔서': 4001, '빌렸습니다': 4002, '빌리고': 4003, '빌리기': 4004, '빌리려고': 4005, '빌리시는': 4006, '빌릴': 4007, '빌릴까': 4008, '빌릴지': 4009, '빌보드': 4010, '빌트': 4011, '빔': 4012, '빕니다': 4013, '빗': 4014, '빙': 4015, '빚': 4016, '빠듯': 4017, '빠듯합니': 4018, '빠르게': 4019, '빠르고': 4020, '빠른': 4021, '빠를': 4022, '빠릅니다': 4023, '빠졌는지': 4024, '빠질': 4025, '빡빡': 4026, '빨간': 4027, '빨간색': 4028, '빨라질': 4029, '빨리': 4030, '빵': 4031, '빵집': 4032, '빼고': 4033, '뽑아': 4034, '뿌리': 4035, '뿐': 4036, '뿐이고요': 4037, '뿐이므로': 4038, '뿐이죠': 4039, '뿐입니다': 4040, '삐었': 4041, '사': 4042, '사건': 4043, '사겠습니다': 4044, '사격': 4045, '사계절': 4046, '사고': 4047, '사과': 4048, '사기': 4049, '사기꾼': 4050, '사는': 4051, '사람': 4052, '사람과': 4053, '사랑': 4054, '사려': 4055, '사례': 4056, '사를': 4057, '사면': 4058, '사명': 4059, '사모펀드': 4060, '사무': 4061, '사무기기': 4062, '사무소': 4063, '사무실': 4064, '사물': 4065, '사물인터넷': 4066, '사본': 4067, '사생활': 4068, '사서': 4069, '사소한': 4070, '사시겠습니까': 4071, '사시겠어요': 4072, '사시미': 4073, '사실': 4074, '사안': 4075, '사야': 4076, '사양': 4077, '사업': 4078, '사업가': 4079, '사업자': 4080, '사옥': 4081, '사와': 4082, '사왔습니다': 4083, '사용': 4084, '사용성': 4085, '사용자': 4086, '사우나': 4087, '사운드': 4088, '사운드트랙': 4089, '사원': 4090, '사유': 4091, '사은': 4092, '사의': 4093, '사이': 4094, '사이드': 4095, '사이버': 4096, '사이일': 4097, '사이즈': 4098, '사이트': 4099, '사인': 4100, '사인회': 4101, '사장': 4102, '사전': 4103, '사주실': 4104, '사지': 4105, '사진': 4106, '사진사': 4107, '사진작가': 4108, '사찰': 4109, '사촌': 4110, '사출': 4111, '사탕': 4112, '사태': 4113, '사하여': 4114, '사항': 4115, '사회': 4116, '삭제': 4117, '산': 4118, '산나물': 4119, '산업': 4120, '산이': 4121, '산출': 4122, '살': 4123, '살균': 4124, '살기': 4125, '살까': 4126, '살았습니다': 4127, '살이': 4128, '살펴보겠습니다': 4129, '살펴보고': 4130, '살펴보세요': 4131, '살펴보았습니다': 4132, '살펴볼': 4133, '살펴볼게요': 4134, '삶': 4135, '삶은': 4136, '삼': 4137, '삼겹살': 4138, '삼고': 4139, '삽': 4140, '삽화가': 4141, '샀다': 4142, '상': 4143, '상거래': 4144, '상관': 4145, '상관없습니다': 4146, '상관없어요': 4147, '상관없으니': 4148, '상관없이': 4149, '상관없지만': 4150, '상급': 4151, '상기': 4152, '상단': 4153, '상담': 4154, '상당': 4155, '상당한': 4156, '상당히': 4157, '상대': 4158, '상대로': 4159, '상대방': 4160, '상무': 4161, '상사': 4162, '상상': 4163, '상상력': 4164, '상세': 4165, '상속': 4166, '상승': 4167, '상업': 4168, '상위': 4169, '상응': 4170, '상의': 4171, '상이': 4172, '상인': 4173, '상자': 4174, '상장': 4175, '상점': 4176, '상주': 4177, '상징': 4178, '상추': 4179, '상치': 4180, '상태': 4181, '상표': 4182, '상품': 4183, '상하': 4184, '상하이': 4185, '상호': 4186, '상환': 4187, '상황': 4188, '새': 4189, '새로': 4190, '새로운': 4191, '새롭게': 4192, '새롭기': 4193, '새벽': 4194, '새우': 4195, '새틴': 4196, '새해': 4197, '색': 4198, '색상': 4199, '색인': 4200, '색조': 4201, '샌드위치': 4202, '샌프란시스코': 4203, '샐러드': 4204, '샘플': 4205, '샘플러': 4206, '샘플링': 4207, '생': 4208, '생각': 4209, '생각나지': 4210, '생강': 4211, '생겨도': 4212, '생겼습니다': 4213, '생기나요': 4214, '생기는데': 4215, '생기지': 4216, '생긴': 4217, '생동감': 4218, '생명': 4219, '생명보험': 4220, '생물': 4221, '생방송': 4222, '생산': 4223, '생산량': 4224, '생생하게': 4225, '생선': 4226, '생선전': 4227, '생소한': 4228, '생신': 4229, '생이니': 4230, '생일': 4231, '생체': 4232, '생활': 4233, '생활용품': 4234, '샤워': 4235, '샤워실': 4236, '샤프트': 4237, '샴페인': 4238, '샴푸': 4239, '샵': 4240, '서': 4241, '서기': 4242, '서나': 4243, '서는': 4244, '서더와': 4245, '서도': 4246, '서두르는': 4247, '서두르면': 4248, '서둘러': 4249, '서둘러서': 4250, '서든': 4251, '서라운드': 4252, '서랍': 4253, '서로': 4254, '서류': 4255, '서면': 4256, '서명': 4257, '서버': 4258, '서버룸': 4259, '서브': 4260, '서비스': 4261, '서빙': 4262, '서에': 4263, '서울': 4264, '서재': 4265, '서점': 4266, '서지': 4267, '서쪽': 4268, '석가모니': 4269, '섞고': 4270, '선': 4271, '선구자': 4272, '선명하게': 4273, '선명합니다': 4274, '선물': 4275, '선물거래': 4276, '선박': 4277, '선보이고': 4278, '선보일': 4279, '선불': 4280, '선생님': 4281, '선시하기로': 4282, '선적': 4283, '선정': 4284, '선착순': 4285, '선체': 4286, '선택': 4287, '선호': 4288, '설': 4289, '설계': 4290, '설득': 4291, '설렁탕': 4292, '설렙니다': 4293, '설립': 4294, '설명': 4295, '설문': 4296, '설문조사': 4297, '설문지': 4298, '설비': 4299, '설정': 4300, '설치': 4301, '설치는': 4302, '설탕': 4303, '섬광': 4304, '섬유': 4305, '섬유질': 4306, '성': 4307, '성가신': 4308, '성격': 4309, '성공': 4310, '성공하기를': 4311, '성공하길': 4312, '성공하셨네요': 4313, '성공하셨는지': 4314, '성공한': 4315, '성공할': 4316, '성과': 4317, '성능': 4318, '성도': 4319, '성분': 4320, '성사': 4321, '성실히': 4322, '성은': 4323, '성인': 4324, '성장': 4325, '성장하고': 4326, '성장하는': 4327, '성장할': 4328, '성장해': 4329, '성전': 4330, '성취': 4331, '성하는': 4332, '성한': 4333, '성할': 4334, '성함': 4335, '성했는지': 4336, '성형': 4337, '세': 4338, '세계': 4339, '세관': 4340, '세균': 4341, '세금': 4342, '세기': 4343, '세대': 4344, '세련': 4345, '세로': 4346, '세면대': 4347, '세미나': 4348, '세법': 4349, '세부': 4350, '세상': 4351, '세션': 4352, '세안': 4353, '세액': 4354, '세요': 4355, '세우고': 4356, '세우는': 4357, '세우려고': 4358, '세울': 4359, '세워야': 4360, '세웠지만': 4361, '세율': 4362, '세척': 4363, '세척제': 4364, '세탁': 4365, '세탁기': 4366, '세탁실': 4367, '세트': 4368, '세팅': 4369, '세포': 4370, '센': 4371, '센서': 4372, '센터': 4373, '센트': 4374, '셀러': 4375, '셀러리': 4376, '셋': 4377, '셋째': 4378, '셔블': 4379, '션': 4380, '셨었': 4381, '셰어': 4382, '소': 4383, '소갈비': 4384, '소개': 4385, '소개팅': 4386, '소고기': 4387, '소금': 4388, '소녀': 4389, '소득': 4390, '소리': 4391, '소리칠': 4392, '소매': 4393, '소매업자': 4394, '소모': 4395, '소문': 4396, '소비': 4397, '소비자': 4398, '소설': 4399, '소셜': 4400, '소셜미디어': 4401, '소속': 4402, '소송': 4403, '소스': 4404, '소시지': 4405, '소식': 4406, '소액': 4407, '소요': 4408, '소유': 4409, '소유권': 4410, '소유자': 4411, '소의': 4412, '소일': 4413, '소재': 4414, '소주': 4415, '소중하게': 4416, '소중한': 4417, '소중히': 4418, '소지': 4419, '소질': 4420, '소켓': 4421, '소통': 4422, '소파': 4423, '소포': 4424, '소풍': 4425, '소프': 4426, '소프트': 4427, '소프트웨어': 4428, '소형': 4429, '소형견': 4430, '속': 4431, '속달': 4432, '속도': 4433, '속물': 4434, '손': 4435, '손님': 4436, '손상': 4437, '손쉬운': 4438, '손실': 4439, '손익': 4440, '손익계산서': 4441, '손주': 4442, '손해': 4443, '손해배상': 4444, '솔루션': 4445, '솔직하고': 4446, '솔직한': 4447, '솔직히': 4448, '송금': 4449, '송료': 4450, '송신': 4451, '송장': 4452, '쇄신': 4453, '쇠고기': 4454, '쇼': 4455, '쇼룸': 4456, '쇼핑': 4457, '수': 4458, '수가': 4459, '수강': 4460, '수건': 4461, '수고': 4462, '수년': 4463, '수다': 4464, '수단': 4465, '수도': 4466, '수도꼭지': 4467, '수도원': 4468, '수동': 4469, '수락': 4470, '수량': 4471, '수련': 4472, '수령': 4473, '수로': 4474, '수료': 4475, '수료증': 4476, '수리': 4477, '수많은': 4478, '수면': 4479, '수박': 4480, '수반': 4481, '수백만': 4482, '수비드': 4483, '수석': 4484, '수선': 4485, '수속': 4486, '수수료': 4487, '수술': 4488, '수시로': 4489, '수신기': 4490, '수십': 4491, '수압': 4492, '수업': 4493, '수에즈': 4494, '수영': 4495, '수영장': 4496, '수요': 4497, '수요일': 4498, '수용': 4499, '수익': 4500, '수익금': 4501, '수익률': 4502, '수입': 4503, '수입품': 4504, '수정': 4505, '수정과': 4506, '수제': 4507, '수준': 4508, '수집': 4509, '수천': 4510, '수출': 4511, '수출입': 4512, '수평': 4513, '수표': 4514, '수표로': 4515, '수프': 4516, '수학': 4517, '수행': 4518, '수혜자': 4519, '수확': 4520, '숙련': 4521, '숙박': 4522, '숙박시설': 4523, '숙박업소': 4524, '숙성': 4525, '숙소': 4526, '숙여야': 4527, '숙주': 4528, '숙지': 4529, '순': 4530, '순간': 4531, '순위': 4532, '순이익': 4533, '순전히': 4534, '숟가락': 4535, '술': 4536, '술집': 4537, '숨': 4538, '숨겨진': 4539, '숫자': 4540, '숯불': 4541, '쉬는': 4542, '쉬었습니다': 4543, '쉬우니': 4544, '쉬운': 4545, '쉬워': 4546, '쉬워요': 4547, '쉬워지죠': 4548, '쉬워진': 4549, '쉬워질': 4550, '쉴': 4551, '쉽게': 4552, '쉽고': 4553, '쉽기': 4554, '쉽다고': 4555, '쉽도록': 4556, '쉽습니다': 4557, '쉽지는': 4558, '슈': 4559, '슈트': 4560, '슈팅': 4561, '슈퍼마켓': 4562, '스': 4563, '스낵': 4564, '스노클링': 4565, '스니커즈': 4566, '스님': 4567, '스러워서': 4568, '스러워하고': 4569, '스럽게': 4570, '스럽지': 4571, '스레드': 4572, '스릴러': 4573, '스마트': 4574, '스마트폰': 4575, '스마트홈': 4576, '스스로': 4577, '스위트': 4578, '스위트룸': 4579, '스카이라인': 4580, '스캐너': 4581, '스캔': 4582, '스케': 4583, '스케줄': 4584, '스케줄러': 4585, '스케치': 4586, '스쿠터': 4587, '스크럽': 4588, '스크류': 4589, '스크리닝': 4590, '스크린': 4591, '스크린샷': 4592, '스키': 4593, '스킨': 4594, '스킬': 4595, '스타': 4596, '스타일': 4597, '스타트업': 4598, '스테이': 4599, '스테이션': 4600, '스테이크': 4601, '스테인레스': 4602, '스토리': 4603, '스토브': 4604, '스토어': 4605, '스토퍼': 4606, '스톤': 4607, '스튜디오': 4608, '스트레스': 4609, '스트레이트': 4610, '스트로': 4611, '스트리밍': 4612, '스트림': 4613, '스티': 4614, '스티커': 4615, '스틸': 4616, '스파': 4617, '스파게티': 4618, '스파이럴': 4619, '스파이웨어': 4620, '스파크': 4621, '스팸': 4622, '스페셜': 4623, '스페인': 4624, '스펙트럼': 4625, '스포츠': 4626, '스프': 4627, '스프레드': 4628, '스프레이': 4629, '스피커': 4630, '스피킹': 4631, '슬라이드': 4632, '슬롯': 4633, '슬리퍼': 4634, '슬프고': 4635, '습': 4636, '습니': 4637, '승려': 4638, '승인': 4639, '시': 4640, '시각': 4641, '시각장애인': 4642, '시간': 4643, '시간대': 4644, '시계': 4645, '시골': 4646, '시급히': 4647, '시기': 4648, '시끄러운': 4649, '시나리오': 4650, '시내': 4651, '시대': 4652, '시도': 4653, '시리즈': 4654, '시마': 4655, '시민권': 4656, '시설': 4657, '시세': 4658, '시스템': 4659, '시연': 4660, '시오': 4661, '시일': 4662, '시작': 4663, '시장': 4664, '시장조사': 4665, '시저': 4666, '시절': 4667, '시점': 4668, '시즌': 4669, '시차': 4670, '시청': 4671, '시청각': 4672, '시청자': 4673, '시카고': 4674, '시켜': 4675, '시켜주죠': 4676, '시켜줄': 4677, '시켜줄래요': 4678, '시켰습니다': 4679, '시켰어요': 4680, '시큐리티': 4681, '시키겠습니다': 4682, '시키고': 4683, '시키기': 4684, '시키는': 4685, '시키면': 4686, '시키지': 4687, '시키지는': 4688, '시킬': 4689, '시킵니다': 4690, '시티': 4691, '시행': 4692, '시험': 4693, '시험관': 4694, '식': 4695, '식기': 4696, '식단': 4697, '식당': 4698, '식물': 4699, '식사': 4700, '식이': 4701, '식초': 4702, '식탁': 4703, '식품': 4704, '신': 4705, '신간': 4706, '신경': 4707, '신고': 4708, '신곡': 4709, '신규': 4710, '신나요': 4711, '신는': 4712, '신디케이트': 4713, '신랑': 4714, '신뢰': 4715, '신문': 4716, '신발': 4717, '신부': 4718, '신분': 4719, '신분증': 4720, '신비로운': 4721, '신사': 4722, '신생': 4723, '신선하고': 4724, '신선한': 4725, '신세대': 4726, '신속하게': 4727, '신속하고': 4728, '신속한': 4729, '신용': 4730, '신용등급': 4731, '신용장': 4732, '신용카드': 4733, '신원': 4734, '신입': 4735, '신입사원': 4736, '신입생': 4737, '신제품': 4738, '신종교': 4739, '신중': 4740, '신지': 4741, '신청': 4742, '신청서': 4743, '신체': 4744, '신탁': 4745, '신호': 4746, '신흥': 4747, '싣고': 4748, '실': 4749, '실내': 4750, '실력': 4751, '실례': 4752, '실로': 4753, '실린더': 4754, '실망': 4755, '실망하신': 4756, '실망했습니다': 4757, '실버': 4758, '실사': 4759, '실생활': 4760, '실수': 4761, '실시': 4762, '실시간': 4763, '실업자': 4764, '실외': 4765, '실용': 4766, '실적': 4767, '실제': 4768, '실질': 4769, '실천': 4770, '실크': 4771, '실패': 4772, '실패하지': 4773, '실행': 4774, '실험': 4775, '실험실': 4776, '실현': 4777, '싫어요': 4778, '싫어한다고': 4779, '싫어합니다': 4780, '심': 4781, '심각하게': 4782, '심각한': 4783, '심각해서': 4784, '심기': 4785, '심란합니다': 4786, '심박': 4787, '심장': 4788, '심지어': 4789, '심하겠습니다': 4790, '심하면': 4791, '심하세요': 4792, '심하시길': 4793, '심할': 4794, '십': 4795, '십대': 4796, '싱가포르': 4797, '싱가폴': 4798, '싱글': 4799, '싱글룸': 4800, '싶고': 4801, '싶기': 4802, '싶나요': 4803, '싶네요': 4804, '싶다고': 4805, '싶다는': 4806, '싶다면': 4807, '싶습니까': 4808, '싶습니다': 4809, '싶습니다만': 4810, '싶어': 4811, '싶어서': 4812, '싶어서요': 4813, '싶어요': 4814, '싶어졌습니다': 4815, '싶어지면': 4816, '싶어하나요': 4817, '싶어하는': 4818, '싶었기': 4819, '싶었는데': 4820, '싶었던': 4821, '싶었습니다': 4822, '싶었어요': 4823, '싶었을': 4824, '싶으': 4825, '싶으니': 4826, '싶으면': 4827, '싶으므로': 4828, '싶으세요': 4829, '싶으셨나': 4830, '싶으셨나요': 4831, '싶으시다면': 4832, '싶으시면': 4833, '싶으신': 4834, '싶으십니까': 4835, '싶은': 4836, '싶은가요': 4837, '싶은데': 4838, '싶은데요': 4839, '싶은지': 4840, '싶은지는': 4841, '싶은지에': 4842, '싶을': 4843, '싶지': 4844, '싶지는': 4845, '싶지만': 4846, '싸게': 4847, '싸고': 4848, '싸니까': 4849, '싸우고': 4850, '싸주세요': 4851, '싼': 4852, '쌀': 4853, '쌈': 4854, '쌈밥': 4855, '쌈장': 4856, '쌍': 4857, '쌓는': 4858, '쌓여': 4859, '쌓여있습니다': 4860, '쌓은': 4861, '쌓이고': 4862, '쌓이다': 4863, '써': 4864, '써야': 4865, '써요': 4866, '썼기': 4867, '쓰게': 4868, '쓰고': 4869, '쓰레기통': 4870, '쓰실': 4871, '쓰였습니다': 4872, '쓰지': 4873, '쓴': 4874, '쓸': 4875, '쓸모': 4876, '씁니다': 4877, '씨': 4878, '씩': 4879, '씹어': 4880, '아': 4881, '아기': 4882, '아깝지만': 4883, '아끼지': 4884, '아나운서': 4885, '아내': 4886, '아뇨': 4887, '아늑함과': 4888, '아는': 4889, '아니': 4890, '아니겠죠': 4891, '아니고': 4892, '아니기': 4893, '아니길': 4894, '아니네요': 4895, '아니라': 4896, '아니라고': 4897, '아니라는': 4898, '아니라면': 4899, '아니면': 4900, '아니었': 4901, '아니었습니다': 4902, '아니에요': 4903, '아니예요': 4904, '아니오': 4905, '아니요': 4906, '아니죠': 4907, '아니지만': 4908, '아닌': 4909, '아닌가요': 4910, '아닌지': 4911, '아닌지에': 4912, '아닐': 4913, '아닐까': 4914, '아님': 4915, '아닙니다': 4916, '아동': 4917, '아들': 4918, '아래': 4919, '아로마': 4920, '아르헨티나': 4921, '아름다운': 4922, '아름다운데': 4923, '아름답거든요': 4924, '아름답다고': 4925, '아름답습니다': 4926, '아마': 4927, '아마도': 4928, '아무': 4929, '아무나': 4930, '아무런': 4931, '아무리': 4932, '아무튼': 4933, '아바타': 4934, '아빠': 4935, '아세요': 4936, '아쉽게도': 4937, '아쉽긴': 4938, '아쉽네요': 4939, '아스파라거스': 4940, '아스팔트': 4941, '아시겠죠': 4942, '아시나요': 4943, '아시네요': 4944, '아시다시피': 4945, '아시아': 4946, '아실': 4947, '아십니까': 4948, '아웃소싱': 4949, '아이': 4950, '아이덴티티': 4951, '아이돌': 4952, '아이디': 4953, '아이디어': 4954, '아이스크림': 4955, '아이콘': 4956, '아이템': 4957, '아주': 4958, '아직': 4959, '아직도': 4960, '아침': 4961, '아침식사': 4962, '아키텍처': 4963, '아트': 4964, '아트워크': 4965, '아트웍': 4966, '아티스트': 4967, '아파요': 4968, '아파트': 4969, '아프리카': 4970, '악': 4971, '악기': 4972, '악성코드': 4973, '악세사리': 4974, '악수': 4975, '악행': 4976, '악화': 4977, '안': 4978, '안건': 4979, '안나': 4980, '안내': 4981, '안내받으실': 4982, '안내받을': 4983, '안녕': 4984, '안녕하세요': 4985, '안녕하신가요': 4986, '안녕히': 4987, '안다': 4988, '안됩니다': 4989, '안드로이드': 4990, '안방': 4991, '안성맞춤': 4992, '안심': 4993, '안이': 4994, '안전': 4995, '안전성': 4996, '안전하게': 4997, '안전하고': 4998, '안전하다고': 4999, '안전하다는': 5000, '안전한': 5001, '안전한가요': 5002, '안전한지': 5003, '안전할까': 5004, '안전합니다': 5005, '안전해요': 5006, '안전해질': 5007, '안정': 5008, '안좋았습니다': 5009, '안타깝게도': 5010, '안타깝지만': 5011, '안테나': 5012, '안티바이러스': 5013, '안팎': 5014, '앉아': 5015, '앉아계실': 5016, '앉아서': 5017, '앉아야': 5018, '앉아요': 5019, '앉을': 5020, '않': 5021, '않거나': 5022, '않고': 5023, '않기': 5024, '않기로': 5025, '않기를': 5026, '않나요': 5027, '않네요': 5028, '않는': 5029, '않는다고': 5030, '않는다는': 5031, '않는다면': 5032, '않는데': 5033, '않는지': 5034, '않다': 5035, '않다고': 5036, '않다는': 5037, '않도록': 5038, '않습니까': 5039, '않습니다': 5040, '않아': 5041, '않아도': 5042, '않아서': 5043, '않아서요': 5044, '않아야': 5045, '않아요': 5046, '않았고': 5047, '않았기': 5048, '않았나요': 5049, '않았는데요': 5050, '않았는지': 5051, '않았다': 5052, '않았다고': 5053, '않았다는': 5054, '않았다면': 5055, '않았던': 5056, '않았습니까': 5057, '않았습니다': 5058, '않았어요': 5059, '않았었어요': 5060, '않았으면': 5061, '않았을': 5062, '않았지만': 5063, '않으니': 5064, '않으니까': 5065, '않으려고': 5066, '않으려면': 5067, '않으며': 5068, '않으면': 5069, '않으므로': 5070, '않으셔도': 5071, '않으셨어요': 5072, '않으셨으면': 5073, '않으셨잖아요': 5074, '않으시나요': 5075, '않으시면': 5076, '않으실': 5077, '않은': 5078, '않은데': 5079, '않을': 5080, '않을까': 5081, '않을까요': 5082, '않죠': 5083, '않지만': 5084, '알': 5085, '알겠습니다': 5086, '알겠습니다만': 5087, '알겠어요': 5088, '알겠죠': 5089, '알겠지만': 5090, '알고는': 5091, '알고리즘': 5092, '알고자': 5093, '알기': 5094, '알람': 5095, '알레르기': 5096, '알려': 5097, '알려야': 5098, '알려주거든요': 5099, '알려주고': 5100, '알려주는': 5101, '알려주세요': 5102, '알려주셔서': 5103, '알려주셔야': 5104, '알려주셨어야죠': 5105, '알려주셨으면': 5106, '알려주시겠나요': 5107, '알려주시겠습니까': 5108, '알려주시겠어요': 5109, '알려주시기': 5110, '알려주시길': 5111, '알려주시면': 5112, '알려주신': 5113, '알려주실': 5114, '알려주실래요': 5115, '알려주십시오': 5116, '알려주었습니다': 5117, '알려줄': 5118, '알려줄래요': 5119, '알려줘서': 5120, '알려진': 5121, '알루미늄': 5122, '알리기': 5123, '알리는': 5124, '알리세요': 5125, '알릴': 5126, '알림': 5127, '알수': 5128, '알아가는': 5129, '알아내는': 5130, '알아낸': 5131, '알아도': 5132, '알아듣': 5133, '알아보겠습니다': 5134, '알아보고': 5135, '알아보기': 5136, '알아보기로': 5137, '알아보도록': 5138, '알아보려고': 5139, '알아보십시오': 5140, '알아볼': 5141, '알아봤으니': 5142, '알아야': 5143, '알아야겠습니다': 5144, '알아요': 5145, '알아차렸습니다': 5146, '알아챘습니다': 5147, '알았는데': 5148, '알았는데요': 5149, '알았습니다': 5150, '알았어요': 5151, '알았으니': 5152, '알았죠': 5153, '알약': 5154, '알칼리성': 5155, '암': 5156, '암석': 5157, '암스테르담': 5158, '암호': 5159, '압니': 5160, '압도': 5161, '압력': 5162, '압축': 5163, '압축기': 5164, '압출기': 5165, '았습니': 5166, '앙': 5167, '앞': 5168, '앞두고': 5169, '앞서': 5170, '앞치마': 5171, '애': 5172, '애니메이션': 5173, '애니메이터': 5174, '애비뉴': 5175, '애완동물': 5176, '애프터': 5177, '애플리케이션': 5178, '애피타이저': 5179, '액': 5180, '액세서리': 5181, '액세스': 5182, '액션': 5183, '액체': 5184, '앤': 5185, '앨범': 5186, '앰버': 5187, '앰뷸런스': 5188, '앰프': 5189, '앱': 5190, '앵글': 5191, '앵커': 5192, '야': 5193, '야간': 5194, '야구장': 5195, '야금': 5196, '야단법석': 5197, '야생': 5198, '야식': 5199, '야영지': 5200, '야외': 5201, '야유회': 5202, '야채': 5203, '야합': 5204, '약': 5205, '약간': 5206, '약관': 5207, '약물': 5208, '약속': 5209, '약자': 5210, '약점': 5211, '약정': 5212, '약한': 5213, '얇은': 5214, '양': 5215, '양념': 5216, '양념장': 5217, '양도': 5218, '양립': 5219, '양말': 5220, '양사': 5221, '양식': 5222, '양자': 5223, '양초': 5224, '양해': 5225, '양호': 5226, '얘기': 5227, '어': 5228, '어긋납니다': 5229, '어기': 5230, '어느': 5231, '어댑터': 5232, '어디': 5233, '어디서': 5234, '어때요': 5235, '어떠세요': 5236, '어떠셨죠': 5237, '어떠신': 5238, '어떠십니까': 5239, '어떠한': 5240, '어떡하죠': 5241, '어떤': 5242, '어떤게': 5243, '어떤지': 5244, '어떨까': 5245, '어떻': 5246, '어떻게': 5247, '어떻겠습니까': 5248, '어떻습니까': 5249, '어려우실': 5250, '어려운지': 5251, '어려울': 5252, '어려움': 5253, '어려워요': 5254, '어려웠습니다': 5255, '어려웠어요': 5256, '어려웠지만': 5257, '어렵게': 5258, '어렵고': 5259, '어렵네요': 5260, '어렵다는': 5261, '어렵습니다': 5262, '어렵지만': 5263, '어르신': 5264, '어른': 5265, '어리다는': 5266, '어린': 5267, '어린이': 5268, '어머니': 5269, '어메니티': 5270, '어묵': 5271, '어보': 5272, '어서': 5273, '어우러집니다': 5274, '어울릴': 5275, '어울릴까': 5276, '어제': 5277, '어젯밤': 5278, '어조': 5279, '어쨌든': 5280, '어쩌': 5281, '어쩐': 5282, '어쩔': 5283, '어치': 5284, '어플': 5285, '어필': 5286, '어휘': 5287, '언': 5288, '언급': 5289, '언니': 5290, '언덕': 5291, '언론': 5292, '언박싱': 5293, '언어': 5294, '언제': 5295, '언제나': 5296, '언젠가': 5297, '얻고': 5298, '얻고자': 5299, '얻기': 5300, '얻는': 5301, '얻는다는': 5302, '얻습니다': 5303, '얻어야': 5304, '얻어요': 5305, '얻었는지': 5306, '얻었어요': 5307, '얻었을': 5308, '얻으면': 5309, '얻으세요': 5310, '얻으시길': 5311, '얻으실': 5312, '얻은': 5313, '얻을': 5314, '얼': 5315, '얼굴': 5316, '얼리': 5317, '얼마': 5318, '얼마나': 5319, '엄격하게': 5320, '엄격한': 5321, '엄격함은': 5322, '엄격합니다': 5323, '엄선': 5324, '엄수': 5325, '엄청': 5326, '엄청나게': 5327, '엄청나네요': 5328, '엄청난': 5329, '업계': 5330, '업그레이드': 5331, '업데이트': 5332, '업로드': 5333, '업무': 5334, '업자': 5335, '업주': 5336, '업체': 5337, '없': 5338, '없거든요': 5339, '없고': 5340, '없기': 5341, '없기를': 5342, '없길': 5343, '없나요': 5344, '없네요': 5345, '없는': 5346, '없는데': 5347, '없는데요': 5348, '없는지': 5349, '없다': 5350, '없다고': 5351, '없다는': 5352, '없다면': 5353, '없더라고요': 5354, '없도록': 5355, '없습니까': 5356, '없습니다': 5357, '없애면': 5358, '없애주는': 5359, '없어': 5360, '없어도': 5361, '없어서': 5362, '없어야': 5363, '없어요': 5364, '없었고': 5365, '없었기': 5366, '없었나요': 5367, '없었다면': 5368, '없었답니다': 5369, '없었습니다': 5370, '없었어요': 5371, '없었을': 5372, '없었죠': 5373, '없으니': 5374, '없으니까': 5375, '없으며': 5376, '없으면': 5377, '없으셔도': 5378, '없으신': 5379, '없으실까': 5380, '없으십니까': 5381, '없을': 5382, '없을까요': 5383, '없을지도': 5384, '없이': 5385, '없이는': 5386, '없죠': 5387, '없지만': 5388, '엇갈린': 5389, '엉': 5390, '에': 5391, '에게': 5392, '에게나': 5393, '에게는': 5394, '에게도': 5395, '에게만': 5396, '에게서': 5397, '에겐': 5398, '에너지': 5399, '에는': 5400, '에다가': 5401, '에도': 5402, '에든': 5403, '에러': 5404, '에만': 5405, '에멀션': 5406, '에멀젼': 5407, '에메랄드': 5408, '에밀리': 5409, '에서': 5410, '에서나': 5411, '에서는': 5412, '에서도': 5413, '에서만': 5414, '에서부터': 5415, '에서의': 5416, '에센셜': 5417, '에어': 5418, '에어컨': 5419, '에요': 5420, '에이전시': 5421, '에이전트': 5422, '에코': 5423, '에티켓': 5424, '에피소드': 5425, '엑세스': 5426, '엑스레이': 5427, '엑스포': 5428, '엔': 5429, '엔드': 5430, '엔젤': 5431, '엔지니어': 5432, '엔지니어링': 5433, '엔진': 5434, '엔터테인먼트': 5435, '엠보싱': 5436, '여': 5437, '여겨지지': 5438, '여권': 5439, '여기': 5440, '여기는': 5441, '여긴': 5442, '여느': 5443, '여드름': 5444, '여러': 5445, '여러분': 5446, '여름': 5447, '여보': 5448, '여보세요': 5449, '여부': 5450, '여분': 5451, '여사': 5452, '여서': 5453, '여성': 5454, '여야': 5455, '여유': 5456, '여자': 5457, '여전히': 5458, '여지': 5459, '여쭤': 5460, '여행': 5461, '여행사': 5462, '여행자': 5463, '역': 5464, '역사': 5465, '역서': 5466, '역시': 5467, '역외': 5468, '역할': 5469, '연': 5470, '연간': 5471, '연결': 5472, '연결하는': 5473, '연결하려면': 5474, '연결할': 5475, '연결해': 5476, '연관': 5477, '연구': 5478, '연구개발': 5479, '연구소': 5480, '연기': 5481, '연다': 5482, '연달': 5483, '연동': 5484, '연락': 5485, '연락처': 5486, '연령': 5487, '연례': 5488, '연료': 5489, '연마': 5490, '연말': 5491, '연민': 5492, '연방': 5493, '연봉': 5494, '연비': 5495, '연사': 5496, '연수': 5497, '연장': 5498, '연중': 5499, '연체': 5500, '연회': 5501, '연휴': 5502, '열': 5503, '열겠습니다': 5504, '열고': 5505, '열광': 5506, '열기': 5507, '열람': 5508, '열려': 5509, '열려면': 5510, '열려있죠': 5511, '열렸나요': 5512, '열리나요': 5513, '열리는': 5514, '열리는지': 5515, '열린': 5516, '열릴': 5517, '열립니다': 5518, '열면': 5519, '열쇠': 5520, '열심히': 5521, '열악한': 5522, '열어': 5523, '열정': 5524, '열지': 5525, '열차': 5526, '염두': 5527, '염려': 5528, '염색': 5529, '엽': 5530, '였고요': 5531, '였기': 5532, '였나요': 5533, '였습니다': 5534, '였어요': 5535, '였으니': 5536, '였으며': 5537, '였으면': 5538, '였죠': 5539, '영': 5540, '영감': 5541, '영광': 5542, '영구': 5543, '영국': 5544, '영리한': 5545, '영상': 5546, '영상통화': 5547, '영수증': 5548, '영양': 5549, '영어': 5550, '영업': 5551, '영업일': 5552, '영역': 5553, '영원히': 5554, '영진': 5555, '영향': 5556, '영향력': 5557, '영화': 5558, '옆': 5559, '예': 5560, '예견': 5561, '예고편': 5562, '예금': 5563, '예방': 5564, '예배': 5565, '예쁜': 5566, '예산': 5567, '예산안': 5568, '예상': 5569, '예술': 5570, '예술가': 5571, '예약': 5572, '예요': 5573, '예의': 5574, '예입': 5575, '예전': 5576, '예절': 5577, '예정': 5578, '예정일': 5579, '예측': 5580, '옐로나이프': 5581, '오': 5582, '오겠습니다': 5583, '오길': 5584, '오나요': 5585, '오는': 5586, '오는지': 5587, '오늘': 5588, '오늘날': 5589, '오늘이': 5590, '오디오': 5591, '오락가락': 5592, '오래': 5593, '오래되셨죠': 5594, '오래되어': 5595, '오래되었습니다': 5596, '오래되지': 5597, '오래된': 5598, '오랜': 5599, '오랫동안': 5600, '오렌지': 5601, '오류': 5602, '오르고': 5603, '오르나요': 5604, '오른': 5605, '오른쪽': 5606, '오리엔테이션': 5607, '오면': 5608, '오버': 5609, '오븐': 5610, '오세요': 5611, '오셔서': 5612, '오셨나요': 5613, '오셨다고': 5614, '오셨습니다': 5615, '오셨어요': 5616, '오스': 5617, '오시': 5618, '오시나요': 5619, '오신': 5620, '오신다고': 5621, '오실': 5622, '오용': 5623, '오일': 5624, '오일도': 5625, '오전': 5626, '오지': 5627, '오직': 5628, '오징어': 5629, '오토': 5630, '오프': 5631, '오프라인': 5632, '오픈': 5633, '오피스': 5634, '오하이오주': 5635, '오해': 5636, '오후': 5637, '오히려': 5638, '옥': 5639, '옥상': 5640, '옥집': 5641, '온': 5642, '온도': 5643, '온돌': 5644, '온라인': 5645, '온라인과': 5646, '온스': 5647, '온천': 5648, '온타리오': 5649, '올': 5650, '올게요': 5651, '올라가는': 5652, '올라갈': 5653, '올라갑니다': 5654, '올랐습니까': 5655, '올랐습니다': 5656, '올려': 5657, '올려놓고': 5658, '올려요': 5659, '올려주세요': 5660, '올려주시고요': 5661, '올려주신': 5662, '올려줘요': 5663, '올렸고': 5664, '올렸습니다': 5665, '올렸어요': 5666, '올리겠습니다': 5667, '올리고': 5668, '올리는': 5669, '올리려고': 5670, '올리려면': 5671, '올리면': 5672, '올리셨더군요': 5673, '올린': 5674, '올릴': 5675, '올릴지': 5676, '올바르게': 5677, '올바른': 5678, '올바른지': 5679, '올테니': 5680, '올해': 5681, '옮겼습니다': 5682, '옮기고': 5683, '옮길': 5684, '옳다': 5685, '옴': 5686, '옵니다': 5687, '옵션': 5688, '옷': 5689, '옷장': 5690, '와': 5691, '와는': 5692, '와도': 5693, '와서': 5694, '와셔': 5695, '와셔를': 5696, '와우': 5697, '와의': 5698, '와이어': 5699, '와이파이': 5700, '와인': 5701, '와주세요': 5702, '와주셔서': 5703, '와트': 5704, '완납': 5705, '완료': 5706, '완벽하게': 5707, '완벽하네요': 5708, '완벽한': 5709, '완벽합니다': 5710, '완벽해요': 5711, '완비': 5712, '완성': 5713, '완전': 5714, '완전한': 5715, '완전히': 5716, '완화': 5717, '왓츠앱': 5718, '왔고': 5719, '왔는데': 5720, '왔는지도': 5721, '왔던': 5722, '왔습니다': 5723, '왔어요': 5724, '왔을': 5725, '왕복': 5726, '왕새우': 5727, '왜': 5728, '왜냐면': 5729, '왜냐하면': 5730, '외': 5731, '외관': 5732, '외국': 5733, '외국인': 5734, '외부': 5735, '외용': 5736, '외주': 5737, '외출': 5738, '외향': 5739, '외화': 5740, '외환은행': 5741, '왼쪽': 5742, '요': 5743, '요건': 5744, '요격': 5745, '요구': 5746, '요구사항': 5747, '요금': 5748, '요리': 5749, '요리법': 5750, '요리사': 5751, '요법': 5752, '요소': 5753, '요약': 5754, '요원': 5755, '요인': 5756, '요점': 5757, '요즘': 5758, '요청': 5759, '요크셔': 5760, '요트': 5761, '욕구': 5762, '욕실': 5763, '욕조': 5764, '용': 5765, '용건': 5766, '용납': 5767, '용도': 5768, '용량': 5769, '용무': 5770, '용법': 5771, '용어': 5772, '용의': 5773, '용이': 5774, '용이하게': 5775, '용이해졌습니다': 5776, '용인': 5777, '용지였으면': 5778, '용판': 5779, '용품': 5780, '우': 5781, '우드': 5782, '우려': 5783, '우리': 5784, '우리나라': 5785, '우리은행': 5786, '우린': 5787, '우산': 5788, '우선': 5789, '우수하기': 5790, '우수한': 5791, '우승자': 5792, '우아한': 5793, '우여곡절': 5794, '우연히': 5795, '우와': 5796, '우위': 5797, '우유': 5798, '우주': 5799, '우크라이나': 5800, '우편': 5801, '우편물': 5802, '운': 5803, '운동': 5804, '운반': 5805, '운송': 5806, '운송업': 5807, '운영': 5808, '운영자': 5809, '운영체제': 5810, '운용': 5811, '운전': 5812, '운전기사': 5813, '운전자': 5814, '운하': 5815, '울렸고': 5816, '울리는': 5817, '울산': 5818, '움직이기': 5819, '움직이는': 5820, '움직일': 5821, '움직임': 5822, '웃음': 5823, '웅장': 5824, '워': 5825, '워드': 5826, '워치': 5827, '워크샵': 5828, '워크숍': 5829, '워터': 5830, '원': 5831, '원격': 5832, '원고': 5833, '원금': 5834, '원래': 5835, '원리': 5836, '원본': 5837, '원사': 5838, '원스톱': 5839, '원심': 5840, '원심분리기': 5841, '원인': 5842, '원장': 5843, '원점': 5844, '원주공항': 5845, '원칙': 5846, '원통': 5847, '원하고': 5848, '원하기': 5849, '원하는': 5850, '원하는만큼': 5851, '원하는지': 5852, '원하세요': 5853, '원하시고': 5854, '원하시나요': 5855, '원하시는': 5856, '원하시는지': 5857, '원하시면': 5858, '원하신다고': 5859, '원하신다면': 5860, '원하실': 5861, '원하십니까': 5862, '원하지': 5863, '원한다면': 5864, '원할': 5865, '원합니다': 5866, '원해서': 5867, '원해요': 5868, '원했다': 5869, '원했습니다': 5870, '원했었죠': 5871, '원화': 5872, '원화도': 5873, '원활하게': 5874, '원활하지': 5875, '원활한': 5876, '월': 5877, '월간': 5878, '월급': 5879, '월말': 5880, '월세': 5881, '월요일': 5882, '웜': 5883, '웠습': 5884, '웨딩': 5885, '웨비': 5886, '웨어': 5887, '웨이터': 5888, '웨이퍼': 5889, '웹': 5890, '웹디자인': 5891, '웹사이트': 5892, '웹캐스트': 5893, '웹페이지': 5894, '위': 5895, '위로': 5896, '위반': 5897, '위생': 5898, '위성': 5899, '위안': 5900, '위치': 5901, '위탁': 5902, '위태롭': 5903, '위태롭기': 5904, '위함': 5905, '위해': 5906, '위험': 5907, '위험하거나': 5908, '위험한': 5909, '위험합니까': 5910, '위협': 5911, '윗': 5912, '윗사람': 5913, '유가': 5914, '유감': 5915, '유감스럽게': 5916, '유기': 5917, '유기농': 5918, '유닛': 5919, '유동': 5920, '유럽': 5921, '유로': 5922, '유료': 5923, '유르트': 5924, '유리한': 5925, '유리합니다': 5926, '유망': 5927, '유머': 5928, '유명': 5929, '유명인사': 5930, '유명하게': 5931, '유명하다고': 5932, '유명하죠': 5933, '유명한': 5934, '유명합니다': 5935, '유명해지고자': 5936, '유사한': 5937, '유산': 5938, '유선': 5939, '유아': 5940, '유압': 5941, '유연성': 5942, '유연하며': 5943, '유연한': 5944, '유예': 5945, '유용하지': 5946, '유용한': 5947, '유용할': 5948, '유의': 5949, '유익한': 5950, '유인': 5951, '유인물': 5952, '유일한': 5953, '유전': 5954, '유제품': 5955, '유지': 5956, '유치하고': 5957, '유치하기': 5958, '유통': 5959, '유통업': 5960, '유통업체': 5961, '유틸리티': 5962, '유학': 5963, '유학생': 5964, '유해한': 5965, '유행': 5966, '유행병': 5967, '유형': 5968, '유효': 5969, '유효한': 5970, '유효합니다': 5971, '육류': 5972, '육성': 5973, '육수': 5974, '육지': 5975, '육회': 5976, '윤리': 5977, '율': 5978, '율기': 5979, '융자': 5980, '융통성': 5981, '으로': 5982, '으로는': 5983, '으로도': 5984, '으로만': 5985, '으로부터': 5986, '으로서': 5987, '으로서는': 5988, '으로써': 5989, '으로의': 5990, '은': 5991, '은은하고': 5992, '은퇴': 5993, '은행': 5994, '은행원': 5995, '을': 5996, '음': 5997, '음료': 5998, '음료수': 5999, '음반': 6000, '음반사': 6001, '음성': 6002, '음식': 6003, '음식점': 6004, '음악': 6005, '음원': 6006, '음질': 6007, '음향': 6008, '음향효과': 6009, '응': 6010, '응급': 6011, '응답': 6012, '응대': 6013, '응용': 6014, '응원': 6015, '의': 6016, '의견': 6017, '의논': 6018, '의도': 6019, '의뢰': 6020, '의료': 6021, '의류': 6022, '의무': 6023, '의문': 6024, '의미': 6025, '의사': 6026, '의사소통': 6027, '의상': 6028, '의식': 6029, '의심': 6030, '의심스러운': 6031, '의약품': 6032, '의원': 6033, '의자': 6034, '의존': 6035, '의하면': 6036, '의해': 6037, '의해서도': 6038, '의향': 6039, '의회': 6040, '이': 6041, '이건': 6042, '이겠네요': 6043, '이고': 6044, '이기': 6045, '이기도': 6046, '이끌어': 6047, '이나': 6048, '이내': 6049, '이네': 6050, '이는': 6051, '이니': 6052, '이니까': 6053, '이다': 6054, '이대로': 6055, '이동': 6056, '이동식': 6057, '이동해': 6058, '이드': 6059, '이득': 6060, '이든': 6061, '이따': 6062, '이라': 6063, '이라고': 6064, '이라고도': 6065, '이라기': 6066, '이라는': 6067, '이라도': 6068, '이라면요': 6069, '이라서': 6070, '이란': 6071, '이랑': 6072, '이러한': 6073, '이런': 6074, '이렇게': 6075, '이력서': 6076, '이로': 6077, '이루어졌는지': 6078, '이루어지고': 6079, '이루어집니다': 6080, '이뤄지지': 6081, '이르기까지': 6082, '이른': 6083, '이를': 6084, '이름': 6085, '이만': 6086, '이메일': 6087, '이며': 6088, '이면': 6089, '이목': 6090, '이므로': 6091, '이미': 6092, '이미지': 6093, '이민자': 6094, '이번': 6095, '이벤트': 6096, '이보': 6097, '이불': 6098, '이브': 6099, '이사': 6100, '이사회': 6101, '이상': 6102, '이상은': 6103, '이서': 6104, '이세': 6105, '이송': 6106, '이수': 6107, '이슈': 6108, '이식': 6109, '이신': 6110, '이십': 6111, '이싼': 6112, '이야': 6113, '이야기': 6114, '이어': 6115, '이어서': 6116, '이어야': 6117, '이어질': 6118, '이어집니다': 6119, '이었고': 6120, '이었기': 6121, '이었나요': 6122, '이었는지': 6123, '이었던': 6124, '이었습니까': 6125, '이었습니다': 6126, '이었어요': 6127, '이었으면': 6128, '이었죠': 6129, '이었지만': 6130, '이에요': 6131, '이외': 6132, '이요': 6133, '이용': 6134, '이용자': 6135, '이웃': 6136, '이유': 6137, '이율': 6138, '이음': 6139, '이의': 6140, '이익': 6141, '이자': 6142, '이자율': 6143, '이장': 6144, '이전': 6145, '이점': 6146, '이정표': 6147, '이제': 6148, '이중': 6149, '이중과세': 6150, '이지': 6151, '이지만': 6152, '이집트': 6153, '이체': 6154, '이탈': 6155, '이탈리아': 6156, '이탈리아어': 6157, '이틀': 6158, '이해': 6159, '이해만': 6160, '이해해': 6161, '이행': 6162, '이후': 6163, '익숙하지': 6164, '익숙하지가': 6165, '익숙한': 6166, '익숙해요': 6167, '익숙해져서': 6168, '익숙해지시는': 6169, '익스텐더': 6170, '익일': 6171, '익히고': 6172, '익힙니다': 6173, '인': 6174, '인가': 6175, '인가요': 6176, '인간': 6177, '인건비': 6178, '인걸': 6179, '인공': 6180, '인구': 6181, '인기': 6182, '인내': 6183, '인내심': 6184, '인당': 6185, '인데': 6186, '인데요': 6187, '인덱스': 6188, '인도': 6189, '인도네시아': 6190, '인들': 6191, '인력': 6192, '인명': 6193, '인보이스': 6194, '인분': 6195, '인사': 6196, '인삼': 6197, '인상': 6198, '인생': 6199, '인센티브': 6200, '인쇄': 6201, '인쇄기': 6202, '인쇄판': 6203, '인수': 6204, '인스턴트': 6205, '인식': 6206, '인용': 6207, '인원': 6208, '인정': 6209, '인정받는': 6210, '인조섬유': 6211, '인증': 6212, '인증서': 6213, '인지': 6214, '인지도': 6215, '인천': 6216, '인치': 6217, '인코딩': 6218, '인큐베이터': 6219, '인터': 6220, '인터넷': 6221, '인터뷰': 6222, '인터페이스': 6223, '인턴': 6224, '인테리어': 6225, '인파': 6226, '인포그래픽': 6227, '인프라': 6228, '인플레이션': 6229, '인플레이션율': 6230, '인하': 6231, '인한': 6232, '인할': 6233, '인해': 6234, '일': 6235, '일과': 6236, '일관': 6237, '일까': 6238, '일단': 6239, '일러스트': 6240, '일러스트레이션': 6241, '일련': 6242, '일련번호': 6243, '일로': 6244, '일류': 6245, '일반': 6246, '일반인': 6247, '일별': 6248, '일본': 6249, '일본어': 6250, '일부': 6251, '일부러': 6252, '일산': 6253, '일상': 6254, '일상생활': 6255, '일수': 6256, '일시': 6257, '일어나고': 6258, '일어나길': 6259, '일어나는': 6260, '일어나죠': 6261, '일어나지': 6262, '일어날지': 6263, '일어났는지': 6264, '일요일': 6265, '일으켰기': 6266, '일으켰나요': 6267, '일으키고': 6268, '일으키는': 6269, '일으킨': 6270, '일이': 6271, '일인': 6272, '일일': 6273, '일자리': 6274, '일정': 6275, '일정하고': 6276, '일정한': 6277, '일종': 6278, '일주일': 6279, '일찍': 6280, '일체': 6281, '일치': 6282, '일해': 6283, '일행': 6284, '일환': 6285, '일회용': 6286, '읽거나': 6287, '읽게': 6288, '읽고': 6289, '읽기': 6290, '읽는': 6291, '읽어': 6292, '읽어요': 6293, '읽어주셔서': 6294, '읽었고': 6295, '읽었습니다': 6296, '읽었어요': 6297, '읽으셔도': 6298, '읽은': 6299, '읽을': 6300, '읽지': 6301, '잃어버렸어요': 6302, '잃어버리도록': 6303, '잃어버린': 6304, '잃어서': 6305, '잃었습니다': 6306, '잃었을': 6307, '잃을': 6308, '잃지': 6309, '임': 6310, '임기': 6311, '임대': 6312, '임대료': 6313, '임무': 6314, '임박': 6315, '임베디드': 6316, '임상시험': 6317, '임시': 6318, '임원': 6319, '임원진': 6320, '임의': 6321, '임차': 6322, '임펠러': 6323, '입': 6324, '입고': 6325, '입고를': 6326, '입금': 6327, '입니다': 6328, '입니다만': 6329, '입력': 6330, '입맛': 6331, '입사': 6332, '입안': 6333, '입원': 6334, '입으세요': 6335, '입으셨다는': 6336, '입은': 6337, '입자': 6338, '입장': 6339, '입장료': 6340, '입주': 6341, '입지': 6342, '입찰': 6343, '입출': 6344, '입학': 6345, '있': 6346, '있거든요': 6347, '있게': 6348, '있겠고': 6349, '있겠군요': 6350, '있겠니': 6351, '있겠습니까': 6352, '있겠습니다': 6353, '있겠어요': 6354, '있겠죠': 6355, '있겠지만': 6356, '있고': 6357, '있고싶어요': 6358, '있고요': 6359, '있군요': 6360, '있기': 6361, '있기를': 6362, '있기에': 6363, '있길': 6364, '있나요': 6365, '있네요': 6366, '있는': 6367, '있는거죠': 6368, '있는데': 6369, '있는데도': 6370, '있는데요': 6371, '있는지': 6372, '있는지만': 6373, '있는지에': 6374, '있다': 6375, '있다고': 6376, '있다고요': 6377, '있다는': 6378, '있다니': 6379, '있다면': 6380, '있다면서요': 6381, '있단다': 6382, '있답니다': 6383, '있더군요': 6384, '있더라고요': 6385, '있던데요': 6386, '있도록': 6387, '있듯이': 6388, '있습니까': 6389, '있습니다': 6390, '있습니다만': 6391, '있어': 6392, '있어도': 6393, '있어서': 6394, '있어서요': 6395, '있어야': 6396, '있어요': 6397, '있었고': 6398, '있었나요': 6399, '있었는데': 6400, '있었는지': 6401, '있었는지에': 6402, '있었던': 6403, '있었습니까': 6404, '있었습니다': 6405, '있었어요': 6406, '있었으면': 6407, '있었을': 6408, '있었지만': 6409, '있으': 6410, '있으니': 6411, '있으니까': 6412, '있으려면': 6413, '있으며': 6414, '있으면': 6415, '있으므로': 6416, '있으세요': 6417, '있으시겠네요': 6418, '있으시다고': 6419, '있으시다면': 6420, '있으시면': 6421, '있으신': 6422, '있으실': 6423, '있으실까': 6424, '있으십니까': 6425, '있을': 6426, '있을게요': 6427, '있을까': 6428, '있을까요': 6429, '있을지': 6430, '있잖아요': 6431, '있죠': 6432, '있지': 6433, '있지는': 6434, '있지만': 6435, '잊어버렸습니다': 6436, '잊어버렸어요': 6437, '잊어버렸을': 6438, '잊지': 6439, '잎': 6440, '자': 6441, '자게': 6442, '자격': 6443, '자고': 6444, '자국': 6445, '자극': 6446, '자금': 6447, '자기': 6448, '자꾸': 6449, '자녀': 6450, '자는': 6451, '자동': 6452, '자동차': 6453, '자동화': 6454, '자라면': 6455, '자랐습니다': 6456, '자랑': 6457, '자랑스러운': 6458, '자로': 6459, '자료': 6460, '자르는': 6461, '자를': 6462, '자리': 6463, '자마자': 6464, '자막': 6465, '자문': 6466, '자본': 6467, '자사': 6468, '자산': 6469, '자서전': 6470, '자선단체': 6471, '자세한': 6472, '자세히': 6473, '자수': 6474, '자식': 6475, '자신': 6476, '자신감': 6477, '자야': 6478, '자연': 6479, '자연계': 6480, '자연어': 6481, '자영': 6482, '자원': 6483, '자유': 6484, '자유롭게': 6485, '자재': 6486, '자전거': 6487, '자주': 6488, '자질': 6489, '자체': 6490, '자쿠': 6491, '자쿠지': 6492, '자택': 6493, '자판기': 6494, '자회사': 6495, '작': 6496, '작가': 6497, '작고': 6498, '작곡가': 6499, '작기': 6500, '작년': 6501, '작동': 6502, '작문': 6503, '작성': 6504, '작습니다': 6505, '작업': 6506, '작용': 6507, '작은': 6508, '작품': 6509, '잔': 6510, '잔고': 6511, '잔금': 6512, '잔디': 6513, '잔액': 6514, '잘': 6515, '잘되': 6516, '잘라': 6517, '잘라내도록': 6518, '잘못': 6519, '잘해야': 6520, '잠': 6521, '잠금': 6522, '잠깐': 6523, '잠수': 6524, '잠시': 6525, '잠옷': 6526, '잠재': 6527, '잠재력': 6528, '잠정': 6529, '잡': 6530, '잡게': 6531, '잡기': 6532, '잡도록': 6533, '잡아': 6534, '잡아야': 6535, '잡아야지': 6536, '잡아주셔서': 6537, '잡아주시겠어요': 6538, '잡았나요': 6539, '잡았습니다': 6540, '잡으려고': 6541, '잡으면': 6542, '잡으실': 6543, '잡읍시다': 6544, '잡지': 6545, '잡채': 6546, '잡혀': 6547, '잡히면': 6548, '잡힌': 6549, '잤어요': 6550, '장': 6551, '장갑': 6552, '장거리': 6553, '장공': 6554, '장기': 6555, '장님': 6556, '장담': 6557, '장래': 6558, '장르': 6559, '장모님': 6560, '장바구니': 6561, '장벽': 6562, '장부': 6563, '장비': 6564, '장소': 6565, '장식': 6566, '장애': 6567, '장애물': 6568, '장애인': 6569, '장용': 6570, '장의': 6571, '장이': 6572, '장점': 6573, '장착': 6574, '장치': 6575, '장학금': 6576, '재': 6577, '재개': 6578, '재고': 6579, '재교육': 6580, '재난': 6581, '재능': 6582, '재단': 6583, '재료': 6584, '재무': 6585, '재무부': 6586, '재무제표': 6587, '재미': 6588, '재미있고': 6589, '재미있네요': 6590, '재미있습니다': 6591, '재미있어요': 6592, '재미있을': 6593, '재밌어야': 6594, '재밌었어': 6595, '재밌을': 6596, '재발': 6597, '재봉틀': 6598, '재사용': 6599, '재산': 6600, '재산권': 6601, '재생': 6602, '재워': 6603, '재정': 6604, '재택근무': 6605, '재해': 6606, '재활': 6607, '쟁기질': 6608, '저': 6609, '저녁': 6610, '저녁식사': 6611, '저렴하거나': 6612, '저렴하게': 6613, '저렴하기는': 6614, '저렴한': 6615, '저렴한가요': 6616, '저렴할': 6617, '저렴합니다': 6618, '저렴해요': 6619, '저만': 6620, '저만큼': 6621, '저명한': 6622, '저번': 6623, '저속': 6624, '저자': 6625, '저작권': 6626, '저작권법': 6627, '저장': 6628, '저절로': 6629, '저질러': 6630, '저쪽': 6631, '저축': 6632, '저항기': 6633, '저희': 6634, '적': 6635, '적게': 6636, '적격': 6637, '적극': 6638, '적기': 6639, '적다고': 6640, '적당하고': 6641, '적당한': 6642, '적당합니다': 6643, '적당히': 6644, '적도': 6645, '적립': 6646, '적습니다': 6647, '적어': 6648, '적어도': 6649, '적어야': 6650, '적용': 6651, '적응': 6652, '적이네요': 6653, '적자': 6654, '적재': 6655, '적절하게': 6656, '적절하고': 6657, '적절한': 6658, '적절할': 6659, '적절합니다': 6660, '적절히': 6661, '적정': 6662, '적합하기를': 6663, '적합하죠': 6664, '적합하지': 6665, '적합한': 6666, '적합한지': 6667, '적합할까': 6668, '적합합니다': 6669, '적합해야': 6670, '적혀': 6671, '전': 6672, '전개': 6673, '전공': 6674, '전기': 6675, '전기자전거': 6676, '전날': 6677, '전념': 6678, '전달': 6679, '전동': 6680, '전략': 6681, '전력': 6682, '전류': 6683, '전망': 6684, '전면': 6685, '전무': 6686, '전문': 6687, '전문가': 6688, '전문성': 6689, '전문점': 6690, '전문직': 6691, '전반': 6692, '전병': 6693, '전부': 6694, '전분': 6695, '전선': 6696, '전세계': 6697, '전송': 6698, '전술': 6699, '전시': 6700, '전시장': 6701, '전시회': 6702, '전신': 6703, '전액': 6704, '전역': 6705, '전염병': 6706, '전용': 6707, '전원': 6708, '전이': 6709, '전자': 6710, '전자기': 6711, '전자기기': 6712, '전자레인지': 6713, '전자상거래': 6714, '전자제품': 6715, '전자책': 6716, '전적': 6717, '전체': 6718, '전통': 6719, '전통문화': 6720, '전표': 6721, '전하': 6722, '전해': 6723, '전혀': 6724, '전화': 6725, '전화기': 6726, '전화번호': 6727, '전화하거나': 6728, '전화하겠습니다': 6729, '전화하고': 6730, '전화하기로': 6731, '전화하는': 6732, '전화하면': 6733, '전화하세요': 6734, '전화하셔야': 6735, '전화하셨나요': 6736, '전화하셨는데': 6737, '전화하셨는지': 6738, '전화하셨습니다': 6739, '전화하시는': 6740, '전화하시는지': 6741, '전화하신': 6742, '전화하신다면': 6743, '전화하실': 6744, '전화한': 6745, '전화할게요': 6746, '전화합니다': 6747, '전화해': 6748, '전화해서': 6749, '전화해요': 6750, '전화했는데': 6751, '전화했습니다': 6752, '전화했어요': 6753, '전화했을': 6754, '전환': 6755, '전후': 6756, '젇': 6757, '절': 6758, '절감': 6759, '절기': 6760, '절단': 6761, '절대': 6762, '절반': 6763, '절삭기': 6764, '절실': 6765, '절약': 6766, '절차': 6767, '젊고': 6768, '젊은': 6769, '젊은이': 6770, '점': 6771, '점검': 6772, '점도': 6773, '점수': 6774, '점심': 6775, '점유': 6776, '점자': 6777, '점점': 6778, '점진': 6779, '점화': 6780, '접': 6781, '접근': 6782, '접근성': 6783, '접대': 6784, '접속': 6785, '접수': 6786, '접시': 6787, '접종': 6788, '접착': 6789, '접합': 6790, '젓가락': 6791, '정': 6792, '정관': 6793, '정규': 6794, '정규직': 6795, '정기': 6796, '정기예금': 6797, '정당한': 6798, '정도': 6799, '정독': 6800, '정류장': 6801, '정리': 6802, '정말': 6803, '정말로': 6804, '정밀도': 6805, '정박': 6806, '정보': 6807, '정보기술': 6808, '정본': 6809, '정부': 6810, '정비': 6811, '정비사': 6812, '정산': 6813, '정상': 6814, '정상인': 6815, '정상화': 6816, '정성': 6817, '정수': 6818, '정수기': 6819, '정식': 6820, '정신': 6821, '정원': 6822, '정육점': 6823, '정의': 6824, '정이': 6825, '정적': 6826, '정전': 6827, '정직하게': 6828, '정직하지': 6829, '정직해야': 6830, '정착': 6831, '정책': 6832, '정체': 6833, '정치': 6834, '정치인': 6835, '정통': 6836, '정통하기를': 6837, '정통하지': 6838, '정해': 6839, '정해져': 6840, '정해졌습니다': 6841, '정해졌어요': 6842, '정해진': 6843, '정화': 6844, '정확도': 6845, '정확하게': 6846, '정확하네요': 6847, '정확한': 6848, '정확한지': 6849, '정확합니다': 6850, '정확히': 6851, '정확히는': 6852, '제': 6853, '제거': 6854, '제곱': 6855, '제곱미터': 6856, '제공': 6857, '제기': 6858, '제대로': 6859, '제도': 6860, '제때': 6861, '제로': 6862, '제목': 6863, '제발': 6864, '제보': 6865, '제빵': 6866, '제빵사': 6867, '제삼자': 6868, '제시': 6869, '제안': 6870, '제어': 6871, '제외': 6872, '제일': 6873, '제입': 6874, '제작': 6875, '제작자': 6876, '제작회사': 6877, '제재': 6878, '제적': 6879, '제조': 6880, '제조업': 6881, '제조업체': 6882, '제주': 6883, '제출': 6884, '제품': 6885, '제품군': 6886, '제한': 6887, '제휴': 6888, '젠': 6889, '젯': 6890, '조': 6891, '조각': 6892, '조각가': 6893, '조각상': 6894, '조건': 6895, '조국': 6896, '조금': 6897, '조달': 6898, '조도': 6899, '조로': 6900, '조리': 6901, '조립': 6902, '조만간': 6903, '조명': 6904, '조명탄': 6905, '조물': 6906, '조미료': 6907, '조사': 6908, '조사해': 6909, '조선': 6910, '조수': 6911, '조식': 6912, '조심': 6913, '조심합니다': 6914, '조언': 6915, '조용히': 6916, '조잡하지': 6917, '조장': 6918, '조절': 6919, '조정': 6920, '조정은': 6921, '조지아': 6922, '조직': 6923, '조취': 6924, '조치': 6925, '조카': 6926, '조합': 6927, '조항': 6928, '조화': 6929, '조회': 6930, '족발': 6931, '존경': 6932, '존재': 6933, '존중': 6934, '졸업장': 6935, '좀': 6936, '좁히는': 6937, '종': 6938, '종교': 6939, '종단': 6940, '종도': 6941, '종로': 6942, '종료': 6943, '종류': 6944, '종사': 6945, '종습니': 6946, '종신': 6947, '종업원': 6948, '종이': 6949, '종일': 6950, '종합': 6951, '좋게': 6952, '좋게도': 6953, '좋겠고': 6954, '좋겠군요': 6955, '좋겠네요': 6956, '좋겠습니다': 6957, '좋겠어요': 6958, '좋고': 6959, '좋군요': 6960, '좋네': 6961, '좋네요': 6962, '좋다': 6963, '좋다는': 6964, '좋답니다': 6965, '좋습니다': 6966, '좋아': 6967, '좋아서': 6968, '좋아야': 6969, '좋아요': 6970, '좋아지기': 6971, '좋아하게': 6972, '좋아하나': 6973, '좋아하나요': 6974, '좋아하는': 6975, '좋아하세요': 6976, '좋아하신다면': 6977, '좋아하실': 6978, '좋아하지': 6979, '좋아하지만': 6980, '좋아한다': 6981, '좋아한다는': 6982, '좋아할': 6983, '좋아합니다': 6984, '좋아해서요': 6985, '좋아해요': 6986, '좋았거든요': 6987, '좋았습니다': 6988, '좋았어요': 6989, '좋았을': 6990, '좋으며': 6991, '좋으므로': 6992, '좋으세요': 6993, '좋으시길': 6994, '좋으시네요': 6995, '좋으신': 6996, '좋은': 6997, '좋은가요': 6998, '좋은데': 6999, '좋을': 7000, '좋을까요': 7001, '좋죠': 7002, '좋지': 7003, '좋지만': 7004, '좌석': 7005, '좌우': 7006, '죄송하지만': 7007, '죄송한데': 7008, '죄송합니다': 7009, '죄송합니다만': 7010, '죄송해요': 7011, '죠': 7012, '주': 7013, '주가': 7014, '주간': 7015, '주간지': 7016, '주거': 7017, '주겠다고': 7018, '주고': 7019, '주고받는': 7020, '주기': 7021, '주길': 7022, '주는': 7023, '주당': 7024, '주된': 7025, '주려구요': 7026, '주렴': 7027, '주로': 7028, '주류': 7029, '주말': 7030, '주머니': 7031, '주목': 7032, '주무셨길': 7033, '주문': 7034, '주므로': 7035, '주민': 7036, '주민등록': 7037, '주방': 7038, '주변': 7039, '주사기': 7040, '주선': 7041, '주세요': 7042, '주셔도': 7043, '주셔서': 7044, '주셔야': 7045, '주셨기': 7046, '주셨나요': 7047, '주셨는데': 7048, '주셨습니까': 7049, '주셨습니다': 7050, '주셨어야': 7051, '주셨어요': 7052, '주셨으면': 7053, '주셨을': 7054, '주셨죠': 7055, '주소': 7056, '주스': 7057, '주시': 7058, '주시거나': 7059, '주시겠습니까': 7060, '주시겠어요': 7061, '주시고요': 7062, '주시길': 7063, '주시나요': 7064, '주식': 7065, '주식시장': 7066, '주신': 7067, '주신다면': 7068, '주실': 7069, '주실래요': 7070, '주어지면': 7071, '주어진': 7072, '주얼': 7073, '주었습니다': 7074, '주었으니': 7075, '주었으면': 7076, '주요': 7077, '주의': 7078, '주인': 7079, '주일': 7080, '주임': 7081, '주자': 7082, '주장': 7083, '주저': 7084, '주제': 7085, '주제가': 7086, '주지': 7087, '주차': 7088, '주차장': 7089, '주철': 7090, '주택': 7091, '주파수': 7092, '죽': 7093, '준': 7094, '준비': 7095, '준수': 7096, '줄': 7097, '줄기': 7098, '줄까': 7099, '줄어': 7100, '줄어들까': 7101, '줄여': 7102, '줄여주셨으면': 7103, '줄였습니다': 7104, '줄이는': 7105, '줄이도록': 7106, '줄이려면': 7107, '줄이셔야': 7108, '줄일': 7109, '줄임말': 7110, '줄입니다': 7111, '줌': 7112, '줍니까': 7113, '줍니다': 7114, '중': 7115, '중간': 7116, '중개': 7117, '중개사': 7118, '중개인': 7119, '중고': 7120, '중고품': 7121, '중공업': 7122, '중국': 7123, '중국집': 7124, '중단': 7125, '중등교육': 7126, '중복': 7127, '중소기업': 7128, '중시': 7129, '중심': 7130, '중심부': 7131, '중요성': 7132, '중요하게': 7133, '중요하기': 7134, '중요하다고': 7135, '중요하죠': 7136, '중요한': 7137, '중요한지': 7138, '중요합니다': 7139, '중요해요': 7140, '중이': 7141, '중인': 7142, '중장비': 7143, '중재': 7144, '중점': 7145, '중형견': 7146, '중환자': 7147, '줘서': 7148, '줘요': 7149, '줬어요': 7150, '즉': 7151, '즉각': 7152, '즉석': 7153, '즉시': 7154, '즐거운': 7155, '즐거움': 7156, '즐거웠습니다': 7157, '즐거웠어요': 7158, '즐겁게': 7159, '즐겁고': 7160, '즐겁습니다': 7161, '즐겁지': 7162, '즐기는': 7163, '즐기시길': 7164, '즐기실': 7165, '즐기지': 7166, '즐길': 7167, '즐깁니다': 7168, '증가': 7169, '증거': 7170, '증권': 7171, '증권사': 7172, '증명': 7173, '증명서': 7174, '증발기': 7175, '증빙': 7176, '증서': 7177, '증세': 7178, '증진': 7179, '증폭': 7180, '증폭기': 7181, '지': 7182, '지갑': 7183, '지게': 7184, '지게차': 7185, '지고': 7186, '지구': 7187, '지금': 7188, '지급': 7189, '지난': 7190, '지난달': 7191, '지난번': 7192, '지난주': 7193, '지난해': 7194, '지남': 7195, '지났고': 7196, '지났는데': 7197, '지났습니다': 7198, '지내': 7199, '지내게': 7200, '지내고': 7201, '지내기': 7202, '지내세요': 7203, '지내셨나요': 7204, '지내셨어요': 7205, '지내시고': 7206, '지내시길': 7207, '지내시나요': 7208, '지내시는': 7209, '지내시죠': 7210, '지내시지': 7211, '지낼': 7212, '지냈어': 7213, '지냈어요': 7214, '지는': 7215, '지능': 7216, '지도': 7217, '지독하게': 7218, '지루하다고': 7219, '지루한': 7220, '지루함': 7221, '지루해하는': 7222, '지를': 7223, '지리': 7224, '지만': 7225, '지면': 7226, '지명': 7227, '지문': 7228, '지방': 7229, '지불': 7230, '지붕': 7231, '지사': 7232, '지속': 7233, '지수': 7234, '지시': 7235, '지식': 7236, '지어졌습니다': 7237, '지에': 7238, '지역': 7239, '지역성': 7240, '지연': 7241, '지용': 7242, '지워': 7243, '지원': 7244, '지원이': 7245, '지을': 7246, '지인': 7247, '지저분하지': 7248, '지적': 7249, '지점': 7250, '지정': 7251, '지주': 7252, '지지': 7253, '지체': 7254, '지출': 7255, '지침': 7256, '지켜보고': 7257, '지켜봐': 7258, '지켜봐야겠습니다': 7259, '지켜야': 7260, '지키겠': 7261, '지키는': 7262, '지키셔야': 7263, '지폐': 7264, '지표': 7265, '지프': 7266, '지하실': 7267, '지하철': 7268, '지향': 7269, '직': 7270, '직감': 7271, '직경': 7272, '직급': 7273, '직도': 7274, '직면': 7275, '직물': 7276, '직불': 7277, '직업': 7278, '직원': 7279, '직장': 7280, '직접': 7281, '직접투자': 7282, '직책': 7283, '진': 7284, '진공': 7285, '진과': 7286, '진단': 7287, '진동': 7288, '진상': 7289, '진실': 7290, '진실하고': 7291, '진심': 7292, '진의': 7293, '진입': 7294, '진정': 7295, '진정한': 7296, '진지하게': 7297, '진짜': 7298, '진출': 7299, '진행': 7300, '진행자': 7301, '진화': 7302, '진흥': 7303, '질': 7304, '질감': 7305, '질문': 7306, '질병': 7307, '질환': 7308, '짐': 7309, '집': 7310, '집값': 7311, '집니다': 7312, '집단': 7313, '집세': 7314, '집안일': 7315, '집은': 7316, '집의': 7317, '집주인': 7318, '집중': 7319, '집하장': 7320, '집합': 7321, '집행': 7322, '집행자': 7323, '집히는': 7324, '짓고': 7325, '짓는': 7326, '짓도록': 7327, '징': 7328, '징글링': 7329, '짚': 7330, '짜': 7331, '짜는': 7332, '짜리': 7333, '짜장': 7334, '짤': 7335, '짧게': 7336, '짧은': 7337, '짧지만': 7338, '째': 7339, '쪽': 7340, '쫓아내고': 7341, '쯤': 7342, '찌개': 7343, '찍고': 7344, '찍다': 7345, '찍어': 7346, '찍어서': 7347, '찍은': 7348, '찍혀있습니다': 7349, '찜': 7350, '찜질방': 7351, '찢어져': 7352, '차': 7353, '차가': 7354, '차가운': 7355, '차감': 7356, '차갑게': 7357, '차고': 7358, '차기': 7359, '차나요': 7360, '차단': 7361, '차도': 7362, '차등': 7363, '차라리': 7364, '차랍니다': 7365, '차량': 7366, '차려놓은': 7367, '차례': 7368, '차리고': 7369, '차리세요': 7370, '차린': 7371, '차릴까': 7372, '차별': 7373, '차서': 7374, '차용': 7375, '차원': 7376, '차이': 7377, '차이는': 7378, '차이점': 7379, '차입': 7380, '차지': 7381, '차질': 7382, '차트': 7383, '찬': 7384, '찬으실까': 7385, '참가': 7386, '참가자': 7387, '참고': 7388, '참배': 7389, '참석': 7390, '참석자': 7391, '참여': 7392, '참으로': 7393, '참조': 7394, '참하고': 7395, '찹쌀': 7396, '찼습니다': 7397, '창': 7398, '창가': 7399, '창고': 7400, '창구': 7401, '창립': 7402, '창문': 7403, '창업': 7404, '창의': 7405, '찾고': 7406, '찾기': 7407, '찾는': 7408, '찾는다고': 7409, '찾다가': 7410, '찾던': 7411, '찾아': 7412, '찾아보겠습니다': 7413, '찾아보는': 7414, '찾아보세요': 7415, '찾아보시는': 7416, '찾아볼': 7417, '찾아볼게요': 7418, '찾아봐야겠네요': 7419, '찾아야': 7420, '찾아오셨네요': 7421, '찾아왔습니다': 7422, '찾아주셔서': 7423, '찾았고': 7424, '찾았습니다': 7425, '찾았어요': 7426, '찾으러': 7427, '찾으려면': 7428, '찾으면': 7429, '찾으시기': 7430, '찾으시나요': 7431, '찾으시는': 7432, '찾으시는지': 7433, '찾은': 7434, '찾을': 7435, '찾지': 7436, '채': 7437, '채굴': 7438, '채권': 7439, '채권자': 7440, '채널': 7441, '채무': 7442, '채무자': 7443, '채색': 7444, '채소': 7445, '채식': 7446, '채식주의자': 7447, '채용': 7448, '채우고': 7449, '채우지': 7450, '채워졌습니다': 7451, '채취': 7452, '채택': 7453, '채팅': 7454, '책': 7455, '책임': 7456, '책임감': 7457, '책임자': 7458, '책임지겠습니다': 7459, '책임지기로': 7460, '책임지는': 7461, '책임질': 7462, '책자': 7463, '책정': 7464, '챔버입니': 7465, '챕': 7466, '처': 7467, '처가': 7468, '처럼': 7469, '처리': 7470, '처리기': 7471, '처방': 7472, '처분': 7473, '처음': 7474, '천만': 7475, '천연': 7476, '천연가스': 7477, '천장': 7478, '천천히': 7479, '철': 7480, '철강': 7481, '철도': 7482, '철저하게': 7483, '철제': 7484, '철학': 7485, '철회': 7486, '첨부': 7487, '첫': 7488, '첫날': 7489, '첫인상': 7490, '첫째': 7491, '청': 7492, '청각장애': 7493, '청구': 7494, '청년': 7495, '청동': 7496, '청문회': 7497, '청사진': 7498, '청소': 7499, '청소년': 7500, '청정': 7501, '청정기': 7502, '청중': 7503, '청취': 7504, '체결': 7505, '체납': 7506, '체류': 7507, '체육관': 7508, '체인': 7509, '체인점': 7510, '체제': 7511, '체크': 7512, '체크아웃': 7513, '체험': 7514, '쳐진': 7515, '초': 7516, '초고': 7517, '초과': 7518, '초기': 7519, '초당': 7520, '초대': 7521, '초대장': 7522, '초래': 7523, '초상화': 7524, '초안': 7525, '초음파': 7526, '초입': 7527, '초점': 7528, '초청': 7529, '초콜릿': 7530, '촉구': 7531, '촉박하니': 7532, '총': 7533, '총수': 7534, '총칭': 7535, '촬영': 7536, '최': 7537, '최고': 7538, '최고급': 7539, '최근': 7540, '최대': 7541, '최대한': 7542, '최상': 7543, '최선': 7544, '최선일': 7545, '최소': 7546, '최소한': 7547, '최신': 7548, '최악': 7549, '최저': 7550, '최적': 7551, '최적화': 7552, '최종': 7553, '최첨단': 7554, '최초': 7555, '쵸': 7556, '추가': 7557, '추구': 7558, '추는': 7559, '추석': 7560, '추세': 7561, '추억': 7562, '추운데': 7563, '추울지라도': 7564, '추적': 7565, '추정': 7566, '추진': 7567, '추천': 7568, '추출': 7569, '추후': 7570, '축': 7571, '축배': 7572, '축소': 7573, '축하': 7574, '출': 7575, '출구': 7576, '출금': 7577, '출두': 7578, '출력': 7579, '출발점': 7580, '출산': 7581, '출시': 7582, '출연': 7583, '출이': 7584, '출장': 7585, '출퇴근': 7586, '출판': 7587, '출판물': 7588, '출판사': 7589, '출하': 7590, '출하겠습니다': 7591, '출하실': 7592, '춤': 7593, '충': 7594, '충격': 7595, '충당': 7596, '충돌': 7597, '충분하네요': 7598, '충분하다고': 7599, '충분하지': 7600, '충분한': 7601, '충분할': 7602, '충분할까': 7603, '충분합니다': 7604, '충분해요': 7605, '충분히': 7606, '충실한': 7607, '충실했기': 7608, '충전': 7609, '충전기': 7610, '충족': 7611, '취': 7612, '취급': 7613, '취득': 7614, '취미': 7615, '취사': 7616, '취소': 7617, '취약': 7618, '취재': 7619, '취직': 7620, '취하': 7621, '취한': 7622, '취할': 7623, '취해': 7624, '취향': 7625, '측': 7626, '측면': 7627, '측정': 7628, '측정기': 7629, '층': 7630, '치': 7631, '치가': 7632, '치고는': 7633, '치과': 7634, '치료': 7635, '치르려면': 7636, '치맥': 7637, '치솟는': 7638, '치수': 7639, '치열해져서': 7640, '치즈': 7641, '치킨': 7642, '친': 7643, '친구': 7644, '친절하게': 7645, '친절하고': 7646, '친절한': 7647, '친절함과': 7648, '친척': 7649, '친한': 7650, '친환경': 7651, '칠': 7652, '칠했으면': 7653, '침': 7654, '침대': 7655, '침실': 7656, '침입': 7657, '침체': 7658, '침해': 7659, '칩': 7660, '칩셋': 7661, '칭찬': 7662, '카드': 7663, '카메라': 7664, '카뷰': 7665, '카운터': 7666, '카운트다운': 7667, '카지노': 7668, '카탈로그': 7669, '카테고리': 7670, '카트': 7671, '카페': 7672, '카페테리아': 7673, '카펫': 7674, '카피': 7675, '칵테일': 7676, '칸': 7677, '칼': 7678, '칼리': 7679, '캐': 7680, '캐나다': 7681, '캐리어': 7682, '캐릭터': 7683, '캐비닛': 7684, '캐빈': 7685, '캐싱': 7686, '캐터필러': 7687, '캐피탈': 7688, '캐피털': 7689, '캘리포니아': 7690, '캘린더': 7691, '캠': 7692, '캠퍼스': 7693, '캠페인': 7694, '캠프': 7695, '캠프장': 7696, '캠프파이어': 7697, '캠핑': 7698, '캠핑장': 7699, '캠핑카': 7700, '캡슐화': 7701, '캡처': 7702, '커뮤니케이션': 7703, '커뮤니티': 7704, '커미션': 7705, '커버': 7706, '커지고': 7707, '커질': 7708, '커집니다': 7709, '커터': 7710, '커튼': 7711, '커플': 7712, '커피': 7713, '커피메이커': 7714, '컨디셔닝': 7715, '컨베이어': 7716, '컨설턴트': 7717, '컨설팅': 7718, '컨셉': 7719, '컨테이너': 7720, '컨텐츠': 7721, '컬래버레이션': 7722, '컬러': 7723, '컴퍼니': 7724, '컴포트룸': 7725, '컴퓨터': 7726, '컴퓨팅': 7727, '컴프레서': 7728, '컷': 7729, '케어': 7730, '케이': 7731, '케이블': 7732, '케이스': 7733, '케이크': 7734, '코': 7735, '코너': 7736, '코드': 7737, '코딩': 7738, '코로나': 7739, '코르크': 7740, '코리아': 7741, '코리안': 7742, '코멘트': 7743, '코스': 7744, '코스닥': 7745, '코인': 7746, '코치': 7747, '코칭': 7748, '코코넛': 7749, '코퍼레이션': 7750, '콕': 7751, '콘덴서': 7752, '콘도': 7753, '콘도그': 7754, '콘서트': 7755, '콘셉': 7756, '콘셉트': 7757, '콘솔': 7758, '콘크리트': 7759, '콘텐츠': 7760, '콜리': 7761, '콜링': 7762, '콜카타': 7763, '콩나물': 7764, '쾌적한': 7765, '쿠션': 7766, '쿠알라룸푸르': 7767, '쿠키': 7768, '쿠폰': 7769, '쿨': 7770, '쿨러': 7771, '퀼트': 7772, '큐': 7773, '크가': 7774, '크게': 7775, '크고요': 7776, '크기': 7777, '크네요': 7778, '크라': 7779, '크레딧': 7780, '크레인': 7781, '크루아상': 7782, '크류': 7783, '크를': 7784, '크리스마스': 7785, '크리에이터': 7786, '크리에이티브': 7787, '크립': 7788, '크며': 7789, '큰': 7790, '큰가요': 7791, '큰데': 7792, '큰데요': 7793, '클라우드': 7794, '클라이언트': 7795, '클래스': 7796, '클러스터': 7797, '클럽': 7798, '클레': 7799, '클리': 7800, '클릭': 7801, '클릭률': 7802, '클립': 7803, '큼': 7804, '큽니까': 7805, '큽니다': 7806, '키': 7807, '키란': 7808, '키우고': 7809, '키울': 7810, '키워': 7811, '키트': 7812, '킬로그램': 7813, '킬로미터': 7814, '킬로와트': 7815, '타': 7816, '타겟': 7817, '타고': 7818, '타기를': 7819, '타깃': 7820, '타는': 7821, '타당': 7822, '타러': 7823, '타운하우스': 7824, '타원곡선': 7825, '타이머': 7826, '타이밍': 7827, '타이어': 7828, '타이틀곡': 7829, '타임': 7830, '타임스퀘어': 7831, '타입': 7832, '타자기': 7833, '타협': 7834, '탁월한': 7835, '탁자': 7836, '탄소': 7837, '탄원서': 7838, '탈': 7839, '탈세': 7840, '탈수': 7841, '탈퇴': 7842, '탐구': 7843, '탐방': 7844, '탐색': 7845, '탐험': 7846, '탑': 7847, '탑승': 7848, '탑재': 7849, '탕': 7850, '탕감': 7851, '태국': 7852, '태국어': 7853, '태그': 7854, '태극': 7855, '태극기': 7856, '태도': 7857, '태블릿': 7858, '태양': 7859, '택배': 7860, '탤런트': 7861, '탭': 7862, '터': 7863, '터널': 7864, '터링': 7865, '터미널': 7866, '터북': 7867, '터치': 7868, '터치스크린': 7869, '터키': 7870, '턴': 7871, '턴키': 7872, '테': 7873, '테니스': 7874, '테라': 7875, '테라바이트': 7876, '테라스': 7877, '테마': 7878, '테스': 7879, '테스트': 7880, '테이': 7881, '테이블': 7882, '테이프': 7883, '테크놀로지': 7884, '텍스처': 7885, '텍스트': 7886, '텐데': 7887, '텐데요': 7888, '텐트': 7889, '텔레비전': 7890, '템플': 7891, '템플릿': 7892, '템플스테이': 7893, '토너': 7894, '토론': 7895, '토르티야': 7896, '토목': 7897, '토스터': 7898, '토스트': 7899, '토요일': 7900, '토지': 7901, '토큰': 7902, '톤': 7903, '통': 7904, '통계': 7905, '통과': 7906, '통관': 7907, '통닭': 7908, '통도사': 7909, '통보': 7910, '통상': 7911, '통신': 7912, '통신망': 7913, '통신사': 7914, '통역': 7915, '통역관': 7916, '통장': 7917, '통제': 7918, '통지': 7919, '통지서': 7920, '통째': 7921, '통찰': 7922, '통한': 7923, '통합': 7924, '통해': 7925, '통화': 7926, '퇴근': 7927, '퇴사': 7928, '투': 7929, '투명': 7930, '투명하므로': 7931, '투숙': 7932, '투어': 7933, '투자': 7934, '투자가': 7935, '투자수익률': 7936, '투자자': 7937, '툴': 7938, '튀긴': 7939, '튀김': 7940, '튜브': 7941, '튜토리얼': 7942, '트': 7943, '트는': 7944, '트래킹': 7945, '트래픽': 7946, '트랙볼': 7947, '트랙터': 7948, '트랙패드': 7949, '트랜치': 7950, '트러블': 7951, '트럭': 7952, '트레인': 7953, '트레일러': 7954, '트렌드': 7955, '트리': 7956, '트리트먼트': 7957, '트리플': 7958, '트윈': 7959, '트입니다': 7960, '특권': 7961, '특급': 7962, '특기': 7963, '특별': 7964, '특별하게': 7965, '특별한': 7966, '특별할': 7967, '특별해': 7968, '특별히': 7969, '특산': 7970, '특선': 7971, '특성': 7972, '특수': 7973, '특수한': 7974, '특정': 7975, '특정한': 7976, '특제': 7977, '특집': 7978, '특징': 7979, '특허': 7980, '특히': 7981, '튼튼한': 7982, '틀림없습니다': 7983, '틀림없이': 7984, '틀어놓아서': 7985, '틈': 7986, '틈새': 7987, '티': 7988, '티슈': 7989, '티저': 7990, '티켓': 7991, '팀': 7992, '팀원': 7993, '팁': 7994, '팅': 7995, '파견': 7996, '파괴': 7997, '파는': 7998, '파란색': 7999, '파로': 8000, '파리': 8001, '파산': 8002, '파산하기': 8003, '파산하지': 8004, '파손': 8005, '파스타': 8006, '파악': 8007, '파워': 8008, '파이': 8009, '파이썬': 8010, '파이프': 8011, '파이프라인': 8012, '파인': 8013, '파일': 8014, '파키스탄': 8015, '파트너': 8016, '파트너쉽': 8017, '파티': 8018, '파파야': 8019, '판': 8020, '판금': 8021, '판다던데': 8022, '판단': 8023, '판매': 8024, '판매량': 8025, '판매업': 8026, '판명': 8027, '판촉': 8028, '팔': 8029, '팔겠네요': 8030, '팔고': 8031, '팔레트': 8032, '팔려면': 8033, '팔로우': 8034, '팔로워': 8035, '팔리고': 8036, '팔리는': 8037, '팔립니다': 8038, '팔지': 8039, '팜': 8040, '팜스프링스': 8041, '팜유': 8042, '팝': 8043, '팟캐스트': 8044, '패널': 8045, '패션': 8046, '패스': 8047, '패스트': 8048, '패스트푸드': 8049, '패자': 8050, '패치': 8051, '패키지': 8052, '패턴': 8053, '팩': 8054, '팩스': 8055, '팬': 8056, '팬데믹': 8057, '팬케이크': 8058, '팸플릿': 8059, '퍼센트': 8060, '퍼지는지는': 8061, '펀드': 8062, '펀딩': 8063, '펄스': 8064, '펌프': 8065, '페스티벌': 8066, '페이': 8067, '페이스': 8068, '페이지': 8069, '펜션': 8070, '펠메니': 8071, '펴고': 8072, '펴는': 8073, '편': 8074, '편곡': 8075, '편도': 8076, '편리하나요': 8077, '편리하도록': 8078, '편리한': 8079, '편리한지': 8080, '편리합니까': 8081, '편리합니다': 8082, '편물': 8083, '편안하게': 8084, '편안하고': 8085, '편안한': 8086, '편안함': 8087, '편안히': 8088, '편애': 8089, '편의': 8090, '편의점': 8091, '편이': 8092, '편입': 8093, '편지': 8094, '편지함': 8095, '편집': 8096, '편집자': 8097, '편하게': 8098, '편하신': 8099, '편하지': 8100, '편하지는': 8101, '편합니다': 8102, '편해요': 8103, '편히': 8104, '평가': 8105, '평가판': 8106, '평균': 8107, '평면도': 8108, '평방': 8109, '평범해': 8110, '평생': 8111, '평일': 8112, '평점': 8113, '평판': 8114, '평편': 8115, '평평하게': 8116, '평화': 8117, '폐가': 8118, '폐기물': 8119, '폐쇄': 8120, '폐쇄되어': 8121, '폐쇄하': 8122, '포': 8123, '포격': 8124, '포괄': 8125, '포기': 8126, '포스터': 8127, '포스트': 8128, '포스팅': 8129, '포인트': 8130, '포장': 8131, '포지셔닝': 8132, '포지션': 8133, '포켓': 8134, '포탄': 8135, '포털': 8136, '포토': 8137, '포트': 8138, '포트폴리오': 8139, '포함': 8140, '포항': 8141, '폭': 8142, '폭력': 8143, '폰': 8144, '폰트': 8145, '폴더': 8146, '폴리스티렌': 8147, '폴리오': 8148, '폴리우레탄': 8149, '폼': 8150, '표': 8151, '표면': 8152, '표시': 8153, '표절': 8154, '표정': 8155, '표준': 8156, '표지': 8157, '표현': 8158, '푸드': 8159, '풀': 8160, '풀어': 8161, '품': 8162, '품목': 8163, '품은': 8164, '품절': 8165, '품종': 8166, '품질': 8167, '풍': 8168, '풍부할': 8169, '풍향': 8170, '퓨전': 8171, '프라이': 8172, '프라이드': 8173, '프라이머리': 8174, '프랑스': 8175, '프랑스어': 8176, '프랜차이즈': 8177, '프레': 8178, '프레임': 8179, '프레임워크': 8180, '프로': 8181, '프로그래머': 8182, '프로그래밍': 8183, '프로그램': 8184, '프로듀서': 8185, '프로모션': 8186, '프로세서': 8187, '프로세스': 8188, '프로젝터': 8189, '프로젝트': 8190, '프로토콜': 8191, '프로토타입': 8192, '프로필': 8193, '프루티': 8194, '프리랜서': 8195, '프리미엄': 8196, '프리뷰': 8197, '프린터': 8198, '플': 8199, '플라스틱': 8200, '플라이': 8201, '플라자': 8202, '플래닝': 8203, '플래시': 8204, '플래티넘': 8205, '플랜': 8206, '플랫폼': 8207, '플러그인': 8208, '플러머': 8209, '플러스': 8210, '플레이': 8211, '플레이어': 8212, '플로우': 8213, '플로터': 8214, '플루': 8215, '플립': 8216, '피': 8217, '피나': 8218, '피니쉬': 8219, '피드백': 8220, '피로연': 8221, '피부': 8222, '피스톤': 8223, '피아노': 8224, '피우기에는': 8225, '피칭팀': 8226, '피크': 8227, '피트': 8228, '피트니스': 8229, '피하': 8230, '피해': 8231, '피해자': 8232, '픽셀': 8233, '픽업': 8234, '핀': 8235, '필기체': 8236, '필드': 8237, '필름': 8238, '필리핀': 8239, '필수': 8240, '필요': 8241, '필요성': 8242, '필요없을': 8243, '필요없이': 8244, '필요하고': 8245, '필요하기': 8246, '필요하나요': 8247, '필요하니': 8248, '필요하니까': 8249, '필요하다고': 8250, '필요하므로': 8251, '필요하세요': 8252, '필요하시나요': 8253, '필요하시다면': 8254, '필요하시면': 8255, '필요하시죠': 8256, '필요하신': 8257, '필요하신가요': 8258, '필요하신지': 8259, '필요하십니까': 8260, '필요하죠': 8261, '필요하지': 8262, '필요하지는': 8263, '필요한': 8264, '필요한가요': 8265, '필요한데요': 8266, '필요한지': 8267, '필요할': 8268, '필요합니까': 8269, '필요합니다': 8270, '필요해서': 8271, '필요해서요': 8272, '필요해요': 8273, '필요했어요': 8274, '필욘': 8275, '필터': 8276, '핑크': 8277, '하': 8278, '하게': 8279, '하겠네요': 8280, '하겠다고': 8281, '하겠습니다': 8282, '하겠습니다만': 8283, '하겠어요': 8284, '하고': 8285, '하고는': 8286, '하고요': 8287, '하고있는': 8288, '하고자': 8289, '하기': 8290, '하기가': 8291, '하기까지': 8292, '하기는': 8293, '하기로': 8294, '하기를': 8295, '하기만': 8296, '하기에': 8297, '하기에는': 8298, '하긴': 8299, '하길': 8300, '하나': 8301, '하나로': 8302, '하나요': 8303, '하네요': 8304, '하느냐에': 8305, '하는': 8306, '하는데': 8307, '하는데요': 8308, '하는지': 8309, '하는지를': 8310, '하는지에': 8311, '하는지요': 8312, '하니': 8313, '하니까': 8314, '하다': 8315, '하다고': 8316, '하단': 8317, '하더군요': 8318, '하더라도': 8319, '하도록': 8320, '하드': 8321, '하드웨어': 8322, '하락': 8323, '하러': 8324, '하려': 8325, '하려고': 8326, '하려고요': 8327, '하려는': 8328, '하려면': 8329, '하루': 8330, '하루나': 8331, '하룻밤': 8332, '하며': 8333, '하면': 8334, '하면서': 8335, '하므로': 8336, '하세요': 8337, '하셔도': 8338, '하셔서': 8339, '하셔야': 8340, '하셨군요': 8341, '하셨기': 8342, '하셨나요': 8343, '하셨는데': 8344, '하셨는데요': 8345, '하셨는지': 8346, '하셨다고': 8347, '하셨다면': 8348, '하셨습니까': 8349, '하셨습니다': 8350, '하셨어야': 8351, '하셨어요': 8352, '하셨으니': 8353, '하셨으면': 8354, '하셨잖아요': 8355, '하셨죠': 8356, '하수': 8357, '하숙집': 8358, '하시': 8359, '하시거나': 8360, '하시게': 8361, '하시겠습니까': 8362, '하시겠어요': 8363, '하시고': 8364, '하시기': 8365, '하시길': 8366, '하시나요': 8367, '하시는': 8368, '하시는군요': 8369, '하시는데요': 8370, '하시는지': 8371, '하시는지에': 8372, '하시니까': 8373, '하시더라도': 8374, '하시도록': 8375, '하시려던': 8376, '하시려면': 8377, '하시면': 8378, '하시죠': 8379, '하시지': 8380, '하신': 8381, '하신다고': 8382, '하신다는': 8383, '하실': 8384, '하실것': 8385, '하실래요': 8386, '하실수': 8387, '하실지': 8388, '하십니까': 8389, '하십니다': 8390, '하십시오': 8391, '하얀색': 8392, '하여': 8393, '하여야': 8394, '하였나요': 8395, '하였다': 8396, '하였습니다': 8397, '하였으며': 8398, '하오니': 8399, '하와이': 8400, '하우': 8401, '하우스': 8402, '하이재킹': 8403, '하이킹': 8404, '하이테크': 8405, '하자': 8406, '하자구요': 8407, '하잖아요': 8408, '하죠': 8409, '하지': 8410, '하지는': 8411, '하지만': 8412, '하지요': 8413, '학': 8414, '학과': 8415, '학교': 8416, '학기': 8417, '학년': 8418, '학문': 8419, '학생': 8420, '학술': 8421, '학습': 8422, '학업': 8423, '학원': 8424, '학위': 8425, '학자': 8426, '학자금': 8427, '한': 8428, '한가한데': 8429, '한계': 8430, '한국': 8431, '한국어': 8432, '한국은행': 8433, '한국인': 8434, '한꺼': 8435, '한다': 8436, '한다고': 8437, '한다는': 8438, '한다면': 8439, '한도': 8440, '한두': 8441, '한마디': 8442, '한번': 8443, '한식': 8444, '한식당': 8445, '한옥호텔': 8446, '한우': 8447, '한자': 8448, '한잔': 8449, '한정': 8450, '한정식': 8451, '한정판': 8452, '한지': 8453, '한창': 8454, '한층': 8455, '한테': 8456, '한편': 8457, '할': 8458, '할게': 8459, '할게요': 8460, '할까': 8461, '할당': 8462, '할랄': 8463, '할머니': 8464, '할부': 8465, '할애': 8466, '할인': 8467, '할지': 8468, '할지에': 8469, '함': 8470, '함께': 8471, '함께해': 8472, '합': 8473, '합격': 8474, '합계': 8475, '합니다': 8476, '합니다만': 8477, '합류': 8478, '합리': 8479, '합법': 8480, '합성': 8481, '합시다': 8482, '합의': 8483, '합작': 8484, '합쳐서': 8485, '합판': 8486, '핫': 8487, '핫스팟': 8488, '항': 8489, '항공': 8490, '항공사': 8491, '항구': 8492, '항목': 8493, '항상': 8494, '항성': 8495, '항의': 8496, '해': 8497, '해결': 8498, '해고': 8499, '해당': 8500, '해도': 8501, '해독': 8502, '해드려': 8503, '해드려서': 8504, '해드려요': 8505, '해드렸으면': 8506, '해드리겠습니다': 8507, '해드리고': 8508, '해드리도록': 8509, '해드릴': 8510, '해드릴게요': 8511, '해드릴까': 8512, '해드립니다': 8513, '해명': 8514, '해변': 8515, '해보겠습니다': 8516, '해보고': 8517, '해보는': 8518, '해보니': 8519, '해보도록': 8520, '해보려고': 8521, '해보면': 8522, '해보셔도': 8523, '해보셨나요': 8524, '해보셨을까요': 8525, '해보시는': 8526, '해보죠': 8527, '해볼': 8528, '해볼게요': 8529, '해볼까': 8530, '해봐야': 8531, '해봐야겠네요': 8532, '해봐야겠어요': 8533, '해봤고': 8534, '해봤는데': 8535, '해상도': 8536, '해서': 8537, '해서는': 8538, '해서도': 8539, '해서라면': 8540, '해서만': 8541, '해서예요': 8542, '해서요': 8543, '해석': 8544, '해소': 8545, '해심': 8546, '해안': 8547, '해야': 8548, '해야겠군요': 8549, '해야겠네요': 8550, '해야겠습니다': 8551, '해야겠어요': 8552, '해야하나요': 8553, '해오겠습니다': 8554, '해와': 8555, '해왔기': 8556, '해왔는지': 8557, '해왔습니다': 8558, '해왔어요': 8559, '해외': 8560, '해외여행': 8561, '해요': 8562, '해졌습니까': 8563, '해주고': 8564, '해주길': 8565, '해주는': 8566, '해주는지': 8567, '해주세요': 8568, '해주셔서': 8569, '해주셔야': 8570, '해주셨으면': 8571, '해주시': 8572, '해주시겠습니까': 8573, '해주시겠어요': 8574, '해주시고': 8575, '해주시기': 8576, '해주시길': 8577, '해주시나요': 8578, '해주시면': 8579, '해주신': 8580, '해주실': 8581, '해주십니까': 8582, '해주십니다': 8583, '해주십시오': 8584, '해주었어요': 8585, '해주지': 8586, '해준': 8587, '해줄': 8588, '해줍니다': 8589, '해줘서': 8590, '해줘요': 8591, '해지': 8592, '해초': 8593, '해커': 8594, '해킹': 8595, '해피': 8596, '핵심': 8597, '핸드폰': 8598, '했': 8599, '했거든요': 8600, '했고': 8601, '했고요': 8602, '했기': 8603, '했나요': 8604, '했네요': 8605, '했는데': 8606, '했는데요': 8607, '했는지': 8608, '했다': 8609, '했다고': 8610, '했다는': 8611, '했다면': 8612, '했던': 8613, '했듯이': 8614, '했습니까': 8615, '했습니다': 8616, '했어': 8617, '했어야': 8618, '했어요': 8619, '했었는데요': 8620, '했었습니다': 8621, '했었어요': 8622, '했으니': 8623, '했으며': 8624, '했으면': 8625, '했을': 8626, '했음': 8627, '했잖아요': 8628, '했죠': 8629, '했지만': 8630, '행': 8631, '행동': 8632, '행복': 8633, '행복하고': 8634, '행복하죠': 8635, '행복하지': 8636, '행복한': 8637, '행복합니다': 8638, '행사': 8639, '행운': 8640, '행해지나요': 8641, '향': 8642, '향상': 8643, '향수': 8644, '향신료': 8645, '향후': 8646, '허가': 8647, '허가증': 8648, '허락': 8649, '허브': 8650, '허브차': 8651, '허슬': 8652, '허용': 8653, '허튼': 8654, '허풍': 8655, '헌신': 8656, '헐벗': 8657, '헤드헌터': 8658, '헤어드라이어': 8659, '헤지': 8660, '헬': 8661, '헬스장': 8662, '헷갈려요': 8663, '헷갈리시는': 8664, '혁신': 8665, '현': 8666, '현금': 8667, '현대': 8668, '현명하게': 8669, '현명한': 8670, '현미경': 8671, '현상': 8672, '현수막': 8673, '현장': 8674, '현재': 8675, '현지': 8676, '현행': 8677, '현황': 8678, '혈압': 8679, '혈액': 8680, '혐의': 8681, '협동': 8682, '협력': 8683, '협상': 8684, '협약': 8685, '협연': 8686, '협의': 8687, '협정': 8688, '협조': 8689, '협찬': 8690, '협회': 8691, '형': 8692, '형기': 8693, '형성': 8694, '형식': 8695, '형제': 8696, '형태': 8697, '혜택': 8698, '호도': 8699, '호법': 8700, '호스팅': 8701, '호실': 8702, '호의': 8703, '호주': 8704, '호출': 8705, '호텔': 8706, '호환': 8707, '호환성': 8708, '호흡': 8709, '혹독한': 8710, '혹시': 8711, '혹은': 8712, '혼란': 8713, '혼자': 8714, '혼잡합니다': 8715, '혼합': 8716, '홀': 8717, '홈': 8718, '홈스테이': 8719, '홈페이지': 8720, '홋카이도': 8721, '홍보': 8722, '화': 8723, '화가': 8724, '화거': 8725, '화기': 8726, '화나게': 8727, '화나신': 8728, '화면': 8729, '화물': 8730, '화물선': 8731, '화보': 8732, '화상': 8733, '화상통화': 8734, '화상회의': 8735, '화소': 8736, '화요일': 8737, '화의': 8738, '화이트': 8739, '화장실': 8740, '화장품': 8741, '화전': 8742, '화폐': 8743, '화하는': 8744, '화학': 8745, '화할': 8746, '화합': 8747, '화해': 8748, '화해줘요': 8749, '확고한': 8750, '확답': 8751, '확대': 8752, '확보': 8753, '확신': 8754, '확실하거든요': 8755, '확실하게': 8756, '확실하며': 8757, '확실하신가요': 8758, '확실하지': 8759, '확실한': 8760, '확실할': 8761, '확실합니다': 8762, '확실해지셨나요': 8763, '확실히': 8764, '확인': 8765, '확장': 8766, '확정': 8767, '환': 8768, '환경': 8769, '환급': 8770, '환불': 8771, '환상': 8772, '환영': 8773, '환율': 8774, '환자': 8775, '환전': 8776, '환호': 8777, '활': 8778, '활동': 8779, '활발하게': 8780, '활성화': 8781, '활용': 8782, '회': 8783, '회계': 8784, '회계법인': 8785, '회계사': 8786, '회도': 8787, '회로': 8788, '회복': 8789, '회복할': 8790, '회비': 8791, '회사': 8792, '회수': 8793, '회신': 8794, '회원': 8795, '회의': 8796, '회의실': 8797, '회의장': 8798, '회장': 8799, '회전': 8800, '회차': 8801, '회화': 8802, '횡설수설': 8803, '효과': 8804, '효율': 8805, '후': 8806, '후루룩': 8807, '후불': 8808, '후속': 8809, '후송': 8810, '후식': 8811, '후원': 8812, '후원자': 8813, '후의': 8814, '후회': 8815, '훈련': 8816, '훌륭하고': 8817, '훌륭하네요': 8818, '훌륭하지만': 8819, '훌륭한': 8820, '훌륭할': 8821, '훌륭합니다': 8822, '훑어': 8823, '훨씬': 8824, '훼손': 8825, '휘': 8826, '휘발유': 8827, '휠': 8828, '휩쓸었고': 8829, '휴': 8830, '휴가': 8831, '휴대': 8832, '휴대전화': 8833, '휴대폰': 8834, '휴식': 8835, '휴양': 8836, '흐름': 8837, '흐릿하': 8838, '흑자': 8839, '흔히': 8840, '흘려': 8841, '흘리고': 8842, '흙': 8843, '흙빛': 8844, '흡사합니다': 8845, '흡수': 8846, '흡입': 8847, '흥미': 8848, '흥미로운': 8849, '흥미로워': 8850, '흥미롭게': 8851, '흥미롭군요': 8852, '흥미롭네요': 8853, '흥미롭습니다': 8854, '흥분': 8855, '흥분하고': 8856, '흥분할': 8857, '희망': 8858, '흰색': 8859, '히': 8860, '히트': 8861, '힘': 8862, '힘들어도': 8863, '힘들어요': 8864, '힘쓰고': 8865}\n",
            "{'\\t': 1, '\\n': 2, '!': 3, '$': 4, '%': 5, \"'\": 6, \"''\": 7, \"'d\": 8, \"'ll\": 9, \"'m\": 10, \"'re\": 11, \"'s\": 12, \"'ve\": 13, '(': 14, ')': 15, ',': 16, '.': 17, '.006': 18, '0.2': 19, '0.26': 20, '0.5': 21, '0.95': 22, '0000000': 23, '1': 24, '1,000': 25, '1,000,000': 26, '1,200': 27, '1,250,000': 28, '1,500': 29, '1,700,000': 30, '1.50': 31, '10': 32, '10,000': 33, '10-day': 34, '10-year': 35, '10.9': 36, '100': 37, '100,000': 38, '1000': 39, '100th': 40, '10:00': 41, '10th': 42, '11': 43, '1100': 44, '11:00': 45, '11th': 46, '12': 47, '12-megapixel': 48, '12.99': 49, '120': 50, '123': 51, '123-456': 52, '1234': 53, '1234-5678': 54, '123456': 55, '1234567': 56, '12345678': 57, '123456789': 58, '123456789012': 59, '123546789': 60, '125': 61, '128-gigabyte': 62, '12th': 63, '13': 64, '135': 65, '14': 66, '140': 67, '140,000': 68, '142': 69, '144': 70, '15': 71, '15,000': 72, '150': 73, '150,000': 74, '1500': 75, '15th': 76, '16': 77, '16-course': 78, '16-megapixel': 79, '16th': 80, '17th': 81, '18': 82, '18,000,000,000': 83, '18th': 84, '19': 85, '1952': 86, '1:00': 87, '1:1': 88, '1st': 89, '2': 90, '2,000': 91, '2,000,000': 92, '2,500': 93, '2.5': 94, '20': 95, '20,000': 96, '20-centimeter': 97, '20-foot': 98, '20-minute': 99, '20.70': 100, '200': 101, '2000': 102, '2002': 103, '2019': 104, '2021': 105, '2022': 106, '20th': 107, '21': 108, '21st': 109, '22': 110, '23': 111, '23rd': 112, '24': 113, '24/7': 114, '25': 115, '250': 116, '250,000': 117, '2500': 118, '27th': 119, '280': 120, '29': 121, '2929': 122, '2:00': 123, '3': 124, '3,000': 125, '3,500': 126, '3-year': 127, '3.5': 128, '30': 129, '30-day': 130, '30-year': 131, '300': 132, '3000': 133, '30th': 134, '31': 135, '31st': 136, '320': 137, '34.5': 138, '35': 139, '350': 140, '365-day': 141, '370': 142, '3:00': 143, '3:30': 144, '3D': 145, '3G': 146, '4': 147, '4,000': 148, '4.99': 149, '40': 150, '40,000': 151, '40-foot': 152, '40-second': 153, '400': 154, '400,000': 155, '4000': 156, '404': 157, '420': 158, '45.5': 159, '450': 160, '450,000': 161, '475': 162, '48': 163, '4:00': 164, '4:45': 165, '4G': 166, '4K': 167, '5': 168, '5,200': 169, '5.0': 170, '50': 171, '50,000': 172, '50,000,000': 173, '500': 174, '500,000': 175, '51.5': 176, '52': 177, '55,000': 178, '550': 179, '58,000,000': 180, '5900': 181, '5:00': 182, '5G': 183, '5th': 184, '6': 185, '6,000': 186, '6.4': 187, '60': 188, '600,000': 189, '63': 190, '6:00': 191, '7': 192, '7,000': 193, '7,200': 194, '7-day': 195, '70': 196, '70-inch': 197, '700': 198, '72': 199, '75': 200, '750': 201, '7500': 202, '750mm': 203, '7:00': 204, '7:50': 205, '8': 206, '8,000': 207, '8,400': 208, '80': 209, '80,000': 210, '800': 211, '8:00': 212, '8am': 213, '9': 214, '9,500': 215, '9.99': 216, '90': 217, '90,000': 218, '900': 219, '900,000': 220, '93': 221, '99': 222, '9:16': 223, ':': 224, ';': 225, '?': 226, '@': 227, 'A': 228, 'A-list': 229, 'AAA': 230, 'AAA1': 231, 'AAA2': 232, 'AAA3': 233, 'ABCDE123': 234, 'AI': 235, 'ANRs': 236, 'ATM': 237, 'ATMs': 238, 'Absolutely': 239, 'Accidents': 240, 'According': 241, 'Actually': 242, 'Additionally': 243, 'Ads': 244, 'African': 245, 'After': 246, 'Afterwards': 247, 'Again': 248, 'Agency': 249, 'Ah': 250, 'Airport': 251, 'All': 252, 'Allow': 253, 'Almost': 254, 'Along': 255, 'Alright': 256, 'Also': 257, 'Alternatively': 258, 'Although': 259, 'Am': 260, 'America': 261, 'American': 262, 'Among': 263, 'Amsterdam': 264, 'An': 265, 'And': 266, 'Angel': 267, 'Another': 268, 'Any': 269, 'Anyone': 270, 'Anything': 271, 'Anyway': 272, 'Apart': 273, 'Apologies': 274, 'Apparently': 275, 'Appraisal': 276, 'April': 277, 'Are': 278, 'Argentina': 279, 'Around': 280, 'Articles': 281, 'Artificial': 282, 'As': 283, 'Asia': 284, 'Asian': 285, 'Aside': 286, 'Associates': 287, 'Assume': 288, 'At': 289, 'August': 290, 'Australia': 291, 'Australian': 292, 'Available': 293, 'Avatars': 294, 'Avoid': 295, 'Awesome': 296, 'B': 297, 'B-mode': 298, 'B-roll': 299, 'B2B': 300, 'BBB': 301, 'BBB.com': 302, 'BBB1': 303, 'BBB1.com': 304, 'BBB1is': 305, 'BBB2': 306, 'BBB3': 307, 'BBB4': 308, 'BBB5': 309, 'BBB6': 310, 'BBQ': 311, 'BSE': 312, 'Back': 313, 'Back-end': 314, 'Bank': 315, 'Barbados': 316, 'Based': 317, 'Basically': 318, 'Be': 319, 'Bear': 320, 'Because': 321, 'Beef': 322, 'Before': 323, 'Being': 324, 'Besides': 325, 'Board': 326, 'Bohemian': 327, 'Bokkeumbap': 328, 'Bossam': 329, 'Both': 330, 'Brazil': 331, 'Breakfast': 332, 'Bringing': 333, 'Broadcast': 334, 'Broadcasting': 335, 'Browsing': 336, 'Brunei': 337, 'Buddha': 338, 'Buddhism': 339, 'Buddhist': 340, 'Building': 341, 'Bulgogi': 342, 'Bungeoppang': 343, 'Bunsen': 344, 'Busan': 345, 'Business': 346, 'But': 347, 'Buying': 348, 'By': 349, 'C': 350, 'CCTV': 351, 'CCTVs': 352, 'CEO': 353, 'CFM': 354, 'CMS': 355, 'COVID-19': 356, 'CSS': 357, 'CT': 358, 'California': 359, 'Call': 360, 'Camp': 361, 'Camping': 362, 'Can': 363, 'Canada': 364, 'Canal': 365, 'Capital': 366, 'Catering': 367, 'Center': 368, 'Certainly': 369, 'Change': 370, 'Chapter': 371, 'Chicago': 372, 'Chief': 373, 'Children': 374, 'China': 375, 'Chinese': 376, 'Choosing': 377, 'Chosun': 378, 'Christmas': 379, 'Chuseok': 380, 'City': 381, 'Class': 382, 'Click': 383, 'Clothing': 384, 'Cloud': 385, 'Come': 386, 'Company': 387, 'Compatible': 388, 'Completion': 389, 'Consider': 390, 'Considering': 391, 'Contact': 392, 'Content': 393, 'Continental': 394, 'Continue': 395, 'Control': 396, 'Convention': 397, 'Cool': 398, 'Copyright': 399, 'Corp': 400, 'Corporation': 401, 'Correct': 402, 'Could': 403, 'Court': 404, 'Crowdfunding': 405, 'Cryptocurrency': 406, 'Currently': 407, 'DCA': 408, 'DVR': 409, 'Daegu': 410, 'Dak': 411, 'Dear': 412, 'December': 413, 'Definitely': 414, 'Denmark': 415, 'Department': 416, 'Depends': 417, 'Design': 418, 'Despite': 419, 'Details': 420, 'Devices': 421, 'Did': 422, 'Different': 423, 'Disclosing': 424, 'District': 425, 'Do': 426, 'Documents': 427, 'Does': 428, 'Download': 429, 'Dr.': 430, 'Drive': 431, 'Due': 432, 'Duly': 433, 'During': 434, 'EOB': 435, 'EPP': 436, 'ESG': 437, 'EST': 438, 'ETF': 439, 'ETFs': 440, 'EVA': 441, 'Each': 442, 'Earth': 443, 'East': 444, 'Eastern': 445, 'Egyptian': 446, 'Eh': 447, 'Emerald': 448, 'Emerging': 449, 'Emily': 450, 'Encryption': 451, 'Engine': 452, 'Engines': 453, 'England': 454, 'English': 455, 'English-learning': 456, 'English-speaking': 457, 'Equipment': 458, 'Especially': 459, 'Essentially': 460, 'Europe': 461, 'European': 462, 'Euros': 463, 'Even': 464, 'Events': 465, 'Every': 466, 'Everyone': 467, 'Everything': 468, 'Exactly': 469, 'Excellent': 470, 'Exchange': 471, 'Excuse': 472, 'Exit': 473, 'Expect': 474, 'Expo': 475, 'FDI': 476, 'FFF': 477, 'FFF1': 478, 'FFF10': 479, 'FFF2': 480, 'FFF3': 481, 'FFF4': 482, 'FFF5': 483, 'FFF6': 484, 'FFF7': 485, 'FFF8': 486, 'FOMO': 487, 'Factors': 488, 'Failure': 489, 'Fantastic': 490, 'February': 491, 'Federal': 492, 'Feel': 493, 'Festival': 494, 'Fifth': 495, 'Filipino': 496, 'Finally': 497, 'Financial': 498, 'Find': 499, 'Fine': 500, 'Fingers': 501, 'First': 502, 'Firstly': 503, 'Five': 504, 'Flashes': 505, 'Flexibility': 506, 'Food': 507, 'For': 508, 'Foreigners': 509, 'Fortunately': 510, 'Fourth': 511, 'France': 512, 'Francisco': 513, 'French': 514, 'Friday': 515, 'From': 516, 'Fu': 517, 'Furthermore': 518, 'Futons': 519, 'Futures': 520, 'GB': 521, 'GPS': 522, 'GVWR': 523, 'Gains': 524, 'Gangnam': 525, 'Gangneung': 526, 'Gas': 527, 'Generally': 528, 'Georgia': 529, 'Germany': 530, 'Get': 531, 'Ginseng': 532, 'Give': 533, 'Given': 534, 'Giving': 535, 'Go': 536, 'Good': 537, 'Got': 538, 'Graphic': 539, 'Great': 540, 'Greek': 541, 'Greetings': 542, 'Group': 543, 'Guam': 544, 'Gujeolpan': 545, 'Gyeonggi': 546, 'HDD': 547, 'HR': 548, 'HTML': 549, 'Hackers': 550, 'Halal': 551, 'Hanok': 552, 'Has': 553, 'Have': 554, 'Having': 555, 'Hawaii': 556, 'He': 557, 'Helllo': 558, 'Hello': 559, 'Hence': 560, 'Her': 561, 'Here': 562, 'Hey': 563, 'Hi': 564, 'Hi-Tech': 565, 'Hmm': 566, 'Hokkaido': 567, 'Hold': 568, 'Hopefully': 569, 'Hotel': 570, 'How': 571, 'However': 572, 'I': 573, 'ID': 574, 'IDs': 575, 'IP': 576, 'IPO': 577, 'IPOs': 578, 'IT': 579, 'IVR': 580, 'IaaS': 581, 'If': 582, 'Ilsan': 583, 'In': 584, 'Incentives': 585, 'Incheon': 586, 'Incorporation': 587, 'Indeed': 588, 'Independent': 589, 'India': 590, 'Indian': 591, 'Indonesia': 592, 'Indonesian': 593, 'Inflation': 594, 'Influencer': 595, 'Innovations': 596, 'Installing': 597, 'Instant': 598, 'Insurance': 599, 'Interesting': 600, 'International': 601, 'Internet': 602, 'Internet-based': 603, 'Internet-of-Things': 604, 'Internet-related': 605, 'Intraday': 606, 'Invest': 607, 'Investments': 608, 'Investors': 609, 'IoT': 610, 'Is': 611, 'It': 612, 'Italian': 613, 'Italy': 614, 'JLPT': 615, 'January': 616, 'Japan': 617, 'Japanese': 618, 'Jeju': 619, 'Jeonbyeong': 620, 'Jjimjilbang': 621, 'Jongno': 622, 'July': 623, 'Jun': 624, 'June': 625, 'Just': 626, 'K-Food': 627, 'K-dramas': 628, 'K-food': 629, 'KOSDAQ': 630, 'KST': 631, 'Kabsat': 632, 'Keep': 633, 'Kimchi': 634, 'Kindly': 635, 'Kingdom': 636, 'Know': 637, 'Knowing': 638, 'Kolkata': 639, 'Korea': 640, 'Korean': 641, 'Korean-based': 642, 'Korean-inspired': 643, 'Korean-targeted': 644, 'Koreans': 645, 'Kuala': 646, 'LED': 647, 'Language': 648, 'Last': 649, 'Lastly': 650, 'Later': 651, 'Latest': 652, 'Law': 653, 'Learning': 654, 'Let': 655, 'Life': 656, 'Like': 657, 'Likewise': 658, 'Limited': 659, 'Listen': 660, 'Little': 661, 'Liverpool': 662, 'Loans': 663, 'Locust': 664, 'Log': 665, 'London': 666, 'Looking': 667, 'Losers': 668, 'Loss': 669, 'Lovely': 670, 'Low': 671, 'Luckily': 672, 'Lumpur': 673, 'M-mode': 674, 'MAR': 675, 'MMS': 676, 'MOU': 677, \"Ma'am\": 678, 'Madrid': 679, 'Mainly': 680, 'Maintaining': 681, 'Make': 682, 'Making': 683, 'Malaysia': 684, 'Management': 685, 'Manali': 686, 'Mandarin': 687, 'Manila': 688, 'Many': 689, 'Mapo': 690, 'Mapping': 691, 'March': 692, 'Marketing': 693, 'May': 694, 'Maybe': 695, 'Me': 696, 'Meaning': 697, 'Meanwhile': 698, 'Mechanical': 699, 'Media': 700, 'Medical': 701, 'Members': 702, 'Metaverse': 703, 'Michelin': 704, 'Michelin-starred': 705, 'Minting': 706, 'Mobile': 707, 'Monday': 708, 'Month-end': 709, 'More': 710, 'Moreover': 711, 'Most': 712, 'Moving': 713, 'Mr.': 714, 'Mrs.': 715, 'Ms.': 716, 'Music': 717, 'My': 718, 'Myanmar': 719, 'NFT': 720, 'NFTs': 721, 'NI': 722, 'NSE': 723, 'NTFS': 724, 'Naturally': 725, 'Needles': 726, 'Network': 727, 'Never': 728, 'New': 729, 'News': 730, 'Next': 731, 'Nigeria': 732, 'No': 733, 'Nobody': 734, 'Non-fungible': 735, 'None': 736, 'Normally': 737, 'North': 738, 'Not': 739, 'Noted': 740, 'Nothing': 741, 'November': 742, 'Now': 743, 'Nowadays': 744, 'OK': 745, 'OKK': 746, 'OS': 747, 'October': 748, 'Of': 749, 'Off-page': 750, 'Offering': 751, 'Office': 752, 'Officer': 753, 'Oh': 754, 'Ohio': 755, 'Ok': 756, 'Okay': 757, 'Omji': 758, 'On': 759, 'Once': 760, 'One': 761, 'Only': 762, 'Ontario': 763, 'Optimization': 764, 'Or': 765, 'Originally': 766, 'Others': 767, 'Otherwise': 768, 'Our': 769, 'Out': 770, 'Over': 771, 'Overall': 772, 'PDA': 773, 'PDF': 774, 'PM': 775, 'PPE': 776, 'PR': 777, 'PRO': 778, 'PSAs': 779, 'PVP': 780, 'Pakistan': 781, 'Palm': 782, 'Paper': 783, 'Paris': 784, 'Paying': 785, 'Payment': 786, 'Pelmeni': 787, 'People': 788, 'Perfect': 789, 'Perhaps': 790, 'Philippines': 791, 'Place': 792, 'Please': 793, 'Plenty': 794, 'Plummer': 795, 'Plus': 796, 'Pohang': 797, 'Pot': 798, 'Precisely': 799, 'Precision': 800, 'Predicting': 801, 'President': 802, 'Prices': 803, 'Private': 804, 'Probably': 805, 'Product': 806, 'Publishing': 807, 'Python': 808, 'QR': 809, 'Quality': 810, 'RAM': 811, 'RV': 812, 'Radio': 813, 'Recently': 814, 'Red': 815, 'Regarding': 816, 'Regardless': 817, 'Regrettably': 818, 'Resolution': 819, 'Rest': 820, 'Retailers': 821, 'Right': 822, 'Room': 823, 'SD': 824, 'SEO': 825, 'SIM': 826, 'SKUs': 827, 'SPV': 828, 'SSD': 829, 'SSL': 830, 'Sadly': 831, 'Saeng': 832, 'Sakyamuni': 833, 'Salalah': 834, 'San': 835, 'Sashimi': 836, 'Saturday': 837, 'Sauna': 838, 'Say': 839, 'Schools': 840, 'Search': 841, 'Second': 842, 'Security': 843, 'See': 844, 'Send': 845, 'Seoul': 846, 'September': 847, 'Series': 848, 'Services': 849, 'Several': 850, 'Shall': 851, 'Shampoo': 852, 'Shanghai': 853, 'She': 854, 'Shop': 855, 'Should': 856, 'Signals': 857, 'Signature': 858, 'Similar': 859, 'Simply': 860, 'Since': 861, 'Singapore': 862, 'Singaporean': 863, 'Sir': 864, 'Skim': 865, 'So': 866, 'Social': 867, 'Soju': 868, 'Solar': 869, 'Some': 870, 'Someone': 871, 'Something': 872, 'Sometimes': 873, 'Soon': 874, 'Sorry': 875, 'Sounds': 876, 'South': 877, 'Southeast': 878, 'Spain': 879, 'Spanish': 880, 'Speaking': 881, 'Specifically': 882, 'Springs': 883, 'Square': 884, 'Starting': 885, 'States': 886, 'Station': 887, 'Stay': 888, 'Staying': 889, 'Still': 890, 'Stock': 891, 'Street': 892, 'Stroganoff': 893, 'Submit': 894, 'Submitting': 895, 'Such': 896, 'Sudan': 897, 'Suez': 898, 'Suite': 899, 'Sun': 900, 'Sunday': 901, 'Sure': 902, 'TPU': 903, 'TV': 904, 'Taegeuk': 905, 'Taeguekgi': 906, 'Taiwan': 907, 'Take': 908, 'Task': 909, 'Team': 910, 'Technical': 911, 'Technology': 912, 'Tell': 913, 'Temple': 914, 'Ten': 915, 'Thai': 916, 'Thailand': 917, 'Thank': 918, 'Thanks': 919, 'That': 920, 'The': 921, 'Their': 922, 'Then': 923, 'There': 924, 'Therefore': 925, 'These': 926, 'They': 927, 'Things': 928, 'Third': 929, 'Thirdly': 930, 'This': 931, 'Those': 932, 'Three': 933, 'Through': 934, 'Thursday': 935, 'Thursdays': 936, 'Thus': 937, 'Times': 938, 'To': 939, 'Today': 940, 'Tokens': 941, 'Tokyo': 942, 'Tong': 943, 'Tongdosa': 944, 'Topics': 945, 'Touch': 946, 'Trade': 947, 'Trust': 948, 'Truth': 949, 'Try': 950, 'Tuesday': 951, 'Turkish': 952, 'UI': 953, 'UN': 954, 'US': 955, 'USA': 956, 'USB': 957, 'USBs': 958, 'Ukraine': 959, 'Ulsan': 960, 'Ultimately': 961, 'Under': 962, 'Unfortunately': 963, 'United': 964, 'Universal': 965, 'University': 966, 'Unless': 967, 'Unlike': 968, 'Until': 969, 'Upon': 970, 'Users': 971, 'Using': 972, 'Usually': 973, 'VC4E': 974, 'VIP': 975, 'VPN': 976, 'VR': 977, 'VVIP': 978, 'Vacationing': 979, 'Various': 980, 'Vegetables': 981, 'Venezuela': 982, 'Very': 983, 'Vietnam': 984, 'View': 985, 'Virtual': 986, 'Visual': 987, 'Visualization': 988, 'WIFI': 989, 'WTO': 990, 'Wait': 991, 'Was': 992, 'We': 993, 'Webcasting': 994, 'Wednesday': 995, 'Welcome': 996, 'Well': 997, 'Well-renowned': 998, 'Were': 999, 'What': 1000, 'Whatever': 1001, 'WhatsApp': 1002, 'When': 1003, 'Where': 1004, 'Which': 1005, 'While': 1006, 'Who': 1007, 'Whom': 1008, 'Why': 1009, 'Wi-Fi': 1010, 'Will': 1011, 'Wishing': 1012, 'With': 1013, 'Without': 1014, 'Wo': 1015, 'Wonderful': 1016, 'Wonju': 1017, 'Would': 1018, 'Wow': 1019, 'X-ray': 1020, 'Yeah': 1021, 'Yebool': 1022, 'Yellowknife': 1023, 'Yes': 1024, 'Yet': 1025, 'York': 1026, 'Yorkshire': 1027, 'You': 1028, 'Your': 1029, 'Yukhoe': 1030, 'Yup': 1031, 'Zealand': 1032, '``': 1033, 'a': 1034, 'a.m': 1035, 'a.m.': 1036, 'abbreviation': 1037, 'ability': 1038, 'able': 1039, 'about': 1040, 'above': 1041, 'abroad': 1042, 'absent': 1043, 'absolutely': 1044, 'absorption': 1045, 'academe': 1046, 'academic': 1047, 'academic-related': 1048, 'accelerate': 1049, 'accept': 1050, 'acceptable': 1051, 'acceptance': 1052, 'accepted': 1053, 'accepting': 1054, 'access': 1055, 'accessed': 1056, 'accessibility': 1057, 'accessible': 1058, 'accessing': 1059, 'accessories': 1060, 'accidental': 1061, 'accidentally': 1062, 'accidents': 1063, 'accommodate': 1064, 'accommodating': 1065, 'accommodation': 1066, 'accommodations': 1067, 'accomodating': 1068, 'accomplish': 1069, 'accomplished': 1070, 'accordance': 1071, 'according': 1072, 'accordingly': 1073, 'account': 1074, 'accountancy': 1075, 'accountant': 1076, 'accounted': 1077, 'accounting': 1078, 'accounts': 1079, 'accrual': 1080, 'accumulated': 1081, 'accuracy': 1082, 'accurate': 1083, 'accurately': 1084, 'achieve': 1085, 'achieved': 1086, 'achievement': 1087, 'achievements': 1088, 'achieving': 1089, 'acknowledge': 1090, 'acne': 1091, 'acne-reducing': 1092, 'acoustic': 1093, 'acoustics': 1094, 'acquaint': 1095, 'acquire': 1096, 'acquired': 1097, 'acquiring': 1098, 'acquisition': 1099, 'across': 1100, 'act': 1101, 'action': 1102, 'action-thriller': 1103, 'actions': 1104, 'activate': 1105, 'activated': 1106, 'active': 1107, 'activities': 1108, 'activity': 1109, 'actors': 1110, 'actual': 1111, 'actualize': 1112, 'actually': 1113, 'acute': 1114, 'ad': 1115, 'adaptations': 1116, 'adapter': 1117, 'adaptive': 1118, 'adaptor': 1119, 'adaptors': 1120, 'add': 1121, 'add-on': 1122, 'added': 1123, 'addendum': 1124, 'adding': 1125, 'addition': 1126, 'additional': 1127, 'address': 1128, 'addressed': 1129, 'addresses': 1130, 'addressing': 1131, 'adequately': 1132, 'adhere': 1133, 'adhesive': 1134, 'adjust': 1135, 'adjustable-rate': 1136, 'adjusted': 1137, 'adjustment': 1138, 'adjustments': 1139, 'administration': 1140, 'administrative': 1141, 'administrators': 1142, 'admission': 1143, 'adopt': 1144, 'ads': 1145, 'adult': 1146, 'adults': 1147, 'advance': 1148, 'advanced': 1149, 'advancement': 1150, 'advancing': 1151, 'advantage': 1152, 'advantageous': 1153, 'advantages': 1154, 'adventure': 1155, 'advertise': 1156, 'advertisement': 1157, 'advertisements': 1158, 'advertising': 1159, 'adverts': 1160, 'advice': 1161, 'advisable': 1162, 'advise': 1163, 'advised': 1164, 'advisers': 1165, 'advises': 1166, 'advisor': 1167, 'advisory': 1168, 'aesthetic': 1169, 'affairs': 1170, 'affect': 1171, 'affected': 1172, 'affecting': 1173, 'affects': 1174, 'affiliate': 1175, 'affiliated': 1176, 'affluent': 1177, 'afford': 1178, 'affordability': 1179, 'affordable': 1180, 'afloat': 1181, 'aforementioned': 1182, 'afraid': 1183, 'after': 1184, 'after-party': 1185, 'after-sales': 1186, 'afternoon': 1187, 'afterward': 1188, 'again': 1189, 'against': 1190, 'age': 1191, 'aged': 1192, 'agencies': 1193, 'agency': 1194, 'agenda': 1195, 'agent': 1196, 'ages': 1197, 'ago': 1198, 'agree': 1199, 'agreed': 1200, 'agreeing': 1201, 'agreement': 1202, 'agrees': 1203, 'agricultural': 1204, 'agriculture': 1205, 'ahead': 1206, 'aid': 1207, 'aids': 1208, 'aim': 1209, 'aims': 1210, 'air': 1211, 'air-conditioned': 1212, 'aircraft': 1213, 'airing': 1214, 'airlines': 1215, 'airport': 1216, 'airports': 1217, 'airtime': 1218, 'alarm': 1219, 'albeit': 1220, 'album': 1221, 'albums': 1222, 'alcohol': 1223, 'alcoholic': 1224, 'alert': 1225, 'algorithm': 1226, 'algorithms': 1227, 'aligned': 1228, 'alkaline': 1229, 'all': 1230, 'allegations': 1231, 'allergic': 1232, 'allergies': 1233, 'alliance': 1234, 'allocate': 1235, 'allocation': 1236, 'allocations': 1237, 'allow': 1238, 'allowed': 1239, 'allowing': 1240, 'allows': 1241, 'almost': 1242, 'alone': 1243, 'along': 1244, 'already': 1245, 'alright': 1246, 'also': 1247, 'alternative': 1248, 'alternatives': 1249, 'although': 1250, 'aluminum': 1251, 'always': 1252, 'am': 1253, 'amazing': 1254, 'ambassador': 1255, 'ambiance': 1256, 'ambulation': 1257, 'ambulatory': 1258, 'amend': 1259, 'amends': 1260, 'amenities': 1261, 'amenity': 1262, 'among': 1263, 'amongst': 1264, 'amount': 1265, 'amounted': 1266, 'amounts': 1267, 'amplifier': 1268, 'amplify': 1269, 'an': 1270, 'analysis': 1271, 'analytics': 1272, 'analyze': 1273, 'analyzing': 1274, 'anchor': 1275, 'ancient': 1276, 'and': 1277, 'android': 1278, 'angel': 1279, 'angle': 1280, 'angry': 1281, 'animal': 1282, 'animated': 1283, 'animations': 1284, 'animators': 1285, 'ankle': 1286, 'anniversary': 1287, 'announce': 1288, 'announcement': 1289, 'announcements': 1290, 'announcers': 1291, 'annual': 1292, 'annually': 1293, 'annum': 1294, 'another': 1295, 'answer': 1296, 'answered': 1297, 'answering': 1298, 'antenna': 1299, 'antivirus': 1300, 'any': 1301, 'anybody': 1302, 'anymore': 1303, 'anyone': 1304, 'anything': 1305, 'anytime': 1306, 'anyway': 1307, 'anywhere': 1308, 'apart': 1309, 'apartment': 1310, 'apartments': 1311, 'apologies': 1312, 'apologize': 1313, 'apology': 1314, 'app': 1315, 'apparent': 1316, 'appeal': 1317, 'appealing': 1318, 'appeals': 1319, 'appear': 1320, 'appearance': 1321, 'appeared': 1322, 'appears': 1323, 'appended': 1324, 'appetizer': 1325, 'apple': 1326, 'appliances': 1327, 'applicable': 1328, 'application': 1329, 'applications': 1330, 'applied': 1331, 'applies': 1332, 'apply': 1333, 'applying': 1334, 'appointment': 1335, 'appraisal': 1336, 'appreciate': 1337, 'appreciated': 1338, 'appreciating': 1339, 'appreciation': 1340, 'approach': 1341, 'approached': 1342, 'appropriate': 1343, 'appropriately': 1344, 'approval': 1345, 'approve': 1346, 'approved': 1347, 'approximately': 1348, 'apps': 1349, 'aprtner': 1350, 'architectural': 1351, 'architecture': 1352, 'archives': 1353, 'are': 1354, 'area': 1355, 'areas': 1356, 'arena': 1357, 'arises': 1358, 'aromatherapy': 1359, 'around': 1360, 'arrange': 1361, 'arranged': 1362, 'arrangement': 1363, 'arrangements': 1364, 'arranger': 1365, 'arrangers': 1366, 'arranging': 1367, 'array': 1368, 'arrival': 1369, 'arrive': 1370, 'arrived': 1371, 'arriving': 1372, 'art': 1373, 'article': 1374, 'articles': 1375, 'artificial': 1376, 'artillery': 1377, 'artist': 1378, 'artists': 1379, 'arts': 1380, 'artwork': 1381, 'artworks': 1382, 'as': 1383, 'asap': 1384, 'ashamed': 1385, 'aside': 1386, 'ask': 1387, 'asked': 1388, 'asking': 1389, 'asks': 1390, 'asleep': 1391, 'asparagus': 1392, 'aspect': 1393, 'aspects': 1394, 'asphalt': 1395, 'assembly': 1396, 'assessing': 1397, 'assessment': 1398, 'asset': 1399, 'assets': 1400, 'assign': 1401, 'assigned': 1402, 'assist': 1403, 'assistance': 1404, 'assistant': 1405, 'assisting': 1406, 'assistive': 1407, 'associate': 1408, 'associated': 1409, 'associates': 1410, 'association': 1411, 'assumed': 1412, 'assuming': 1413, 'assurance': 1414, 'assure': 1415, 'assured': 1416, 'assures': 1417, 'assuring': 1418, 'at': 1419, 'ate': 1420, 'atmosphere': 1421, 'attach': 1422, 'attached': 1423, 'attack': 1424, 'attacks': 1425, 'attain': 1426, 'attains': 1427, 'attempted': 1428, 'attend': 1429, 'attendance': 1430, 'attended': 1431, 'attending': 1432, 'attention': 1433, 'attest': 1434, 'attorney': 1435, 'attract': 1436, 'attracted': 1437, 'attributes': 1438, 'attrition': 1439, 'audience': 1440, 'audiences': 1441, 'audio': 1442, 'audiovisual': 1443, 'audit': 1444, 'audited': 1445, 'auditing': 1446, 'authentic': 1447, 'author': 1448, 'authored': 1449, 'authorities': 1450, 'authority': 1451, 'authorization': 1452, 'authorized': 1453, 'authors': 1454, 'auto': 1455, 'autobiographies': 1456, 'autoclave': 1457, 'automate': 1458, 'automated': 1459, 'automatic': 1460, 'automatically': 1461, 'automation': 1462, 'automobile': 1463, 'automotive': 1464, 'autumn': 1465, 'auxiliary': 1466, 'avail': 1467, 'availability': 1468, 'available': 1469, 'availed': 1470, 'availing': 1471, 'avenue': 1472, 'average': 1473, 'avoid': 1474, 'await': 1475, 'awake': 1476, 'awarded': 1477, 'aware': 1478, 'awareness': 1479, 'away': 1480, 'awesome': 1481, 'ay': 1482, 'babies': 1483, 'baby': 1484, 'back': 1485, 'back-and-forths': 1486, 'back-end': 1487, 'backdrops': 1488, 'backers': 1489, 'background': 1490, 'backgrounds': 1491, 'backhoe': 1492, 'backing': 1493, 'backlinks': 1494, 'backlog': 1495, 'backup': 1496, 'backward': 1497, 'backyard': 1498, 'bacteria': 1499, 'bad': 1500, 'baffling': 1501, 'baker': 1502, 'bakery': 1503, 'baking': 1504, 'balance': 1505, 'ball': 1506, 'ballpark': 1507, 'bamboo': 1508, 'ban': 1509, 'banana': 1510, 'banana-flavored': 1511, 'banchan': 1512, 'band': 1513, 'bands': 1514, 'bandwidth': 1515, 'bank': 1516, 'banker': 1517, 'banking': 1518, 'bankruptcy': 1519, 'banks': 1520, 'banner': 1521, 'banners': 1522, 'banquet': 1523, 'bar': 1524, 'barbecue': 1525, 'barbeque': 1526, 'bare': 1527, 'barely': 1528, 'bargain': 1529, 'barrier': 1530, 'bars': 1531, 'base': 1532, 'based': 1533, 'basement': 1534, 'basic': 1535, 'basically': 1536, 'basics': 1537, 'basis': 1538, 'bass': 1539, 'batch': 1540, 'bath': 1541, 'bathhouses': 1542, 'bathroom': 1543, 'bathrooms': 1544, 'baths': 1545, 'bathtub': 1546, 'batteries': 1547, 'battery': 1548, 'battling': 1549, 'bay': 1550, 'be': 1551, 'beach': 1552, 'beaches': 1553, 'beachside': 1554, 'beakers': 1555, 'beam': 1556, 'bean': 1557, 'bear': 1558, 'bearer': 1559, 'bearing': 1560, 'beats': 1561, 'beautiful': 1562, 'beauty': 1563, 'became': 1564, 'because': 1565, 'become': 1566, 'becomes': 1567, 'becoming': 1568, 'bed': 1569, 'bedroom': 1570, 'bedrooms': 1571, 'beds': 1572, 'beef': 1573, 'been': 1574, 'beeps': 1575, 'beer': 1576, 'before': 1577, 'beforehand': 1578, 'beg': 1579, 'began': 1580, 'begging': 1581, 'begin': 1582, 'beginning': 1583, 'behalf': 1584, 'behavior': 1585, 'behind': 1586, 'being': 1587, 'believe': 1588, 'believes': 1589, 'belly': 1590, 'belongs': 1591, 'below': 1592, 'belts': 1593, 'benchtop': 1594, 'bending': 1595, 'beneficial': 1596, 'beneficiaries': 1597, 'benefit': 1598, 'benefits': 1599, 'bento': 1600, 'berthing': 1601, 'beside': 1602, 'besides': 1603, 'best': 1604, 'best-sellers': 1605, 'best-selling': 1606, 'bet': 1607, 'beta': 1608, 'better': 1609, 'between': 1610, 'bevel': 1611, 'beverage': 1612, 'beverages': 1613, 'beyond': 1614, 'biannual': 1615, 'bibimbap': 1616, 'bibimnaengmyun': 1617, 'bid': 1618, 'bidding': 1619, 'big': 1620, 'bigger': 1621, 'biggest': 1622, 'bikes': 1623, 'bill': 1624, 'billboards': 1625, 'billed': 1626, 'billing': 1627, 'billion': 1628, 'bills': 1629, 'bins': 1630, 'biodata': 1631, 'biodegradable': 1632, 'biometrics': 1633, 'bird': 1634, 'birds': 1635, 'birthday': 1636, 'biryani': 1637, 'biscuits': 1638, 'bistro': 1639, 'bit': 1640, 'bitcoin': 1641, 'bite': 1642, 'black': 1643, 'blackout': 1644, 'blades': 1645, 'blanks': 1646, 'blending': 1647, 'blends': 1648, 'blessed': 1649, 'blind': 1650, 'blinking': 1651, 'bliss': 1652, 'block': 1653, 'blockchain': 1654, 'blog': 1655, 'blood': 1656, 'blow': 1657, 'blown': 1658, 'blue': 1659, 'blue-chip': 1660, 'blueprint': 1661, 'blurry': 1662, 'board': 1663, 'boarding': 1664, 'boards': 1665, 'boats': 1666, 'bodies': 1667, 'body': 1668, 'bodysuit': 1669, 'bohemian': 1670, 'boiled': 1671, 'boiling': 1672, 'bokkeum': 1673, 'bold': 1674, 'bolder': 1675, 'bond': 1676, 'bonding': 1677, 'bonds': 1678, 'book': 1679, 'book-running': 1680, 'booked': 1681, 'booking': 1682, 'bookings': 1683, 'bookrunners': 1684, 'books': 1685, 'bookstores': 1686, 'boom': 1687, 'boost': 1688, 'booting': 1689, 'boots': 1690, 'border': 1691, 'bore': 1692, 'bored': 1693, 'boring': 1694, 'born': 1695, 'borrow': 1696, 'borrower': 1697, 'borrowing': 1698, 'boss': 1699, 'bot': 1700, 'both': 1701, 'bothering': 1702, 'bottle': 1703, 'bottles': 1704, 'bottom': 1705, 'bought': 1706, 'bow': 1707, 'bowl': 1708, 'bowls': 1709, 'box': 1710, 'boxes': 1711, 'boy': 1712, 'bragging': 1713, 'braille': 1714, 'brainstorm': 1715, 'brake': 1716, 'branch': 1717, 'branches': 1718, 'brand': 1719, 'brand-new': 1720, 'branded': 1721, 'branding': 1722, 'brands': 1723, 'brave': 1724, 'breach': 1725, 'breached': 1726, 'breaches': 1727, 'bread': 1728, 'break': 1729, 'breakdown': 1730, 'breakdowns': 1731, 'breakeven': 1732, 'breakfast': 1733, 'breast': 1734, 'breathing': 1735, 'breathtaking': 1736, 'breeding': 1737, 'breeze': 1738, 'brewed-beer': 1739, 'bride': 1740, 'bridge': 1741, 'brief': 1742, 'briefing': 1743, 'brilliant': 1744, 'bring': 1745, 'bringer': 1746, 'bringing': 1747, 'brings': 1748, 'broadband': 1749, 'broadcast': 1750, 'broadcasted': 1751, 'broadcasting': 1752, 'brochure': 1753, 'brochures': 1754, 'broken': 1755, 'broker': 1756, 'brokerage': 1757, 'brokerages': 1758, 'brokers': 1759, 'bronze': 1760, 'broth': 1761, 'brother': 1762, 'brought': 1763, 'browse': 1764, 'browser': 1765, 'browsers': 1766, 'browsing': 1767, 'bubble': 1768, 'bucks': 1769, 'budget': 1770, 'buffet': 1771, 'buffet-style': 1772, 'bug': 1773, 'bugs': 1774, 'build': 1775, 'building': 1776, 'builds': 1777, 'built': 1778, 'built-in': 1779, 'bulgogi': 1780, 'bulk': 1781, 'bull': 1782, 'bulldozer': 1783, 'bunch': 1784, 'bundle': 1785, 'burners': 1786, 'bus': 1787, 'buses': 1788, 'business': 1789, 'business-minded': 1790, 'businesses': 1791, 'businessman': 1792, 'businesswoman': 1793, 'busy': 1794, 'but': 1795, 'butterfly': 1796, 'button': 1797, 'buttons': 1798, 'buy': 1799, 'buyer': 1800, 'buyers': 1801, 'buying': 1802, 'by': 1803, 'bye': 1804, 'bytes': 1805, 'ca': 1806, 'cabin': 1807, 'cabinets': 1808, 'cable': 1809, 'caching': 1810, 'cafe': 1811, 'cafeteria': 1812, 'café': 1813, 'cake': 1814, 'cake-making': 1815, 'calculate': 1816, 'calculated': 1817, 'calculations': 1818, 'calendar': 1819, 'call': 1820, 'called': 1821, 'calligraphy': 1822, 'calling': 1823, 'calls': 1824, 'calm': 1825, 'calming': 1826, 'cam': 1827, 'came': 1828, 'camera': 1829, 'cameras': 1830, 'camp': 1831, 'campaign': 1832, 'campaigns': 1833, 'camper': 1834, 'campfire': 1835, 'campground': 1836, 'camping': 1837, 'campsite': 1838, 'campsites': 1839, 'campus': 1840, 'can': 1841, 'cancel': 1842, 'cancelation': 1843, 'cancelations': 1844, 'canceled': 1845, 'canceling': 1846, 'cancellation': 1847, 'cancellations': 1848, 'cancelled': 1849, 'candies': 1850, 'candles': 1851, 'canteen': 1852, 'capable': 1853, 'capacity': 1854, 'capital': 1855, 'capitalists': 1856, 'capture': 1857, 'capturing': 1858, 'car': 1859, 'carbon': 1860, 'carburetor': 1861, 'carburetors': 1862, 'card': 1863, 'cardiac': 1864, 'cards': 1865, 'care': 1866, 'career': 1867, 'careers': 1868, 'careful': 1869, 'carefully': 1870, 'cargo': 1871, 'carpeted': 1872, 'carried': 1873, 'carrier': 1874, 'carrot': 1875, 'carry': 1876, 'carrying': 1877, 'cars': 1878, 'cart': 1879, 'carton': 1880, 'cartoon': 1881, 'carts': 1882, 'case': 1883, 'case-by-case': 1884, 'cases': 1885, 'cash': 1886, 'cashier': 1887, 'cashless': 1888, 'casino': 1889, 'cast': 1890, 'casual': 1891, 'casualties': 1892, 'cat': 1893, 'catalog': 1894, 'catalogue': 1895, 'catastrophe': 1896, 'catch': 1897, 'categories': 1898, 'category': 1899, 'cater': 1900, 'caterers': 1901, 'catering': 1902, 'caterpillar': 1903, 'caught': 1904, 'cause': 1905, 'caused': 1906, 'causes': 1907, 'causing': 1908, 'cautious': 1909, 'cautiously': 1910, 'ceiling': 1911, 'ceilings': 1912, 'celebrate': 1913, 'celebration': 1914, 'celebrities': 1915, 'celebrity': 1916, 'celeriac': 1917, 'cell': 1918, 'center': 1919, 'centers': 1920, 'centrifugal': 1921, 'centrifuge': 1922, 'centrifuges': 1923, 'cents': 1924, 'century': 1925, 'ceremonies': 1926, 'ceremony': 1927, 'certain': 1928, 'certainly': 1929, 'certificate': 1930, 'certificates': 1931, 'certification': 1932, 'certified': 1933, 'chain': 1934, 'chair': 1935, 'chairman': 1936, 'chairs': 1937, 'challenge': 1938, 'challenged': 1939, 'challenges': 1940, 'challenging': 1941, 'chamber': 1942, 'champagne': 1943, 'chance': 1944, 'chances': 1945, 'change': 1946, 'changed': 1947, 'changes': 1948, 'changing': 1949, 'channel': 1950, 'channels': 1951, 'chapbooks': 1952, 'characteristics': 1953, 'characters': 1954, 'charcoal': 1955, 'charge': 1956, 'charged': 1957, 'charger': 1958, 'charges': 1959, 'charging': 1960, 'charitable': 1961, 'charity': 1962, 'charm': 1963, 'chart': 1964, 'chasing': 1965, 'chat': 1966, 'chatroom': 1967, 'cheap': 1968, 'cheaper': 1969, 'cheapest': 1970, 'check': 1971, 'check-in': 1972, 'checked': 1973, 'checking': 1974, 'checklist': 1975, 'checkout': 1976, 'checks': 1977, 'checkup': 1978, 'cheerful': 1979, 'cheers': 1980, 'cheesecakes': 1981, 'chef': 1982, 'chefs': 1983, 'chemistry': 1984, 'cheque': 1985, 'chew': 1986, 'chicken': 1987, 'child': 1988, 'childhood': 1989, 'children': 1990, 'chili': 1991, 'chill': 1992, 'chilled': 1993, 'chimaek': 1994, 'chips': 1995, 'chipsets': 1996, 'chitchat': 1997, 'chocolate': 1998, 'choice': 1999, 'choices': 2000, 'choose': 2001, 'choosing': 2002, 'chopstick': 2003, 'chopsticks': 2004, 'chores': 2005, 'chose': 2006, 'chosen': 2007, 'ciphertext': 2008, 'circuits': 2009, 'circulation': 2010, 'circumstance': 2011, 'circumstances': 2012, 'cities': 2013, 'citizen': 2014, 'citizens': 2015, 'citizenship': 2016, 'city': 2017, 'civil': 2018, 'claim': 2019, 'claiming': 2020, 'claims': 2021, 'clarify': 2022, 'clarifying': 2023, 'clarity': 2024, 'class': 2025, 'classes': 2026, 'classification': 2027, 'classmates': 2028, 'classroom': 2029, 'classrooms': 2030, 'clauses': 2031, 'clean': 2032, 'clean-down': 2033, 'cleaner': 2034, 'cleaners': 2035, 'cleaning': 2036, 'cleansing': 2037, 'clear': 2038, 'clearance': 2039, 'cleared': 2040, 'clearer': 2041, 'clearly': 2042, 'clerk': 2043, 'clever': 2044, 'click': 2045, 'click-through': 2046, 'client': 2047, 'clientele': 2048, 'clients': 2049, 'climate': 2050, 'clinic': 2051, 'clinical': 2052, 'clip': 2053, 'clips': 2054, 'clock': 2055, 'clogged': 2056, 'close': 2057, 'closed': 2058, 'closed-couple': 2059, 'closely': 2060, 'closer': 2061, 'closes': 2062, 'closest': 2063, 'closet': 2064, 'closing': 2065, 'clothes': 2066, 'clothing': 2067, 'cloud': 2068, 'clouds': 2069, 'clubhouse': 2070, 'cluster': 2071, 'co-arrangers': 2072, 'co-living': 2073, 'co-location': 2074, 'coach': 2075, 'coaches': 2076, 'coaching': 2077, 'coarrangers': 2078, 'coastal': 2079, 'cocks': 2080, 'cocktails': 2081, 'coconut': 2082, 'code': 2083, 'codebreaker': 2084, 'codes': 2085, 'coding': 2086, 'coffee': 2087, 'cogent': 2088, 'coins': 2089, 'cold': 2090, 'coliving': 2091, 'collaborate': 2092, 'collaborating': 2093, 'collaboration': 2094, 'collar': 2095, 'collateral': 2096, 'colleague': 2097, 'colleagues': 2098, 'collect': 2099, 'collectibles': 2100, 'collecting': 2101, 'collection': 2102, 'collective': 2103, 'collects': 2104, 'college': 2105, 'colleges': 2106, 'color': 2107, 'colored': 2108, 'colors': 2109, 'column': 2110, 'combination': 2111, 'combinations': 2112, 'combine': 2113, 'combustion': 2114, 'come': 2115, 'comes': 2116, 'comfort': 2117, 'comfortable': 2118, 'comfortably': 2119, 'coming': 2120, 'commemorative': 2121, 'comment': 2122, 'comments': 2123, 'commercial': 2124, 'commission': 2125, 'commissioned': 2126, 'commissions': 2127, 'commit': 2128, 'commitment': 2129, 'commitments': 2130, 'committed': 2131, 'commodity': 2132, 'common': 2133, 'commonly': 2134, 'communal': 2135, 'communicate': 2136, 'communicated': 2137, 'communicating': 2138, 'communication': 2139, 'communications': 2140, 'communicative': 2141, 'communicator': 2142, 'communities': 2143, 'community': 2144, 'commuting': 2145, 'companies': 2146, 'company': 2147, 'compare': 2148, 'compared': 2149, 'comparison': 2150, 'compartments': 2151, 'compassionate': 2152, 'compatible': 2153, 'compelling': 2154, 'compensate': 2155, 'compensated': 2156, 'compensation': 2157, 'compete': 2158, 'competition': 2159, 'competitive': 2160, 'competitiveness': 2161, 'competitors': 2162, 'compiling': 2163, 'complain': 2164, 'complained': 2165, 'complaining': 2166, 'complaint': 2167, 'complaints': 2168, 'complete': 2169, 'completed': 2170, 'completely': 2171, 'completion': 2172, 'complex': 2173, 'compliance': 2174, 'complicated': 2175, 'complied': 2176, 'compliment': 2177, 'complimentary': 2178, 'compliments': 2179, 'comply': 2180, 'component': 2181, 'components': 2182, 'composed': 2183, 'composer': 2184, 'compound': 2185, 'comprehension': 2186, 'comprehensive': 2187, 'compressed': 2188, 'compression': 2189, 'compressor': 2190, 'compressors': 2191, 'compromise': 2192, 'compromising': 2193, 'computer': 2194, 'computers': 2195, 'computing': 2196, 'concentrate': 2197, 'concept': 2198, 'concepts': 2199, 'conceptual': 2200, 'concern': 2201, 'concerned': 2202, 'concerning': 2203, 'concerns': 2204, 'concert': 2205, 'concerts': 2206, 'concessions': 2207, 'conclusion': 2208, 'concrete': 2209, 'concretely': 2210, 'condenser': 2211, 'condiments': 2212, 'condition': 2213, 'conditioner': 2214, 'conditioning': 2215, 'conditions': 2216, 'condo': 2217, 'conduct': 2218, 'conducted': 2219, 'conducting': 2220, 'conductors': 2221, 'conference': 2222, 'conferences': 2223, 'conferencing': 2224, 'confidence': 2225, 'confident': 2226, 'confidential': 2227, 'confidentiality': 2228, 'configurations': 2229, 'configure': 2230, 'confirm': 2231, 'confirmation': 2232, 'confirmed': 2233, 'confirming': 2234, 'confused': 2235, 'congested': 2236, 'congestion': 2237, 'congrats': 2238, 'congratulate': 2239, 'congratulations': 2240, 'connect': 2241, 'connected': 2242, 'connecting': 2243, 'connection': 2244, 'connections': 2245, 'connectivity': 2246, 'connects': 2247, 'cons': 2248, 'conscientious': 2249, 'conscious': 2250, 'consciousness': 2251, 'consequences': 2252, 'consider': 2253, 'considerable': 2254, 'consideration': 2255, 'considered': 2256, 'considering': 2257, 'consignment': 2258, 'consist': 2259, 'consistent': 2260, 'consists': 2261, 'consoles': 2262, 'consolidate': 2263, 'constant': 2264, 'constantly': 2265, 'construct': 2266, 'constructed': 2267, 'construction': 2268, 'constructive': 2269, 'consult': 2270, 'consultancy': 2271, 'consultant': 2272, 'consultants': 2273, 'consultation': 2274, 'consulted': 2275, 'consulting': 2276, 'consume': 2277, 'consumers': 2278, 'consumption': 2279, 'contact': 2280, 'contacted': 2281, 'contacting': 2282, 'contacts': 2283, 'contain': 2284, 'container': 2285, 'containers': 2286, 'containing': 2287, 'contains': 2288, 'contemplate': 2289, 'contemporary': 2290, 'contenders': 2291, 'content': 2292, 'content-focused': 2293, 'contents': 2294, 'context': 2295, 'continent': 2296, 'continental': 2297, 'continue': 2298, 'continuous': 2299, 'continuously': 2300, 'contract': 2301, 'contracted': 2302, 'contracts': 2303, 'contrary': 2304, 'contribute': 2305, 'contributed': 2306, 'contributes': 2307, 'contribution': 2308, 'contributors': 2309, 'control': 2310, 'controlled': 2311, 'controversial': 2312, 'convenience': 2313, 'convenient': 2314, 'conventional': 2315, 'conversation': 2316, 'conversational': 2317, 'conversations': 2318, 'conversion': 2319, 'conversions': 2320, 'converted': 2321, 'converting': 2322, 'convey': 2323, 'conveyor': 2324, 'conveyors': 2325, 'convince': 2326, 'convincing': 2327, 'cook': 2328, 'cooked': 2329, 'cookies': 2330, 'cooking': 2331, 'cooks': 2332, 'cool': 2333, 'cooldown': 2334, 'coolers': 2335, 'cooling': 2336, 'cooperation': 2337, 'cooperative': 2338, 'cooperatives': 2339, 'coordinate': 2340, 'coordinates': 2341, 'copay': 2342, 'copiers': 2343, 'copies': 2344, 'copy': 2345, 'copyediting': 2346, 'copyright': 2347, 'copyrighted': 2348, 'copyrights': 2349, 'cords': 2350, 'core': 2351, 'corkage': 2352, 'corn': 2353, 'corner': 2354, 'coronavirus': 2355, 'corporate': 2356, 'corporation': 2357, 'corporations': 2358, 'correct': 2359, 'correctly': 2360, 'cosigner': 2361, 'cosmetic': 2362, 'cosmetics': 2363, 'cosmic': 2364, 'cost': 2365, 'cost-effective': 2366, 'costs': 2367, 'cotton': 2368, 'could': 2369, 'council': 2370, 'counseling': 2371, 'count': 2372, 'countdown': 2373, 'counterpart': 2374, 'counting': 2375, 'countries': 2376, 'country': 2377, 'countryside': 2378, 'couple': 2379, 'coupled': 2380, 'coupon': 2381, 'courier': 2382, 'course': 2383, 'coursed': 2384, 'courses': 2385, 'court': 2386, 'cousin': 2387, 'cover': 2388, 'coverage': 2389, 'covered': 2390, 'covers': 2391, 'cozy': 2392, 'crab': 2393, 'cracks': 2394, 'crane': 2395, 'cranes': 2396, 'crash': 2397, 'crashed': 2398, 'crashing': 2399, 'cream': 2400, 'create': 2401, 'created': 2402, 'creates': 2403, 'creating': 2404, 'creation': 2405, 'creative': 2406, 'creatives': 2407, 'creator': 2408, 'creators': 2409, 'credentials': 2410, 'credit': 2411, 'credited': 2412, 'creditor': 2413, 'creditors': 2414, 'credits': 2415, 'creditworthy': 2416, 'crib': 2417, 'crime': 2418, 'crimes': 2419, 'criminals': 2420, 'criteria': 2421, 'critical': 2422, 'critics': 2423, 'croissants': 2424, 'crooks': 2425, 'crop': 2426, 'crops': 2427, 'cross': 2428, 'cross-border': 2429, 'crossed': 2430, 'crowd': 2431, 'crowdfunding': 2432, 'crucial': 2433, 'crude': 2434, 'crux': 2435, 'crypto': 2436, 'cryptocurrencies': 2437, 'cryptocurrency': 2438, 'cryptography': 2439, 'cues': 2440, 'cuisine': 2441, 'culinary': 2442, 'culprits': 2443, 'cultivating': 2444, 'cultural': 2445, 'culture': 2446, 'cumbersome': 2447, 'cup': 2448, 'curious': 2449, 'currencies': 2450, 'currency': 2451, 'current': 2452, 'currently': 2453, 'cursive': 2454, 'curtains': 2455, 'curve': 2456, 'cushion': 2457, 'custom-made': 2458, 'custom-order': 2459, 'custom-wise': 2460, 'customer': 2461, 'customers': 2462, 'customizable': 2463, 'customization': 2464, 'customize': 2465, 'customized': 2466, 'customs': 2467, 'cut': 2468, 'cutlery': 2469, 'cuts': 2470, 'cutter': 2471, 'cutters': 2472, 'cutting': 2473, 'cutting-edge': 2474, 'cyber': 2475, 'cybercrime': 2476, 'cybersecurity': 2477, 'cycle': 2478, 'cylinder-shaped': 2479, 'cylinders': 2480, 'daily': 2481, 'dairy': 2482, 'damage': 2483, 'damaged': 2484, 'damages': 2485, 'dancing': 2486, 'dangerous': 2487, 'dangers': 2488, 'dark': 2489, 'data': 2490, 'data-saver': 2491, 'database': 2492, 'date': 2493, 'dated': 2494, 'dates': 2495, 'dating': 2496, 'daunting': 2497, 'day': 2498, 'days': 2499, 'deadline': 2500, 'deadlines': 2501, 'deaf': 2502, 'deal': 2503, 'dealer': 2504, 'dealers': 2505, 'dealership': 2506, 'dealing': 2507, 'deals': 2508, 'debit': 2509, 'debt': 2510, 'debt-financed': 2511, 'debtee': 2512, 'debtor': 2513, 'debtors': 2514, 'debts': 2515, 'debut': 2516, 'decade': 2517, 'decades': 2518, 'decent': 2519, 'decide': 2520, 'decided': 2521, 'decides': 2522, 'deciding': 2523, 'decision': 2524, 'decisions': 2525, 'deck': 2526, 'decks': 2527, 'declare': 2528, 'decline': 2529, 'declined': 2530, 'declining': 2531, 'decode': 2532, 'decorate': 2533, 'decorations': 2534, 'decrease': 2535, 'decryption': 2536, 'dedicate': 2537, 'dedicated': 2538, 'deduct': 2539, 'deducted': 2540, 'deducting': 2541, 'deeds': 2542, 'deep': 2543, 'deeply': 2544, 'default': 2545, 'defaulter': 2546, 'defect': 2547, 'defective': 2548, 'defects': 2549, 'defense': 2550, 'deficit': 2551, 'deficits': 2552, 'defined': 2553, 'definite': 2554, 'definitely': 2555, 'degree': 2556, 'dehydration': 2557, 'delay': 2558, 'delayed': 2559, 'delays': 2560, 'delegates': 2561, 'delete': 2562, 'deleted': 2563, 'delicious': 2564, 'delight': 2565, 'delighted': 2566, 'delightful': 2567, 'delineates': 2568, 'deliver': 2569, 'delivered': 2570, 'deliveries': 2571, 'delivering': 2572, 'delivers': 2573, 'delivery': 2574, 'deluxe': 2575, 'demand': 2576, 'demanded': 2577, 'demanding': 2578, 'demands': 2579, 'demat': 2580, 'demerits': 2581, 'demographics': 2582, 'demonstration': 2583, 'demos': 2584, 'dental': 2585, 'deny': 2586, 'department': 2587, 'departments': 2588, 'depend': 2589, 'dependable': 2590, 'dependents': 2591, 'depending': 2592, 'depends': 2593, 'deploy': 2594, 'deployment': 2595, 'deposit': 2596, 'deposited': 2597, 'depositing': 2598, 'deposits': 2599, 'derrick': 2600, 'describe': 2601, 'description': 2602, 'descriptions': 2603, 'deserve': 2604, 'design': 2605, 'designation': 2606, 'designed': 2607, 'designer': 2608, 'designers': 2609, 'designs': 2610, 'desire': 2611, 'desired': 2612, 'desk': 2613, 'desktop': 2614, 'desperately': 2615, 'despite': 2616, 'dessert': 2617, 'desserts': 2618, 'destination': 2619, 'destinations': 2620, 'destroys': 2621, 'detail': 2622, 'detailed': 2623, 'detailing': 2624, 'details': 2625, 'detected': 2626, 'detects': 2627, 'determine': 2628, 'determined': 2629, 'determines': 2630, 'determining': 2631, 'develop': 2632, 'developed': 2633, 'developer': 2634, 'developers': 2635, 'developing': 2636, 'development': 2637, 'developments': 2638, 'develops': 2639, 'deviate': 2640, 'device': 2641, 'devices': 2642, 'devoted': 2643, 'devoting': 2644, 'diagnosis': 2645, 'diagnostics': 2646, 'dial': 2647, 'dialed': 2648, 'diameter': 2649, 'did': 2650, 'diesel': 2651, 'diet': 2652, 'dietary': 2653, 'differ': 2654, 'difference': 2655, 'differences': 2656, 'different': 2657, 'differentiates': 2658, 'differently': 2659, 'difficult': 2660, 'difficulties': 2661, 'difficulty': 2662, 'digital': 2663, 'digitalize': 2664, 'digits': 2665, 'diligence': 2666, 'diligently': 2667, 'dimension': 2668, 'dimensions': 2669, 'dine': 2670, 'dining': 2671, 'dinner': 2672, 'dinning': 2673, 'dip': 2674, 'diplomas': 2675, 'dipped': 2676, 'direct': 2677, 'directed': 2678, 'direction': 2679, 'directly': 2680, 'director': 2681, 'directors': 2682, 'disabilities': 2683, 'disabled': 2684, 'disabled-friendly': 2685, 'disagree': 2686, 'disappointed': 2687, 'disappointment': 2688, 'disaster': 2689, 'disasters': 2690, 'disc': 2691, 'discount': 2692, 'discounted': 2693, 'discounts': 2694, 'discover': 2695, 'discovered': 2696, 'discovery': 2697, 'discrepancies': 2698, 'discuss': 2699, 'discussed': 2700, 'discussing': 2701, 'discussion': 2702, 'discussions': 2703, 'disease': 2704, 'diseases': 2705, 'dish': 2706, 'dishe': 2707, 'dishes': 2708, 'dismantle': 2709, 'dispatch': 2710, 'dispatched': 2711, 'dispatching': 2712, 'dispersing': 2713, 'display': 2714, 'displayed': 2715, 'displaying': 2716, 'disposal': 2717, 'disputes': 2718, 'disruption': 2719, 'distance': 2720, 'distinct': 2721, 'distinction': 2722, 'distinguish': 2723, 'distract': 2724, 'distress': 2725, 'distribute': 2726, 'distributed': 2727, 'distributing': 2728, 'distribution': 2729, 'distributor': 2730, 'distributorship': 2731, 'district': 2732, 'disturb': 2733, 'disturbed': 2734, 'disturbing': 2735, 'diverse': 2736, 'diversify': 2737, 'diversity': 2738, 'diverting': 2739, 'divide': 2740, 'divided': 2741, 'dividend': 2742, 'division': 2743, 'do': 2744, 'doable': 2745, 'doctor': 2746, 'doctors': 2747, 'document': 2748, 'documentaries': 2749, 'documentary': 2750, 'documentation': 2751, 'documenting': 2752, 'documents': 2753, 'does': 2754, 'dog': 2755, 'dogs': 2756, 'doing': 2757, 'doings': 2758, 'doljanchi': 2759, 'dollar': 2760, 'dollars': 2761, 'domain': 2762, 'dome': 2763, 'domestic': 2764, 'donate': 2765, 'donation-based': 2766, 'donations': 2767, 'done': 2768, 'donut': 2769, 'door': 2770, 'doors': 2771, 'dorm': 2772, 'dormitory': 2773, 'dormitory-style': 2774, 'dosirak': 2775, 'double': 2776, 'double-check': 2777, 'double-checked': 2778, 'doubled': 2779, 'doubt': 2780, 'doubts': 2781, 'down': 2782, 'downhill': 2783, 'download': 2784, 'downloaded': 2785, 'downpayment': 2786, 'downs': 2787, 'downside': 2788, 'downtown': 2789, 'downturn': 2790, 'dozers': 2791, 'draft': 2792, 'drafted': 2793, 'drafting': 2794, 'drafts': 2795, 'drain': 2796, 'dramas': 2797, 'dramatically': 2798, 'draw': 2799, 'drawer': 2800, 'drawing': 2801, 'drawings': 2802, 'draws': 2803, 'dress': 2804, 'dressers': 2805, 'dressing': 2806, 'drilling': 2807, 'drink': 2808, 'drinking': 2809, 'drinks': 2810, 'drive': 2811, 'driven': 2812, 'driver': 2813, 'drivers': 2814, 'driving': 2815, 'drop': 2816, 'dropped': 2817, 'dropping': 2818, 'drops': 2819, 'drug': 2820, 'drum': 2821, 'dry': 2822, 'dryer': 2823, 'dual': 2824, 'dual-fuel': 2825, 'dude': 2826, 'due': 2827, 'duly': 2828, 'dump': 2829, 'dumpling': 2830, 'duplicate': 2831, 'durable': 2832, 'duration': 2833, 'during': 2834, 'dust': 2835, 'duties': 2836, 'duty': 2837, 'dyeing': 2838, 'dying': 2839, 'e-book': 2840, 'e-commerce': 2841, 'e-learning': 2842, 'e-library': 2843, 'e-payment': 2844, 'e-signature': 2845, 'e.g.': 2846, 'each': 2847, 'eager': 2848, 'eagerly': 2849, 'earlier': 2850, 'earliest': 2851, 'early': 2852, 'earn': 2853, 'earnings': 2854, 'ears': 2855, 'earth-tone': 2856, 'ease': 2857, 'eased': 2858, 'easier': 2859, 'easiest': 2860, 'easily': 2861, 'easing': 2862, 'easy': 2863, 'eat': 2864, 'eaten': 2865, 'eating': 2866, 'echo': 2867, 'eclectic': 2868, 'eco-friendly': 2869, 'economy': 2870, 'ecstatic': 2871, 'edit': 2872, 'edited': 2873, 'editing': 2874, 'edition': 2875, 'editorial': 2876, 'editors': 2877, 'educate': 2878, 'educated': 2879, 'educating': 2880, 'education': 2881, 'educational': 2882, 'edutainment': 2883, 'effect': 2884, 'effective': 2885, 'effectively': 2886, 'effectiveness': 2887, 'effects': 2888, 'efficiency': 2889, 'efficient': 2890, 'efficiently': 2891, 'effort': 2892, 'efforts': 2893, 'egg': 2894, 'eggs': 2895, 'eight': 2896, 'eight-course': 2897, 'either': 2898, 'ejection': 2899, 'elaborate': 2900, 'elder': 2901, 'elders': 2902, 'eldest': 2903, 'electric': 2904, 'electric-': 2905, 'electrical': 2906, 'electricity': 2907, 'electro-hydraulic': 2908, 'electroencephalography': 2909, 'electromagnetic': 2910, 'electronic': 2911, 'electronically': 2912, 'electronics': 2913, 'elegant': 2914, 'element': 2915, 'elements': 2916, 'elevated': 2917, 'eligibility': 2918, 'eligible': 2919, 'eliminate': 2920, 'elliptical': 2921, 'else': 2922, 'elsewhere': 2923, 'email': 2924, 'email.com': 2925, 'emailed': 2926, 'emailing': 2927, 'emails': 2928, 'embarrassed': 2929, 'embody': 2930, 'embossing': 2931, 'embroidery': 2932, 'emergencies': 2933, 'emergency': 2934, 'emerging': 2935, 'emotions': 2936, 'emphasis': 2937, 'employ': 2938, 'employee': 2939, 'employees': 2940, 'employers': 2941, 'employing': 2942, 'empty': 2943, 'empty-handed': 2944, 'emulsion': 2945, 'enable': 2946, 'enabled': 2947, 'enables': 2948, 'encapsulation': 2949, 'encoded': 2950, 'encounter': 2951, 'encountered': 2952, 'encourage': 2953, 'encourages': 2954, 'encrypt': 2955, 'encrypted': 2956, 'encryption': 2957, 'end': 2958, 'end-to-end': 2959, 'endangering': 2960, 'ended': 2961, 'ending': 2962, 'ends': 2963, 'energy': 2964, 'enforce': 2965, 'enforced': 2966, 'enforcements': 2967, 'engage': 2968, 'engaged': 2969, 'engagements': 2970, 'engaging': 2971, 'engine': 2972, 'engineer': 2973, 'engineering': 2974, 'engineers': 2975, 'engines': 2976, 'enhance': 2977, 'enhanced': 2978, 'enhancement': 2979, 'enhances': 2980, 'enjoy': 2981, 'enjoyed': 2982, 'enjoying': 2983, 'enlighten': 2984, 'enlist': 2985, 'enormously': 2986, 'enough': 2987, 'enquire': 2988, 'enroll': 2989, 'enrolled': 2990, 'ensure': 2991, 'ensured': 2992, 'ensures': 2993, 'entail': 2994, 'enter': 2995, 'entered': 2996, 'entering': 2997, 'enterprise': 2998, 'enterprises': 2999, 'enters': 3000, 'entertain': 3001, 'entertained': 3002, 'entertaining': 3003, 'entertainment': 3004, 'entire': 3005, 'entirely': 3006, 'entitled': 3007, 'entity': 3008, 'entrance': 3009, 'entree': 3010, 'entrees': 3011, 'entrepreneur': 3012, 'entrepreneurship': 3013, 'entries': 3014, 'environment': 3015, 'environmental': 3016, 'environments': 3017, 'episode': 3018, 'episodes': 3019, 'equal': 3020, 'equals': 3021, 'equipment': 3022, 'equipments': 3023, 'equipped': 3024, 'equity': 3025, 'equivalent': 3026, 'erased': 3027, 'erecting': 3028, 'error': 3029, 'errors': 3030, 'escalated': 3031, 'escaping': 3032, 'especially': 3033, 'essential': 3034, 'essentially': 3035, 'establish': 3036, 'established': 3037, 'establishing': 3038, 'establishment': 3039, 'establishments': 3040, 'estate': 3041, 'estimate': 3042, 'estimated': 3043, 'estimates': 3044, 'etc': 3045, 'ethical': 3046, 'etiquette': 3047, 'evacuation': 3048, 'evading': 3049, 'evaluate': 3050, 'evaluated': 3051, 'evaluating': 3052, 'evaluation': 3053, 'evaporator': 3054, 'evasion': 3055, 'even': 3056, 'evening': 3057, 'event': 3058, 'events': 3059, 'eventuality': 3060, 'eventually': 3061, 'ever': 3062, 'every': 3063, 'everyday': 3064, 'everyone': 3065, 'everything': 3066, 'evidence': 3067, 'evidentiary': 3068, 'evil': 3069, 'evolution': 3070, 'evolved': 3071, 'evolving': 3072, 'exact': 3073, 'exactly': 3074, 'exam': 3075, 'examined': 3076, 'example': 3077, 'examples': 3078, 'exams': 3079, 'excavator': 3080, 'excavators': 3081, 'exceeded': 3082, 'exceeds': 3083, 'excellent': 3084, 'except': 3085, 'exceptional': 3086, 'excess': 3087, 'exchange': 3088, 'exchanges': 3089, 'exchanging': 3090, 'excited': 3091, 'exciting': 3092, 'exclude': 3093, 'excluding': 3094, 'exclusive': 3095, 'exclusively': 3096, 'excuse': 3097, 'excused': 3098, 'excuses': 3099, 'execute': 3100, 'executes': 3101, 'execution': 3102, 'executive': 3103, 'executives': 3104, 'executor': 3105, 'exerting': 3106, 'exhausted': 3107, 'exhibit': 3108, 'exhibition': 3109, 'exihibit': 3110, 'exist': 3111, 'existing': 3112, 'exit': 3113, 'exotic': 3114, 'expand': 3115, 'expandable': 3116, 'expanded': 3117, 'expanding': 3118, 'expansion': 3119, 'expat': 3120, 'expect': 3121, 'expectations': 3122, 'expected': 3123, 'expecting': 3124, 'expedition': 3125, 'expenditure': 3126, 'expenditures': 3127, 'expense': 3128, 'expenses': 3129, 'expensive': 3130, 'experience': 3131, 'experienced': 3132, 'experiences': 3133, 'experiencing': 3134, 'experimental': 3135, 'expert': 3136, 'expertise': 3137, 'experts': 3138, 'expire': 3139, 'expires': 3140, 'explain': 3141, 'explained': 3142, 'explaining': 3143, 'explains': 3144, 'explanation': 3145, 'explanations': 3146, 'exploration': 3147, 'explore': 3148, 'expo': 3149, 'export': 3150, 'exported': 3151, 'exporter': 3152, 'exporting': 3153, 'exports': 3154, 'exposes': 3155, 'exposure': 3156, 'express': 3157, 'expressions': 3158, 'exquisite': 3159, 'extend': 3160, 'extended': 3161, 'extender': 3162, 'extenders': 3163, 'extending': 3164, 'extends': 3165, 'extension': 3166, 'extensive': 3167, 'exterior': 3168, 'external': 3169, 'externally': 3170, 'extra': 3171, 'extract': 3172, 'extraction': 3173, 'extracts': 3174, 'extremely': 3175, 'extruder': 3176, 'extruders': 3177, 'eye': 3178, 'eyes': 3179, 'fabric': 3180, 'fabrication': 3181, 'face': 3182, 'faced': 3183, 'faces': 3184, 'facial': 3185, 'facilitate': 3186, 'facilities': 3187, 'facility': 3188, 'facing': 3189, 'fact': 3190, 'factor': 3191, 'factors': 3192, 'factory': 3193, 'factual': 3194, 'factually': 3195, 'faculty': 3196, 'fail': 3197, 'failed': 3198, 'fails': 3199, 'failure': 3200, 'fair': 3201, 'fairly': 3202, 'fall': 3203, 'fallen': 3204, 'falling': 3205, 'fallout': 3206, 'falls': 3207, 'familiar': 3208, 'families': 3209, 'family': 3210, 'family-friendly': 3211, 'famous': 3212, 'fan': 3213, 'fanbase': 3214, 'fancy': 3215, 'fans': 3216, 'fantastic': 3217, 'far': 3218, 'fare': 3219, 'farm': 3220, 'farmers': 3221, 'farthest': 3222, 'fascinating': 3223, 'fashion': 3224, 'fast': 3225, 'fast-casual': 3226, 'fast-food': 3227, 'fast-moving': 3228, 'fasteners': 3229, 'faster': 3230, 'fastest': 3231, 'fat': 3232, 'father': 3233, 'fault': 3234, 'faulty': 3235, 'favor': 3236, 'favorable': 3237, 'favorite': 3238, 'favorites': 3239, 'favoritism': 3240, 'fax': 3241, 'fear': 3242, 'feasibility': 3243, 'feasible': 3244, 'feature': 3245, 'featured': 3246, 'features': 3247, 'featuring': 3248, 'fee': 3249, 'feeble': 3250, 'feedback': 3251, 'feel': 3252, 'feeling': 3253, 'feelings': 3254, 'feels': 3255, 'fees': 3256, 'feet': 3257, 'fellow': 3258, 'female': 3259, 'fertilizing': 3260, 'fetch': 3261, 'few': 3262, 'fiat-wise': 3263, 'fiber': 3264, 'fibers': 3265, 'fibrous': 3266, 'field': 3267, 'fields': 3268, 'figurative': 3269, 'figures': 3270, 'file': 3271, 'file-sharing': 3272, 'filed': 3273, 'files': 3274, 'filing': 3275, 'fill': 3276, 'filled': 3277, 'filling': 3278, 'fills': 3279, 'film': 3280, 'films': 3281, 'filter': 3282, 'filtered': 3283, 'filters': 3284, 'filtration': 3285, 'final': 3286, 'finalize': 3287, 'finalized': 3288, 'finalizing': 3289, 'finally': 3290, 'finance': 3291, 'financer': 3292, 'finances': 3293, 'financial': 3294, 'financially': 3295, 'financiers': 3296, 'financing': 3297, 'find': 3298, 'finding': 3299, 'finds': 3300, 'fine': 3301, 'finer': 3302, 'finest': 3303, 'fingerprint': 3304, 'finish': 3305, 'finished': 3306, 'fire': 3307, 'fired': 3308, 'fireplace': 3309, 'firewall': 3310, 'firewalls': 3311, 'firm': 3312, 'firms': 3313, 'first': 3314, 'first-come-first-served': 3315, 'first-year': 3316, 'fish': 3317, 'fit': 3318, 'fitness': 3319, 'fits': 3320, 'five': 3321, 'five-dollar': 3322, 'five-million-dollar': 3323, 'five-minute': 3324, 'five-star': 3325, 'five-year': 3326, 'fiver': 3327, 'fix': 3328, 'fixed': 3329, 'flag': 3330, 'flame': 3331, 'flanged': 3332, 'flare': 3333, 'flash': 3334, 'flat': 3335, 'flatmates': 3336, 'flatten': 3337, 'flavor': 3338, 'flavorful': 3339, 'flavors': 3340, 'flew': 3341, 'flexibility': 3342, 'flexible': 3343, 'flight': 3344, 'flights': 3345, 'flip': 3346, 'float': 3347, 'floating': 3348, 'floor': 3349, 'floors': 3350, 'flour': 3351, 'flowchart': 3352, 'flows': 3353, 'fluctuate': 3354, 'fluctuations': 3355, 'fly': 3356, 'flying': 3357, 'flywheel': 3358, 'fo': 3359, 'foam': 3360, 'focus': 3361, 'focused': 3362, 'focuses': 3363, 'focusing': 3364, 'folder': 3365, 'folders': 3366, 'follow': 3367, 'follow-up': 3368, 'followed': 3369, 'followers': 3370, 'following': 3371, 'follows': 3372, 'font': 3373, 'fonts': 3374, 'food': 3375, 'food-related': 3376, 'foods': 3377, 'fooled': 3378, 'foot': 3379, 'footage': 3380, 'footprint': 3381, 'footsteps': 3382, 'for': 3383, 'forbidden': 3384, 'forced': 3385, 'forecast': 3386, 'forecasted': 3387, 'foreign': 3388, 'foreigner': 3389, 'foreigners': 3390, 'forever': 3391, 'forget': 3392, 'forgot': 3393, 'forklift': 3394, 'forklifts': 3395, 'form': 3396, 'formal': 3397, 'formalities': 3398, 'format': 3399, 'former': 3400, 'forms': 3401, 'formula': 3402, 'fortunate': 3403, 'forward': 3404, 'forwarded': 3405, 'forwarder': 3406, 'found': 3407, 'foundation': 3408, 'founders': 3409, 'four': 3410, 'four-bedroom': 3411, 'four-person': 3412, 'four-wheel': 3413, 'frame': 3414, 'frames': 3415, 'framework': 3416, 'franchise': 3417, 'fraud': 3418, 'fraudulent': 3419, 'free': 3420, 'freebie': 3421, 'freelancer': 3422, 'freight': 3423, 'frequency': 3424, 'frequent': 3425, 'frequently': 3426, 'fresh': 3427, 'freshwater': 3428, 'fried': 3429, 'friend': 3430, 'friendly': 3431, 'friends': 3432, 'from': 3433, 'front': 3434, 'frugal': 3435, 'fruit': 3436, 'fruitful': 3437, 'fruity': 3438, 'frustrating': 3439, 'fuel': 3440, 'fulfill': 3441, 'fulfilled': 3442, 'fulfilling': 3443, 'full': 3444, 'full-body': 3445, 'full-time': 3446, 'fully': 3447, 'fully-equipped': 3448, 'fully-furnished': 3449, 'fun': 3450, 'function': 3451, 'functional': 3452, 'functioning': 3453, 'functions': 3454, 'fund': 3455, 'fundamental': 3456, 'fundamentals': 3457, 'funded': 3458, 'funding': 3459, 'fundraisers': 3460, 'fundraising': 3461, 'funds': 3462, 'funny': 3463, 'furnish': 3464, 'furnished': 3465, 'furnishings': 3466, 'furniture': 3467, 'further': 3468, 'fusion': 3469, 'fuss': 3470, 'future': 3471, 'futures': 3472, 'futuristic': 3473, 'gadgets': 3474, 'gain': 3475, 'gained': 3476, 'gaining': 3477, 'gains': 3478, 'galbi': 3479, 'game': 3480, 'games': 3481, 'gaming': 3482, 'gap': 3483, 'gaps': 3484, 'garage': 3485, 'garden': 3486, 'gardening': 3487, 'gardens': 3488, 'garlic': 3489, 'garments': 3490, 'garnering': 3491, 'gas': 3492, 'gasoline': 3493, 'gasoline-powered': 3494, 'gate': 3495, 'gates': 3496, 'gather': 3497, 'gathered': 3498, 'gathering': 3499, 'gathers': 3500, 'gauge': 3501, 'gave': 3502, 'gazebo': 3503, 'gear': 3504, 'geared': 3505, 'gears': 3506, 'general': 3507, 'generally': 3508, 'generate': 3509, 'generated': 3510, 'generating': 3511, 'generation': 3512, 'generations': 3513, 'generic': 3514, 'generous': 3515, 'genre': 3516, 'genres': 3517, 'gentle': 3518, 'gentlemen': 3519, 'genuinely': 3520, 'geographic': 3521, 'geography': 3522, 'gesture': 3523, 'get': 3524, 'gets': 3525, 'getting': 3526, 'gift': 3527, 'gifts': 3528, 'gigabytes': 3529, 'gimbap': 3530, 'ginger': 3531, 'ginseng': 3532, 'girl': 3533, 'girls': 3534, 'give': 3535, 'giveaways': 3536, 'given': 3537, 'gives': 3538, 'giving': 3539, 'glad': 3540, 'gladly': 3541, 'glance': 3542, 'glass': 3543, 'glasses': 3544, 'glitch': 3545, 'global': 3546, 'globally': 3547, 'globe': 3548, 'glossy': 3549, 'gloves': 3550, 'gluten-free': 3551, 'go': 3552, 'goal': 3553, 'goals': 3554, 'goes': 3555, 'going': 3556, 'gold': 3557, 'golf': 3558, 'gon': 3559, 'gone': 3560, 'good': 3561, 'good-quality': 3562, 'goodbye': 3563, 'goods': 3564, 'goodwill': 3565, 'gorgeous': 3566, 'got': 3567, 'gotten': 3568, 'governance': 3569, 'government': 3570, 'grab': 3571, 'grace': 3572, 'grade': 3573, 'gradual': 3574, 'gradually': 3575, 'graduates': 3576, 'grain': 3577, 'grains': 3578, 'grammable': 3579, 'grand': 3580, 'grandkids': 3581, 'grandmother': 3582, 'grant': 3583, 'granted': 3584, 'granting': 3585, 'graph': 3586, 'graphic': 3587, 'graphics': 3588, 'grass': 3589, 'grateful': 3590, 'gravlax': 3591, 'great': 3592, 'greater': 3593, 'greatly': 3594, 'green': 3595, 'greens': 3596, 'greet': 3597, 'greeting': 3598, 'greetings': 3599, 'grew': 3600, 'grid': 3601, 'grill': 3602, 'grilled': 3603, 'grills': 3604, 'grinder': 3605, 'gripping': 3606, 'groom': 3607, 'ground': 3608, 'groundbreaking': 3609, 'grounds': 3610, 'group': 3611, 'groups': 3612, 'grow': 3613, 'growing': 3614, 'growth': 3615, 'guarantee': 3616, 'guaranteed': 3617, 'guarantor': 3618, 'guess': 3619, 'guest': 3620, 'guesthouses': 3621, 'guests': 3622, 'guidance': 3623, 'guide': 3624, 'guided': 3625, 'guides': 3626, 'guilty': 3627, 'guitar': 3628, 'gun': 3629, 'gunfire': 3630, 'gut': 3631, 'guy': 3632, 'guys': 3633, 'gym': 3634, 'gyms': 3635, 'hack': 3636, 'hacked': 3637, 'hacking': 3638, 'had': 3639, 'hairdryer': 3640, 'half': 3641, 'hall': 3642, 'halls': 3643, 'halting': 3644, 'hand': 3645, 'handheld': 3646, 'handiwork': 3647, 'handle': 3648, 'handled': 3649, 'handles': 3650, 'handling': 3651, 'handouts': 3652, 'handpicked': 3653, 'hands': 3654, 'handshake': 3655, 'hanging': 3656, 'hanji': 3657, 'hanok': 3658, 'happen': 3659, 'happened': 3660, 'happening': 3661, 'happens': 3662, 'happily': 3663, 'happy': 3664, 'hard': 3665, 'hard-working': 3666, 'harder': 3667, 'hardware': 3668, 'hardworking': 3669, 'harmful': 3670, 'harmony': 3671, 'harshest': 3672, 'harvesting': 3673, 'has': 3674, 'hassle': 3675, 'hat-making': 3676, 'hate': 3677, 'have': 3678, 'having': 3679, 'he': 3680, 'head': 3681, 'headhunters': 3682, 'heading': 3683, 'headquarters': 3684, 'heads-up': 3685, 'health': 3686, 'health-care': 3687, 'healthy': 3688, 'hear': 3689, 'heard': 3690, 'hearing': 3691, 'hearsay': 3692, 'heart': 3693, 'heartily': 3694, 'heat': 3695, 'heated': 3696, 'heater': 3697, 'heating': 3698, 'heavier': 3699, 'heavily': 3700, 'heavy': 3701, 'heavy-duty': 3702, 'hedge': 3703, 'height': 3704, 'held': 3705, 'hello': 3706, 'help': 3707, 'helped': 3708, 'helpful': 3709, 'helping': 3710, 'helps': 3711, 'hence': 3712, 'her': 3713, 'herbal': 3714, 'here': 3715, 'hereditary': 3716, 'heritage': 3717, 'hesitate': 3718, 'hidden': 3719, 'high': 3720, 'high-definition': 3721, 'high-end': 3722, 'high-pressure': 3723, 'high-quality': 3724, 'high-rate': 3725, 'high-speed': 3726, 'higher': 3727, 'higher-quality': 3728, 'higher-tier': 3729, 'higher-ups': 3730, 'highest': 3731, 'highlighted': 3732, 'highlights': 3733, 'highly': 3734, 'hijacking': 3735, 'hiking': 3736, 'hill': 3737, 'him': 3738, 'hint': 3739, 'hire': 3740, 'hired': 3741, 'hiring': 3742, 'his': 3743, 'historical': 3744, 'historically': 3745, 'hit': 3746, 'hitch': 3747, 'hits': 3748, 'hoarding': 3749, 'hobby': 3750, 'hoc': 3751, 'hold': 3752, 'holder': 3753, 'holding': 3754, 'holds': 3755, 'holidays': 3756, 'home': 3757, 'homemade': 3758, 'homes': 3759, 'homestays': 3760, 'honed': 3761, 'honest': 3762, 'honestly': 3763, 'honey': 3764, 'honored': 3765, 'hope': 3766, 'hoped': 3767, 'hopefully': 3768, 'hoping': 3769, 'horizontal': 3770, 'horrible': 3771, 'horsepower': 3772, 'horsepowers': 3773, 'hospital': 3774, 'hospitalization': 3775, 'hospitals': 3776, 'host': 3777, 'hosting': 3778, 'hosts': 3779, 'hot': 3780, 'hot-selling': 3781, 'hotel': 3782, 'hotels': 3783, 'hotspot': 3784, 'hour': 3785, 'hourly': 3786, 'hours': 3787, 'house': 3788, 'house-sharing': 3789, 'household': 3790, 'households': 3791, 'houses': 3792, 'housing': 3793, 'housings': 3794, 'how': 3795, 'however': 3796, 'hub': 3797, 'huddle': 3798, 'hues': 3799, 'huge': 3800, 'hull': 3801, 'human': 3802, 'humble': 3803, 'humor': 3804, 'hundred': 3805, 'hungry': 3806, 'hunt': 3807, 'hurry': 3808, 'hurt': 3809, 'husband': 3810, 'hustle': 3811, 'hwajeon': 3812, 'hydraulic': 3813, 'hydraulics': 3814, 'hydrojet': 3815, 'hype': 3816, 'ibul': 3817, 'ice': 3818, 'icons': 3819, 'idea': 3820, 'ideal': 3821, 'ideas': 3822, 'identical': 3823, 'identification': 3824, 'identified': 3825, 'identify': 3826, 'identities': 3827, 'identity': 3828, 'idols': 3829, 'if': 3830, 'ignition': 3831, 'ignorance': 3832, 'ignore': 3833, 'ignored': 3834, 'illness': 3835, 'illnesses': 3836, 'illustration': 3837, 'illustrations': 3838, 'image': 3839, 'images': 3840, 'imaginative': 3841, 'imagine': 3842, 'imaging': 3843, 'immediate': 3844, 'immediately': 3845, 'immensely': 3846, 'immigrant': 3847, 'immunity': 3848, 'immutable': 3849, 'impact': 3850, 'impart': 3851, 'impeller': 3852, 'impending': 3853, 'implantation': 3854, 'implement': 3855, 'implementation': 3856, 'implementing': 3857, 'implements': 3858, 'implied': 3859, 'implies': 3860, 'import': 3861, 'importance': 3862, 'important': 3863, 'importantly': 3864, 'imported': 3865, 'imports': 3866, 'imposed': 3867, 'imposes': 3868, 'impossible': 3869, 'impress': 3870, 'impressed': 3871, 'impression': 3872, 'impressions': 3873, 'impressive': 3874, 'improve': 3875, 'improved': 3876, 'improvement': 3877, 'improvements': 3878, 'improving': 3879, 'in': 3880, 'in-bearing': 3881, 'in-demand': 3882, 'in-game': 3883, 'inbox': 3884, 'incentives': 3885, 'incident': 3886, 'include': 3887, 'included': 3888, 'includes': 3889, 'including': 3890, 'inclusion': 3891, 'inclusions': 3892, 'inclusive': 3893, 'income': 3894, 'incompatible': 3895, 'incomplete': 3896, 'inconvenience': 3897, 'inconvenient': 3898, 'incorporate': 3899, 'incorporating': 3900, 'incorporation': 3901, 'incorrect': 3902, 'increase': 3903, 'increased': 3904, 'increasing': 3905, 'incredible': 3906, 'incredibly': 3907, 'incubator': 3908, 'incubators': 3909, 'incur': 3910, 'incurred': 3911, 'incurring': 3912, 'indeed': 3913, 'independently': 3914, 'index': 3915, 'indexation': 3916, 'indicate': 3917, 'indicated': 3918, 'indicating': 3919, 'indicator': 3920, 'indicators': 3921, 'indices': 3922, 'individual': 3923, 'individually': 3924, 'individuals': 3925, 'indoor': 3926, 'indoors': 3927, 'indulge': 3928, 'industrial': 3929, 'industries': 3930, 'industry': 3931, 'inevitable': 3932, 'infections': 3933, 'infectious': 3934, 'inferior': 3935, 'inflation': 3936, 'inflation-adjusted': 3937, 'inflation-linked': 3938, 'influence': 3939, 'influenced': 3940, 'influencer': 3941, 'influencers': 3942, 'info-comm': 3943, 'infographic': 3944, 'infographics': 3945, 'inform': 3946, 'informal': 3947, 'information': 3948, 'informed': 3949, 'informing': 3950, 'infrastructure': 3951, 'infringed': 3952, 'infringement': 3953, 'ingredients': 3954, 'inheritance': 3955, 'initial': 3956, 'initially': 3957, 'initiate': 3958, 'initiative': 3959, 'injection': 3960, 'injunction': 3961, 'injury': 3962, 'inner': 3963, 'innovation': 3964, 'innovations': 3965, 'innovative': 3966, 'input': 3967, 'inputs': 3968, 'inquire': 3969, 'inquired': 3970, 'inquiries': 3971, 'inquiring': 3972, 'inquiry': 3973, 'ins': 3974, 'inside': 3975, 'insight': 3976, 'insist': 3977, 'inspect': 3978, 'inspected': 3979, 'inspecting': 3980, 'inspection': 3981, 'inspections': 3982, 'inspire': 3983, 'inspired': 3984, 'install': 3985, 'installation': 3986, 'installed': 3987, 'installing': 3988, 'installment': 3989, 'installments': 3990, 'instance': 3991, 'instant': 3992, 'instead': 3993, 'institute': 3994, 'institution': 3995, 'instruction': 3996, 'instructions': 3997, 'instrument': 3998, 'instruments': 3999, 'insulation': 4000, 'insult': 4001, 'insurance': 4002, 'insurances': 4003, 'insure': 4004, 'insured': 4005, 'insuring': 4006, 'insurmountable': 4007, 'integrated': 4008, 'integration': 4009, 'integrations': 4010, 'intellectual': 4011, 'intelligence': 4012, 'intelligent': 4013, 'intend': 4014, 'intended': 4015, 'intends': 4016, 'intense': 4017, 'intensity': 4018, 'intent': 4019, 'intention': 4020, 'interact': 4021, 'interactions': 4022, 'interactive': 4023, 'intercept': 4024, 'interest': 4025, 'interested': 4026, 'interesting': 4027, 'interface': 4028, 'interior': 4029, 'interiors': 4030, 'intermediaries': 4031, 'intermediary': 4032, 'intern': 4033, 'internal': 4034, 'internally': 4035, 'international': 4036, 'internationally': 4037, 'internet': 4038, 'interns': 4039, 'interpretation': 4040, 'interpreter': 4041, 'interpreting': 4042, 'interrupt': 4043, 'interrupted': 4044, 'interview': 4045, 'interviews': 4046, 'into': 4047, 'intrigue': 4048, 'intriguing': 4049, 'introduce': 4050, 'introduced': 4051, 'introducing': 4052, 'introduction': 4053, 'intrusion': 4054, 'invaluable': 4055, 'inventory': 4056, 'invest': 4057, 'invested': 4058, 'investigate': 4059, 'investigating': 4060, 'investigation': 4061, 'investing': 4062, 'investment': 4063, 'investment-grade': 4064, 'investment-linked': 4065, 'investments': 4066, 'investor': 4067, 'investors': 4068, 'invitation': 4069, 'invite': 4070, 'invited': 4071, 'invites': 4072, 'inviting': 4073, 'invoice': 4074, 'invoices': 4075, 'involve': 4076, 'involved': 4077, 'involves': 4078, 'involving': 4079, 'iron': 4080, 'irregular': 4081, 'is': 4082, 'issuance': 4083, 'issue': 4084, 'issued': 4085, 'issues': 4086, 'issuing': 4087, 'it': 4088, 'item': 4089, 'items': 4090, 'its': 4091, 'itself': 4092, 'jacuzzi': 4093, 'japchae': 4094, 'jeeps': 4095, 'jeon': 4096, 'jet': 4097, 'jingle': 4098, 'job': 4099, 'jobs': 4100, 'join': 4101, 'joining': 4102, 'joint': 4103, 'jokbal': 4104, 'joke': 4105, 'journalists': 4106, 'journey': 4107, 'juice': 4108, 'junction': 4109, 'just': 4110, 'kanji': 4111, 'karaoke': 4112, 'keen': 4113, 'keep': 4114, 'keeping': 4115, 'keeps': 4116, 'kept': 4117, 'key': 4118, 'keyboard': 4119, 'keyboards': 4120, 'keys': 4121, 'keywords': 4122, 'kicks': 4123, 'kids': 4124, 'kilograms': 4125, 'kilometers': 4126, 'kilowatts': 4127, 'kimchi': 4128, 'kind': 4129, 'kindly': 4130, 'kindness': 4131, 'kinds': 4132, 'king': 4133, 'kiosk': 4134, 'kit': 4135, 'kitchen': 4136, 'kitchens': 4137, 'kits': 4138, 'knew': 4139, 'knife': 4140, 'knitting': 4141, 'knocked': 4142, 'know': 4143, 'knowing': 4144, 'knowledge': 4145, 'knowledgeable': 4146, 'known': 4147, 'knows': 4148, 'l': 4149, 'label': 4150, 'labels': 4151, 'labor': 4152, 'laboratories': 4153, 'laboratory': 4154, 'lack': 4155, 'lacking': 4156, 'ladies': 4157, 'lag': 4158, 'laid': 4159, 'lamination': 4160, 'land': 4161, 'landed': 4162, 'landline': 4163, 'landlord': 4164, 'landowner': 4165, 'lands': 4166, 'language': 4167, 'languages': 4168, 'laptop': 4169, 'large': 4170, 'large-cap': 4171, 'largely': 4172, 'larger': 4173, 'largest': 4174, 'last': 4175, 'lasts': 4176, 'late': 4177, 'lately': 4178, 'latency': 4179, 'later': 4180, 'latest': 4181, 'launch': 4182, 'launched': 4183, 'launching': 4184, 'laundering': 4185, 'laundry': 4186, 'lavalier': 4187, 'law': 4188, 'laws': 4189, 'lawsuit': 4190, 'lawyer': 4191, 'lawyers': 4192, 'laxative': 4193, 'lay': 4194, 'layers': 4195, 'layout': 4196, 'lazy': 4197, 'lead': 4198, 'leaders': 4199, 'leading': 4200, 'leaf': 4201, 'leaks': 4202, 'leaning': 4203, 'learn': 4204, 'learned': 4205, 'learning': 4206, 'least': 4207, 'leave': 4208, 'leaves': 4209, 'lecture': 4210, 'led': 4211, 'left': 4212, 'legal': 4213, 'legally': 4214, 'legitimate': 4215, 'lenders': 4216, 'length': 4217, 'lengthy': 4218, 'lens': 4219, 'lentil': 4220, 'less': 4221, 'lesser': 4222, 'lessons': 4223, 'let': 4224, 'lets': 4225, 'letter': 4226, 'letters': 4227, 'letting': 4228, 'lettuce': 4229, 'level': 4230, 'levelers': 4231, 'levels': 4232, 'leverage': 4233, 'liabilities': 4234, 'liability': 4235, 'liable': 4236, 'liaison': 4237, 'library': 4238, 'license': 4239, 'licensed': 4240, 'licenses': 4241, 'lie': 4242, 'life': 4243, 'life-threatening': 4244, 'lifeguards': 4245, 'lifelong': 4246, 'lifestyle': 4247, 'lift': 4248, 'light': 4249, 'lightning': 4250, 'lights': 4251, 'lightweight': 4252, 'like': 4253, 'liked': 4254, 'likely': 4255, 'likes': 4256, 'limit': 4257, 'limitations': 4258, 'limited': 4259, 'limits': 4260, 'line': 4261, 'lines': 4262, 'lining': 4263, 'link': 4264, 'linked': 4265, 'links': 4266, 'liquid': 4267, 'liquidating': 4268, 'liquors': 4269, 'list': 4270, 'listed': 4271, 'listen': 4272, 'listener': 4273, 'listeners': 4274, 'listening': 4275, 'listing': 4276, 'listings': 4277, 'lists': 4278, 'literature': 4279, 'little': 4280, 'live': 4281, 'lived': 4282, 'lively': 4283, 'liver': 4284, 'lives': 4285, 'living': 4286, 'load': 4287, 'loaded': 4288, 'loader': 4289, 'loaders': 4290, 'loading': 4291, 'loan': 4292, 'loans': 4293, 'lobby': 4294, 'local': 4295, 'locales': 4296, 'locality': 4297, 'localization': 4298, 'localized': 4299, 'locally': 4300, 'locals': 4301, 'located': 4302, 'location': 4303, 'location-based': 4304, 'locations': 4305, 'lock': 4306, 'lock-in': 4307, 'lockdown': 4308, 'lockdowns': 4309, 'lodge': 4310, 'lodging': 4311, 'lodgings': 4312, 'log': 4313, 'log-in': 4314, 'logged': 4315, 'logging': 4316, 'login': 4317, 'logistics': 4318, 'logo': 4319, 'logos': 4320, 'logs': 4321, 'long': 4322, 'long-distance': 4323, 'long-lasting': 4324, 'long-range': 4325, 'long-standing': 4326, 'long-term': 4327, 'longer': 4328, 'look': 4329, 'looked': 4330, 'looking': 4331, 'looks': 4332, 'loose': 4333, 'lose': 4334, 'loss': 4335, 'losses': 4336, 'lost': 4337, 'lot': 4338, 'lots': 4339, 'loud': 4340, 'lounge': 4341, 'love': 4342, 'loved': 4343, 'lovely': 4344, 'loving': 4345, 'low': 4346, 'low-income': 4347, 'low-interest': 4348, 'low-speed': 4349, 'lower': 4350, 'lowered': 4351, 'lowest': 4352, 'loyal': 4353, 'luck': 4354, 'luckily': 4355, 'lucky': 4356, 'lucrative': 4357, 'luggage': 4358, 'lunch': 4359, 'luxurious': 4360, 'luxury': 4361, \"ma'am\": 4362, 'machine': 4363, 'machinery': 4364, 'machines': 4365, 'mackerels': 4366, 'macro': 4367, 'madam': 4368, 'made': 4369, 'magazine': 4370, 'magazines': 4371, 'magical': 4372, 'mail': 4373, 'main': 4374, 'mainly': 4375, 'mains': 4376, 'maintain': 4377, 'maintained': 4378, 'maintaining': 4379, 'maintenance': 4380, 'major': 4381, 'majority': 4382, 'make': 4383, 'maker': 4384, 'makers': 4385, 'makes': 4386, 'makeup': 4387, 'makgeolli': 4388, 'making': 4389, 'mall': 4390, 'malware': 4391, 'manage': 4392, 'manageable': 4393, 'managed': 4394, 'management': 4395, 'manager': 4396, 'managers': 4397, 'manages': 4398, 'managing': 4399, 'mandatory': 4400, 'mandu': 4401, 'manned': 4402, 'manner': 4403, 'manners': 4404, 'manual': 4405, 'manually': 4406, 'manufacture': 4407, 'manufactured': 4408, 'manufacturer': 4409, 'manufacturers': 4410, 'manufactures': 4411, 'manufacturing': 4412, 'manuscript': 4413, 'many': 4414, 'marinated': 4415, 'marinates': 4416, 'market': 4417, 'marketer': 4418, 'marketing': 4419, 'markets': 4420, 'married': 4421, 'mascots': 4422, 'mask': 4423, 'mass': 4424, 'massage': 4425, 'massages': 4426, 'masseuse': 4427, 'massive': 4428, 'master': 4429, 'mat': 4430, 'match': 4431, 'material': 4432, 'materialistic': 4433, 'materials': 4434, 'maternity': 4435, 'mathematics': 4436, 'mats': 4437, 'matte': 4438, 'matter': 4439, 'matters': 4440, 'mattress': 4441, 'maturing': 4442, 'maximize': 4443, 'maximum': 4444, 'may': 4445, 'maybe': 4446, 'me': 4447, 'meal': 4448, 'meals': 4449, 'mean': 4450, 'meaning': 4451, 'meaningful': 4452, 'meaningless': 4453, 'means': 4454, 'meant': 4455, 'meantime': 4456, 'measure': 4457, 'measures': 4458, 'measuring': 4459, 'meat': 4460, 'mechanic': 4461, 'mechanical': 4462, 'mechanism': 4463, 'media': 4464, 'mediator': 4465, 'medical': 4466, 'medicine': 4467, 'meditation': 4468, 'medium': 4469, 'medium-sized': 4470, 'meet': 4471, 'meeting': 4472, 'meetings': 4473, 'megabits': 4474, 'megabytes': 4475, 'megapixels': 4476, 'melon': 4477, 'melt': 4478, 'member': 4479, 'member-only': 4480, 'members': 4481, 'membership': 4482, 'memorandum': 4483, 'memories': 4484, 'memory': 4485, 'men': 4486, 'mending': 4487, 'mental': 4488, 'mention': 4489, 'mentioned': 4490, 'mentioning': 4491, 'menu': 4492, 'menus': 4493, 'merch': 4494, 'merchant': 4495, 'merged': 4496, 'message': 4497, 'messages': 4498, 'messaging': 4499, 'messy': 4500, 'met': 4501, 'meta': 4502, 'metal': 4503, 'metallurgical': 4504, 'metals': 4505, 'meters': 4506, 'method': 4507, 'methods': 4508, 'meticulously': 4509, 'microlenders': 4510, 'microphone': 4511, 'microphones': 4512, 'microscopes': 4513, 'microwave': 4514, 'middle': 4515, 'midst': 4516, 'might': 4517, 'mild': 4518, 'milestone': 4519, 'milk': 4520, 'millennials': 4521, 'millimeters': 4522, 'million': 4523, 'million-dollar': 4524, 'millions': 4525, 'mind': 4526, 'mine': 4527, 'miner': 4528, 'mini': 4529, 'mini-trucks': 4530, 'minibar': 4531, 'minimal': 4532, 'minimalism': 4533, 'minimum': 4534, 'ministry': 4535, 'minor': 4536, 'minute': 4537, 'minuted': 4538, 'minutes': 4539, 'miscarriage': 4540, 'miscommunication': 4541, 'mishap': 4542, 'mismanagement': 4543, 'mismatch': 4544, 'misplaced': 4545, 'miss': 4546, 'missed': 4547, 'missiles': 4548, 'missing': 4549, 'mission': 4550, 'mistake': 4551, 'mistakenly': 4552, 'mistakes': 4553, 'misunderstanding': 4554, 'misuse': 4555, 'misuses': 4556, 'mitigate': 4557, 'mix': 4558, 'mixer': 4559, 'mixing': 4560, 'mmHg': 4561, 'mobile': 4562, 'mobiles': 4563, 'mock': 4564, 'mock-ups': 4565, 'mocks': 4566, 'modality': 4567, 'mode': 4568, 'model': 4569, 'models': 4570, 'modem': 4571, 'modems': 4572, 'moderately': 4573, 'modern': 4574, 'modes': 4575, 'modifications': 4576, 'modified': 4577, 'modify': 4578, 'modifying': 4579, 'modular': 4580, 'module': 4581, 'mold': 4582, 'molding': 4583, 'moldings': 4584, 'moment': 4585, 'momentary': 4586, 'moments': 4587, 'monastery': 4588, 'monastic': 4589, 'monetary': 4590, 'monetizing': 4591, 'money': 4592, 'monitor': 4593, 'monitoring': 4594, 'monitors': 4595, 'monk': 4596, 'monks': 4597, 'monsoon': 4598, 'month': 4599, 'month-length': 4600, 'monthly': 4601, 'months': 4602, 'mood': 4603, 'more': 4604, 'morning': 4605, 'mortar': 4606, 'mortgage': 4607, 'mosquitos': 4608, 'most': 4609, 'mostly': 4610, 'motels': 4611, 'mother': 4612, 'motif': 4613, 'motions': 4614, 'motivate': 4615, 'motivation': 4616, 'motor': 4617, 'motorboats': 4618, 'motors': 4619, 'mountain': 4620, 'mountains': 4621, 'mouse': 4622, 'mouses': 4623, 'mouth': 4624, 'move': 4625, 'moved': 4626, 'movement': 4627, 'movers': 4628, 'movie': 4629, 'movies': 4630, 'moving': 4631, 'much': 4632, 'mud': 4633, 'mukbang': 4634, 'multi-step': 4635, 'multidisciplinary': 4636, 'multinational': 4637, 'multiplatform': 4638, 'multiple': 4639, 'multiplying': 4640, 'multipurpose': 4641, 'museum': 4642, 'music': 4643, 'music-related': 4644, 'musical': 4645, 'musky': 4646, 'must': 4647, 'mutual': 4648, 'my': 4649, 'myself': 4650, 'mysterious': 4651, \"n't\": 4652, 'na': 4653, 'naira': 4654, 'name': 4655, 'names': 4656, 'napkin': 4657, 'napping': 4658, 'narratives': 4659, 'narrow': 4660, 'nation': 4661, 'national': 4662, 'nationals': 4663, 'nations': 4664, 'native': 4665, 'natural': 4666, 'nature': 4667, 'navigation': 4668, 'near': 4669, 'nearby': 4670, 'nearest': 4671, 'neat': 4672, 'nebulizers': 4673, 'necessary': 4674, 'need': 4675, 'needed': 4676, 'needing': 4677, 'needs': 4678, 'negative': 4679, 'negatively': 4680, 'neglect': 4681, 'negotiable': 4682, 'negotiate': 4683, 'neighbors': 4684, 'neotraditional': 4685, 'nephew': 4686, 'nervous': 4687, 'net': 4688, 'network': 4689, 'networking': 4690, 'networks': 4691, 'never': 4692, 'new': 4693, 'newbie': 4694, 'newborn': 4695, 'newest': 4696, 'newly': 4697, 'news': 4698, 'newsletters': 4699, 'newspaper': 4700, 'next': 4701, 'next-day': 4702, 'nice': 4703, 'niche': 4704, 'night': 4705, 'nightclub': 4706, 'nights': 4707, 'nighttime': 4708, 'nine': 4709, 'ninety': 4710, 'no': 4711, 'noble': 4712, 'nobody': 4713, 'nodular': 4714, 'non-fiction': 4715, 'non-food': 4716, 'non-life': 4717, 'non-renewable': 4718, 'non-split': 4719, 'nondelivery': 4720, 'none': 4721, 'nonfiction': 4722, 'nonfungible': 4723, 'nonpayments': 4724, 'nonprofits': 4725, 'nonsense': 4726, 'nonspicy': 4727, 'noodle': 4728, 'noodles': 4729, 'noon': 4730, 'norm': 4731, 'normal': 4732, 'normally': 4733, 'northern': 4734, 'nose': 4735, 'nostalgia': 4736, 'not': 4737, 'note': 4738, 'notebook': 4739, 'noted': 4740, 'notes': 4741, 'nothing': 4742, 'notice': 4743, 'noticed': 4744, 'notices': 4745, 'notification': 4746, 'notified': 4747, 'notify': 4748, 'notifying': 4749, 'novel': 4750, 'novels': 4751, 'now': 4752, 'nowadays': 4753, 'number': 4754, 'numbers': 4755, 'numerous': 4756, 'nurse': 4757, 'nutritional': 4758, 'nutty': 4759, 'nylon': 4760, \"o'clock\": 4761, 'object': 4762, 'objection': 4763, 'objections': 4764, 'objective': 4765, 'obligation': 4766, 'obligations': 4767, 'oblige': 4768, 'observations': 4769, 'observing': 4770, 'obstacles': 4771, 'obtain': 4772, 'obtaining': 4773, 'obviously': 4774, 'occasion': 4775, 'occupation': 4776, 'occupied': 4777, 'occupy': 4778, 'occur': 4779, 'occurrence': 4780, 'occurs': 4781, 'ocean': 4782, 'of': 4783, 'off': 4784, 'off-load': 4785, 'off-white': 4786, 'offend': 4787, 'offer': 4788, 'offered': 4789, 'offering': 4790, 'offerings': 4791, 'offers': 4792, 'office': 4793, 'officer': 4794, 'officers': 4795, 'offices': 4796, 'official': 4797, 'officially': 4798, 'offline': 4799, 'offshore': 4800, 'often': 4801, 'oh': 4802, 'oil': 4803, 'oils': 4804, 'okay': 4805, 'old': 4806, 'older': 4807, 'oldest': 4808, 'on': 4809, 'once': 4810, 'ondol': 4811, 'one': 4812, 'one-month': 4813, 'one-of-a-kind': 4814, 'one-stop': 4815, 'one-time': 4816, 'ones': 4817, 'ongoing': 4818, 'onions': 4819, 'online': 4820, 'only': 4821, 'onto': 4822, 'onwards': 4823, 'open': 4824, 'open-source': 4825, 'opened': 4826, 'opening': 4827, 'openly': 4828, 'opens': 4829, 'operate': 4830, 'operated': 4831, 'operating': 4832, 'operation': 4833, 'operational': 4834, 'operations': 4835, 'operative': 4836, 'operator': 4837, 'operators': 4838, 'opinion': 4839, 'opinions': 4840, 'opportunities': 4841, 'opportunity': 4842, 'opt': 4843, 'optimal': 4844, 'optimization': 4845, 'optimize': 4846, 'optimized': 4847, 'optimizer': 4848, 'option': 4849, 'optional': 4850, 'options': 4851, 'optometry': 4852, 'or': 4853, 'orange': 4854, 'order': 4855, 'ordered': 4856, 'ordering': 4857, 'orderly': 4858, 'orders': 4859, 'ordinary': 4860, 'ore': 4861, 'organic': 4862, 'organization': 4863, 'organizational': 4864, 'organizations': 4865, 'organize': 4866, 'organizing': 4867, 'orientation': 4868, 'original': 4869, 'originally': 4870, 'origins': 4871, 'other': 4872, 'others': 4873, 'ought': 4874, 'ounce': 4875, 'our': 4876, 'ours': 4877, 'ourselves': 4878, 'out': 4879, 'outbreak': 4880, 'outcome': 4881, 'outdated': 4882, 'outdoor': 4883, 'outdoors': 4884, 'outgoing': 4885, 'outings': 4886, 'outlets': 4887, 'outnumber': 4888, 'output': 4889, 'outputs': 4890, 'outreach': 4891, 'outright': 4892, 'outside': 4893, 'outsiders': 4894, 'outsmart': 4895, 'outsource': 4896, 'outstanding': 4897, 'oven': 4898, 'ovens': 4899, 'over': 4900, 'overall': 4901, 'overcharge': 4902, 'overcharged': 4903, 'overdue': 4904, 'overflow': 4905, 'overhang': 4906, 'overheads': 4907, 'overlook': 4908, 'overlooked': 4909, 'overnight': 4910, 'overpriced': 4911, 'overseas': 4912, 'oversees': 4913, 'overstated': 4914, 'overview': 4915, 'overwhelmed': 4916, 'owe': 4917, 'owing': 4918, 'own': 4919, 'owner': 4920, 'owners': 4921, 'ownership': 4922, 'owning': 4923, 'oxblood': 4924, 'p.m': 4925, 'p.m.': 4926, 'pace': 4927, 'pacemaker': 4928, 'pack': 4929, 'package': 4930, 'packaged': 4931, 'packages': 4932, 'packaging': 4933, 'packed': 4934, 'packers': 4935, 'packing': 4936, 'packs': 4937, 'page': 4938, 'pages': 4939, 'pagodas': 4940, 'paid': 4941, 'pains': 4942, 'painted': 4943, 'painter': 4944, 'painters': 4945, 'painting': 4946, 'paintings': 4947, 'pair': 4948, 'pairs': 4949, 'pajamas': 4950, 'palaces': 4951, 'palate': 4952, 'palates': 4953, 'palette': 4954, 'palettes': 4955, 'palm': 4956, 'pals': 4957, 'pamphlet': 4958, 'pan-seared': 4959, 'pancakes': 4960, 'pandemic': 4961, 'panel': 4962, 'panels': 4963, 'pans': 4964, 'pantry': 4965, 'papaya': 4966, 'paper': 4967, 'papers': 4968, 'paperwork': 4969, 'par': 4970, 'parcel': 4971, 'parents': 4972, 'park': 4973, 'parking': 4974, 'part': 4975, 'partake': 4976, 'partial': 4977, 'partially': 4978, 'participant': 4979, 'participants': 4980, 'participate': 4981, 'participating': 4982, 'particular': 4983, 'particularly': 4984, 'parties': 4985, 'partner': 4986, 'partnering': 4987, 'partners': 4988, 'partnership': 4989, 'parts': 4990, 'party': 4991, 'pass': 4992, 'passed': 4993, 'passing': 4994, 'passion': 4995, 'passive': 4996, 'passport': 4997, 'passports': 4998, 'password': 4999, 'past': 5000, 'pasta': 5001, 'paste': 5002, 'patch': 5003, 'patches': 5004, 'patent': 5005, 'patents': 5006, 'path': 5007, 'patience': 5008, 'patient': 5009, 'patients': 5010, 'patronage': 5011, 'patronize': 5012, 'patrons': 5013, 'pattern': 5014, 'patterns': 5015, 'paving': 5016, 'pay': 5017, 'payable': 5018, 'paying': 5019, 'payment': 5020, 'payments': 5021, 'payroll': 5022, 'pays': 5023, 'payslip': 5024, 'pdf': 5025, 'peace': 5026, 'peak': 5027, 'pencil': 5028, 'pending': 5029, 'pension': 5030, 'people': 5031, 'per': 5032, 'percent': 5033, 'percentage': 5034, 'perfect': 5035, 'perform': 5036, 'performance': 5037, 'performed': 5038, 'performing': 5039, 'perhaps': 5040, 'perilla': 5041, 'period': 5042, 'permanent': 5043, 'permanently': 5044, 'permission': 5045, 'permit': 5046, 'permitted': 5047, 'persistent': 5048, 'person': 5049, 'personal': 5050, 'personality': 5051, 'personalized': 5052, 'personally': 5053, 'personnel': 5054, 'persons': 5055, 'persuade': 5056, 'pertinent': 5057, 'perusal': 5058, 'pesky': 5059, 'pet-friendly': 5060, 'petition': 5061, 'petrol': 5062, 'pets': 5063, 'phase': 5064, 'phases': 5065, 'phenomena': 5066, 'philosophy': 5067, 'phone': 5068, 'phones': 5069, 'phoning': 5070, 'photo': 5071, 'photobooks': 5072, 'photocopier': 5073, 'photographer': 5074, 'photographers': 5075, 'photographs': 5076, 'photography': 5077, 'photos': 5078, 'physical': 5079, 'physically': 5080, 'piano': 5081, 'pick': 5082, 'picked': 5083, 'picking': 5084, 'picture': 5085, 'pictures': 5086, 'pie': 5087, 'piece': 5088, 'pieces': 5089, 'pier': 5090, 'piling': 5091, 'pillars': 5092, 'pills': 5093, 'pin': 5094, 'pink': 5095, 'pioneers': 5096, 'pipe': 5097, 'pipeline': 5098, 'pipelines': 5099, 'pipes': 5100, 'piqued': 5101, 'piques': 5102, 'piston': 5103, 'pitch': 5104, 'pitching': 5105, 'pity': 5106, 'pixels': 5107, 'place': 5108, 'placed': 5109, 'placement': 5110, 'placements': 5111, 'places': 5112, 'placing': 5113, 'plagiarized': 5114, 'plain': 5115, 'plan': 5116, 'plane': 5117, 'planned': 5118, 'planning': 5119, 'plans': 5120, 'plant': 5121, 'planting': 5122, 'plants': 5123, 'plastic': 5124, 'plastics': 5125, 'plate': 5126, 'plates': 5127, 'platform': 5128, 'platforms': 5129, 'platinum': 5130, 'platters': 5131, 'play': 5132, 'played': 5133, 'players': 5134, 'playground': 5135, 'playing': 5136, 'plays': 5137, 'plaza': 5138, 'pleasant': 5139, 'please': 5140, 'pleased': 5141, 'pleasure': 5142, 'plotter': 5143, 'plowing': 5144, 'plug-in': 5145, 'plug-ins': 5146, 'plugins': 5147, 'plus': 5148, 'pm': 5149, 'pneumatic': 5150, 'pocket': 5151, 'pockets': 5152, 'podcast': 5153, 'podcasts': 5154, 'point': 5155, 'pointing': 5156, 'points': 5157, 'policies': 5158, 'policy': 5159, 'policyholders': 5160, 'policymakers': 5161, 'polite': 5162, 'political': 5163, 'politicians': 5164, 'polystyrene': 5165, 'polyurethane': 5166, 'pool': 5167, 'pool-view': 5168, 'pools': 5169, 'poor': 5170, 'poor-performing': 5171, 'pop': 5172, 'popular': 5173, 'popularity': 5174, 'population': 5175, 'poring': 5176, 'pork': 5177, 'porridge': 5178, 'port': 5179, 'portal': 5180, 'portals': 5181, 'portfolio': 5182, 'portfolios': 5183, 'portion': 5184, 'portraits': 5185, 'ports': 5186, 'posh': 5187, 'position': 5188, 'positioning': 5189, 'positions': 5190, 'positive': 5191, 'positives': 5192, 'possess': 5193, 'possibility': 5194, 'possible': 5195, 'possibly': 5196, 'post': 5197, 'post-acute': 5198, 'postal': 5199, 'posted': 5200, 'poster': 5201, 'posters': 5202, 'posting': 5203, 'postings': 5204, 'postpaid': 5205, 'posts': 5206, 'potato': 5207, 'potential': 5208, 'pots': 5209, 'power': 5210, 'powered': 5211, 'practically': 5212, 'practice': 5213, 'practices': 5214, 'praised': 5215, 'praises': 5216, 'pray': 5217, 'prays': 5218, 'precise': 5219, 'precisely': 5220, 'precision': 5221, 'predict': 5222, 'predictable': 5223, 'prediction': 5224, 'prefer': 5225, 'preferably': 5226, 'preference': 5227, 'preferences': 5228, 'preferred': 5229, 'premises': 5230, 'premium': 5231, 'premiums': 5232, 'preoccupied': 5233, 'preorder': 5234, 'preparation': 5235, 'prepare': 5236, 'prepared': 5237, 'preparedness': 5238, 'preparing': 5239, 'prescription': 5240, 'prescriptions': 5241, 'presence': 5242, 'present': 5243, 'presentation': 5244, 'presented': 5245, 'presenting': 5246, 'presents': 5247, 'preservation': 5248, 'preserve': 5249, 'president': 5250, 'press': 5251, 'pressed': 5252, 'pressing': 5253, 'pressure': 5254, 'pretty': 5255, 'prevent': 5256, 'prevented': 5257, 'prevention': 5258, 'preview': 5259, 'previous': 5260, 'previously': 5261, 'price': 5262, 'priced': 5263, 'priceless': 5264, 'prices': 5265, 'pricing': 5266, 'priest': 5267, 'primarily': 5268, 'primary': 5269, 'prime': 5270, 'principal': 5271, 'principle': 5272, 'print': 5273, 'printed': 5274, 'printers': 5275, 'printing': 5276, 'prints': 5277, 'prior': 5278, 'prioritize': 5279, 'prioritized': 5280, 'priority': 5281, 'privacy': 5282, 'private': 5283, 'privilege': 5284, 'prize': 5285, 'prized': 5286, 'probably': 5287, 'problem': 5288, 'problem-solving': 5289, 'problematic': 5290, 'problems': 5291, 'procedure': 5292, 'procedures': 5293, 'proceed': 5294, 'proceedings': 5295, 'proceeds': 5296, 'process': 5297, 'processed': 5298, 'processes': 5299, 'processing': 5300, 'processor': 5301, 'processors': 5302, 'procurement': 5303, 'produce': 5304, 'produced': 5305, 'producer': 5306, 'produces': 5307, 'producing': 5308, 'product': 5309, 'production': 5310, 'productions': 5311, 'productivity': 5312, 'products': 5313, 'profession': 5314, 'professional': 5315, 'professionally': 5316, 'professionals': 5317, 'professions': 5318, 'professor': 5319, 'professors': 5320, 'proficiency': 5321, 'profile': 5322, 'profit': 5323, 'profit-sharing': 5324, 'profitability': 5325, 'profitable': 5326, 'profits': 5327, 'program': 5328, 'programmed': 5329, 'programmer': 5330, 'programmers': 5331, 'programming': 5332, 'programs': 5333, 'progress': 5334, 'progressing': 5335, 'project': 5336, 'projections': 5337, 'projector': 5338, 'projectors': 5339, 'projects': 5340, 'prominent': 5341, 'prominently': 5342, 'promise': 5343, 'promised': 5344, 'promises': 5345, 'promising': 5346, 'promo': 5347, 'promos': 5348, 'promote': 5349, 'promoting': 5350, 'promotion': 5351, 'promotional': 5352, 'promotions': 5353, 'prompt': 5354, 'promptly': 5355, 'prompts': 5356, 'proof': 5357, 'proofs': 5358, 'proper': 5359, 'properly': 5360, 'properties': 5361, 'property': 5362, 'proportion': 5363, 'proposal': 5364, 'proposals': 5365, 'propose': 5366, 'proposed': 5367, 'proposing': 5368, 'proposition': 5369, 'pros': 5370, 'prospective': 5371, 'prosperous': 5372, 'prosthetics': 5373, 'prostrations': 5374, 'protect': 5375, 'protected': 5376, 'protection': 5377, 'protectionism': 5378, 'protections': 5379, 'protective': 5380, 'protects': 5381, 'protein-synthesizing': 5382, 'protocol': 5383, 'protocols': 5384, 'prototype': 5385, 'proud': 5386, 'prove': 5387, 'proven': 5388, 'provide': 5389, 'provided': 5390, 'provider': 5391, 'providers': 5392, 'provides': 5393, 'providing': 5394, 'province': 5395, 'proximity': 5396, 'pub': 5397, 'public': 5398, 'publication': 5399, 'publications': 5400, 'publicly': 5401, 'publish': 5402, 'published': 5403, 'publishers': 5404, 'publishing': 5405, 'pull': 5406, 'pulse': 5407, 'pump': 5408, 'pumps': 5409, 'punctual': 5410, 'purchase': 5411, 'purchased': 5412, 'purchases': 5413, 'purchasing': 5414, 'purely': 5415, 'purified': 5416, 'purifiers': 5417, 'purify': 5418, 'purpose': 5419, 'purposes': 5420, 'pursue': 5421, 'push': 5422, 'pushed': 5423, 'put': 5424, 'puts': 5425, 'putting': 5426, 'quadrupled': 5427, 'qualified': 5428, 'qualify': 5429, 'qualities': 5430, 'quality': 5431, 'quantities': 5432, 'quantity': 5433, 'quarter': 5434, 'quarterly': 5435, 'queries': 5436, 'query': 5437, 'question': 5438, 'questionnaire': 5439, 'questions': 5440, 'queue': 5441, 'quick': 5442, 'quickly': 5443, 'quilt': 5444, 'quite': 5445, 'quotation': 5446, 'quotations': 5447, 'quote': 5448, 'radio': 5449, 'radioactive': 5450, 'railway': 5451, 'rain': 5452, 'raise': 5453, 'raising': 5454, 'rally': 5455, 'rambling': 5456, 'ramen': 5457, 'ran': 5458, 'random': 5459, 'randomly': 5460, 'rang': 5461, 'range': 5462, 'ranger': 5463, 'ranges': 5464, 'ranging': 5465, 'rank': 5466, 'ranked': 5467, 'ranking': 5468, 'ranks': 5469, 'rapidly': 5470, 'rapport': 5471, 'rare': 5472, 'rate': 5473, 'rates': 5474, 'rather': 5475, 'rating': 5476, 'ratings': 5477, 'ratio': 5478, 'rational': 5479, 'raw': 5480, 're-draw': 5481, 're-enter': 5482, 're-strategize': 5483, 'reach': 5484, 'reached': 5485, 'reaches': 5486, 'reaching': 5487, 'react': 5488, 'reaction': 5489, 'read': 5490, 'readers': 5491, 'reading': 5492, 'reads': 5493, 'ready': 5494, 'real': 5495, 'real-life': 5496, 'real-time': 5497, 'realistic': 5498, 'reality': 5499, 'realize': 5500, 'really': 5501, 'realtor': 5502, 'reap': 5503, 'rear': 5504, 'reason': 5505, 'reasonable': 5506, 'reasons': 5507, 'reassuring': 5508, 'rebook': 5509, 'recall': 5510, 'receipt': 5511, 'receipts': 5512, 'receivable': 5513, 'receive': 5514, 'received': 5515, 'receiver': 5516, 'receiving': 5517, 'recent': 5518, 'recently': 5519, 'reception': 5520, 'receptionist': 5521, 'recharge': 5522, 'recharging': 5523, 'recipe': 5524, 'recipes': 5525, 'recipients': 5526, 'recognize': 5527, 'recognized': 5528, 'recommend': 5529, 'recommendation': 5530, 'recommendations': 5531, 'recommended': 5532, 'recommending': 5533, 'reconfirm': 5534, 'reconsider': 5535, 'record': 5536, 'recorded': 5537, 'recording': 5538, 'recordings': 5539, 'records': 5540, 'recover': 5541, 'recovery': 5542, 'recreation': 5543, 'rectified': 5544, 'recuperate': 5545, 'red': 5546, 'redemption': 5547, 'redirect': 5548, 'redownloaded': 5549, 'redrafting': 5550, 'reduce': 5551, 'reduced': 5552, 'reduces': 5553, 'reducing': 5554, 'reefer': 5555, 'reefers': 5556, 'reels': 5557, 'refer': 5558, 'reference': 5559, 'referred': 5560, 'referring': 5561, 'refers': 5562, 'refine': 5563, 'reflected': 5564, 'refrain': 5565, 'refresher': 5566, 'refund': 5567, 'refunded': 5568, 'refunds': 5569, 'refuse': 5570, 'refuses': 5571, 'regard': 5572, 'regarded': 5573, 'regarding': 5574, 'regardless': 5575, 'regards': 5576, 'region': 5577, 'regional': 5578, 'register': 5579, 'registered': 5580, 'registration': 5581, 'registry': 5582, 'regret': 5583, 'regretting': 5584, 'regular': 5585, 'regularly': 5586, 'regulated': 5587, 'regulations': 5588, 'regulatory': 5589, 'rehearsal': 5590, 'reheated': 5591, 'reimbursed': 5592, 'reimbursement': 5593, 'reimbursing': 5594, 'reinstalled': 5595, 'reject': 5596, 'rejected': 5597, 'relatable': 5598, 'relate': 5599, 'related': 5600, 'relations': 5601, 'relationship': 5602, 'relationships': 5603, 'relative': 5604, 'relatively': 5605, 'relatives': 5606, 'relax': 5607, 'relaxation': 5608, 'relaxing': 5609, 'relay': 5610, 'release': 5611, 'released': 5612, 'releases': 5613, 'releasing': 5614, 'relentlessly': 5615, 'relevant': 5616, 'reliable': 5617, 'relief': 5618, 'relies': 5619, 'relieved': 5620, 'religious': 5621, 'relocate': 5622, 'rely': 5623, 'remain': 5624, 'remaining': 5625, 'remains': 5626, 'remarks': 5627, 'remember': 5628, 'remembered': 5629, 'remind': 5630, 'reminder': 5631, 'reminders': 5632, 'reminding': 5633, 'reminds': 5634, 'reminisce': 5635, 'remittance': 5636, 'remote': 5637, 'remotely': 5638, 'removable': 5639, 'remove': 5640, 'removers': 5641, 'removing': 5642, 'render': 5643, 'rendered': 5644, 'renders': 5645, 'renege': 5646, 'renew': 5647, 'renewable': 5648, 'renewal': 5649, 'renewed': 5650, 'renewing': 5651, 'renovate': 5652, 'renovated': 5653, 'renovation': 5654, 'rent': 5655, 'rental': 5656, 'rentals': 5657, 'rented': 5658, 'renting': 5659, 'reorder': 5660, 'repair': 5661, 'repay': 5662, 'repayment': 5663, 'repeat': 5664, 'replace': 5665, 'replaced': 5666, 'replacement': 5667, 'replacements': 5668, 'replacing': 5669, 'reply': 5670, 'report': 5671, 'reported': 5672, 'reports': 5673, 'representative': 5674, 'representing': 5675, 'represents': 5676, 'reputable': 5677, 'reputation': 5678, 'reputed': 5679, 'request': 5680, 'requested': 5681, 'requesting': 5682, 'requests': 5683, 'require': 5684, 'required': 5685, 'requirement': 5686, 'requirements': 5687, 'requires': 5688, 'rescheduled': 5689, 'rescission': 5690, 'research': 5691, 'researched': 5692, 'researching': 5693, 'resellers': 5694, 'resending': 5695, 'reservation': 5696, 'reservations': 5697, 'reserve': 5698, 'reserved': 5699, 'reserving': 5700, 'reset': 5701, 'reside': 5702, 'residence': 5703, 'resident': 5704, 'residents': 5705, 'residing': 5706, 'resistors': 5707, 'resolve': 5708, 'resolved': 5709, 'resolving': 5710, 'resort': 5711, 'resorting': 5712, 'resorts': 5713, 'resource': 5714, 'resources': 5715, 'respect': 5716, 'respective': 5717, 'respectively': 5718, 'respects': 5719, 'respond': 5720, 'responding': 5721, 'response': 5722, 'responsibility': 5723, 'responsible': 5724, 'responsive': 5725, 'rest': 5726, 'restart': 5727, 'restaurant': 5728, 'restaurants': 5729, 'restocked': 5730, 'restore': 5731, 'restoring': 5732, 'restricted': 5733, 'restriction': 5734, 'restrictions': 5735, 'restroom': 5736, 'restrooms': 5737, 'result': 5738, 'resulted': 5739, 'results': 5740, 'resume': 5741, 'resumes': 5742, 'retail': 5743, 'retailer': 5744, 'retails': 5745, 'retain': 5746, 'retains': 5747, 'retirement': 5748, 'retract': 5749, 'retreat': 5750, 'retreats': 5751, 'retrieve': 5752, 'return': 5753, 'returned': 5754, 'returning': 5755, 'returns': 5756, 'reuploading': 5757, 'reusable': 5758, 'revamp': 5759, 'revealing': 5760, 'revenue': 5761, 'revenues': 5762, 'revert': 5763, 'review': 5764, 'reviewed': 5765, 'reviewers': 5766, 'reviewing': 5767, 'revise': 5768, 'revised': 5769, 'revision': 5770, 'revisions': 5771, 'revoke': 5772, 'revolving': 5773, 'reward': 5774, 'rewarding': 5775, 'rewards': 5776, 'rib': 5777, 'ribs': 5778, 'rice': 5779, 'rich': 5780, 'rid': 5781, 'ride': 5782, 'rides': 5783, 'right': 5784, 'rights': 5785, 'rigid': 5786, 'rim': 5787, 'ring': 5788, 'rise': 5789, 'risen': 5790, 'risk': 5791, 'risk-free': 5792, 'risk-taker': 5793, 'risking': 5794, 'risks': 5795, 'risky': 5796, 'ritual': 5797, 'road': 5798, 'road-paving': 5799, 'roadblock': 5800, 'roadmap': 5801, 'roasted': 5802, 'robot': 5803, 'rock': 5804, 'rocky': 5805, 'role': 5806, 'roleplaying': 5807, 'roles': 5808, 'roller': 5809, 'rolls': 5810, 'roof': 5811, 'roofing': 5812, 'rooftop': 5813, 'room': 5814, 'roommate': 5815, 'rooms': 5816, 'root': 5817, 'roots': 5818, 'ropes': 5819, 'rotary': 5820, 'rough': 5821, 'round-trip': 5822, 'rounds': 5823, 'router': 5824, 'routine': 5825, 'royalty': 5826, 'rude': 5827, 'ruin': 5828, 'ruined': 5829, 'rules': 5830, 'rumor': 5831, 'run': 5832, 'running': 5833, 'runs': 5834, 'rural': 5835, 'rush': 5836, 'rushing': 5837, 'sacrificing': 5838, 'sad': 5839, 'safe': 5840, 'safeguard': 5841, 'safely': 5842, 'safer': 5843, 'safety': 5844, 'said': 5845, 'sake': 5846, 'salad': 5847, 'salary': 5848, 'sale': 5849, 'sales': 5850, 'salesmen': 5851, 'salt': 5852, 'saltwater': 5853, 'same': 5854, 'samgyeopsal': 5855, 'samgyupsal': 5856, 'sample': 5857, 'sampler': 5858, 'samples': 5859, 'sampling': 5860, 'sanctioning': 5861, 'sandwich': 5862, 'sandwiches': 5863, 'sanitary': 5864, 'satellite': 5865, 'satin': 5866, 'satisfied': 5867, 'satisfy': 5868, 'sauce': 5869, 'sauna': 5870, 'sausage': 5871, 'save': 5872, 'saved': 5873, 'saves': 5874, 'saving': 5875, 'savings': 5876, 'savory': 5877, 'savvy': 5878, 'saw': 5879, 'say': 5880, 'saying': 5881, 'says': 5882, 'scaffolding': 5883, 'scale': 5884, 'scammed': 5885, 'scan': 5886, 'scanner': 5887, 'scanners': 5888, 'scanning': 5889, 'scarcity': 5890, 'scared': 5891, 'scavenger': 5892, 'scenario': 5893, 'scenarios': 5894, 'scenic': 5895, 'scent': 5896, 'schedule': 5897, 'scheduled': 5898, 'scheduler': 5899, 'schedules': 5900, 'scheme': 5901, 'scholar': 5902, 'scholarships': 5903, 'school': 5904, 'schooling': 5905, 'science': 5906, 'sciences': 5907, 'scientific': 5908, 'scientists': 5909, 'scooters': 5910, 'score': 5911, 'scores': 5912, 'scratch': 5913, 'screen': 5914, 'screening': 5915, 'screenplay': 5916, 'screens': 5917, 'screenshot': 5918, 'screenshots': 5919, 'screw': 5920, 'screws': 5921, 'script': 5922, 'scrub': 5923, 'sculptors': 5924, 'sea': 5925, 'seal': 5926, 'search': 5927, 'searching': 5928, 'season': 5929, 'seasons': 5930, 'seat': 5931, 'seats': 5932, 'seaweed': 5933, 'seaworthiness': 5934, 'second': 5935, 'secondary': 5936, 'secondhand': 5937, 'seconds': 5938, 'secret': 5939, 'secretary': 5940, 'section': 5941, 'sector': 5942, 'secure': 5943, 'secured': 5944, 'secures': 5945, 'securing': 5946, 'securities': 5947, 'security': 5948, 'see': 5949, 'seedlings': 5950, 'seeing': 5951, 'seek': 5952, 'seeking': 5953, 'seem': 5954, 'seems': 5955, 'seen': 5956, 'select': 5957, 'selected': 5958, 'selection': 5959, 'selections': 5960, 'self-employed': 5961, 'self-propelled': 5962, 'sell': 5963, 'seller': 5964, 'sellers': 5965, 'selling': 5966, 'selling-related': 5967, 'sells': 5968, 'selves': 5969, 'semester': 5970, 'semiconductor': 5971, 'semiconductors': 5972, 'seminar': 5973, 'seminars': 5974, 'send': 5975, 'sender': 5976, 'sending': 5977, 'senior': 5978, 'seniors': 5979, 'sense': 5980, 'sensor': 5981, 'sensors': 5982, 'sent': 5983, 'separate': 5984, 'separately': 5985, 'serial': 5986, 'series': 5987, 'serious': 5988, 'serve': 5989, 'served': 5990, 'server': 5991, 'servers': 5992, 'serves': 5993, 'service': 5994, 'serviced': 5995, 'services': 5996, 'servicing': 5997, 'serving': 5998, 'servings': 5999, 'servo': 6000, 'session': 6001, 'sessions': 6002, 'set': 6003, 'set-up': 6004, 'sets': 6005, 'setting': 6006, 'settings': 6007, 'settle': 6008, 'settled': 6009, 'setup': 6010, 'setups': 6011, 'seven': 6012, 'seven-day': 6013, 'several': 6014, 'severe': 6015, 'sewer': 6016, 'sewing': 6017, 'shaded': 6018, 'shaft': 6019, 'shafts': 6020, 'shake': 6021, 'shall': 6022, 'shape': 6023, 'shapes': 6024, 'share': 6025, 'shared': 6026, 'shares': 6027, 'sharing': 6028, 'sharpened': 6029, 'sharply': 6030, 'she': 6031, 'sheet': 6032, 'shelter': 6033, 'shift': 6034, 'shifted': 6035, 'ship': 6036, 'shipment': 6037, 'shipments': 6038, 'shipped': 6039, 'shipping': 6040, 'ships': 6041, 'shock': 6042, 'shoddy': 6043, 'shoe': 6044, 'shoes': 6045, 'shoot': 6046, 'shooting': 6047, 'shop': 6048, 'shopping': 6049, 'shops': 6050, 'short': 6051, 'short-': 6052, 'short-lived': 6053, 'short-range': 6054, 'short-term': 6055, 'shortly': 6056, 'shot': 6057, 'shots': 6058, 'should': 6059, 'shoulder': 6060, 'shovel': 6061, 'shovels': 6062, 'show': 6063, 'showcase': 6064, 'showcases': 6065, 'showcasing': 6066, 'showed': 6067, 'shower': 6068, 'showing': 6069, 'shown': 6070, 'showroom': 6071, 'shows': 6072, 'shredder': 6073, 'shredders': 6074, 'shrimp': 6075, 'shutting': 6076, 'shy': 6077, 'sibling': 6078, 'side': 6079, 'sides': 6080, 'sign': 6081, 'signal': 6082, 'signals': 6083, 'signatory': 6084, 'signature': 6085, 'signatures': 6086, 'signed': 6087, 'significance': 6088, 'significant': 6089, 'significantly': 6090, 'signify': 6091, 'signing': 6092, 'silent': 6093, 'silk': 6094, 'silver': 6095, 'silverware': 6096, 'similar': 6097, 'simmered': 6098, 'simmering': 6099, 'simple': 6100, 'simpler': 6101, 'simply': 6102, 'simultaneously': 6103, 'since': 6104, 'sincere': 6105, 'sincerely': 6106, 'sing': 6107, 'single': 6108, 'single-player': 6109, 'sink': 6110, 'sir': 6111, 'sister': 6112, 'sit': 6113, 'site': 6114, 'sited': 6115, 'sites': 6116, 'sitting': 6117, 'situation': 6118, 'situations': 6119, 'six': 6120, 'six-megapixel': 6121, 'six-month': 6122, 'sixth': 6123, 'sizable': 6124, 'size': 6125, 'sizes': 6126, 'sketches': 6127, 'skill': 6128, 'skilled': 6129, 'skills': 6130, 'skin-care': 6131, 'skincare': 6132, 'skyline': 6133, 'skyrocket': 6134, 'sleep': 6135, 'sleeping': 6136, 'slept': 6137, 'slice': 6138, 'slide': 6139, 'slides': 6140, 'sliding': 6141, 'slightly': 6142, 'slip': 6143, 'slippers': 6144, 'slot': 6145, 'slots': 6146, 'slow': 6147, 'slurp': 6148, 'small': 6149, 'small-': 6150, 'smaller': 6151, 'smallest': 6152, 'smart': 6153, 'smartphone': 6154, 'smartphones': 6155, 'smartwatches': 6156, 'smile': 6157, 'smoke': 6158, 'smooth': 6159, 'smoothly': 6160, 'snack': 6161, 'snacks': 6162, 'snap': 6163, 'sneakers': 6164, 'snob': 6165, 'snorkeling': 6166, 'so': 6167, 'soap': 6168, 'soaps': 6169, 'soaring': 6170, 'social': 6171, 'societal': 6172, 'socket': 6173, 'socks': 6174, 'sof': 6175, 'sofa': 6176, 'soft': 6177, 'software': 6178, 'software-defined': 6179, 'softwares': 6180, 'soil': 6181, 'soju': 6182, 'sold': 6183, 'sole': 6184, 'solely': 6185, 'solid': 6186, 'solitary': 6187, 'solo': 6188, 'solution': 6189, 'solutions': 6190, 'solve': 6191, 'some': 6192, 'somebody': 6193, 'someday': 6194, 'somehow': 6195, 'someone': 6196, 'something': 6197, 'sometime': 6198, 'sometimes': 6199, 'somewhere': 6200, 'son': 6201, 'song': 6202, 'songs': 6203, 'soon': 6204, 'sooner': 6205, 'sophisticated': 6206, 'sorry': 6207, 'sort': 6208, 'sorted': 6209, 'sorts': 6210, 'sound': 6211, 'soundbite': 6212, 'sounded': 6213, 'sounds': 6214, 'soundtrack': 6215, 'soup': 6216, 'source': 6217, 'sources': 6218, 'sous-vide': 6219, 'southeast': 6220, 'souvenirs': 6221, 'soy': 6222, 'spa': 6223, 'space': 6224, 'spaces': 6225, 'spacious': 6226, 'spaghetti': 6227, 'spaghetti-making': 6228, 'spam': 6229, 'spare': 6230, 'spark-ignition': 6231, 'spas': 6232, 'speak': 6233, 'speaker': 6234, 'speakers': 6235, 'speaking': 6236, 'speaks': 6237, 'special': 6238, 'specialize': 6239, 'specialized': 6240, 'specializes': 6241, 'specialties': 6242, 'specialty': 6243, 'specific': 6244, 'specifically': 6245, 'specification': 6246, 'specifications': 6247, 'specifics': 6248, 'spectacular': 6249, 'spectrophotometer': 6250, 'spectrum': 6251, 'speed': 6252, 'speeds': 6253, 'spend': 6254, 'spending': 6255, 'spent': 6256, 'spices': 6257, 'spicy': 6258, 'spike': 6259, 'spinners': 6260, 'spinning': 6261, 'spiral': 6262, 'split': 6263, 'spoke': 6264, 'spoken': 6265, 'sponsor': 6266, 'sponsored': 6267, 'spoons': 6268, 'sports': 6269, 'spot': 6270, 'spots': 6271, 'spouse': 6272, 'sprained': 6273, 'spray': 6274, 'spread': 6275, 'spreader': 6276, 'spreading': 6277, 'spring': 6278, 'springs': 6279, 'sprout': 6280, 'sprouts': 6281, 'spyware': 6282, 'square': 6283, 'squeeze': 6284, 'squid': 6285, 'ssambap': 6286, 'ssamjang': 6287, 'stable': 6288, 'stacking': 6289, 'staff': 6290, 'staffs': 6291, 'stage': 6292, 'stages': 6293, 'staggered': 6294, 'stainless': 6295, 'stake': 6296, 'stalls': 6297, 'stand': 6298, 'standard': 6299, 'standards': 6300, 'stands': 6301, 'star': 6302, 'starch': 6303, 'stars': 6304, 'start': 6305, 'start-ups': 6306, 'started': 6307, 'starters': 6308, 'starting': 6309, 'starts': 6310, 'startup': 6311, 'startups': 6312, 'state': 6313, 'state-of-the-art': 6314, 'stated': 6315, 'statement': 6316, 'statements': 6317, 'states': 6318, 'static': 6319, 'station': 6320, 'stationary': 6321, 'stationed': 6322, 'stations': 6323, 'statistics': 6324, 'statue': 6325, 'status': 6326, 'stay': 6327, 'stayed': 6328, 'staying': 6329, 'stays': 6330, 'steadier': 6331, 'steady': 6332, 'steak': 6333, 'steal': 6334, 'steamed': 6335, 'steamers': 6336, 'steel': 6337, 'steering': 6338, 'stems': 6339, 'step': 6340, 'step-by-step': 6341, 'stepped': 6342, 'steps': 6343, 'sterilizers': 6344, 'stew': 6345, 'stick': 6346, 'sticker': 6347, 'stickers': 6348, 'sticky': 6349, 'still': 6350, 'stipulated': 6351, 'stir-fried': 6352, 'stitches': 6353, 'stock': 6354, 'stockbroker': 6355, 'stocks': 6356, 'stolen': 6357, 'stones': 6358, 'stop': 6359, 'stoppers': 6360, 'stops': 6361, 'storage': 6362, 'store': 6363, 'stored': 6364, 'stores': 6365, 'stories': 6366, 'storm': 6367, 'story': 6368, 'stoves': 6369, 'straight': 6370, 'straighten': 6371, 'strain': 6372, 'strands': 6373, 'strange': 6374, 'strategic': 6375, 'strategies': 6376, 'strategy': 6377, 'straw': 6378, 'stream': 6379, 'streamed': 6380, 'streaming': 6381, 'street': 6382, 'strength': 6383, 'strengthen': 6384, 'stress': 6385, 'strict': 6386, 'strictly': 6387, 'strictness': 6388, 'strips': 6389, 'strive': 6390, 'striving': 6391, 'stroganoff': 6392, 'strong': 6393, 'stronger': 6394, 'strongly': 6395, 'structure': 6396, 'structures': 6397, 'struggle': 6398, 'stub': 6399, 'stuck': 6400, 'student': 6401, 'students': 6402, 'studied': 6403, 'studies': 6404, 'studio': 6405, 'studio-type': 6406, 'study': 6407, 'studying': 6408, 'stuff': 6409, 'stumped': 6410, 'stunning': 6411, 'stupendous': 6412, 'stuttering': 6413, 'style': 6414, 'subcription': 6415, 'subdivision': 6416, 'submersible': 6417, 'submission': 6418, 'submissions': 6419, 'submit': 6420, 'submitted': 6421, 'subscribe': 6422, 'subscribed': 6423, 'subscriber': 6424, 'subscribers': 6425, 'subscribing': 6426, 'subscription': 6427, 'subscriptions': 6428, 'subsidiaries': 6429, 'subsidiary': 6430, 'substantial': 6431, 'subtitles': 6432, 'subway': 6433, 'succeed': 6434, 'succeeded': 6435, 'success': 6436, 'successful': 6437, 'succinctly': 6438, 'such': 6439, 'suction': 6440, 'sudden': 6441, 'suddenly': 6442, 'suffer': 6443, 'suffered': 6444, 'suffice': 6445, 'sufficient': 6446, 'sugar': 6447, 'suggest': 6448, 'suggested': 6449, 'suggesting': 6450, 'suggestion': 6451, 'suggestions': 6452, 'suit': 6453, 'suitable': 6454, 'suite': 6455, 'suites': 6456, 'sujeonggwa': 6457, 'sukju': 6458, 'sum': 6459, 'summary': 6460, 'summer': 6461, 'sun': 6462, 'sunrise': 6463, 'superintendent': 6464, 'superiors': 6465, 'supermarket': 6466, 'supervisor': 6467, 'supervisory': 6468, 'supplements': 6469, 'supplied': 6470, 'supplier': 6471, 'suppliers': 6472, 'supplies': 6473, 'supply': 6474, 'supplying': 6475, 'support': 6476, 'supporters': 6477, 'supporting': 6478, 'supportive': 6479, 'suppose': 6480, 'supposed': 6481, 'sure': 6482, 'surely': 6483, 'surface': 6484, 'surge': 6485, 'surpass': 6486, 'surplus': 6487, 'surprise': 6488, 'surprised': 6489, 'surround': 6490, 'surveillance': 6491, 'survey': 6492, 'surveyed': 6493, 'suspect': 6494, 'suspicious': 6495, 'sustainable': 6496, 'sweat': 6497, 'sweet': 6498, 'sweets': 6499, 'swift': 6500, 'swiftly': 6501, 'swimming': 6502, 'switch': 6503, 'switched': 6504, 'switching': 6505, 'symbols': 6506, 'symmetric': 6507, 'syndicated': 6508, 'synopsis': 6509, 'synthetic': 6510, 'syringes': 6511, 'system': 6512, 'systems': 6513, 'tab': 6514, 'table': 6515, 'tables': 6516, 'tablet': 6517, 'tablets': 6518, 'tabulate': 6519, 'tackled': 6520, 'tactics': 6521, 'tagline': 6522, 'tags': 6523, 'tainted': 6524, 'take': 6525, 'taken': 6526, 'takeover': 6527, 'takes': 6528, 'taking': 6529, 'talent': 6530, 'talents': 6531, 'talk': 6532, 'talked': 6533, 'talking': 6534, 'talks': 6535, 'tap': 6536, 'tape': 6537, 'taps': 6538, 'target': 6539, 'targeted': 6540, 'targeting': 6541, 'targets': 6542, 'tariff': 6543, 'tariffs': 6544, 'task': 6545, 'task-oriented': 6546, 'tasked': 6547, 'tasks': 6548, 'taste': 6549, 'tasted': 6550, 'tastes': 6551, 'tasty': 6552, 'tattoo': 6553, 'taught': 6554, 'tax': 6555, 'taxation': 6556, 'taxed': 6557, 'taxes': 6558, 'tea': 6559, 'tea-making': 6560, 'teach': 6561, 'teacher': 6562, 'teachers': 6563, 'teaching': 6564, 'team': 6565, 'team-building': 6566, 'teammates': 6567, 'teams': 6568, 'teas': 6569, 'teaser': 6570, 'tech': 6571, 'technical': 6572, 'technically': 6573, 'technician': 6574, 'technicians': 6575, 'techniques': 6576, 'technological': 6577, 'technologies': 6578, 'technologist': 6579, 'technology': 6580, 'tedious': 6581, 'teenagers': 6582, 'telecommunication': 6583, 'telecommunications': 6584, 'teleconference': 6585, 'telephone': 6586, 'television': 6587, 'televisions': 6588, 'tell': 6589, 'telling': 6590, 'temperature': 6591, 'temperature-controlled': 6592, 'temperatures': 6593, 'template': 6594, 'templates': 6595, 'temple': 6596, 'temples': 6597, 'temporarily': 6598, 'temporary': 6599, 'ten': 6600, 'ten-story': 6601, 'tenants': 6602, 'tend': 6603, 'tendency': 6604, 'tender': 6605, 'tent': 6606, 'tentative': 6607, 'tents': 6608, 'tenure': 6609, 'terabyte': 6610, 'terabytes': 6611, 'term': 6612, 'terminal': 6613, 'terminate': 6614, 'terms': 6615, 'terrace': 6616, 'terrible': 6617, 'terribly': 6618, 'test': 6619, 'tested': 6620, 'tester': 6621, 'testers': 6622, 'testing': 6623, 'tests': 6624, 'text': 6625, 'textbook': 6626, 'textbooks': 6627, 'textile': 6628, 'textiles': 6629, 'texts': 6630, 'texture': 6631, 'textures': 6632, 'than': 6633, 'thank': 6634, 'thanks': 6635, 'that': 6636, 'the': 6637, 'theater-like': 6638, 'their': 6639, 'theirs': 6640, 'them': 6641, 'theme': 6642, 'themes': 6643, 'themselves': 6644, 'then': 6645, 'therapy': 6646, 'there': 6647, 'thereby': 6648, 'therefore': 6649, 'thermoforming': 6650, 'thermoplastic': 6651, 'thermostat': 6652, 'these': 6653, 'they': 6654, 'thick': 6655, 'thickened': 6656, 'thin': 6657, 'thing': 6658, 'things': 6659, 'think': 6660, 'thinking': 6661, 'thinks': 6662, 'third': 6663, 'third-party': 6664, 'this': 6665, 'thorough': 6666, 'thoroughly': 6667, 'those': 6668, 'though': 6669, 'thought': 6670, 'thoughts': 6671, 'thousand': 6672, 'thousands': 6673, 'threads': 6674, 'threat': 6675, 'threaten': 6676, 'three': 6677, 'three-bedroom': 6678, 'three-day': 6679, 'three-month': 6680, 'three-to-five-day': 6681, 'three-year': 6682, 'thrives': 6683, 'through': 6684, 'throughout': 6685, 'thus': 6686, 'ticket': 6687, 'tickets': 6688, 'tie-ups': 6689, 'tied': 6690, 'tight': 6691, 'tightly': 6692, 'till': 6693, 'time': 6694, 'time-consuming': 6695, 'time-saver': 6696, 'timeline': 6697, 'timelines': 6698, 'timely': 6699, 'timer': 6700, 'times': 6701, 'timespan': 6702, 'timetable': 6703, 'timing': 6704, 'tiny': 6705, 'tip': 6706, 'tipping': 6707, 'tips': 6708, 'tire': 6709, 'tissue': 6710, 'title': 6711, 'to': 6712, 'to-go': 6713, 'toast': 6714, 'toasters': 6715, 'tobacco': 6716, 'today': 6717, 'toddlers': 6718, 'toe': 6719, 'together': 6720, 'toilet': 6721, 'token': 6722, 'tokens': 6723, 'told': 6724, 'tolerant': 6725, 'tolerated': 6726, 'tomorrow': 6727, 'ton': 6728, 'tone': 6729, 'toner': 6730, 'tones': 6731, 'tonight': 6732, 'too': 6733, 'took': 6734, 'tool': 6735, 'tools': 6736, 'top': 6737, 'top-grade': 6738, 'top-notch': 6739, 'top-performing': 6740, 'top-quality': 6741, 'top-tier': 6742, 'topic': 6743, 'topics': 6744, 'topmost': 6745, 'torn': 6746, 'tortilla': 6747, 'total': 6748, 'totally': 6749, 'touch': 6750, 'touchscreen': 6751, 'tough': 6752, 'tour': 6753, 'tourism': 6754, 'tourist': 6755, 'tourists': 6756, 'tours': 6757, 'tow': 6758, 'toward': 6759, 'towards': 6760, 'towel': 6761, 'towels': 6762, 'town': 6763, 'townhouse': 6764, 'track': 6765, 'trackballs': 6766, 'tracking': 6767, 'trackpad': 6768, 'tractor': 6769, 'trade': 6770, 'trademark': 6771, 'trader': 6772, 'trades': 6773, 'trading': 6774, 'traditional': 6775, 'traditionally': 6776, 'traditions': 6777, 'traffic': 6778, 'trailer': 6779, 'trailers': 6780, 'train': 6781, 'training': 6782, 'trainings': 6783, 'trains': 6784, 'tranche': 6785, 'transact': 6786, 'transaction': 6787, 'transactions': 6788, 'transfer': 6789, 'transferred': 6790, 'transferring': 6791, 'transfers': 6792, 'translations': 6793, 'translators': 6794, 'transmission': 6795, 'transmit': 6796, 'transmitted': 6797, 'transparency': 6798, 'transport': 6799, 'transportation': 6800, 'transportations': 6801, 'trash': 6802, 'travel': 6803, 'traveled': 6804, 'travelers': 6805, 'traveling': 6806, 'travelled': 6807, 'tread': 6808, 'treat': 6809, 'treated': 6810, 'treatment': 6811, 'treatments': 6812, 'tremendously': 6813, 'trend': 6814, 'trending': 6815, 'trends': 6816, 'trendy': 6817, 'tri-fold': 6818, 'trial': 6819, 'trials': 6820, 'tricky': 6821, 'tried': 6822, 'tries': 6823, 'trigger': 6824, 'trip': 6825, 'triple': 6826, 'trips': 6827, 'trouble': 6828, 'troubles': 6829, 'troubleshooting': 6830, 'truck': 6831, 'trucks': 6832, 'true': 6833, 'truly': 6834, 'trust': 6835, 'trusted': 6836, 'trustee': 6837, 'trusting': 6838, 'trustworthy': 6839, 'truth': 6840, 'try': 6841, 'trying': 6842, 'tteokbokki': 6843, 'tub': 6844, 'tube': 6845, 'tube-making': 6846, 'tubes': 6847, 'tubing': 6848, 'tubs': 6849, 'tuned': 6850, 'tunnels': 6851, 'turn': 6852, 'turnaround': 6853, 'turned': 6854, 'turning': 6855, 'turnkey': 6856, 'turns': 6857, 'tutorials': 6858, 'tweaks': 6859, 'twenty': 6860, 'twice': 6861, 'twin': 6862, 'twin-sized': 6863, 'two': 6864, 'two-bedroom': 6865, 'two-in-one': 6866, 'two-month': 6867, 'two-storey': 6868, 'two-year': 6869, 'type': 6870, 'type-C': 6871, 'types': 6872, 'typewriter': 6873, 'typical': 6874, 'typically': 6875, 'ultimately': 6876, 'ultrasonic': 6877, 'ultrasound': 6878, 'umbrella': 6879, 'unable': 6880, 'unacceptable': 6881, 'unauthorized': 6882, 'unavailable': 6883, 'unaware': 6884, 'unboxed': 6885, 'unboxing': 6886, 'unbreakable': 6887, 'unchanged': 6888, 'uncomfortable': 6889, 'under': 6890, 'undergoing': 6891, 'underlying': 6892, 'underneath': 6893, 'underreported': 6894, 'understaffed': 6895, 'understand': 6896, 'understandable': 6897, 'understanding': 6898, 'undervalued': 6899, 'underwriting': 6900, 'undoubtedly': 6901, 'undress': 6902, 'unemployed': 6903, 'unending': 6904, 'unequal': 6905, 'unexpected': 6906, 'unfair': 6907, 'unfamiliar': 6908, 'unfold': 6909, 'unforeseen': 6910, 'unfortunate': 6911, 'unfortunately': 6912, 'unhappy': 6913, 'unintentional': 6914, 'unique': 6915, 'unit': 6916, 'units': 6917, 'unity': 6918, 'universal': 6919, 'universities': 6920, 'university': 6921, 'unless': 6922, 'unlike': 6923, 'unlimited': 6924, 'unloading': 6925, 'unnecessary': 6926, 'unpleasant': 6927, 'unpredictable': 6928, 'unprofessional': 6929, 'unquantifiable': 6930, 'unrealized': 6931, 'unsecured': 6932, 'unstable': 6933, 'unsure': 6934, 'unsustainable': 6935, 'until': 6936, 'untouched': 6937, 'unused': 6938, 'up': 6939, 'up-front': 6940, 'up-to-date': 6941, 'upcoming': 6942, 'update': 6943, 'updated': 6944, 'updates': 6945, 'updating': 6946, 'upfront': 6947, 'upgrade': 6948, 'upgraded': 6949, 'upgrades': 6950, 'upgrading': 6951, 'upkeep': 6952, 'upload': 6953, 'uploaded': 6954, 'uploading': 6955, 'upon': 6956, 'upper': 6957, 'ups': 6958, 'upset': 6959, 'urge': 6960, 'urged': 6961, 'urgent': 6962, 'urgently': 6963, 'us': 6964, 'usability': 6965, 'usage': 6966, 'use': 6967, 'used': 6968, 'useful': 6969, 'user': 6970, 'user-friendly': 6971, 'users': 6972, 'uses': 6973, 'using': 6974, 'usual': 6975, 'usually': 6976, 'utensils': 6977, 'utilities': 6978, 'utility': 6979, 'utilize': 6980, 'utilized': 6981, 'utilizing': 6982, 'vacation': 6983, 'vaccination': 6984, 'vaccine': 6985, 'vacuum': 6986, 'valid': 6987, 'validates': 6988, 'validating': 6989, 'validity': 6990, 'valuable': 6991, 'valuables': 6992, 'value': 6993, 'values': 6994, 'valve': 6995, 'valves': 6996, 'van': 6997, 'vans': 6998, 'variable': 6999, 'variables': 7000, 'variation': 7001, 'varies': 7002, 'varieties': 7003, 'variety': 7004, 'various': 7005, 'vary': 7006, 'varying': 7007, 'vector': 7008, 'vectors': 7009, 'vegan': 7010, 'vegan-friendly': 7011, 'vegetable': 7012, 'vegetables': 7013, 'vegetarian': 7014, 'veggies': 7015, 'vehicle': 7016, 'vehicles': 7017, 'vending': 7018, 'vendor': 7019, 'vendors': 7020, 'venture': 7021, 'ventures': 7022, 'venturi': 7023, 'venturing': 7024, 'venue': 7025, 'verification': 7026, 'verified': 7027, 'verify': 7028, 'versatile': 7029, 'version': 7030, 'versions': 7031, 'very': 7032, 'veteran': 7033, 'via': 7034, 'viable': 7035, 'viand': 7036, 'vibes': 7037, 'vibrations': 7038, 'victim': 7039, 'video': 7040, 'videoconferencing': 7041, 'videos': 7042, 'view': 7043, 'viewers': 7044, 'views': 7045, 'villa': 7046, 'village': 7047, 'villas': 7048, 'vine': 7049, 'vinegar': 7050, 'vintage': 7051, 'violated': 7052, 'violation': 7053, 'violent': 7054, 'viral': 7055, 'virtual': 7056, 'virtualization': 7057, 'virtually': 7058, 'virus': 7059, 'viruses': 7060, 'visas': 7061, 'viscosity': 7062, 'visibility': 7063, 'visible': 7064, 'vision': 7065, 'visit': 7066, 'visited': 7067, 'visiting': 7068, 'visitors': 7069, 'visits': 7070, 'visual': 7071, 'visualization': 7072, 'visualizations': 7073, 'visualize': 7074, 'visually': 7075, 'visuals': 7076, 'vital': 7077, 'vitals': 7078, 'vlog': 7079, 'vocabulary': 7080, 'voice': 7081, 'volatile': 7082, 'volume': 7083, 'voluminous': 7084, 'vulnerable': 7085, 'wafer': 7086, 'wage': 7087, 'wages': 7088, 'wait': 7089, 'waited': 7090, 'waiters': 7091, 'waiting': 7092, 'waive': 7093, 'waived': 7094, 'wake': 7095, 'walk': 7096, 'walking': 7097, 'wallet': 7098, 'wallpapers': 7099, 'walls': 7100, 'want': 7101, 'wanted': 7102, 'wanting': 7103, 'wants': 7104, 'warehouse': 7105, 'warm': 7106, 'warn': 7107, 'warning': 7108, 'warping': 7109, 'warrant': 7110, 'warrants': 7111, 'warranty': 7112, 'wary': 7113, 'was': 7114, 'washer': 7115, 'washers': 7116, 'waste': 7117, 'wasting': 7118, 'watch': 7119, 'watched': 7120, 'watching': 7121, 'water': 7122, 'water-resistant': 7123, 'watering': 7124, 'watermelon': 7125, 'waterproof': 7126, 'waterways': 7127, 'watts': 7128, 'way': 7129, 'ways': 7130, 'we': 7131, 'wealth': 7132, 'wealthy': 7133, 'wear': 7134, 'weather': 7135, 'web': 7136, 'webinar': 7137, 'webinars': 7138, 'webpage': 7139, 'website': 7140, 'websites': 7141, 'wedding': 7142, 'weddings': 7143, 'week': 7144, 'week-long': 7145, 'weekdays': 7146, 'weekend': 7147, 'weekends': 7148, 'weekly': 7149, 'weeks': 7150, 'weight': 7151, 'welcome': 7152, 'welcomes': 7153, 'well': 7154, 'well-known': 7155, 'well-managed': 7156, 'well-prepared': 7157, 'well-produced': 7158, 'well-proven': 7159, 'well-respected': 7160, 'went': 7161, 'were': 7162, 'west': 7163, 'western': 7164, 'what': 7165, 'whatever': 7166, 'wheat': 7167, 'wheels': 7168, 'when': 7169, 'whenever': 7170, 'where': 7171, 'whereabouts': 7172, 'wherever': 7173, 'whether': 7174, 'which': 7175, 'while': 7176, 'white': 7177, 'who': 7178, 'whoever': 7179, 'whole': 7180, 'wholesale': 7181, 'whom': 7182, 'whose': 7183, 'why': 7184, 'wide': 7185, 'widely': 7186, 'widened': 7187, 'wider': 7188, 'widest': 7189, 'wife': 7190, 'wild': 7191, 'wildlife': 7192, 'will': 7193, 'willing': 7194, 'win': 7195, 'wind': 7196, 'window': 7197, 'windows': 7198, 'wine': 7199, 'wines': 7200, 'wing': 7201, 'winner': 7202, 'winter': 7203, 'wipe': 7204, 'wire': 7205, 'wired': 7206, 'wireless': 7207, 'wires': 7208, 'wisely': 7209, 'wish': 7210, 'wished': 7211, 'wishes': 7212, 'with': 7213, 'withdraw': 7214, 'withdrawal': 7215, 'withhold': 7216, 'within': 7217, 'without': 7218, 'witness': 7219, 'wo': 7220, 'women': 7221, 'won': 7222, 'wonder': 7223, 'wonderful': 7224, 'wondering': 7225, 'wonders': 7226, 'wood': 7227, 'word': 7228, 'words': 7229, 'work': 7230, 'work-from-home': 7231, 'worked': 7232, 'worker': 7233, 'workers': 7234, 'workforce': 7235, 'working': 7236, 'workplace': 7237, 'works': 7238, 'workshop': 7239, 'world': 7240, 'worldwide': 7241, 'worm': 7242, 'worms': 7243, 'worried': 7244, 'worries': 7245, 'worry': 7246, 'worrying': 7247, 'worse': 7248, 'worst': 7249, 'worth': 7250, 'worthwhile': 7251, 'worthy': 7252, 'would': 7253, 'wow': 7254, 'wrap': 7255, 'wrapping': 7256, 'wraps': 7257, 'write': 7258, 'writers': 7259, 'writing': 7260, 'written': 7261, 'wrong': 7262, 'yacht': 7263, 'yang': 7264, 'yard': 7265, 'yarn': 7266, 'year': 7267, 'year-to-date': 7268, 'yearly': 7269, 'years': 7270, 'yell': 7271, 'yellow': 7272, 'yen': 7273, 'yes': 7274, 'yesterday': 7275, 'yet': 7276, 'yield': 7277, 'yields': 7278, 'yin': 7279, 'yo': 7280, 'you': 7281, 'young': 7282, 'youngsters': 7283, 'your': 7284, 'yours': 7285, 'yourself': 7286, 'yourselves': 7287, 'youth': 7288, 'yurt': 7289, 'zero': 7290, 'zero-gravity': 7291, 'zones': 7292, 'zoom': 7293}\n"
          ]
        }
      ],
      "source": [
        "# token - idx dictionary\n",
        "# 여기서도 동일하게 i+1로 해줘야 padding에 사용할 token을 0으로 사용할 수 있습니다!\n",
        "\n",
        "# src_vocab, tar_vocab과 같이 unique한 단어들만 있는 리스트를\n",
        "# 앞에 숫자를 포함한 딕셔너리로 만든 변수\n",
        "src_to_index = dict([(word, i+1) for i, word in enumerate(src_vocab)])\n",
        "tar_to_index = dict([(word, i+1) for i, word in enumerate(tar_vocab)])\n",
        "\n",
        "print(src_to_index) # '\\n'이 1번쨰이다.\n",
        "print(tar_to_index) # '\\t', '\\n' 1,2번째이다."
      ]
    },
    {
      "cell_type": "code",
      "source": [
        "src_to_index['\\n'] # source에서는 '<EOS>'가 '\\n'으로써 1로 레이블된다."
      ],
      "metadata": {
        "colab": {
          "base_uri": "https://localhost:8080/"
        },
        "id": "NFZP5jQJjm-5",
        "outputId": "4fa384b1-ec20-4ab9-e68c-24f0b74600d6"
      },
      "execution_count": 45,
      "outputs": [
        {
          "output_type": "execute_result",
          "data": {
            "text/plain": [
              "1"
            ]
          },
          "metadata": {},
          "execution_count": 45
        }
      ]
    },
    {
      "cell_type": "code",
      "source": [
        "tar_to_index['\\n'] # target에서는 '<EOS>'가 '\\n'으로써 2로 레이블된다."
      ],
      "metadata": {
        "colab": {
          "base_uri": "https://localhost:8080/"
        },
        "id": "MxxJawkPj3WX",
        "outputId": "f3710d9e-18be-4150-ba69-7ceab601a05d"
      },
      "execution_count": 47,
      "outputs": [
        {
          "output_type": "execute_result",
          "data": {
            "text/plain": [
              "2"
            ]
          },
          "metadata": {},
          "execution_count": 47
        }
      ]
    },
    {
      "cell_type": "code",
      "source": [
        "tar_to_index['\\t'] # target에서는 '<SOS>'가 2'\\t'로써 1로 레이블된다."
      ],
      "metadata": {
        "colab": {
          "base_uri": "https://localhost:8080/"
        },
        "id": "dqmFENCuj9Oi",
        "outputId": "909d022a-ce78-4dcf-aa5b-b663d1914541"
      },
      "execution_count": 48,
      "outputs": [
        {
          "output_type": "execute_result",
          "data": {
            "text/plain": [
              "1"
            ]
          },
          "metadata": {},
          "execution_count": 48
        }
      ]
    },
    {
      "cell_type": "markdown",
      "metadata": {
        "id": "tWUdLA1eanaz"
      },
      "source": [
        "### 정수 인코딩"
      ]
    },
    {
      "cell_type": "code",
      "execution_count": null,
      "metadata": {
        "id": "Ktl49jJnxAQt"
      },
      "outputs": [],
      "source": [
        "# 앞서 toekn-index dictionary로 정리한 것을 이용해서 각각의 토큰들을 정수인코딩을 진행해봅니다.\n",
        "# 이 과정에서 유의할 점은, 기존의 구현 코드에서 여러개의 for loop을 사용했습니다.\n",
        "# 이보다 빨리 진행하기 위해 어떻게 코딩할 수 있을까요?\n",
        "# 시간이 충분하시다면 for loop을 그대로 이용하셔도 좋습니다만, 다른 방법도 고민하셔도 좋습니다.\n",
        "# hint: Pandas에서 apply와 비슷한 것들을 이용해보면 어떨까요?"
      ]
    },
    {
      "cell_type": "code",
      "execution_count": 49,
      "metadata": {
        "colab": {
          "base_uri": "https://localhost:8080/"
        },
        "id": "BPMqWOKLLblo",
        "outputId": "148bc711-cae0-4db8-8461-dd9c4506bc0e"
      },
      "outputs": [
        {
          "output_type": "execute_result",
          "data": {
            "text/plain": [
              "[1219,\n",
              " 2837,\n",
              " 5996,\n",
              " 2454,\n",
              " 1390,\n",
              " 18,\n",
              " 6634,\n",
              " 5691,\n",
              " 774,\n",
              " 8306,\n",
              " 861,\n",
              " 5996,\n",
              " 979,\n",
              " 8497,\n",
              " 7053,\n",
              " 8476,\n",
              " 20,\n",
              " 1]"
            ]
          },
          "metadata": {},
          "execution_count": 49
        }
      ],
      "source": [
        "# 인코딩 방법\n",
        "\n",
        "list(map(lambda x : src_to_index[x], src_seq_tr[0]))"
      ]
    },
    {
      "cell_type": "code",
      "execution_count": 50,
      "metadata": {
        "id": "ocvHdAzp0B3Q"
      },
      "outputs": [],
      "source": [
        "# 이제 문장을 잘라 만든 단어들의 이중리스트인 'src_seq_tr'와 'tar_seq_tr'를\n",
        "# 문자에서 숫자로 인코딩을 해주자!\n",
        "\n",
        "# 정수 인코딩 값이 들어갈 장소\n",
        "encoder_input = []\n",
        "decoder_temp = []\n",
        "decoder_input = []\n",
        "decoder_target = []\n",
        "\n",
        "# encoder의 입력값 정수 인코딩 진행\n",
        "for sentence in src_seq_tr:\n",
        "  encoder_input.append(list(map(lambda x : src_to_index[x], sentence)))\n",
        "\n",
        "# 우선 decoder에서 사용하는 문장에 대해 정수인코딩 진행\n",
        "for sentence in tar_seq_tr:\n",
        "  decoder_temp.append(list(map(lambda x : tar_to_index[x], sentence)))\n",
        "\n",
        "# 다만 decoder의 출력값은 <SOS>들어가면 안되니 첫번째 토큰은 빼주기\n",
        "decoder_target = list(map(lambda x : x[1:], decoder_temp))\n",
        "# decoder의 입력값은 마지막 <EOS>가 들어가면 안되니 마지막 토큰은 빼주기\n",
        "decoder_input = list(map(lambda x : x[:-1], decoder_temp))\n",
        "\n",
        "# 마지막으로 이제는 tensor의 형태로 바꿔준다.\n",
        "encoder_input = list(map(lambda x : torch.Tensor(x).long(), encoder_input))\n",
        "decoder_input = list(map(lambda x : torch.Tensor(x).long(), decoder_input))\n",
        "decoder_target = list(map(lambda x : torch.Tensor(x).long(), decoder_target))"
      ]
    },
    {
      "cell_type": "code",
      "execution_count": 51,
      "metadata": {
        "colab": {
          "base_uri": "https://localhost:8080/"
        },
        "id": "XrCoY---PCNP",
        "outputId": "f934f5c9-3d64-476f-a774-89d9a9c4eaba"
      },
      "outputs": [
        {
          "output_type": "execute_result",
          "data": {
            "text/plain": [
              "[tensor([1219, 2837, 5996, 2454, 1390,   18, 6634, 5691,  774, 8306,  861, 5996,\n",
              "          979, 8497, 7053, 8476,   20,    1]),\n",
              " tensor([8764, 4209, 8285, 6391,   18, 3030,  583, 5460, 3574, 4836,  864, 6397,\n",
              "           20,    1]),\n",
              " tensor([5589, 4339,  246,  475, 7115,   28,  475, 1829,  992, 1517,  730, 2535,\n",
              "         2312, 1881, 7809, 6390,   20,    1])]"
            ]
          },
          "metadata": {},
          "execution_count": 51
        }
      ],
      "source": [
        "encoder_input[:3] # 모두 1('\\n')로 끝난다."
      ]
    },
    {
      "cell_type": "code",
      "execution_count": 52,
      "metadata": {
        "colab": {
          "base_uri": "https://localhost:8080/"
        },
        "id": "inL7uoJEPe3D",
        "outputId": "9565ded5-1a5a-4b66-fea5-e16dcfc9399d"
      },
      "outputs": [
        {
          "output_type": "execute_result",
          "data": {
            "text/plain": [
              "[tensor([   1,  573,   10, 3540, 6712, 3689, 6636,   16, 1277,  573, 3766, 7281,\n",
              "         2744, 2253, 2757, 1789, 7213, 6964,   17]),\n",
              " tensor([   1,  573,   10, 2555, 6661, 1040, 4088,   16, 1795,  573, 3678, 6192,\n",
              "         5436, 6712, 1387, 7281,   17]),\n",
              " tensor([   1,  584, 6717,   12, 7240,   16, 4812, 3880, 3063, 3321, 3209, 3674,\n",
              "         2898, 1034, 1893,   16, 2755,   16, 4853, 1701,   17])]"
            ]
          },
          "metadata": {},
          "execution_count": 52
        }
      ],
      "source": [
        "decoder_input[:3] # 모두 1('\\t')로 시작한다."
      ]
    },
    {
      "cell_type": "code",
      "execution_count": 53,
      "metadata": {
        "colab": {
          "base_uri": "https://localhost:8080/"
        },
        "id": "tgjyCHapP5fy",
        "outputId": "dd5368ec-708a-44ab-e0ca-72f43d8451a6"
      },
      "outputs": [
        {
          "output_type": "execute_result",
          "data": {
            "text/plain": [
              "[tensor([ 573,   10, 3540, 6712, 3689, 6636,   16, 1277,  573, 3766, 7281, 2744,\n",
              "         2253, 2757, 1789, 7213, 6964,   17,    2]),\n",
              " tensor([ 573,   10, 2555, 6661, 1040, 4088,   16, 1795,  573, 3678, 6192, 5436,\n",
              "         6712, 1387, 7281,   17,    2]),\n",
              " tensor([ 584, 6717,   12, 7240,   16, 4812, 3880, 3063, 3321, 3209, 3674, 2898,\n",
              "         1034, 1893,   16, 2755,   16, 4853, 1701,   17,    2])]"
            ]
          },
          "metadata": {},
          "execution_count": 53
        }
      ],
      "source": [
        "decoder_target[:3] # 모두 2('\\n')로 끝난다."
      ]
    },
    {
      "cell_type": "markdown",
      "metadata": {
        "id": "ibj8DeCqbvZG"
      },
      "source": [
        "### Padding"
      ]
    },
    {
      "cell_type": "code",
      "execution_count": 54,
      "metadata": {
        "colab": {
          "base_uri": "https://localhost:8080/"
        },
        "id": "hjCU8ytHQykc",
        "outputId": "45cd226c-ea3d-4a82-a67e-cd144a98d6db"
      },
      "outputs": [
        {
          "output_type": "stream",
          "name": "stdout",
          "text": [
            "\bencode 한 문장안에서의 평균 단어의 갯수 : 12.426\n",
            "decode-input 한 문장안에서의 평균 단어의 갯수 : 13.492\n",
            "decode-output 한 문장안에서의 평균 단어의 갯수 : 13.492\n"
          ]
        }
      ],
      "source": [
        "import numpy as np\n",
        "\n",
        "mean_encode_len = np.array([len(line) for line in encoder_input]).mean()\n",
        "mean_decode_input_len = np.array([len(line) for line in decoder_input]).mean()\n",
        "mean_decode_target_len = np.array([len(line) for line in decoder_target]).mean()\n",
        "\n",
        "print('\bencode 한 문장안에서의 평균 단어의 갯수 :',mean_encode_len)\n",
        "print('decode-input 한 문장안에서의 평균 단어의 갯수 :',mean_decode_input_len)\n",
        "print('decode-output 한 문장안에서의 평균 단어의 갯수 :',mean_decode_target_len)\n",
        "\n",
        "# 문장을 나눈 단어의 평균 갯수의 크게 차이가 없다.\n",
        "# 사이즈의 차이가 없는 것은 아마도 비슷한 기준으로 문장을 나눴기 때문일 것이다.\n",
        "\n",
        "# 그러나 중요한 것은 encode/decode 내에서 각 문장의 길이가 같도록 맞춰줘야하는 것이다.\n",
        "# 따라서 아래 과정에 따라 0을 집어넣어 사이즈를 맞춰주는 padding을 진행해보자!"
      ]
    },
    {
      "cell_type": "code",
      "execution_count": 55,
      "metadata": {
        "id": "fT3x1SL_l1pY"
      },
      "outputs": [],
      "source": [
        "from torch.nn.utils.rnn import pad_sequence"
      ]
    },
    {
      "cell_type": "code",
      "execution_count": 56,
      "metadata": {
        "id": "sSNmdbEwuQR5"
      },
      "outputs": [],
      "source": [
        "# 현재 길이가 제각각인 정수화된 문장이 있습니다. padding을 통해 길이를 맞춰봅시다\n",
        "# 주의사항: 여기에 사용된 값을은 정수일까요?\n",
        "batch_first = True\n",
        "\n",
        "# _tr이 붙으면, transformation 즉, padding이 된 상태이다.\n",
        "encoder_input_tr = pad_sequence(encoder_input, batch_first=batch_first).long()\n",
        "decoder_input_tr = pad_sequence(decoder_input, batch_first=batch_first).long()\n",
        "decoder_target_tr = pad_sequence(decoder_target, batch_first=batch_first).long()"
      ]
    },
    {
      "cell_type": "code",
      "execution_count": 57,
      "metadata": {
        "colab": {
          "base_uri": "https://localhost:8080/"
        },
        "id": "TZA_VN_oUk8Y",
        "outputId": "e046e79c-5a89-46bc-c2f4-3841f5a8d35c"
      },
      "outputs": [
        {
          "output_type": "execute_result",
          "data": {
            "text/plain": [
              "tensor([[1219, 2837, 5996, 2454, 1390,   18, 6634, 5691,  774, 8306,  861, 5996,\n",
              "          979, 8497, 7053, 8476,   20,    1,    0,    0,    0,    0,    0,    0,\n",
              "            0,    0,    0,    0,    0,    0,    0,    0,    0,    0,    0,    0,\n",
              "            0,    0,    0,    0,    0,    0,    0,    0,    0],\n",
              "        [8764, 4209, 8285, 6391,   18, 3030,  583, 5460, 3574, 4836,  864, 6397,\n",
              "           20,    1,    0,    0,    0,    0,    0,    0,    0,    0,    0,    0,\n",
              "            0,    0,    0,    0,    0,    0,    0,    0,    0,    0,    0,    0,\n",
              "            0,    0,    0,    0,    0,    0,    0,    0,    0],\n",
              "        [5589, 4339,  246,  475, 7115,   28,  475, 1829,  992, 1517,  730, 2535,\n",
              "         2312, 1881, 7809, 6390,   20,    1,    0,    0,    0,    0,    0,    0,\n",
              "            0,    0,    0,    0,    0,    0,    0,    0,    0,    0,    0,    0,\n",
              "            0,    0,    0,    0,    0,    0,    0,    0,    0]])"
            ]
          },
          "metadata": {},
          "execution_count": 57
        }
      ],
      "source": [
        "encoder_input_tr[:3]"
      ]
    },
    {
      "cell_type": "code",
      "source": [
        "decoder_input_tr[:3]"
      ],
      "metadata": {
        "colab": {
          "base_uri": "https://localhost:8080/"
        },
        "id": "izzeCbhakh_Y",
        "outputId": "f71584a1-f53b-4a25-aef8-476acacc561d"
      },
      "execution_count": 58,
      "outputs": [
        {
          "output_type": "execute_result",
          "data": {
            "text/plain": [
              "tensor([[   1,  573,   10, 3540, 6712, 3689, 6636,   16, 1277,  573, 3766, 7281,\n",
              "         2744, 2253, 2757, 1789, 7213, 6964,   17,    0,    0,    0,    0,    0,\n",
              "            0,    0,    0,    0,    0,    0,    0,    0,    0,    0,    0,    0,\n",
              "            0,    0,    0,    0,    0,    0],\n",
              "        [   1,  573,   10, 2555, 6661, 1040, 4088,   16, 1795,  573, 3678, 6192,\n",
              "         5436, 6712, 1387, 7281,   17,    0,    0,    0,    0,    0,    0,    0,\n",
              "            0,    0,    0,    0,    0,    0,    0,    0,    0,    0,    0,    0,\n",
              "            0,    0,    0,    0,    0,    0],\n",
              "        [   1,  584, 6717,   12, 7240,   16, 4812, 3880, 3063, 3321, 3209, 3674,\n",
              "         2898, 1034, 1893,   16, 2755,   16, 4853, 1701,   17,    0,    0,    0,\n",
              "            0,    0,    0,    0,    0,    0,    0,    0,    0,    0,    0,    0,\n",
              "            0,    0,    0,    0,    0,    0]])"
            ]
          },
          "metadata": {},
          "execution_count": 58
        }
      ]
    },
    {
      "cell_type": "code",
      "execution_count": 59,
      "metadata": {
        "colab": {
          "base_uri": "https://localhost:8080/"
        },
        "id": "3I4p03fbUfP-",
        "outputId": "93642ebd-ce35-48d9-90e3-18693e58975a"
      },
      "outputs": [
        {
          "output_type": "stream",
          "name": "stdout",
          "text": [
            "\bencode 한 문장안에서의 평균 단어의 갯수 : 45.0\n",
            "target-input 한 문장안에서의 평균 단어의 갯수 : 42.0\n",
            "target-output 한 문장안에서의 평균 단어의 갯수 : 42.0\n"
          ]
        }
      ],
      "source": [
        "mean_encode_len = np.array([len(line) for line in encoder_input_tr]).mean()\n",
        "mean_decode_input_len = np.array([len(line) for line in decoder_input_tr]).mean()\n",
        "mean_decode_target_len = np.array([len(line) for line in decoder_target_tr]).mean()\n",
        "\n",
        "print('\bencode 한 문장안에서의 평균 단어의 갯수 :',mean_encode_len)\n",
        "print('target-input 한 문장안에서의 평균 단어의 갯수 :',mean_decode_input_len)\n",
        "print('target-output 한 문장안에서의 평균 단어의 갯수 :',mean_decode_target_len)"
      ]
    },
    {
      "cell_type": "code",
      "execution_count": 60,
      "metadata": {
        "colab": {
          "base_uri": "https://localhost:8080/"
        },
        "id": "XTQwfnOScJ7A",
        "outputId": "889523bd-2402-4bee-beba-f5888a880a4a"
      },
      "outputs": [
        {
          "output_type": "execute_result",
          "data": {
            "text/plain": [
              "torch.Size([10000, 45])"
            ]
          },
          "metadata": {},
          "execution_count": 60
        }
      ],
      "source": [
        "# 10,000개의 문장에 대해\n",
        "# 각 문장은 45개의 단어로 분리된다.\n",
        "\n",
        "encoder_input_tr.size()"
      ]
    },
    {
      "cell_type": "code",
      "execution_count": 61,
      "metadata": {
        "colab": {
          "base_uri": "https://localhost:8080/"
        },
        "id": "eWSefhUFcOgd",
        "outputId": "fb3a5a7d-fa93-4046-a76f-37a37a4a515f"
      },
      "outputs": [
        {
          "output_type": "execute_result",
          "data": {
            "text/plain": [
              "torch.Size([10000, 42])"
            ]
          },
          "metadata": {},
          "execution_count": 61
        }
      ],
      "source": [
        "decoder_input_tr.size()"
      ]
    },
    {
      "cell_type": "code",
      "execution_count": 62,
      "metadata": {
        "colab": {
          "base_uri": "https://localhost:8080/"
        },
        "id": "Piyq3-LHcPGG",
        "outputId": "e5c5fa41-70c5-4655-ac94-f034ac5a1dfa"
      },
      "outputs": [
        {
          "output_type": "execute_result",
          "data": {
            "text/plain": [
              "torch.Size([10000, 42])"
            ]
          },
          "metadata": {},
          "execution_count": 62
        }
      ],
      "source": [
        "decoder_target_tr.size()"
      ]
    },
    {
      "cell_type": "markdown",
      "metadata": {
        "id": "FQ_AHRQPmfZX"
      },
      "source": [
        "## Train data\n",
        "\n",
        "tuple type으로,  (encoder_input, decoder_input, decoder_target)의 순서를 가지게 됩니다. 이는 tuple assignment를 이용하려고 하는 것이니 자유롭게 사용하셔도 좋습니다."
      ]
    },
    {
      "cell_type": "code",
      "execution_count": 64,
      "metadata": {
        "id": "YXqi5dV-mjQD"
      },
      "outputs": [],
      "source": [
        "train_data = tuple([encoder_input_tr, decoder_input_tr, decoder_target_tr])"
      ]
    },
    {
      "cell_type": "markdown",
      "source": [
        "## Eval data"
      ],
      "metadata": {
        "id": "-FUSc9wbuUWL"
      }
    },
    {
      "cell_type": "markdown",
      "metadata": {
        "id": "nXhsP4O3mhih"
      },
      "source": [
        "지금까지 진행한 것은 학습 데이터에 대한 전처리입니다.\n",
        "\n",
        "그런데 말입니다, 과연 평가 데이터는 학습데이터랑 동일한 형태일까요?\n",
        "\n",
        "사용하는 단어도 동일할까요?\n",
        "\n",
        "게다가 실제 데이터라면 문장 속에 이메일이나, 전화번호등 다른 것들로 대체해야할 게 있지 않을까요?\n",
        "\n",
        "참으로 고민할 게 많습니다. 이 모든 것들을 고려하면 좋겠지만, 현재 과제에서는 학습 데이터의 단어 집합에는 없는데 평가 데이터에서 등장하는 단어들은 어떻게 처리할지 한번 고민해봅시다.\n",
        "\n",
        "**핵심 TODO**:만약에 본 적이 없는 token이 나온다면 어떻게 될까요?\n",
        "\n",
        "--> Out of Vocabulary !  =지금까지 단어 집합에 없던 아이들!<br>\n",
        "\n",
        "이를 한번에 처리해주는 토큰으로 \\<UNK\\>(=unknown token) 을 사용\n",
        "\n",
        "EX)\n",
        "\n",
        "train data : \"나는 밥을 먹는다.\"<br>\n",
        "\\>> [\"나\", \"밥\", \"먹다\"]<br>\n",
        "\\>> [\\<SOS\\>, 나, 밥, 먹다, \\<EOS\\>] <BR>\n",
        "\\>> {\\<SOS\\>:0, \\<EOS\\>:1, \\<UNK\\>: 2, 나:3, 밥:4, 먹다:5}  <bR>\n",
        "\\>> [0, 3, 4, 5, 1] <BR>\n",
        "\n",
        "val data: \"나는 고기를 먹는다\"<br>\n",
        "\\>> ['나', '고기' '먹다']<BR>\n",
        "\\>> [\\<SOS\\>, 나, \\<UNK\\>, 먹다, \\<EOS\\>] <BR>\n",
        "\\>> [0, 3, 2, 5, 1] <BR><BR>\n",
        "\n",
        "* 즉, 정리를 하자면, 우리는 학습데이터를 기준으로 학습을 하기에\n",
        "* 평가를 할 시에 평가데이터에 있지만 학습데이터에는 없는 데이터에 한하여\n",
        "* 어떤 처리를 할 것인가 <- 이게 새로운 문제이다.\n",
        "\n",
        "* 그리고 여기에 대한 답으로 그냥 UNK(unknown)으로 새로운\n",
        "* 정수로 라벨링을 해주는 것으로 대체할 것이다."
      ]
    },
    {
      "cell_type": "code",
      "execution_count": 65,
      "metadata": {
        "colab": {
          "base_uri": "https://localhost:8080/"
        },
        "id": "-3RhbZQpeuK_",
        "outputId": "e380d28c-7be0-4ff3-88de-6dd714db1a43"
      },
      "outputs": [
        {
          "output_type": "stream",
          "name": "stdout",
          "text": [
            "1 8865\n",
            "1 7293\n"
          ]
        }
      ],
      "source": [
        "print(min(src_to_index.values()), max(src_to_index.values()))\n",
        "print(min(tar_to_index.values()), max(tar_to_index.values()))\n",
        "\n",
        "# source는 8865+1을 UNK으로\n",
        "# target은 7293+1을 UNK로 설정한다."
      ]
    },
    {
      "cell_type": "code",
      "execution_count": 66,
      "metadata": {
        "colab": {
          "base_uri": "https://localhost:8080/"
        },
        "id": "tvlFP0Q94rU3",
        "outputId": "95a5be44-f264-4b25-ee3d-90b87d1f7002"
      },
      "outputs": [
        {
          "output_type": "stream",
          "name": "stderr",
          "text": [
            "100%|██████████| 1000/1000 [00:08<00:00, 123.17it/s]\n"
          ]
        }
      ],
      "source": [
        "# 조금 걸린다.\n",
        "\n",
        "src_seq_val = [] # 전체 문장; 한국어\n",
        "tar_seq_val = [] # 전체 문장; 영어\n",
        "\n",
        "src_oov = [] # 기존의 train-data로부터 얻은 unique한 단어들 집합인 src_vocab에 없는 단어들\n",
        "tar_oov = [] # 기존의 train-data로부터 얻은 unique한 단어들 집합인 tar_vocab에 없는 단어들\n",
        "\n",
        "\n",
        "for raw_val_dat in tqdm(raw_val_data): # 평가 데이터인 'val'을 이용한다.\n",
        "  \n",
        "  # 1. 문장별 tokenization\n",
        "  src_tmp = CustomTokenizer_ko(raw_val_dat['ko'])\n",
        "  tar_tmp = CustomTokenizer_en(raw_val_dat['en'])\n",
        "\n",
        "\n",
        "  # 2. 입력 시퀀스에서 문장의 끝을 알리는 <EOS> 토큰 추가; 한국어\n",
        "  src_tmp = src_tmp + ['\\n']\n",
        "\n",
        "  # 출력 시퀀스에서 시작과 끝을 알리는 <SOS>, <EOS> 토큰 추가; 영어\n",
        "  tar_tmp = ['\\t'] + tar_tmp + ['\\n']\n",
        "  \n",
        " \n",
        "  # 3. 처음보는 단어들은 일단 모르는 단어(OOV)로 표시해놓기  \n",
        "  # 해당 과정에서는 지금 얻은 token들(src_tmp와 tar_tmp)들 중에서 학습 데이터의 단어 집합(src_vocab과 tar_vocab)에 없는 단어들을 찾아야 합니다.\n",
        "  # 즉 위의 예시에서 \"고기\"에 해당하는 token을 찾아야 하고, 이를 list로 저장해봅시다.\n",
        "\n",
        "  # 즉, raw_val_data에서 src_vocab과 tar_vocab\n",
        "  src_oov += [x for x in src_tmp if x not in src_vocab and x not in src_oov]\n",
        "  tar_oov += [x for x in tar_tmp if x not in tar_vocab and x not in tar_oov]\n",
        "\n",
        "\n",
        "  # 4. OOV들은 <UNK>로 바꾸는 과정입니다.\n",
        "  # 지금 문장을 tokenization되어 있고, 앞서 구한 모르는 단어(OOV)들의 리스트(src_oov와 tar_oov)가 있는 상황에서\n",
        "  # 해당 리스트에 속한 토큰들은 <UNK>토큰으로 바꿔주는 것을 구현하는 파트입니다.\n",
        "  # 위의 예시에서 본다면 [<SOS>, 나, 고기, 먹다, <EOS>]를 [<SOS>, 나, <UNK>, 먹다, <EOS>]로 만들어주는 과정입니다.\n",
        "  src_tmp = list(map(lambda x: '<UNK>' if x in src_oov else x, src_tmp))\n",
        "  tar_tmp = list(map(lambda x: '<UNK>' if x in tar_oov else x, tar_tmp))\n",
        "\n",
        " \n",
        "  # 5. tokenization 끝난 문장 보관\n",
        "  src_seq_val.append(src_tmp)\n",
        "  tar_seq_val.append(tar_tmp)\n"
      ]
    },
    {
      "cell_type": "code",
      "execution_count": 67,
      "metadata": {
        "colab": {
          "base_uri": "https://localhost:8080/"
        },
        "id": "lS7L8nQR8Ywu",
        "outputId": "fb15ac93-bc49-44ee-c999-ef432f06cb5a"
      },
      "outputs": [
        {
          "output_type": "execute_result",
          "data": {
            "text/plain": [
              "['\\t', '<UNK>', '<UNK>', ',', '<UNK>', ',', 'and', '<UNK>', '<UNK>', '.', '\\n']"
            ]
          },
          "metadata": {},
          "execution_count": 67
        }
      ],
      "source": [
        "# 나의 결과\n",
        "\n",
        "tar_seq_val[5] # 아래의 정답과 일부 비슷하나 조금 다르다!"
      ]
    },
    {
      "cell_type": "markdown",
      "source": [
        "정답 : 더블클릭해서 직접 확인!\n",
        "\n",
        "['<SOS>', '<UNK>', '<UNK>', '<UNK>', 'and', 'even', '<UNK>', 'skin', '<EOS>']"
      ],
      "metadata": {
        "id": "UMV4ANbXk7ab"
      }
    },
    {
      "cell_type": "markdown",
      "metadata": {
        "id": "F_aSz3ONAGOe"
      },
      "source": [
        "많이 다른데.. 그 이유에 대해 확인해보자!\n",
        "\n",
        "* ',' <- 이것은 내가 의도적으로 넣은 것이다.\n",
        "\n",
        "* 따라서 even과 skin에 대해 살펴보자!"
      ]
    },
    {
      "cell_type": "code",
      "execution_count": 68,
      "metadata": {
        "colab": {
          "base_uri": "https://localhost:8080/",
          "height": 35
        },
        "id": "uT1CI2xc8kdo",
        "outputId": "f2264406-2b41-4f09-8a10-66532039cd81"
      },
      "outputs": [
        {
          "output_type": "execute_result",
          "data": {
            "text/plain": [
              "'Provides smoother, brighter, and even-toned skin.'"
            ],
            "application/vnd.google.colaboratory.intrinsic+json": {
              "type": "string"
            }
          },
          "metadata": {},
          "execution_count": 68
        }
      ],
      "source": [
        "# 사용되는 영어문장\n",
        "\n",
        "s = raw_val_data[5]['en']\n",
        "s"
      ]
    },
    {
      "cell_type": "code",
      "execution_count": 69,
      "metadata": {
        "colab": {
          "base_uri": "https://localhost:8080/"
        },
        "id": "fVJd9lNL-PJY",
        "outputId": "cfba62fb-e11e-4742-cc6c-6135e2769285"
      },
      "outputs": [
        {
          "output_type": "execute_result",
          "data": {
            "text/plain": [
              "['Provides',\n",
              " 'smoother',\n",
              " ',',\n",
              " 'brighter',\n",
              " ',',\n",
              " 'and',\n",
              " 'even-toned',\n",
              " 'skin',\n",
              " '.']"
            ]
          },
          "metadata": {},
          "execution_count": 69
        }
      ],
      "source": [
        "# 영어 문장의 토큰화를 진행\n",
        "\n",
        "tar_tmp = CustomTokenizer_en(s)\n",
        "tar_tmp"
      ]
    },
    {
      "cell_type": "code",
      "source": [
        "# 이후에 train-data에 없는 단어이면, UNK로 대체\n",
        "\n",
        "tar_tmp = list(map(lambda x: '<UNK>' if x in tar_oov else x, tar_tmp))\n",
        "tar_tmp # <- 우리의 최종 결과"
      ],
      "metadata": {
        "colab": {
          "base_uri": "https://localhost:8080/"
        },
        "id": "FnzOeRUYldhY",
        "outputId": "0117a548-0c23-4ffd-a358-431229fc909b"
      },
      "execution_count": 70,
      "outputs": [
        {
          "output_type": "execute_result",
          "data": {
            "text/plain": [
              "['<UNK>', '<UNK>', ',', '<UNK>', ',', 'and', '<UNK>', '<UNK>', '.']"
            ]
          },
          "metadata": {},
          "execution_count": 70
        }
      ]
    },
    {
      "cell_type": "code",
      "execution_count": 71,
      "metadata": {
        "colab": {
          "base_uri": "https://localhost:8080/"
        },
        "id": "b2eE15319M4e",
        "outputId": "f66a5263-ce02-40d9-a1be-1e940a01920a"
      },
      "outputs": [
        {
          "output_type": "execute_result",
          "data": {
            "text/plain": [
              "True"
            ]
          },
          "metadata": {},
          "execution_count": 71
        }
      ],
      "source": [
        "'even' in tar_vocab # 'even'이 train-data에 있는가? <- yes!"
      ]
    },
    {
      "cell_type": "code",
      "execution_count": 72,
      "metadata": {
        "colab": {
          "base_uri": "https://localhost:8080/"
        },
        "id": "K8qVoaGQ9kK5",
        "outputId": "ab354970-f042-4301-f93e-c30486112eaf"
      },
      "outputs": [
        {
          "output_type": "execute_result",
          "data": {
            "text/plain": [
              "False"
            ]
          },
          "metadata": {},
          "execution_count": 72
        }
      ],
      "source": [
        "'even' in tar_oov # 'even'이 test-data에 있는가? <- no!\n"
      ]
    },
    {
      "cell_type": "markdown",
      "source": [
        "즉, 'even-toned'으로 하이폰(-)으로 묶여있어 train에 이미 있어서 그대로 출력이 되어야하나 그러지 못한 것으로 확인이 된다."
      ],
      "metadata": {
        "id": "_9nuJGCwlu43"
      }
    },
    {
      "cell_type": "code",
      "source": [
        "'skin' in tar_vocab # 'skin'이 train-data에 있는가? <- no!"
      ],
      "metadata": {
        "colab": {
          "base_uri": "https://localhost:8080/"
        },
        "id": "GQX27QCdmDFG",
        "outputId": "cc149480-eb24-48a3-fd32-0ae867ecf36f"
      },
      "execution_count": 73,
      "outputs": [
        {
          "output_type": "execute_result",
          "data": {
            "text/plain": [
              "False"
            ]
          },
          "metadata": {},
          "execution_count": 73
        }
      ]
    },
    {
      "cell_type": "code",
      "source": [
        "'skin' in tar_oov # 'skin'이 test-data에 있는가? <- yes!"
      ],
      "metadata": {
        "colab": {
          "base_uri": "https://localhost:8080/"
        },
        "id": "NrspnIWsmH3Z",
        "outputId": "3116642a-3732-43c3-f1f0-dd9b4361cec9"
      },
      "execution_count": 74,
      "outputs": [
        {
          "output_type": "execute_result",
          "data": {
            "text/plain": [
              "True"
            ]
          },
          "metadata": {},
          "execution_count": 74
        }
      ]
    },
    {
      "cell_type": "markdown",
      "source": [
        "즉, train data에서 어떤 이유로 skin이 나눠져서 단어로 들어가지 못했다. 그리고 이 때문에 차이가 발생했을 것으로 추정된다."
      ],
      "metadata": {
        "id": "0ZEVmSwAmPwW"
      }
    },
    {
      "cell_type": "markdown",
      "metadata": {
        "id": "70nzuKIPf3nX"
      },
      "source": [
        "위의 샘플을 보면 생각보다 너무 많은 단어들이 UNK로 바뀌었습니다. 이게 과연 성능에 어떤 영향을 끼칠까요? 이를 방지할 수 있는 대책은 무엇일까요?\n",
        "\n",
        "정답은 없습니다. 자유롭게 고민해보셔도 좋을 것 같습니다."
      ]
    },
    {
      "cell_type": "markdown",
      "metadata": {
        "id": "KoH1M8GofxwV"
      },
      "source": [
        "### UNK 토큰 추가 및 단어집합, token-index 업데이트"
      ]
    },
    {
      "cell_type": "code",
      "execution_count": 75,
      "metadata": {
        "id": "lE3iIu_W8-78"
      },
      "outputs": [],
      "source": [
        "# UNK가 추가되면서 vocab과 index도 업데이트를 해야합니다.\n",
        "# 즉 지금 방식으로 처리한다면, 지금 단어 집합에는 <UNK>라는 토큰이 없습니다.\n",
        "# 그래서 UNK 토큰에도 정수를 할당해줘야 합니다.\n",
        "# 지금 0은 padding에서 사용하고 있으니 아래의 과정은 마지막에 <UNK>를 추가해보는 것입니다."
      ]
    },
    {
      "cell_type": "code",
      "execution_count": 76,
      "metadata": {
        "colab": {
          "base_uri": "https://localhost:8080/"
        },
        "id": "KRl3l4bE9cVh",
        "outputId": "3e55e533-c349-4409-82b9-662fd8efcb10"
      },
      "outputs": [
        {
          "output_type": "execute_result",
          "data": {
            "text/plain": [
              "('힘쓰고', 8865)"
            ]
          },
          "metadata": {},
          "execution_count": 76
        }
      ],
      "source": [
        "# 입력 시퀀스의 마지막 토큰과 정수인코딩값 확인\n",
        "list(src_to_index.items())[-1]"
      ]
    },
    {
      "cell_type": "code",
      "execution_count": 77,
      "metadata": {
        "colab": {
          "base_uri": "https://localhost:8080/"
        },
        "id": "yRuj2FNmgfA3",
        "outputId": "6badd8fc-e05a-477b-d8e9-d29f646f6292"
      },
      "outputs": [
        {
          "output_type": "execute_result",
          "data": {
            "text/plain": [
              "8865"
            ]
          },
          "metadata": {},
          "execution_count": 77
        }
      ],
      "source": [
        "# 현재 입력 시퀀스에 사용된 token들의 개수 확인\n",
        "len(src_vocab)"
      ]
    },
    {
      "cell_type": "code",
      "execution_count": 78,
      "metadata": {
        "id": "2hQsCc5i9aw2"
      },
      "outputs": [],
      "source": [
        "# 우리는 마지막 토큰 뒤에 UNK 토큰을 추가해봅시다\n",
        "# 이 때 입력 시퀀스(src_to_index)와 출력시퀀스(tar_to_index)에 모두 사용해줘야 합니다.\n",
        "src_to_index[\"<UNK>\"] = len(src_vocab) + 1\n",
        "tar_to_index[\"<UNK>\"] = len(tar_vocab) + 1"
      ]
    },
    {
      "cell_type": "code",
      "execution_count": 79,
      "metadata": {
        "colab": {
          "base_uri": "https://localhost:8080/"
        },
        "id": "09pOS9MtaUVJ",
        "outputId": "e5c5fe2a-aab6-4803-9d83-1f746a593127"
      },
      "outputs": [
        {
          "output_type": "stream",
          "name": "stdout",
          "text": [
            "[('\\t', 1), ('\\n', 2), ('!', 3), ('$', 4), ('%', 5)]\n",
            "[('<UNK>', 7294), ('zoom', 7293), ('zones', 7292), ('zero-gravity', 7291)]\n"
          ]
        }
      ],
      "source": [
        "# 입력시퀀스의 단어집합 확인\n",
        "print(list(tar_to_index.items())[:5])\n",
        "print(list(tar_to_index.items())[-1:-5:-1]) # 맨 마지막에 '<UNK>'가 있다."
      ]
    },
    {
      "cell_type": "code",
      "execution_count": 80,
      "metadata": {
        "colab": {
          "base_uri": "https://localhost:8080/"
        },
        "id": "ZZqYpbTe-AK1",
        "outputId": "a3268e88-9d64-4bed-c4fe-eb74dc3a5384"
      },
      "outputs": [
        {
          "output_type": "stream",
          "name": "stdout",
          "text": [
            "[('\\n', 1), ('!', 2), ('\"', 3), ('$10,000', 4), ('$10,000만', 5)]\n",
            "[('<UNK>', 8866), ('힘쓰고', 8865), ('힘들어요', 8864), ('힘들어도', 8863)]\n"
          ]
        }
      ],
      "source": [
        "# 출력시퀀스의 단어집합 확인\n",
        "print(list(src_to_index.items())[:5])\n",
        "print(list(src_to_index.items())[-1:-5:-1]) # 맨 마지막에 '<UNK>'가 있다."
      ]
    },
    {
      "cell_type": "markdown",
      "metadata": {
        "id": "-E5zRRZuhQa_"
      },
      "source": [
        "### 정수 인코딩"
      ]
    },
    {
      "cell_type": "code",
      "execution_count": 105,
      "metadata": {
        "id": "LHRGJgfs-axo"
      },
      "outputs": [],
      "source": [
        "# 평가 데이터에 대해서  정수 인코딩을 진행해주세요! <- 즉, 테스트데이터를 정수형태로 바꾸라는 뜻!\n",
        "# 이 과정에서 중요한 점은 우린 학습데이터만 가지고 있으니 학습 데이터에서 사용했던 token-index로 인코딩을 진행해야 합니다!\n",
        "\n",
        "\n",
        "# 즉, 위에서 train-data에서 뽑은 unique한 단어들의 딕셔너리인 'src_to_index'를 이용한다.\n",
        "# 여기에는 test-data의 단어는 들어가있지 않지만, test-data에서 '<UNK>'로 바꿔주었기에\n",
        "# 이 값이 추가되었다.\n",
        "\n",
        "# 정수 인코딩 값이 들어갈 장소\n",
        "encoder_input_val = []\n",
        "decoder_temp = []\n",
        "decoder_input_val = []\n",
        "decoder_target_val = []\n",
        "\n",
        "# encoder의 입력값 정수 인코딩 진행\n",
        "for sentence in src_seq_val:\n",
        "  encoder_input_val.append(list(map(lambda x : src_to_index[x], sentence)))\n",
        "\n",
        "# 우선 decoder에서 사용하는 문장에 대해 정수인코딩 진행\n",
        "for sentence in tar_seq_val:\n",
        "  decoder_temp.append(list(map(lambda x : tar_to_index[x], sentence)))\n",
        "\n",
        "# 다만 decoder의 출력값은 <SOS>들어가면 안되니 첫번째 토큰은 빼주기\n",
        "decoder_target_val = list(map(lambda x : x[1:], decoder_temp))\n",
        "# decoder의 입력값은 마지막 <EOS>가 들어가면 안되니 마지막 토큰은 빼주기\n",
        "decoder_input_val = list(map(lambda x : x[:-1], decoder_temp))\n",
        "\n",
        "# 마지막으로 이제는 tensor의 형태로 바꿔준다.\n",
        "encoder_input_val = list(map(lambda x : torch.Tensor(x).long(), encoder_input_val))\n",
        "decoder_input_val = list(map(lambda x : torch.Tensor(x).long(), decoder_input_val))\n",
        "decoder_target_val = list(map(lambda x : torch.Tensor(x).long(), decoder_target_val))"
      ]
    },
    {
      "cell_type": "markdown",
      "source": [
        "정수 레이블링이 잘 되었는지 확인해보자!"
      ],
      "metadata": {
        "id": "6UTHKfyOx6GS"
      }
    },
    {
      "cell_type": "code",
      "source": [
        "print('validation set에 관하여')\n",
        "print('-'*50, '\\n')\n",
        "\n",
        "print('[Source]')\n",
        "print('src_seq_val; 입력문장들을 토큰화한 이중 리스트의 길이 :', len(src_seq_val))\n",
        "print('encoder_input_val; 토큰화한 문장들을 정수레이블한 이중 리스트의 길이 :', len(encoder_input_val))\n",
        "print('\\n')\n",
        "\n",
        "print('[target]')\n",
        "print('tar_seq_val; target문장들을 토큰화한 이중 리스트의 길이 :', len(tar_seq_val))\n",
        "print('decoder_input_val; 토큰화한 문장들을 정수레이블한 이중 리스트의 길이 :', len(decoder_input_val))\n",
        "print('decoder_target_val; 토큰화한 문장들을 정수레이블한 이중 리스트의 길이 :', len(decoder_target_val))"
      ],
      "metadata": {
        "colab": {
          "base_uri": "https://localhost:8080/"
        },
        "id": "BA6MEyRHx4sz",
        "outputId": "ed3ad0b0-1900-4d75-f2aa-fdf8d049d1e1"
      },
      "execution_count": 122,
      "outputs": [
        {
          "output_type": "stream",
          "name": "stdout",
          "text": [
            "validation set에 관하여\n",
            "-------------------------------------------------- \n",
            "\n",
            "[Source]\n",
            "src_seq_val; 입력문장들을 토큰화한 이중 리스트의 길이 : 1000\n",
            "encoder_input_val; 토큰화한 문장들을 정수레이블한 이중 리스트의 길이 : 1000\n",
            "\n",
            "\n",
            "[target]\n",
            "tar_seq_val; target문장들을 토큰화한 이중 리스트의 길이 : 1000\n",
            "decoder_input_val; 토큰화한 문장들을 정수레이블한 이중 리스트의 길이 : 1000\n",
            "decoder_target_val; 토큰화한 문장들을 정수레이블한 이중 리스트의 길이 : 1000\n"
          ]
        }
      ]
    },
    {
      "cell_type": "code",
      "source": [
        "src_to_index['<UNK>'] # 입력 데이터에서 '<UNK>'의 정수레이블은 8866이다."
      ],
      "metadata": {
        "colab": {
          "base_uri": "https://localhost:8080/"
        },
        "id": "JmCP4-oP0LPi",
        "outputId": "e537581a-d801-44f2-acb3-502abb94cf2a"
      },
      "execution_count": 130,
      "outputs": [
        {
          "output_type": "execute_result",
          "data": {
            "text/plain": [
              "8866"
            ]
          },
          "metadata": {},
          "execution_count": 130
        }
      ]
    },
    {
      "cell_type": "code",
      "source": [
        "tar_to_index['<UNK>'] # target 데이터에서 '<UNK>'의 정수레이블은 7294이다."
      ],
      "metadata": {
        "colab": {
          "base_uri": "https://localhost:8080/"
        },
        "id": "yee6iSC6u-Wi",
        "outputId": "e099fd98-7bd2-4159-809a-b764c4247466"
      },
      "execution_count": 123,
      "outputs": [
        {
          "output_type": "execute_result",
          "data": {
            "text/plain": [
              "7294"
            ]
          },
          "metadata": {},
          "execution_count": 123
        }
      ]
    },
    {
      "cell_type": "code",
      "source": [
        "tar_seq_val[0] # target 데이터의 1번째 문장을 토큰화하면 다음과 같다."
      ],
      "metadata": {
        "colab": {
          "base_uri": "https://localhost:8080/"
        },
        "id": "VVGi6TNtw0_O",
        "outputId": "311b20d7-716a-4f23-efb3-7c703af275cf"
      },
      "execution_count": 124,
      "outputs": [
        {
          "output_type": "execute_result",
          "data": {
            "text/plain": [
              "['\\t',\n",
              " '<UNK>',\n",
              " 'include',\n",
              " 'heart',\n",
              " 'rate',\n",
              " 'monitoring',\n",
              " ',',\n",
              " '<UNK>',\n",
              " 'battery',\n",
              " 'life',\n",
              " ',',\n",
              " 'music',\n",
              " 'play',\n",
              " 'control',\n",
              " 'display',\n",
              " 'sleep',\n",
              " 'and',\n",
              " '<UNK>',\n",
              " 'tracking',\n",
              " 'waterproof',\n",
              " 'smart',\n",
              " '<UNK>',\n",
              " '.',\n",
              " '\\n']"
            ]
          },
          "metadata": {},
          "execution_count": 124
        }
      ]
    },
    {
      "cell_type": "code",
      "source": [
        "src_seq_val[0] # source와 target의 순서가 맞게 되어있음을 확인했다."
      ],
      "metadata": {
        "colab": {
          "base_uri": "https://localhost:8080/"
        },
        "id": "g64HGTamxxBL",
        "outputId": "9cc2f4d4-fe65-4c6d-d3a9-eb27d142eb84"
      },
      "execution_count": 125,
      "outputs": [
        {
          "output_type": "execute_result",
          "data": {
            "text/plain": [
              "['<UNK>',\n",
              " '모니터링',\n",
              " ',',\n",
              " '14일',\n",
              " '배터리',\n",
              " '<UNK>',\n",
              " ',',\n",
              " '음악',\n",
              " '플레이',\n",
              " '제어',\n",
              " '디스플레이',\n",
              " '수면',\n",
              " '및',\n",
              " '수영',\n",
              " '트래킹',\n",
              " '방수',\n",
              " '스마트',\n",
              " '알림',\n",
              " '기능',\n",
              " '이',\n",
              " '있습니다',\n",
              " '.',\n",
              " '\\n']"
            ]
          },
          "metadata": {},
          "execution_count": 125
        }
      ]
    },
    {
      "cell_type": "code",
      "source": [
        "decoder_input_val[0] # 각각 UNK -> 7294로 변경됨을 확인"
      ],
      "metadata": {
        "colab": {
          "base_uri": "https://localhost:8080/"
        },
        "id": "VOkTBT7_w9vf",
        "outputId": "6829ba86-3121-47d1-9a6f-d08fe8727cf8"
      },
      "execution_count": 131,
      "outputs": [
        {
          "output_type": "execute_result",
          "data": {
            "text/plain": [
              "tensor([   1, 7294, 3887, 3693, 5473, 4594,   16, 7294, 1548, 4243,   16, 4643,\n",
              "        5132, 2310, 2714, 6135, 1277, 7294, 6767, 7126, 6153, 7294,   17])"
            ]
          },
          "metadata": {},
          "execution_count": 131
        }
      ]
    },
    {
      "cell_type": "code",
      "source": [
        "encoder_input_val[0] # 각각 UNK -> 8866로 변경됨을 확인"
      ],
      "metadata": {
        "colab": {
          "base_uri": "https://localhost:8080/"
        },
        "id": "nkiU5hSL0DbL",
        "outputId": "d4edbb84-e5e1-423c-a711-2314ca5b093a"
      },
      "execution_count": 128,
      "outputs": [
        {
          "output_type": "execute_result",
          "data": {
            "text/plain": [
              "tensor([8866, 3041,   18,   95, 3468, 8866,   18, 6005, 8211, 6871, 2478, 4479,\n",
              "        3247, 4495, 7945, 3421, 4574, 5127, 1352, 6041, 6390,   20,    1])"
            ]
          },
          "metadata": {},
          "execution_count": 128
        }
      ]
    },
    {
      "cell_type": "markdown",
      "metadata": {
        "id": "ws8RA6UThh0t"
      },
      "source": [
        "### Padding"
      ]
    },
    {
      "cell_type": "code",
      "execution_count": 132,
      "metadata": {
        "id": "4Qc_bb02-s6_"
      },
      "outputs": [],
      "source": [
        "# 현재 길이가 제각각인 정수화된 문장이 있습니다. padding을 통해 길이를 맞춰봅시다\n",
        "# 주의사항: 여기에 사용된 값을은 정수일까요?\n",
        "batch_first = True\n",
        "\n",
        "# _val이 붙으면, validation 즉, test-data이다.\n",
        "encoder_input_val = pad_sequence(encoder_input_val, batch_first=batch_first).long()\n",
        "decoder_input_val = pad_sequence(decoder_input_val, batch_first=batch_first).long()\n",
        "decoder_target_val = pad_sequence(decoder_target_val, batch_first=batch_first).long()"
      ]
    },
    {
      "cell_type": "code",
      "source": [
        "decoder_target_val[0] # 0이 채워진 것 확인"
      ],
      "metadata": {
        "colab": {
          "base_uri": "https://localhost:8080/"
        },
        "id": "qOUt0funpwCp",
        "outputId": "2376286d-1af6-4428-f98c-91385d97ed40"
      },
      "execution_count": 133,
      "outputs": [
        {
          "output_type": "execute_result",
          "data": {
            "text/plain": [
              "tensor([7294, 3887, 3693, 5473, 4594,   16, 7294, 1548, 4243,   16, 4643, 5132,\n",
              "        2310, 2714, 6135, 1277, 7294, 6767, 7126, 6153, 7294,   17,    2,    0,\n",
              "           0,    0,    0,    0,    0,    0,    0,    0,    0,    0,    0,    0])"
            ]
          },
          "metadata": {},
          "execution_count": 133
        }
      ]
    },
    {
      "cell_type": "code",
      "execution_count": 134,
      "metadata": {
        "id": "E7DOj62GnAfX"
      },
      "outputs": [],
      "source": [
        "val_data = tuple([encoder_input_val, decoder_input_val, decoder_target_val])"
      ]
    },
    {
      "cell_type": "markdown",
      "source": [
        "# 3. Dataset"
      ],
      "metadata": {
        "id": "8pAunCQKuLOS"
      }
    },
    {
      "cell_type": "markdown",
      "metadata": {
        "id": "WlZl7q5cxscM"
      },
      "source": [
        "실습코드에서 사용한 것과 동일한 구조입니다! \n",
        "\n",
        "사실 앞서 처리가 진행되었던 모든 과정은 Dataset에서 __get_item__ 함수 내에서 처리해서 값을 리턴할 수도 있습니다.\n",
        "\n",
        "다만 설명을 위해 이번 과제에서는 과정을 단계별로 설명 드렸습니다. 추후에 진행하실 때엔 __get_item__에서 구현해보셔도 좋을 것 같아요!\n",
        "\n",
        "그리고 일부 단계의 경우 임의로 처리된 것들이 있습니다.(tokenization부터 stopwords 등등) 가령 이메일, 전화번호와 같은 단어들은 \\<UNK\\>처럼 새로운 토큰을 이용해서 처리할 수도 있으며 목적에 따라서 다른 tokenziation을 사용할 수 있습니다.\n",
        "\n",
        "**(참고)**\n",
        "\n",
        " __get_item__말고 사전에 전처리를 다한 상태로 사용할 경우 사실 사용할 모든 데이터를 메모리에 올려놓고 사용하는 것과 같습니다.(변수에 할당되어 있으니)\n",
        "\n",
        "그런데 우리가 데이터가 매매매매매우 많아진다면, 메모리가 부족해질 수도 있지 않을까요? 그렇기 때문에 때에 따라 data를 필요할 때 전처리를 하고 반환하기도 합니다. 여기서 data가 필요할때란 결국 __get_item__을 호출할 때가 될 것입니다.\n",
        "\n",
        "정리하자면, 꼭 모든 데이터를 한번에 다 전처리해놓도 준비해놓지 않고도, 필요할 때 마다(get_item이 호출될 때마다) 전처리해서 결과를 전달하는 방법도 있습니다.\n",
        "\n",
        "다만 해당 과제에서는 Seq2Seq에 익숙해지는 것을 목표로 하기에 이러한 점만 알고 가셔도 충분하기도 하고, 오히려 사전에 다 처리해놓는 현재 방식이 더 효율적일 수도 있습니다. 그렇기 때문에 이 점만 알고 가셔도 좋을 것 같습니다!"
      ]
    },
    {
      "cell_type": "code",
      "execution_count": 135,
      "metadata": {
        "id": "j5lj6ZOPxpcj"
      },
      "outputs": [],
      "source": [
        "from torch.utils.data import Dataset, DataLoader"
      ]
    },
    {
      "cell_type": "code",
      "execution_count": 136,
      "metadata": {
        "id": "xc7ZqjGmx1dk"
      },
      "outputs": [],
      "source": [
        "class textDataset(Dataset):\n",
        "  def __init__(self, data, batch_first=True):\n",
        "\n",
        "    # 상속\n",
        "    super(textDataset, self).__init__()\n",
        "\n",
        "    # tuple asgginment를 활용한다면 굳이 argument로 모든 데이터를 받지 않아도 됩니다!\n",
        "    enc_inp, dec_inp, dec_out = data\n",
        "\n",
        "    # 내부에서 사용할 변수들 정리하는 것으로, 모든 데이터가 torch.LongTensor로 정리된 값들이 저장됩니다.\n",
        "    self.enc_inp = enc_inp\n",
        "    self.batch_first= batch_first # 이전에 True로 설정\n",
        "    self.dec_inp = dec_inp\n",
        "    self.dec_out = dec_out\n",
        "\n",
        "  # 함수 \n",
        "  def __getitem__(self, idx):\n",
        "     return self.enc_inp[idx], self.dec_inp[idx],self.dec_out[idx]\n",
        "\n",
        "  def __len__(self):\n",
        "    return self.enc_inp.size(int(~self.batch_first))"
      ]
    },
    {
      "cell_type": "code",
      "execution_count": 137,
      "metadata": {
        "id": "Z30_EO0uxrgH"
      },
      "outputs": [],
      "source": [
        "train_dataset = textDataset(train_data, batch_first=batch_first)\n",
        "val_dataset = textDataset(val_data, batch_first=batch_first)"
      ]
    },
    {
      "cell_type": "code",
      "source": [
        "train_dataset[0]"
      ],
      "metadata": {
        "colab": {
          "base_uri": "https://localhost:8080/"
        },
        "id": "07hkpPk-q0d1",
        "outputId": "12e396b0-0342-4f96-abe5-5aa128360350"
      },
      "execution_count": 138,
      "outputs": [
        {
          "output_type": "execute_result",
          "data": {
            "text/plain": [
              "(tensor([1219, 2837, 5996, 2454, 1390,   18, 6634, 5691,  774, 8306,  861, 5996,\n",
              "          979, 8497, 7053, 8476,   20,    1,    0,    0,    0,    0,    0,    0,\n",
              "            0,    0,    0,    0,    0,    0,    0,    0,    0,    0,    0,    0,\n",
              "            0,    0,    0,    0,    0,    0,    0,    0,    0]),\n",
              " tensor([   1,  573,   10, 3540, 6712, 3689, 6636,   16, 1277,  573, 3766, 7281,\n",
              "         2744, 2253, 2757, 1789, 7213, 6964,   17,    0,    0,    0,    0,    0,\n",
              "            0,    0,    0,    0,    0,    0,    0,    0,    0,    0,    0,    0,\n",
              "            0,    0,    0,    0,    0,    0]),\n",
              " tensor([ 573,   10, 3540, 6712, 3689, 6636,   16, 1277,  573, 3766, 7281, 2744,\n",
              "         2253, 2757, 1789, 7213, 6964,   17,    2,    0,    0,    0,    0,    0,\n",
              "            0,    0,    0,    0,    0,    0,    0,    0,    0,    0,    0,    0,\n",
              "            0,    0,    0,    0,    0,    0]))"
            ]
          },
          "metadata": {},
          "execution_count": 138
        }
      ]
    },
    {
      "cell_type": "code",
      "execution_count": 139,
      "metadata": {
        "colab": {
          "base_uri": "https://localhost:8080/"
        },
        "id": "J_AqR38AoB5n",
        "outputId": "228bcc9e-03df-4c6b-df5c-5f37cfd05a1a"
      },
      "outputs": [
        {
          "output_type": "execute_result",
          "data": {
            "text/plain": [
              "(tensor([8866, 3041,   18,   95, 3468, 8866,   18, 6005, 8211, 6871, 2478, 4479,\n",
              "         3247, 4495, 7945, 3421, 4574, 5127, 1352, 6041, 6390,   20,    1,    0,\n",
              "            0,    0,    0,    0,    0,    0,    0,    0,    0,    0,    0,    0,\n",
              "            0,    0,    0,    0,    0]),\n",
              " tensor([   1, 7294, 3887, 3693, 5473, 4594,   16, 7294, 1548, 4243,   16, 4643,\n",
              "         5132, 2310, 2714, 6135, 1277, 7294, 6767, 7126, 6153, 7294,   17,    0,\n",
              "            0,    0,    0,    0,    0,    0,    0,    0,    0,    0,    0,    0]),\n",
              " tensor([7294, 3887, 3693, 5473, 4594,   16, 7294, 1548, 4243,   16, 4643, 5132,\n",
              "         2310, 2714, 6135, 1277, 7294, 6767, 7126, 6153, 7294,   17,    2,    0,\n",
              "            0,    0,    0,    0,    0,    0,    0,    0,    0,    0,    0,    0]))"
            ]
          },
          "metadata": {},
          "execution_count": 139
        }
      ],
      "source": [
        "val_dataset[0]"
      ]
    },
    {
      "cell_type": "markdown",
      "metadata": {
        "id": "rYq6eGm0qaOh"
      },
      "source": [
        "# 4. Model"
      ]
    },
    {
      "cell_type": "code",
      "execution_count": 140,
      "metadata": {
        "id": "ce3NfbA2qfSV"
      },
      "outputs": [],
      "source": [
        "import torch.nn as nn\n",
        "import torch.functional as F"
      ]
    },
    {
      "cell_type": "markdown",
      "metadata": {
        "id": "zcThBf_DqbuT"
      },
      "source": [
        "## Encoder\n",
        "\n",
        "본 모델에서는 LSTM를 기본 단위로 가지는 Seq2Seq 모델을 구성할 것\n",
        "\n",
        "참고 [레퍼런스](https://pytorch.org/docs/stable/generated/torch.nn.LSTM.html)"
      ]
    },
    {
      "cell_type": "code",
      "source": [
        "class Encoder(nn.Module):\n",
        "\n",
        "\n",
        "  # 변수선언\n",
        "  def __init__(self, in_size, hid_size, tok_size, bat_first=True, num_lay=1, bidirect=False):\n",
        "    super(Encoder, self).__init__()\n",
        "    # 여기서 hidden_size는 LSTM의 hidden_size로 embedding vector를 몇차원의 벡터로 transform할 것인지 말합니다!\n",
        "    self.hidden_size = hid_size\n",
        "   \n",
        "    # 앞서 설명한 내용대로 전체 사용하는 token의 수를 embedding_num에 해당하고, 이를 몇차원의 embedding dim으로 표현할 것인지 말합니다.\n",
        "    # 이 때 LSTM의 관점에서 embedding dim은 input_size에 해당해서 개념적으로 embedding_dim=in_size입니다.\n",
        "    self.embedding = nn.Embedding(tok_size, in_size)\n",
        "\n",
        "    # layer를 구성할 때 LSTM 내부의 layer의 개수도 조정할 수 있습니다.\n",
        "    self.num_layers = num_lay\n",
        "\n",
        "    # 이것은 bidirectional 방식을 사용할 것인지를 얘기하는데,\n",
        "    # 이는 현재 과정에서 고려하지 않는 값이지만 LSTM 레이어를 설정할 때 필요한 값이라 기록하긴 했습니다.\n",
        "    self.num_directional = 2 if bidirect else 1\n",
        "\n",
        "    self.batch_first = bat_first\n",
        "    self.lstm = nn.LSTM(in_size, \n",
        "                        hid_size, \n",
        "                        num_layers = num_lay,\n",
        "                        batch_first = bat_first,\n",
        "                        bidirectional=bidirect)\n",
        "\n",
        "\n",
        "\n",
        "  # 함수선언\n",
        "  def forward(self, x, hidden):\n",
        "    \"\"\"\n",
        "    현재 전체 전처리부터 모델링 과정을 batch_first=True환경에서 진행하고 있으니 이를 유의하시길 바랍니다.\n",
        "    batch_first=True이기에 입력값(x)의 차원은 다음과 같고, \n",
        "    hidden_state에 해당하는 값도 batch_size가 먼저 나오게 됩니다.\n",
        "    x: (batch_size, seq_len)\n",
        "    hidden: (num_directional*num_layers, batch_size, hidden_size)\n",
        "    \n",
        "    개념적으로 보면 우리가 전처리한 시퀀스(seq)는\n",
        "    seq = [정수인코딩1, 정수인코딩2, ..]에 해당합니다.\n",
        "    여기서 중요한 것은 들어오는 값이 정수인코딩된 값입니다!!\n",
        "    \n",
        "    이런 seq들이 모여서 만들어진 것이 \n",
        "    x = [seq1, seq2, ...]에 해당합니다.\n",
        "\n",
        "    그래서 len(x) = batch_size가 되는 것입니다!    \n",
        "    \"\"\"\n",
        "\n",
        "    # 여기서 중요한 점은 입력값으로 정수인코딩된 값이 들어오는 것이고, embedidng layer를 거치면서 \n",
        "    # 정수인코딩값이 vector로 바뀌게 됩니다!!\n",
        "    # 그런데 이상하지 않나요? 위에서 one-hot된 벡터를 입력해서 embedding vector로 바꿔주는데\n",
        "    # 정수인코딩 값만 넣다니?!\n",
        "    # 이는 사실 torch의 Embedding layer가 그런 역할까지 포함하고 있는 것이고, \n",
        "    # Embedding layer를 사용할 땐 \"정수\"인코딩된 값을 넣어주면 대응하는 embedding vector를 반환해줍니다.\n",
        "    # 여기서 \"정수\"인코딩 값을 사용해야 하기 때문에 앞에서 .long()과정이 들어간 것입니다.\n",
        "    # 안그럼 에러뜰거에요\n",
        "    # emb : (batch_size, seq_len, input_size)\n",
        "    emb = self.embedding(x)\n",
        "\n",
        "    # LSTM에서 하는 연산은 결국 Linear와 크게 다르지 않습니다.\n",
        "    # input_size의 임베딩 벡터를 hidden_size의 벡터로 바꾸게 되니 output의 차원은\n",
        "    # out : (batch_size, seq_len, hidden_size)\n",
        "\n",
        "    # 이와 달리 hidden_state는 그 구조가 조금 다릅니다.\n",
        "    # 여기서 num_layer가 사용되는 것은 LSTM에서 내부의 layer가 많아질수록 그 만큼 hidden state가 더 나와야 할 것입니다.\n",
        "    # 위에 LSTM layer에서 인용한 사진이 잘 설명하는데 내부에서 layer가 많아질수록 hidden state도 많아지게 될 것입니다.\n",
        "    # 그리고 최종 반환하는 hidden_state는 앞의 시퀀스의 정보를 다 포함하는 벡터가 나온 것이고,\n",
        "    # 그 모든 정보를 가지고 있는 벡터의 차원이 바로 hidden_size입니다.\n",
        "    # 즉 layer마다 batch 만큼의 context vector가 담겨져 있다! 생각할 수 있을거에요\n",
        "    # hidden: (num_layers, batch_size, hidden_size)\n",
        "    out, hidden = self.lstm(emb, hidden)\n",
        "    return out, hidden"
      ],
      "metadata": {
        "id": "-LK0COeBrmgF"
      },
      "execution_count": 156,
      "outputs": []
    },
    {
      "cell_type": "markdown",
      "metadata": {
        "id": "Yu4CMe_5JN2I"
      },
      "source": [
        "## Decoder\n",
        "\n",
        "decoder의 hidden이 아닌 out으로 예측하고, 그 값 하나를 이용해서 다음 값 계산에 사용하기 때문에 seq_len =1이 된다."
      ]
    },
    {
      "cell_type": "code",
      "source": [
        "class Decoder(nn.Module):\n",
        "  def __init__(self, in_size, hid_size, tok_size, bat_first=True, num_lay=1, bidirect=False):\n",
        "    super(Decoder, self).__init__()\n",
        "\n",
        "    # 대부분의 방식은 사실 Encoder와 비슷하게 흘러갑니다.\n",
        "\n",
        "\n",
        "    # 변수선언\n",
        "\n",
        "    # LSTM이 embedding을 몇차원의 벡터로 변환할지 정하는 값입니다.\n",
        "    self.hidden_size = hid_size\n",
        "\n",
        "    # 여기서도 번역해야하는 언어의 token을 embedding 해야하고 이  때 embedding vector의 차원이 결국 LSTM입장에서의 Input size가 됩니다.\n",
        "    self.embedding = nn.Embedding(tok_size, in_size)\n",
        "\n",
        "    self.num_layers = num_lay\n",
        "    self.num_directional = 2 if bidirect else 1\n",
        "    self.batch_first = bat_first\n",
        "    self.lstm = nn.LSTM(in_size, \n",
        "                        hid_size, \n",
        "                        num_layers = num_lay,\n",
        "                        batch_first = bat_first,\n",
        "                        bidirectional=bidirect)\n",
        "    self.relu =  nn.ReLU()\n",
        "\n",
        "    # 여기서 Encoder와 차이가 생기는데,\n",
        "    # Decoder는 입력된 단어와 context를 보고 다음 단어를 \"예측\"해야합니다.\n",
        "    # 그렇기 때문에 hidden_size의 벡터를 token의 개수만큼 다시 mapping해주어야\n",
        "    # 각 token별 점수로 만들어줘야 최종 예측을 할 수 있습니다.\n",
        "    # 그래서 최종 값을 반환할 때에는 총 토큰 수만큼으로 만들어 줘야 토큰별 확률을 계산하게 됩니다.\n",
        "    self.fc1 = nn.Linear(hidden_size, tok_size)\n",
        "    \n",
        "\n",
        "\n",
        "\n",
        "  # 함수선언\n",
        "  def forward(self, x, hidden):\n",
        "    \"\"\"\n",
        "    x: (batch_size, seq_len=1)\n",
        "    hidden: (num_directional*num_layers, batch_size, hidden_size)\n",
        "    \"\"\"\n",
        "    \n",
        "    # 여기서 조금 trivial한 점을 고려해야 합니다.\n",
        "    # Embedding layer를 거치고 나왔을 때 차원은 아래와 같아야 하고 이를 위해서 x[:, 0]과 .unsqueeze(1)을 한 것입니다. 이것은 정해진 답은 없고, 필요하신 대로 이용하셔도 좋습니다!\n",
        "    # emb: (batch_size, seq_len=1, input_size)   \n",
        "    # x[:, 0] : (batch_size, )\n",
        "    # self.embedding(x[:, 0]) : (batch_size, input_size)\n",
        "    # self.embedding(x[:, 0]).unsqueeze(1) : (batch_size, 1, input_size)\n",
        "    emb = self.embedding(x[:, 0]).unsqueeze(1) # <- 이렇게 해서 차원을 1차원으로 만들어준다.\n",
        "    # 이거 말고도 동일한 차원을 가지도록 처리하려면 어떻게 해야할까요?\n",
        "    # emb = self.embedding(~~)~~\n",
        "\n",
        "    # relu를 취한 것은 별다른 이유가 없이 참고한 레퍼런스와 동일한 구조로 해본 것입니다.\n",
        "    out = self.relu(emb)\n",
        "\n",
        "    # LSTM을 사용한다는 점에서 Encoder와 동일하게 output과 hidden_state는 동일한 구조로 반환하게 됩니다.\n",
        "    # 다만 seq_len은 decoder에서 1이 된다는 점입니다!\n",
        "    # out : (batch_size, seq_len=1, hidden_size)\n",
        "    # hidden: (num_layers, batch_size, hidden_size)\n",
        "    out, hidden = self.lstm(out, hidden)\n",
        "\n",
        "    # 기존의 output에서 seq_len =1이니 squeeze하게 된다면 (batch_size, hidden_size)가 되고\n",
        "    ## out.squeeze(1) : (batch_size, hidden_size)\n",
        "    # 이 상태에서 FC layer를 통해 최종 토큰 개수 만큼 값을 반환하게 됩니다.\n",
        "    # out: (batch_size, tok_size) : batch의 element별로 token에 대해 예측값을 반환\n",
        "    out = self.fc1(out.squeeze(1))\n",
        "    return out, hidden"
      ],
      "metadata": {
        "id": "kCkt7Yo8sWRf"
      },
      "execution_count": 157,
      "outputs": []
    },
    {
      "cell_type": "code",
      "execution_count": 158,
      "metadata": {
        "id": "X1qHG3DT4dSH"
      },
      "outputs": [],
      "source": [
        "def init_hidden(self, x):\n",
        "  \"\"\"\n",
        "  레퍼런스 참고할 때 hidden_state 구조와 동일하게 되어야 합니다.\n",
        "  여기서 보면 \n",
        "  when batch_first=True (num_directional*num_layers, batch_size, hidden_size)\n",
        "  \"\"\"\n",
        "  batch_size = x.size(0) if self.batch_first else x.size(1)\n",
        "  h0 = torch.zeros(self.num_layers*self.num_directional, batch_size, self.hidden_size).to(device)\n",
        "  c0 = torch.zeros(self.num_layers*self.num_directional, batch_size, self.hidden_size).to(device)\n",
        "  return h0, c0"
      ]
    },
    {
      "cell_type": "markdown",
      "metadata": {
        "id": "toqV7UDhPqN6"
      },
      "source": [
        "## Seq2Seq"
      ]
    },
    {
      "cell_type": "code",
      "source": [
        "class Seq2Seq(nn.Module):\n",
        "  def __init__(self, enc, dec):\n",
        "    super(Seq2Seq, self).__init__()\n",
        "    assert enc.hidden_size == dec.hidden_size\n",
        "    assert enc.num_layers == dec.num_layers\n",
        "\n",
        "    self.encoder = enc\n",
        "    self.decoder = dec\n",
        "\n",
        "\n",
        "\n",
        "\n",
        "  def forward(self, enc_inp, dec_inp, use_teacher_force=True):\n",
        "    \"\"\"\n",
        "    enc_inp : (batch_size, enc_seq_len)\n",
        "    dec_inp : (batch_size, dec_seq_len)\n",
        "    \"\"\"\n",
        "\n",
        "    batch_size = enc_inp.size(0)\n",
        "    enc_seq_len = enc_inp.size(1)\n",
        "    dec_seq_len = dec_inp.size(1)\n",
        "    # 최종 반환하는 것은 \"토큰 별\" score 값이니 이 점을 이용해서 token 개수 확인\n",
        "    token_size =  self.decoder.fc1.out_features\n",
        "\n",
        "    # decoder의 결과값은 출력 시퀀스에서 각 위치에 들어갈 token들의 확률(점수) 예측값 저장할 것입니다.\n",
        "    # 그래서 구조는 (batch_size, seq_len, token_size)가 됩니다.\n",
        "    # 즉 decoder는 step 마다 한 토큰씩 예측하게 되고 이를 총 seq_len만큼 진행해서 모으게 됩니다.\n",
        "    # 이를 저장할 변수는 outputs\n",
        "    # 이 때 seq_len은 decoder의 seq_len에 해당\n",
        "    outputs = torch.zeros(batch_size, dec_seq_len, token_size)\n",
        "\n",
        "    # Step 0: Encoder의 forward에 필요한 초기 hidden, cell state 계산\n",
        "    enc_init_hidden = init_hidden(self.encoder, enc_inp)\n",
        "\n",
        "    # Step 1: Encoder를 이용하여 context 벡터 계산\n",
        "    # 중요한 점은 Encoder의 output이 아닌, hidden_state에 해당한다!!!\n",
        "    _, context = self.encoder(enc_inp, enc_init_hidden)\n",
        "\n",
        "    # Step 2: Decoder의 초기 입력값을 먼저 확인\n",
        "    # 여기서 Decoder의 입력값이란 context vector 말고 단어들을 말합니다.\n",
        "    # 그리고 첫 입력값은 <SOS>가 사용되어야 한다는 것\n",
        "    # 이는 decoder의 input에서 첫번째 값에 해당하고 지금 상황에서는 앞서 사용한 \\t을 알려주는 토큰이 사용되어야 합니다.\n",
        "    # 그리고 Decoder의 인풋은 위에서 구현할 때  x: (batch_size, seq_len=1) 라고 했고 이 때 seq_len은 1이 됩니다.\n",
        "    # 즉 이 구조를 맞춰서 넣어줘야 돌아가기에\n",
        "    # (batch_size, dec_seq_len)의 차원을 맞춰야 하고, dec_seq_len=1이라서 마지막 차원에 unsqueeze 진행\n",
        "    dec_inp_t = dec_inp[:, 0].unsqueeze(-1)\n",
        "\n",
        "    # Step 3: Decoder를 이용하여 하나하나 계산에 사용\n",
        "    # Encoder의 최종 리턴한 hidden state가 context 벡터고 이게 decoder입장에서보면 init_hidden에 해당합니다.\n",
        "    # 또한 앞서 첫 입력값은 직접 할당했으니 전체 loop 시작은 1부터 하면 됩니다.\n",
        "    # loop의 순서는 output 계산 --> 예측 --> 다음 입력값 업데이트\n",
        "    # 이 순서라서 range는 1부터 시작하게 만들면 됩니다.\n",
        "    dec_hidden = context\n",
        "    for t in range(1, dec_seq_len):\n",
        "      out, dec_hidden = self.decoder(dec_inp_t, dec_hidden)\n",
        "      # 각 step별 결과물 = 해당 시점에서 각 토큰별 등장 확률(점수)값 기록\n",
        "      outputs[:, t, :] = out\n",
        "\n",
        "      if use_teacher_force:\n",
        "        # teacher force를 사용하는 경우에는 실제 input에서 입력값을 넣어야 해서 decoder의 input값을 이용해서 업데이트를 합니다.\n",
        "        # 그리고 모델이 돌아가기 위해서 차원도 차원 맞출 필요 존재힙니다.\n",
        "        # 즉, indexing하게 되버리면 dec_inp차원과 맞지 않아서 unsqueeze 진행\n",
        "        dec_inp_t = dec_inp[:, t].unsqueeze(-1)\n",
        "      else:\n",
        "        # keepdim을 통해 차원수 유지해줘서 구조를 동일하게 맞춘다.\n",
        "        dec_inp_t = out.argmax(1, keepdim=True)\n",
        "\n",
        "    return outputs"
      ],
      "metadata": {
        "id": "xCx6og_QsgaL"
      },
      "execution_count": 159,
      "outputs": []
    },
    {
      "cell_type": "markdown",
      "metadata": {
        "id": "kSfBWsX0Po1I"
      },
      "source": [
        "# 5. Setup"
      ]
    },
    {
      "cell_type": "code",
      "execution_count": 145,
      "metadata": {
        "id": "2VSNdoUUPoMS"
      },
      "outputs": [],
      "source": [
        "# padding에 해당하는 token도 고려하기\n",
        "enc_token_size = len(src_to_index)+1\n",
        "dec_token_size = len(tar_to_index)+1\n",
        "\n",
        "# Hyper-parameter!!\n",
        "# RAM 메모리 이슈로 다운 되는 경우 때문에 줄였습니다.\n",
        "input_size = 4\n",
        "hidden_size = 4"
      ]
    },
    {
      "cell_type": "code",
      "execution_count": 146,
      "metadata": {
        "id": "edfUD7SOP6pM"
      },
      "outputs": [],
      "source": [
        "encoder = Encoder(input_size, hidden_size, enc_token_size)\n",
        "decoder = Decoder(input_size, hidden_size, dec_token_size)\n",
        "\n",
        "model = Seq2Seq(encoder, decoder).to(device)"
      ]
    },
    {
      "cell_type": "markdown",
      "metadata": {
        "id": "s3wAllAwQQbc"
      },
      "source": [
        "## 생략된 내용들\n",
        "\n",
        "모델 생성하는 과정에서 초기값이나 등등 부수적인 부분들은 현재 과제 코드상에서 생략되었습니다. 모델 개선에 관심있으신 분들은 수행하셔도 좋습니다."
      ]
    },
    {
      "cell_type": "code",
      "execution_count": 147,
      "metadata": {
        "id": "nNlOosmzQP4W"
      },
      "outputs": [],
      "source": [
        "# ~~~"
      ]
    },
    {
      "cell_type": "markdown",
      "metadata": {
        "id": "ofoXIctbQigu"
      },
      "source": [
        "# 6. Train"
      ]
    },
    {
      "cell_type": "code",
      "execution_count": 160,
      "metadata": {
        "id": "NUnTP6xbQlV1"
      },
      "outputs": [],
      "source": [
        "def train(model, loader, optimizer, cri):\n",
        "  model.train()\n",
        "  loss_ep = 0\n",
        "\n",
        "  for enc_input, dec_input, dec_target in loader:\n",
        "    optimizer.zero_grad()\n",
        "\n",
        "    # 여기서 output은 seq2seq 모델의 결과값임을 유의해야합니다!\n",
        "    # output: (batch_size, seq_len, token_size)\n",
        "    output = model(enc_input.to(device), dec_input.to(device), use_teacher_force=True)\n",
        "    token_size = output.size(-1)\n",
        "\n",
        "    # 지금 [문장, 문장, ...] 구조에서 문장들을 그냥 순서대로 이어 붙인 것\n",
        "    # 이는 loss 계산을 쉽게 하기 위해 구조를 조정\n",
        "    # output : (batch_size * seq_len, token_size)\n",
        "    output = output.view(-1, token_size)\n",
        "\n",
        "    # 위와 동일한 방식으로 label 값도 동일한 구조로 만들어주려고 view 실행\n",
        "    # dec_target: (batch_size, dec_seq_len)\n",
        "    # 즉 그냥 1열로 다 펴 버리면 CrossEntropyloss를 위한 구조 완성\n",
        "    # target L (batch_size*dec_seq_len,)\n",
        "    target = dec_target.view(-1)\n",
        "\n",
        "    loss = cri(output, target)\n",
        "\n",
        "    loss.backward()\n",
        "    optimizer.step()\n",
        "\n",
        "    loss_ep += loss.item()\n",
        "  return loss_ep/len(loader)"
      ]
    },
    {
      "cell_type": "markdown",
      "metadata": {
        "id": "E-g8kExh9V87"
      },
      "source": [
        "# 7. Evaluation"
      ]
    },
    {
      "cell_type": "code",
      "execution_count": 149,
      "metadata": {
        "id": "OM_5gT6uCXMh"
      },
      "outputs": [],
      "source": [
        "import pandas as pd"
      ]
    },
    {
      "cell_type": "code",
      "execution_count": 161,
      "metadata": {
        "id": "y6mXBkq69VSW"
      },
      "outputs": [],
      "source": [
        "def val(model, loader, cri):\n",
        "  # 평가할 땐 loss말고 예측한 결과도 저장할 것\n",
        "  # 이것이 바로 result\n",
        "  result = torch.Tensor() # <- 여기에 결과를 저장\n",
        "\n",
        "  model.eval()\n",
        "  loss_ep = 0\n",
        "  with torch.no_grad():\n",
        "    for enc_input, dec_input, dec_target in loader:\n",
        "      # output: (batch_size, seq_len, token_size)\n",
        "      output = model(enc_input.to(device), dec_input.to(device), use_teacher_force=False)\n",
        "\n",
        "      # 예측 값을 저장\n",
        "      decode_idx = output.argmax(2).detach().cpu()\n",
        "      # 각 시점별 예측 결과를 저장\n",
        "      result = torch.cat((result, decode_idx), dim=0)\n",
        "  \n",
        "      # 지금 [문장, 문장, ...] 구조에서 문장들을 그냥 순서대로 이어 붙인 것\n",
        "      # loss 계산을 위한 조정\n",
        "      # train과 동일한 이유 \n",
        "      token_size = output.size(-1)\n",
        "      output = output.view(-1, token_size)\n",
        "\n",
        "      # 위와 동일한 방식으로 label 값도 조정\n",
        "      # dec_target: (batch_size, dec_seq_len)\n",
        "      # 즉 그냥 1열로 다 펴 버리면 CrossEntropyloss를 위한 구조 완성\n",
        "      # target L (batch_size*dec_seq_len,)\n",
        "      target = dec_target.view(-1)\n",
        "\n",
        "      loss = cri(output, target)\n",
        "      loss_ep += loss.item()\n",
        "  return loss_ep/len(loader), result"
      ]
    },
    {
      "cell_type": "code",
      "execution_count": 151,
      "metadata": {
        "id": "9m6F7hknAqtm"
      },
      "outputs": [],
      "source": [
        "# 아래의 dictionary는 정수 인코딩 값을 넣으면 해당하는 원래 알파벳이 나옴\n",
        "# padding도 처리해야하기 때문에 0은 그냥 ''으로 처리\n",
        "# 이는 예측한 정수 인코딩 값을 실제 단어로 바꾸기 위한 것이라서 key, value를 바꿔주는 방식\n",
        "index_to_src = dict((i, char) for char, i in src_to_index.items())\n",
        "index_to_tar = dict((i, char) for char, i in tar_to_index.items())\n",
        "index_to_tar[0] = ''\n",
        "index_to_src[0] = ''"
      ]
    },
    {
      "cell_type": "code",
      "execution_count": 162,
      "metadata": {
        "id": "F9c8z_7BAncv"
      },
      "outputs": [],
      "source": [
        "def decode(model, sample):\n",
        "  # 정수 인코딩된 것을 실제 단어로 바꾸는 과정이고,과제 수행에 중요한 것은 아님\n",
        "  enc_input, dec_input, dec_output = sample\n",
        "  enc_input = enc_input.unsqueeze(0)\n",
        "  dec_input = dec_input.unsqueeze(0)\n",
        "  \n",
        "  model.eval()\n",
        "  with torch.no_grad():\n",
        "    output = model(enc_input.to(device), dec_input.to(device), use_teacher_force=False)\n",
        "    decode_idx = output.argmax(2)\n",
        "\n",
        "  sentence_inp = pd.Series(enc_input.squeeze(0).detach().cpu().numpy()).apply(lambda x: index_to_src[x])\n",
        "  sentence_out = pd.Series(decode_idx.squeeze(0).detach().cpu().numpy()).apply(lambda x: index_to_tar[x])\n",
        "  sentence_act = pd.Series(dec_output.detach().cpu().numpy()).apply(lambda x: index_to_tar[x])\n",
        "\n",
        "  print(f\"입력 문장({len(sentence_inp)}) : {''.join(sentence_inp.tolist())}\")\n",
        "  print(f\"실제 문장({len(sentence_act)}) : {''.join(sentence_act.tolist())}\")\n",
        "  print(f\"예측 문장({len(sentence_out)}) : {''.join(sentence_out.tolist())}\")"
      ]
    },
    {
      "cell_type": "code",
      "execution_count": 153,
      "metadata": {
        "id": "9lARsr3wSyX8"
      },
      "outputs": [],
      "source": [
        "import time\n",
        "from tqdm import tqdm\n",
        "from torch import optim"
      ]
    },
    {
      "cell_type": "markdown",
      "source": [
        "# 8. Run"
      ],
      "metadata": {
        "id": "SxOE3xo_tya2"
      }
    },
    {
      "cell_type": "code",
      "source": [
        "train_dataset[0]"
      ],
      "metadata": {
        "colab": {
          "base_uri": "https://localhost:8080/"
        },
        "id": "OlqXS0lcwBzG",
        "outputId": "88d39d89-2434-4a12-9c87-1ee36fc7aaac"
      },
      "execution_count": 154,
      "outputs": [
        {
          "output_type": "execute_result",
          "data": {
            "text/plain": [
              "(tensor([1219, 2837, 5996, 2454, 1390,   18, 6634, 5691,  774, 8306,  861, 5996,\n",
              "          979, 8497, 7053, 8476,   20,    1,    0,    0,    0,    0,    0,    0,\n",
              "            0,    0,    0,    0,    0,    0,    0,    0,    0,    0,    0,    0,\n",
              "            0,    0,    0,    0,    0,    0,    0,    0,    0]),\n",
              " tensor([   1,  573,   10, 3540, 6712, 3689, 6636,   16, 1277,  573, 3766, 7281,\n",
              "         2744, 2253, 2757, 1789, 7213, 6964,   17,    0,    0,    0,    0,    0,\n",
              "            0,    0,    0,    0,    0,    0,    0,    0,    0,    0,    0,    0,\n",
              "            0,    0,    0,    0,    0,    0]),\n",
              " tensor([ 573,   10, 3540, 6712, 3689, 6636,   16, 1277,  573, 3766, 7281, 2744,\n",
              "         2253, 2757, 1789, 7213, 6964,   17,    2,    0,    0,    0,    0,    0,\n",
              "            0,    0,    0,    0,    0,    0,    0,    0,    0,    0,    0,    0,\n",
              "            0,    0,    0,    0,    0,    0]))"
            ]
          },
          "metadata": {},
          "execution_count": 154
        }
      ]
    },
    {
      "cell_type": "code",
      "execution_count": 163,
      "metadata": {
        "colab": {
          "base_uri": "https://localhost:8080/"
        },
        "id": "WIuESkCQSsSm",
        "outputId": "42ed6200-46f6-47d3-bad6-48644c2f3fe0"
      },
      "outputs": [
        {
          "output_type": "stream",
          "name": "stderr",
          "text": [
            " 20%|██        | 2/10 [05:21<21:25, 160.72s/it]"
          ]
        },
        {
          "output_type": "stream",
          "name": "stdout",
          "text": [
            "Epoch : 1\n",
            "Train Loss : 7.2871\n",
            "Val Loss : 7.0245\n",
            "입력 문장(41) : 저는<UNK><UNK>스마트<UNK><UNK><UNK>및온도센서<UNK>사용무료앱제품을소개하려고합니다.\n",
            "\n",
            "실제 문장(36) : Iwouldliketointroducea<UNK><UNK>smart<UNK><UNK><UNK>andtemperaturesensoreasytousefreeappproduct.\n",
            "\n",
            "예측 문장(36) : youryouryouryouryouryouryouryouryouryouryouryouryouryouryouryouryouryouryouryouryouryouryouryouryouryouryouryouryouryouryouryouryouryouryour\n"
          ]
        },
        {
          "output_type": "stream",
          "name": "stderr",
          "text": [
            " 40%|████      | 4/10 [10:42<16:02, 160.48s/it]"
          ]
        },
        {
          "output_type": "stream",
          "name": "stdout",
          "text": [
            "Epoch : 3\n",
            "Train Loss : 5.5444\n",
            "Val Loss : 5.4227\n",
            "입력 문장(41) : 저는<UNK><UNK>스마트<UNK><UNK><UNK>및온도센서<UNK>사용무료앱제품을소개하려고합니다.\n",
            "\n",
            "실제 문장(36) : Iwouldliketointroducea<UNK><UNK>smart<UNK><UNK><UNK>andtemperaturesensoreasytousefreeappproduct.\n",
            "\n",
            "예측 문장(36) : ,,,,,,,,,,,,,,,,,,,,,,,,,,,,,,,,,,,\n"
          ]
        },
        {
          "output_type": "stream",
          "name": "stderr",
          "text": [
            " 60%|██████    | 6/10 [16:02<10:41, 160.42s/it]"
          ]
        },
        {
          "output_type": "stream",
          "name": "stdout",
          "text": [
            "Epoch : 5\n",
            "Train Loss : 4.0637\n",
            "Val Loss : 4.1753\n",
            "입력 문장(41) : 저는<UNK><UNK>스마트<UNK><UNK><UNK>및온도센서<UNK>사용무료앱제품을소개하려고합니다.\n",
            "\n",
            "실제 문장(36) : Iwouldliketointroducea<UNK><UNK>smart<UNK><UNK><UNK>andtemperaturesensoreasytousefreeappproduct.\n",
            "\n",
            "예측 문장(36) : \n"
          ]
        },
        {
          "output_type": "stream",
          "name": "stderr",
          "text": [
            " 80%|████████  | 8/10 [21:29<05:23, 161.70s/it]"
          ]
        },
        {
          "output_type": "stream",
          "name": "stdout",
          "text": [
            "Epoch : 7\n",
            "Train Loss : 2.9962\n",
            "Val Loss : 3.4075\n",
            "입력 문장(41) : 저는<UNK><UNK>스마트<UNK><UNK><UNK>및온도센서<UNK>사용무료앱제품을소개하려고합니다.\n",
            "\n",
            "실제 문장(36) : Iwouldliketointroducea<UNK><UNK>smart<UNK><UNK><UNK>andtemperaturesensoreasytousefreeappproduct.\n",
            "\n",
            "예측 문장(36) : \n"
          ]
        },
        {
          "output_type": "stream",
          "name": "stderr",
          "text": [
            "100%|██████████| 10/10 [26:49<00:00, 160.99s/it]"
          ]
        },
        {
          "output_type": "stream",
          "name": "stdout",
          "text": [
            "Epoch : 9\n",
            "Train Loss : 2.6424\n",
            "Val Loss : 3.2739\n",
            "입력 문장(41) : 저는<UNK><UNK>스마트<UNK><UNK><UNK>및온도센서<UNK>사용무료앱제품을소개하려고합니다.\n",
            "\n",
            "실제 문장(36) : Iwouldliketointroducea<UNK><UNK>smart<UNK><UNK><UNK>andtemperaturesensoreasytousefreeappproduct.\n",
            "\n",
            "예측 문장(36) : \n"
          ]
        },
        {
          "output_type": "stream",
          "name": "stderr",
          "text": [
            "\n"
          ]
        }
      ],
      "source": [
        "# 학습은 아래의 코드를 이용하여 진행\n",
        "\n",
        "train_lodaer = DataLoader(train_dataset, batch_size=1024)\n",
        "val_loader = DataLoader(val_dataset, batch_size=1024, shuffle=False)\n",
        "\n",
        "optimizer = optim.Adam(model.parameters(), lr=1e-2)\n",
        "criterion = nn.CrossEntropyLoss()\n",
        "\n",
        "train_loss = []\n",
        "val_loss = []\n",
        "\n",
        "epochs = 10\n",
        "for epoch in tqdm(range(epochs)):\n",
        "  start = time.time()\n",
        "\n",
        "  train_loss_ep = train(model,train_lodaer,optimizer, criterion)\n",
        "  val_loss_ep, val_token = val(model, val_loader, criterion)\n",
        "\n",
        "  train_loss.append(train_loss_ep)\n",
        "  val_loss.append(val_loss_ep)\n",
        "  if epoch % 2 == 1:\n",
        "    print(f\"Epoch : {epoch}\")\n",
        "    print(f\"Train Loss : {train_loss_ep:.4f}\")\n",
        "    print(f\"Val Loss : {val_loss_ep:.4f}\")\n",
        "    decode(model, val_dataset[100])\n"
      ]
    },
    {
      "cell_type": "markdown",
      "source": [
        "보완할 점\n",
        "* 왠지 모르게 띄어쓰기가 없다.\n",
        "* 예측 문장에서 같은 단어가 계속 반복된다.\n",
        "* 토큰화를 할시에 , 같은 것들을 제거해주고\n",
        "* '놀았다 -> 놀다'와 같은 옵션을 넣어주어야할 것 같다."
      ],
      "metadata": {
        "id": "kLOOh4DFu9I5"
      }
    },
    {
      "cell_type": "code",
      "execution_count": 164,
      "metadata": {
        "id": "Yaj3MORtbsNi"
      },
      "outputs": [],
      "source": [
        "# 학습을 진행한 다음, 모델 백업해놓기\n",
        "torch.save(model.state_dict(), 'model_hw.pt')"
      ]
    }
  ],
  "metadata": {
    "accelerator": "GPU",
    "colab": {
      "collapsed_sections": [
        "XhqgooEJc3ml",
        "lllM7QIsLKHG",
        "TVrPe1HATJoC",
        "FQ_AHRQPmfZX",
        "s3wAllAwQQbc"
      ],
      "provenance": []
    },
    "gpuClass": "standard",
    "kernelspec": {
      "display_name": "Python 3",
      "name": "python3"
    },
    "language_info": {
      "name": "python"
    }
  },
  "nbformat": 4,
  "nbformat_minor": 0
}