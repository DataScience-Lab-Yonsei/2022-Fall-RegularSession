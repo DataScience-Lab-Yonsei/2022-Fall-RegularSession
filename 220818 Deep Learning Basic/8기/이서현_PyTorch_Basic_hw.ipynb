{
  "nbformat": 4,
  "nbformat_minor": 0,
  "metadata": {
    "colab": {
      "name": "이서현_PyTorch_Basic_hw.ipynb",
      "provenance": [],
      "collapsed_sections": []
    },
    "kernelspec": {
      "name": "python3",
      "display_name": "Python 3"
    },
    "language_info": {
      "name": "python"
    }
  },
  "cells": [
    {
      "cell_type": "code",
      "source": [
        "import torch\n",
        "print(torch.__version__)"
      ],
      "metadata": {
        "colab": {
          "base_uri": "https://localhost:8080/"
        },
        "id": "8wHT0w_wbueD",
        "outputId": "c644de5a-7889-4d82-ca05-a8cb77042ca0"
      },
      "execution_count": 1,
      "outputs": [
        {
          "output_type": "stream",
          "name": "stdout",
          "text": [
            "1.12.1+cu113\n"
          ]
        }
      ]
    },
    {
      "cell_type": "markdown",
      "source": [
        "# [과제 1]  \n",
        "- 텐서 x에서 음수값의 개수를 반환하는 함수를 구현해주세요."
      ],
      "metadata": {
        "id": "KEYCq0uNVDSS"
      }
    },
    {
      "cell_type": "code",
      "execution_count": 13,
      "metadata": {
        "id": "qdgVCrd8U4JN",
        "colab": {
          "base_uri": "https://localhost:8080/"
        },
        "outputId": "66721185-69b9-427e-e218-c92abe298075"
      },
      "outputs": [
        {
          "output_type": "stream",
          "name": "stdout",
          "text": [
            "num_negative seems to be correct!\n"
          ]
        }
      ],
      "source": [
        "# [과제 1]\n",
        "def num_negative(x):\n",
        "  \"\"\"\n",
        "  Return the number of negative values in the tensor x\n",
        "\n",
        "  Inputs:\n",
        "  - x: A tensor of any shape\n",
        " \n",
        "  Returns:\n",
        "  - num_neg: Number of negative values in x\n",
        "  \"\"\"\n",
        "\n",
        "  num_neg = torch.numel(x[x<0])\n",
        "  ##############################################################################\n",
        "  # TODO: Use boolean masks to count the number of negative elements in x.     #\n",
        "  # * 힌트 : 텐서 a[a < 0]의 길이를 재면 됩니다. 길이는 shape으로 알아낼 수 있습니다.\n",
        "  ##############################################################################\n",
        "  # Replace \"pass\" statement with your code\n",
        "  pass\n",
        "  ##############################################################################\n",
        "\n",
        "  return num_neg\n",
        "\n",
        "# [과제 1] 확인\n",
        "torch.manual_seed(598)\n",
        "x0 = torch.tensor([[-1, -1, 0], [0, 1, 2], [3, 4, 5]])\n",
        "x1 = torch.tensor([0, 1, 2, 3])\n",
        "x2 = torch.randn(100, 100) # x * y shape의 값들이 정규분포 그래프 상의 랜덤값으로 초기화 된 행렬 생성\n",
        "assert num_negative(x0) == 2\n",
        "assert num_negative(x1) == 0\n",
        "assert num_negative(x2) == 4984\n",
        "print('num_negative seems to be correct!')"
      ]
    },
    {
      "cell_type": "markdown",
      "source": [
        "# [과제 2]\n",
        "- one-hot vector의 행렬을 생성하는 함수를 구현해주세요.  \n",
        "\n",
        "    - (+ **one-hot encoding** : 단어 집합의 크기를 벡터의 차원으로 하고, 표현하고 싶은 단어의 인덱스에 1의 값을 부여하고, 다른 인덱스에는 0을 부여하는 벡터 표현 방식, 이렇게 표현된 벡터가 **one-hot vector**)  \n",
        "    - 예를 들어, `[1, 4, 3, 2]` 라는 정수값을 갖는 리스트가 주어졌을때, 함수는 아래와 같은 텐서를 생성해야 합니다:\n",
        "\n",
        "```\n",
        "[[0 1 0 0 0],\n",
        " [0 0 0 0 1],\n",
        " [0 0 0 1 0],\n",
        " [0 0 1 0 0]]\n",
        "```\n"
      ],
      "metadata": {
        "id": "4EIhTNO1WEsh"
      }
    },
    {
      "cell_type": "code",
      "source": [
        "# [과제 2]\n",
        "\n",
        "# x = [4, 1, 3, 2]\n",
        "def make_one_hot(x):\n",
        "  \"\"\"\n",
        "  Construct a tensor of one-hot-vectors from a list of Python integers.\n",
        "\n",
        "  Input:\n",
        "  - x: A list of N ints\n",
        "\n",
        "  Returns:\n",
        "  - y: A tensor of shape (N, C) where C = 1 + max(x) is one more than the max\n",
        "       value in x. The nth row of y is a one-hot-vector representation of x[n];\n",
        "       In other words, if x[n] = c then y[n, c] = 1; all other elements of y are\n",
        "       zeros.\n",
        "  \"\"\"\n",
        "  import numpy as np\n",
        "  x_np = np.array(x)\n",
        "  x_ten = torch.tensor(x_np)\n",
        "  import torch.nn.functional as F\n",
        "  y = F.one_hot(x_ten)\n",
        "  ##############################################################################\n",
        "  # TODO: Complete the implementation of this function.                        #\n",
        "  ##############################################################################\n",
        "  # Replace \"pass\" statement with your code\n",
        "  pass\n",
        "  ##############################################################################\n",
        "  #                             END OF YOUR CODE                               #\n",
        "  ##############################################################################\n",
        "  return y"
      ],
      "metadata": {
        "id": "c2Jo0S9ZWD_s"
      },
      "execution_count": 27,
      "outputs": []
    },
    {
      "cell_type": "markdown",
      "source": [
        "구현한 함수가 잘 작동하는지 확인!"
      ],
      "metadata": {
        "id": "u53kzhhHWskr"
      }
    },
    {
      "cell_type": "code",
      "source": [
        "# [과제 2] 확인\n",
        "\n",
        "def check_one_hot(x, y):\n",
        "  C = y.shape[1]\n",
        "  for i, n in enumerate(x):\n",
        "    if n >= C: return False\n",
        "    for j in range(C):\n",
        "      expected = 1.0 if j == n else 0.0\n",
        "      if y[i, j].item() != expected: return False\n",
        "  return True\n",
        "      \n",
        "x0 = [1, 4, 3, 2]\n",
        "y0 = make_one_hot(x0)\n",
        "print('Here is y0:')\n",
        "print(y0)\n",
        "assert check_one_hot(x0, y0), 'y0 is wrong'\n",
        "\n",
        "x1 = [1, 3, 5, 7, 6, 2]\n",
        "y1 = make_one_hot(x1)\n",
        "print('\\nHere is y1:')\n",
        "print(y1)\n",
        "assert check_one_hot(x1, y1), 'y1 is wrong'\n",
        "\n",
        "print('all checks pass!')"
      ],
      "metadata": {
        "colab": {
          "base_uri": "https://localhost:8080/"
        },
        "id": "O3CowpPpWyIy",
        "outputId": "3f7f3d66-d8cf-4fc0-b4e3-feb0e5e7658f"
      },
      "execution_count": 28,
      "outputs": [
        {
          "output_type": "stream",
          "name": "stdout",
          "text": [
            "Here is y0:\n",
            "tensor([[0, 1, 0, 0, 0],\n",
            "        [0, 0, 0, 0, 1],\n",
            "        [0, 0, 0, 1, 0],\n",
            "        [0, 0, 1, 0, 0]])\n",
            "\n",
            "Here is y1:\n",
            "tensor([[0, 1, 0, 0, 0, 0, 0, 0],\n",
            "        [0, 0, 0, 1, 0, 0, 0, 0],\n",
            "        [0, 0, 0, 0, 0, 1, 0, 0],\n",
            "        [0, 0, 0, 0, 0, 0, 0, 1],\n",
            "        [0, 0, 0, 0, 0, 0, 1, 0],\n",
            "        [0, 0, 1, 0, 0, 0, 0, 0]])\n",
            "all checks pass!\n"
          ]
        }
      ]
    },
    {
      "cell_type": "markdown",
      "source": [
        "# [과제 3]\n",
        "- 행렬의 열을 정규화하는 함수를 구현해주세요. \n",
        "    - 각 열의 평균과 표준 편차를 계산한 다음 평균을 빼고 열의 각 요소에 대한 표준 편차로 나누기!\n",
        "- Example:\n",
        "```\n",
        "x = [[ 0,  30,  600],\n",
        "     [ 1,  10,  200],\n",
        "     [-1,  20,  400]]\n",
        "```\n",
        "    - 첫번째 열: mean 0 and std 1\n",
        "    - 두번째 열: mean 20 and std 10\n",
        "    - 세번째 열: mean 400 and std 200\n",
        "\n",
        "    - 정규화 후 결과는 아래와 같이 나오게 됩니다 :\n",
        "```\n",
        "y = [[ 0,  1,  1],\n",
        "     [ 1, -1, -1],\n",
        "     [-1,  0,  0]]\n",
        "```"
      ],
      "metadata": {
        "id": "cqk7J9gcYuOR"
      }
    },
    {
      "cell_type": "code",
      "source": [
        "# [과제 3]\n",
        "\n",
        "def normalize_columns(x):\n",
        "  \"\"\"\n",
        "  Normalize the columns of a matrix by subtracting the mean and dividing by the\n",
        "  standard deviation.\n",
        " \n",
        "  Inputs:\n",
        "  - x: Tensor of shape (N, M)\n",
        "  \n",
        "  Returns:\n",
        "  - y: Tensor of shape (N, M) which is a copy of x with normalized columns.\n",
        "  \"\"\"\n",
        "  y = x.clone()\n",
        "  m = y.mean(dim =0, keepdim=True )\n",
        "  s = y.std(dim=0, keepdim=True)\n",
        "  y = (y-m)/s\n",
        "  # Replace \"pass\" statement with your code\n",
        "  pass\n",
        "  # * 힌트\n",
        "  # 1. 각 열마다 평균을 reduction operation으로 계산하여 m으로 저장하세요. \n",
        "  #   (y.mean() 사용, dim=0, keepDim=TRUE 옵션 이용) \n",
        "  # 2. columnwise std를 reduction operation으로 계산하여 s로 저장하세요.\n",
        "  #   (y.std() 사용, dim=0, keepDim=TRUE 옵션 이용) \n",
        "  # 3. y에서 m을 빼고 s를 나누세요. Broadcasting이 잘 동작하는지 고민해보세요.\n",
        "\n",
        "  return y"
      ],
      "metadata": {
        "id": "sBDI3L2mZDAZ"
      },
      "execution_count": 92,
      "outputs": []
    },
    {
      "cell_type": "markdown",
      "source": [
        "구현한 함수가 잘 작동하는지 확인!"
      ],
      "metadata": {
        "id": "VtcUSbxIbQ4R"
      }
    },
    {
      "cell_type": "code",
      "source": [
        "# [과제 3 확인]\n",
        "x0 = torch.tensor([[0., 30., 600.], [1., 10., 200.], [-1., 20., 400.]])\n",
        "y0 = normalize_columns(x0)\n",
        "print('Here is x0:')\n",
        "print(x0)\n",
        "print('Here is y0:')\n",
        "print(y0)\n",
        "assert y0.tolist() == [[0., 1., 1.], [1., -1., -1.], [-1., 0., 0.]]\n",
        "assert x0.tolist() == [[0., 30., 600.], [1., 10., 200.], [-1., 20., 400.]]"
      ],
      "metadata": {
        "id": "NBVvfFarbQRy",
        "colab": {
          "base_uri": "https://localhost:8080/"
        },
        "outputId": "0a1ce030-9906-4da2-e369-df5e7a608f95"
      },
      "execution_count": 93,
      "outputs": [
        {
          "output_type": "stream",
          "name": "stdout",
          "text": [
            "Here is x0:\n",
            "tensor([[  0.,  30., 600.],\n",
            "        [  1.,  10., 200.],\n",
            "        [ -1.,  20., 400.]])\n",
            "Here is y0:\n",
            "tensor([[ 0.,  1.,  1.],\n",
            "        [ 1., -1., -1.],\n",
            "        [-1.,  0.,  0.]])\n"
          ]
        }
      ]
    }
  ]
}