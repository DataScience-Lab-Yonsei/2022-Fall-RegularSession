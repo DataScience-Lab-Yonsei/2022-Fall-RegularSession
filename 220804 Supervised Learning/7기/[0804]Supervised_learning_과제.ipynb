{
 "cells": [
  {
   "cell_type": "code",
   "execution_count": 1,
   "metadata": {
    "id": "NuogZdJAewSq"
   },
   "outputs": [],
   "source": [
    "import numpy as np\n",
    "import pandas as pd\n",
    "import matplotlib.pyplot as plt"
   ]
  },
  {
   "cell_type": "markdown",
   "metadata": {
    "id": "u5RQzjdjj6I2"
   },
   "source": [
    "코랩 사용하시는 분들은 아래의 코드를 실행해주세요!"
   ]
  },
  {
   "cell_type": "code",
   "execution_count": 2,
   "metadata": {
    "id": "7J7wP7X6nQtv"
   },
   "outputs": [],
   "source": [
    "# from google.colab import drive\n",
    "# drive.mount('/content/drive')"
   ]
  },
  {
   "cell_type": "code",
   "execution_count": 3,
   "metadata": {
    "id": "OA4UW3j4kePR"
   },
   "outputs": [],
   "source": [
    "# import os\n",
    "# os.getcwd()"
   ]
  },
  {
   "cell_type": "markdown",
   "metadata": {
    "id": "NtVt7I7qWH8s"
   },
   "source": [
    "코랩 사용시 본인 구글 드라이브 경로는  \n",
    "/content/drive/MyDrive/...  \n",
    "입니다."
   ]
  },
  {
   "cell_type": "code",
   "execution_count": 4,
   "metadata": {
    "id": "SiVE75urjpg3"
   },
   "outputs": [],
   "source": [
    "# path = './drive/MyDrive/...'    # 과제 데이터셋이 저장된 경로를 더 작성해주세요\n",
    "# os.chdir(path)"
   ]
  },
  {
   "cell_type": "code",
   "execution_count": 5,
   "metadata": {
    "id": "0qXX7Ab0kHuX"
   },
   "outputs": [],
   "source": [
    "# os.getcwd()"
   ]
  },
  {
   "cell_type": "markdown",
   "metadata": {
    "id": "JfNxu2eTDyl6"
   },
   "source": [
    "사용할 데이터 셋 :  전력 사용량 예측 모델\n",
    "\n",
    "아래의 과정에서 sklearn의 Pipeline의 사용은 필수는 아닙니다. 선호와 필요에 따라 사용하실 분들은 사용하셔도 좋습니다."
   ]
  },
  {
   "cell_type": "markdown",
   "metadata": {},
   "source": [
    "# 데이터"
   ]
  },
  {
   "cell_type": "markdown",
   "metadata": {
    "id": "K2sLE1gZOTc2"
   },
   "source": [
    "건물 정보와 기후 정보를 활용한 전력사용량 예측 데이터 중에서 \n",
    "\n",
    "환경 변수(기온, 풍속, 습도, 강수량, 일조)에 대해 전력 사용량을 선형회귀 모델을 사용해서 예측해보고자 합니다."
   ]
  },
  {
   "cell_type": "code",
   "execution_count": 2,
   "metadata": {},
   "outputs": [],
   "source": [
    "var_name = ['Temp', 'Wind', 'Moisture', 'Precipitation', 'Sun']\n",
    "target = 'Wh'"
   ]
  },
  {
   "cell_type": "code",
   "execution_count": 3,
   "metadata": {},
   "outputs": [],
   "source": [
    "def parsing(data: pd.DataFrame):\n",
    "    x = data.iloc[:, 3:8]\n",
    "    x.columns = var_name\n",
    "    y = data.iloc[:, 2]\n",
    "    y.name = target\n",
    "    \n",
    "    return x, y"
   ]
  },
  {
   "cell_type": "code",
   "execution_count": 4,
   "metadata": {},
   "outputs": [],
   "source": [
    "def load_data():\n",
    "    data = pd.read_csv('data/train.csv', encoding='cp949')\n",
    "    data = data[: 100]\n",
    "    x, y = parsing(data)    \n",
    "    cut = int(round(len(x)*0.88))\n",
    "    tr_x = x[:cut]\n",
    "    tr_y = y[:cut]\n",
    "    te_x = x[cut:]\n",
    "    te_y = y[cut:]\n",
    "    return tr_x, tr_y, te_x, te_y"
   ]
  },
  {
   "cell_type": "code",
   "execution_count": 5,
   "metadata": {},
   "outputs": [],
   "source": [
    "train_x, train_y, test_x, test_y = load_data()"
   ]
  },
  {
   "cell_type": "markdown",
   "metadata": {
    "id": "FtOBVORnPUCt"
   },
   "source": [
    "## 데이터 확인 \n",
    "\n",
    "주의! 최종 예측하는 단계 이전에는 현재 가지고 있는 데이터, 즉 train data만을 이용하여 작업을 진행해야 합니다.\n",
    "\n",
    "현재 가지고 있는 데이터 train_x를 보고 전력 사용량을 예측하는데에 사용할 변수를 선택해주세요.\n",
    "\n",
    "기초세션에서 다뤘던 내용을 참고하셔서 최적의 변수 조합을 찾아보도록 합시다.\n",
    "\n",
    "이 때 선택해야하는 변수는 하나일 수도 있고, 여러개의 변수를 사용하여도 좋습니다."
   ]
  },
  {
   "cell_type": "code",
   "execution_count": 10,
   "metadata": {
    "id": "wuD0nXzEDySK"
   },
   "outputs": [],
   "source": [
    "# 데이터 셋을 둘러보는 코드 작성하시고, 왜 좋은지 한번 둘러보세요!\n",
    "# train_x ="
   ]
  },
  {
   "cell_type": "code",
   "execution_count": 7,
   "metadata": {},
   "outputs": [
    {
     "data": {
      "text/html": [
       "<div>\n",
       "<style scoped>\n",
       "    .dataframe tbody tr th:only-of-type {\n",
       "        vertical-align: middle;\n",
       "    }\n",
       "\n",
       "    .dataframe tbody tr th {\n",
       "        vertical-align: top;\n",
       "    }\n",
       "\n",
       "    .dataframe thead th {\n",
       "        text-align: right;\n",
       "    }\n",
       "</style>\n",
       "<table border=\"1\" class=\"dataframe\">\n",
       "  <thead>\n",
       "    <tr style=\"text-align: right;\">\n",
       "      <th></th>\n",
       "      <th>Temp</th>\n",
       "      <th>Wind</th>\n",
       "      <th>Moisture</th>\n",
       "      <th>Precipitation</th>\n",
       "      <th>Sun</th>\n",
       "    </tr>\n",
       "  </thead>\n",
       "  <tbody>\n",
       "    <tr>\n",
       "      <th>0</th>\n",
       "      <td>17.6</td>\n",
       "      <td>2.5</td>\n",
       "      <td>92.0</td>\n",
       "      <td>0.8</td>\n",
       "      <td>0.0</td>\n",
       "    </tr>\n",
       "    <tr>\n",
       "      <th>1</th>\n",
       "      <td>17.7</td>\n",
       "      <td>2.9</td>\n",
       "      <td>91.0</td>\n",
       "      <td>0.3</td>\n",
       "      <td>0.0</td>\n",
       "    </tr>\n",
       "    <tr>\n",
       "      <th>2</th>\n",
       "      <td>17.5</td>\n",
       "      <td>3.2</td>\n",
       "      <td>91.0</td>\n",
       "      <td>0.0</td>\n",
       "      <td>0.0</td>\n",
       "    </tr>\n",
       "    <tr>\n",
       "      <th>3</th>\n",
       "      <td>17.1</td>\n",
       "      <td>3.2</td>\n",
       "      <td>91.0</td>\n",
       "      <td>0.0</td>\n",
       "      <td>0.0</td>\n",
       "    </tr>\n",
       "    <tr>\n",
       "      <th>4</th>\n",
       "      <td>17.0</td>\n",
       "      <td>3.3</td>\n",
       "      <td>92.0</td>\n",
       "      <td>0.0</td>\n",
       "      <td>0.0</td>\n",
       "    </tr>\n",
       "  </tbody>\n",
       "</table>\n",
       "</div>"
      ],
      "text/plain": [
       "   Temp  Wind  Moisture  Precipitation  Sun\n",
       "0  17.6   2.5      92.0            0.8  0.0\n",
       "1  17.7   2.9      91.0            0.3  0.0\n",
       "2  17.5   3.2      91.0            0.0  0.0\n",
       "3  17.1   3.2      91.0            0.0  0.0\n",
       "4  17.0   3.3      92.0            0.0  0.0"
      ]
     },
     "execution_count": 7,
     "metadata": {},
     "output_type": "execute_result"
    }
   ],
   "source": [
    "train_x.head()"
   ]
  },
  {
   "cell_type": "code",
   "execution_count": 10,
   "metadata": {},
   "outputs": [
    {
     "name": "stdout",
     "output_type": "stream",
     "text": [
      "<class 'pandas.core.frame.DataFrame'>\n",
      "RangeIndex: 88 entries, 0 to 87\n",
      "Data columns (total 5 columns):\n",
      " #   Column         Non-Null Count  Dtype  \n",
      "---  ------         --------------  -----  \n",
      " 0   Temp           88 non-null     float64\n",
      " 1   Wind           88 non-null     float64\n",
      " 2   Moisture       88 non-null     float64\n",
      " 3   Precipitation  88 non-null     float64\n",
      " 4   Sun            88 non-null     float64\n",
      "dtypes: float64(5)\n",
      "memory usage: 3.6 KB\n"
     ]
    }
   ],
   "source": [
    "train_x.info()"
   ]
  },
  {
   "cell_type": "code",
   "execution_count": 14,
   "metadata": {},
   "outputs": [
    {
     "data": {
      "text/plain": [
       "0     8179.056\n",
       "1     8135.640\n",
       "2     8107.128\n",
       "3     8048.808\n",
       "4     8043.624\n",
       "        ...   \n",
       "83    8386.416\n",
       "84    8435.664\n",
       "85    8591.184\n",
       "86    8638.488\n",
       "87    8663.112\n",
       "Name: Wh, Length: 88, dtype: float64"
      ]
     },
     "execution_count": 14,
     "metadata": {},
     "output_type": "execute_result"
    }
   ],
   "source": [
    "train_y"
   ]
  },
  {
   "cell_type": "code",
   "execution_count": 12,
   "metadata": {},
   "outputs": [
    {
     "data": {
      "text/plain": [
       "(88,)"
      ]
     },
     "execution_count": 12,
     "metadata": {},
     "output_type": "execute_result"
    }
   ],
   "source": [
    "train_y.shape"
   ]
  },
  {
   "cell_type": "code",
   "execution_count": 13,
   "metadata": {},
   "outputs": [
    {
     "data": {
      "text/plain": [
       "(88, 5)"
      ]
     },
     "execution_count": 13,
     "metadata": {},
     "output_type": "execute_result"
    }
   ],
   "source": [
    "train_x.shape"
   ]
  },
  {
   "cell_type": "markdown",
   "metadata": {
    "id": "kD24Xx9XLotD"
   },
   "source": [
    "정답은 없습니다! \n",
    "\n",
    "다만 최종 선택한 변수(들)이 왜 선택받았는지 간단히 알려주세요.<br>\n",
    "답변 : 임의로 배제하지 않고 모두 선택해보겠습니다."
   ]
  },
  {
   "cell_type": "markdown",
   "metadata": {
    "id": "9FeCbQAFP6Kw"
   },
   "source": [
    "## 전처리\n",
    "\n",
    "위에서 선택한 변수들(feature)를 가지고 한번 전력 사용량을 예측하는 모델을 만들어 보기에 앞서,\n",
    "\n",
    "**train 데이터의 feature의 전처리**를 진행해보려고 합니다. StandardScaler를 사용하셔도 좋고, MinMaxScaler를 사용하셔도 좋습니다! \n",
    "\n",
    "또한 PolynomialFeatures를 이용하거나 직접 feature를 계산하여 고차원의 feature를 만드셔도 좋습니다. 이 또한 정답은 없습니다!\n",
    "\n",
    "이 때 최종 train_x의 shape은 (n_samples, n_features)가 되도록 해주세요.<br>\n",
    "ex. 4개의 변수를 가진 1000개의 샘플의 경우 train_x.shape은 (1000,4)가 되면 됩니다.\n",
    "\n",
    "특히 하나의 변수만을 사용하시는 분들은 1D가 아닌 2D가 되도록 신경써주세요<br>\n",
    "ex. train_x.shape이 (1000,)이 아닌 (1000,1)입니다!"
   ]
  },
  {
   "cell_type": "code",
   "execution_count": 17,
   "metadata": {},
   "outputs": [],
   "source": [
    "# 사용할 패키지를 import!\n",
    "from sklearn.preprocessing import StandardScaler"
   ]
  },
  {
   "cell_type": "code",
   "execution_count": 18,
   "metadata": {},
   "outputs": [
    {
     "data": {
      "text/plain": [
       "StandardScaler()"
      ]
     },
     "execution_count": 18,
     "metadata": {},
     "output_type": "execute_result"
    }
   ],
   "source": [
    "scaler = StandardScaler()\n",
    "scaler.fit(train_x)"
   ]
  },
  {
   "cell_type": "code",
   "execution_count": 19,
   "metadata": {},
   "outputs": [],
   "source": [
    "train_x_std = scaler.transform(train_x)"
   ]
  },
  {
   "cell_type": "code",
   "execution_count": 21,
   "metadata": {},
   "outputs": [
    {
     "data": {
      "text/plain": [
       "(88, 5)"
      ]
     },
     "execution_count": 21,
     "metadata": {},
     "output_type": "execute_result"
    }
   ],
   "source": [
    "train_x_std.shape"
   ]
  },
  {
   "cell_type": "code",
   "execution_count": 23,
   "metadata": {},
   "outputs": [
    {
     "data": {
      "text/plain": [
       "array([[-8.09422591e-01, -1.21390236e-01,  1.32132616e+00,\n",
       "         3.46504346e+00, -7.04318071e-01],\n",
       "       [-7.78799552e-01,  2.50169444e-01,  1.25833770e+00,\n",
       "         1.18949253e+00, -7.04318071e-01],\n",
       "       [-8.40045630e-01,  5.28839204e-01,  1.25833770e+00,\n",
       "        -1.75838026e-01, -7.04318071e-01],\n",
       "       [-9.62537785e-01,  5.28839204e-01,  1.25833770e+00,\n",
       "        -1.75838026e-01, -7.04318071e-01],\n",
       "       [-9.93160823e-01,  6.21729124e-01,  1.32132616e+00,\n",
       "        -1.75838026e-01, -7.04318071e-01],\n",
       "       [-1.02378386e+00,  7.14619044e-01,  1.38431463e+00,\n",
       "        -1.75838026e-01, -7.04318071e-01],\n",
       "       [-1.08502994e+00,  7.14619044e-01,  1.19534924e+00,\n",
       "         2.79272159e-01, -7.04318071e-01],\n",
       "       [-1.02378386e+00, -3.07170076e-01,  9.43395387e-01,\n",
       "        -1.75838026e-01, -4.62208734e-01],\n",
       "       [-7.48176514e-01,  6.21729124e-01,  5.65464610e-01,\n",
       "        -1.75838026e-01,  2.20099397e-02],\n",
       "       [-2.88830933e-01, -4.92949916e-01,  1.24545370e-01,\n",
       "        -1.75838026e-01,  9.90447288e-01],\n",
       "       [ 7.86455312e-02,  7.14619044e-01, -5.68327722e-01,\n",
       "        -1.75838026e-01,  1.71677530e+00],\n",
       "       [ 5.68614150e-01,  9.00398884e-01, -1.19821235e+00,\n",
       "        -1.75838026e-01,  1.71677530e+00],\n",
       "       [ 8.74844537e-01,  1.27195856e+00, -1.38717774e+00,\n",
       "        -1.75838026e-01,  1.71677530e+00],\n",
       "       [ 8.74844537e-01,  2.29374768e+00, -1.82809698e+00,\n",
       "        -1.75838026e-01,  1.71677530e+00],\n",
       "       [ 1.02795973e+00,  2.29374768e+00, -2.01706237e+00,\n",
       "        -1.75838026e-01,  1.71677530e+00],\n",
       "       [ 1.08920581e+00,  2.66530736e+00, -1.95407390e+00,\n",
       "        -1.75838026e-01,  1.71677530e+00],\n",
       "       [ 1.27294404e+00,  3.43059364e-01, -2.01706237e+00,\n",
       "        -1.75838026e-01,  1.71677530e+00],\n",
       "       [ 1.02795973e+00,  1.64351824e+00, -1.89108544e+00,\n",
       "        -1.75838026e-01,  1.71677530e+00],\n",
       "       [ 7.52352383e-01,  1.36484848e+00, -1.82809698e+00,\n",
       "        -1.75838026e-01,  1.71677530e+00],\n",
       "       [ 3.23629841e-01,  1.45773840e+00, -1.70212005e+00,\n",
       "        -1.75838026e-01,  1.71677530e+00],\n",
       "       [-1.35715740e-01, -1.21390236e-01, -1.26120081e+00,\n",
       "        -1.75838026e-01,  2.64119277e-01],\n",
       "       [-5.03192204e-01, -1.21390236e-01, -1.00924696e+00,\n",
       "        -1.75838026e-01, -7.04318071e-01],\n",
       "       [-7.17553475e-01, -5.85839836e-01, -5.68327722e-01,\n",
       "        -1.75838026e-01, -7.04318071e-01],\n",
       "       [-9.31914746e-01, -5.85839836e-01, -1.90396945e-01,\n",
       "        -1.75838026e-01, -7.04318071e-01],\n",
       "       [-1.11565298e+00, -9.57399516e-01,  1.87533833e-01,\n",
       "        -1.75838026e-01, -7.04318071e-01],\n",
       "       [-1.23814513e+00, -1.70051888e+00,  3.76499221e-01,\n",
       "        -1.75838026e-01, -7.04318071e-01],\n",
       "       [-1.33001425e+00, -1.42184912e+00,  4.39487684e-01,\n",
       "        -1.75838026e-01, -7.04318071e-01],\n",
       "       [-1.39126033e+00, -2.07207856e+00,  4.39487684e-01,\n",
       "        -1.75838026e-01, -7.04318071e-01],\n",
       "       [-1.45250640e+00, -1.60762896e+00,  5.02476147e-01,\n",
       "        -1.75838026e-01, -7.04318071e-01],\n",
       "       [-1.66686767e+00, -1.23606928e+00,  5.02476147e-01,\n",
       "        -1.75838026e-01, -7.04318071e-01],\n",
       "       [-1.60562160e+00, -4.00059996e-01,  5.02476147e-01,\n",
       "        -1.75838026e-01, -7.04318071e-01],\n",
       "       [-1.45250640e+00, -1.14317936e+00,  3.76499221e-01,\n",
       "        -1.75838026e-01, -7.04318071e-01],\n",
       "       [-1.29939121e+00, -4.00059996e-01,  2.50522295e-01,\n",
       "        -1.75838026e-01, -7.04318071e-01],\n",
       "       [-1.02378386e+00, -1.21390236e-01, -1.43155597e-03,\n",
       "        -1.75838026e-01, -7.04318071e-01],\n",
       "       [-9.01291707e-01, -1.21390236e-01, -3.79362333e-01,\n",
       "        -1.75838026e-01, -7.04318071e-01],\n",
       "       [-8.40045630e-01, -2.85003164e-02, -6.44200188e-02,\n",
       "        -1.75838026e-01, -7.04318071e-01],\n",
       "       [-1.20752209e+00,  2.50169444e-01,  5.65464610e-01,\n",
       "         8.47125550e+00, -7.04318071e-01],\n",
       "       [-8.40045630e-01, -4.00059996e-01, -1.90396945e-01,\n",
       "        -1.75838026e-01, -7.04318071e-01],\n",
       "       [ 4.80224925e-02,  4.35949284e-01, -1.26120081e+00,\n",
       "        -1.75838026e-01, -4.62208734e-01],\n",
       "       [ 2.01137686e-01, -4.00059996e-01, -1.45016620e+00,\n",
       "        -1.75838026e-01, -7.04318071e-01],\n",
       "       [ 4.46121996e-01, -1.21390236e-01, -1.57614313e+00,\n",
       "        -1.75838026e-01, -4.62208734e-01],\n",
       "       [ 2.93006802e-01,  6.21729124e-01, -1.00924696e+00,\n",
       "        -1.75838026e-01, -7.04318071e-01],\n",
       "       [ 1.09268570e-01, -2.14280156e-01, -8.20281573e-01,\n",
       "        -1.75838026e-01, -7.04318071e-01],\n",
       "       [ 1.73994538e-02,  2.50169444e-01, -6.31316185e-01,\n",
       "        -1.75838026e-01, -7.04318071e-01],\n",
       "       [-1.05092701e-01,  4.35949284e-01, -3.79362333e-01,\n",
       "        -1.75838026e-01, -7.04318071e-01],\n",
       "       [-1.96961817e-01,  6.43896036e-02, -6.44200188e-02,\n",
       "        -1.75838026e-01, -7.04318071e-01],\n",
       "       [-2.88830933e-01, -4.00059996e-01,  1.87533833e-01,\n",
       "        -1.75838026e-01, -7.04318071e-01],\n",
       "       [-3.80700049e-01, -8.64509596e-01,  5.02476147e-01,\n",
       "        -1.75838026e-01, -7.04318071e-01],\n",
       "       [-5.64438281e-01, -8.64509596e-01,  8.17418461e-01,\n",
       "         2.79272159e-01, -7.04318071e-01],\n",
       "       [-5.95061320e-01, -5.85839836e-01,  9.43395387e-01,\n",
       "        -1.75838026e-01, -7.04318071e-01],\n",
       "       [-6.25684359e-01, -7.71619676e-01,  1.13236078e+00,\n",
       "        -1.75838026e-01, -7.04318071e-01],\n",
       "       [-6.25684359e-01, -1.23606928e+00,  1.13236078e+00,\n",
       "        -1.75838026e-01, -7.04318071e-01],\n",
       "       [-6.56307398e-01, -1.05028944e+00,  1.00638385e+00,\n",
       "        -1.75838026e-01, -7.04318071e-01],\n",
       "       [-6.56307398e-01, -1.23606928e+00,  1.06937231e+00,\n",
       "        -1.75838026e-01, -7.04318071e-01],\n",
       "       [-8.09422591e-01, -2.07207856e+00,  1.13236078e+00,\n",
       "        -1.75838026e-01, -7.04318071e-01],\n",
       "       [-5.95061320e-01, -7.71619676e-01,  1.06937231e+00,\n",
       "        -1.75838026e-01,  2.20099397e-02],\n",
       "       [-1.66338778e-01, -5.85839836e-01,  6.91441536e-01,\n",
       "        -1.75838026e-01,  1.47466596e+00],\n",
       "       [ 1.70514647e-01, -1.70051888e+00,  3.13510758e-01,\n",
       "        -1.75838026e-01,  2.64119277e-01],\n",
       "       [ 5.37991112e-01, -1.14317936e+00,  1.24545370e-01,\n",
       "        -1.75838026e-01, -2.20099397e-01],\n",
       "       [ 8.74844537e-01, -4.00059996e-01, -1.90396945e-01,\n",
       "        -1.75838026e-01,  2.20099397e-02],\n",
       "       [ 1.27294404e+00, -2.85003164e-02, -8.20281573e-01,\n",
       "        -1.75838026e-01,  7.48337951e-01],\n",
       "       [ 1.79353570e+00, -4.00059996e-01, -1.00924696e+00,\n",
       "        -1.75838026e-01,  1.71677530e+00],\n",
       "       [ 2.00789697e+00,  6.43896036e-02, -1.32418928e+00,\n",
       "        -1.75838026e-01,  1.71677530e+00],\n",
       "       [ 2.34475039e+00, -1.21390236e-01, -1.19821235e+00,\n",
       "        -1.75838026e-01,  1.71677530e+00],\n",
       "       [ 2.43661951e+00,  1.57279524e-01, -1.45016620e+00,\n",
       "        -1.75838026e-01,  1.71677530e+00],\n",
       "       [ 2.40599647e+00,  1.08617872e+00, -1.38717774e+00,\n",
       "        -1.75838026e-01,  1.71677530e+00],\n",
       "       [ 1.79353570e+00,  1.73640816e+00, -6.94304647e-01,\n",
       "        -1.75838026e-01,  1.71677530e+00],\n",
       "       [ 1.08920581e+00,  2.01507792e+00, -1.90396945e-01,\n",
       "        -1.75838026e-01,  1.23255663e+00],\n",
       "       [ 2.31760725e-01,  2.38663760e+00,  5.65464610e-01,\n",
       "        -1.75838026e-01, -7.04318071e-01],\n",
       "       [ 7.86455312e-02,  4.35949284e-01,  6.28453073e-01,\n",
       "        -1.75838026e-01, -7.04318071e-01],\n",
       "       [ 4.80224925e-02, -2.14280156e-01,  6.28453073e-01,\n",
       "        -1.75838026e-01, -7.04318071e-01],\n",
       "       [-4.38466236e-02, -4.00059996e-01,  6.28453073e-01,\n",
       "        -1.75838026e-01, -7.04318071e-01],\n",
       "       [-4.38466236e-02, -1.05028944e+00,  6.28453073e-01,\n",
       "        -1.75838026e-01, -7.04318071e-01],\n",
       "       [-7.44696623e-02, -4.00059996e-01,  7.54429998e-01,\n",
       "        -1.75838026e-01, -7.04318071e-01],\n",
       "       [-4.38466236e-02, -1.51473904e+00,  8.17418461e-01,\n",
       "        -1.75838026e-01, -7.04318071e-01],\n",
       "       [ 4.80224925e-02, -2.85003164e-02,  9.43395387e-01,\n",
       "        -1.75838026e-01, -7.04318071e-01],\n",
       "       [ 7.86455312e-02, -5.85839836e-01,  1.06937231e+00,\n",
       "        -1.75838026e-01, -7.04318071e-01],\n",
       "       [ 1.73994538e-02, -5.85839836e-01,  1.25833770e+00,\n",
       "        -1.75838026e-01, -7.04318071e-01],\n",
       "       [-4.38466236e-02,  3.43059364e-01,  1.25833770e+00,\n",
       "         2.79272159e-01, -7.04318071e-01],\n",
       "       [-4.38466236e-02, -4.00059996e-01,  1.19534924e+00,\n",
       "        -1.75838026e-01, -7.04318071e-01],\n",
       "       [-4.38466236e-02,  8.07508964e-01,  1.13236078e+00,\n",
       "         2.79272159e-01, -7.04318071e-01],\n",
       "       [ 1.09268570e-01,  4.35949284e-01,  1.19534924e+00,\n",
       "        -1.75838026e-01, -7.04318071e-01],\n",
       "       [ 6.60483266e-01,  6.43896036e-02,  3.13510758e-01,\n",
       "        -1.75838026e-01,  5.06228614e-01],\n",
       "       [ 1.11982885e+00,  1.57279524e-01, -1.90396945e-01,\n",
       "        -1.75838026e-01,  7.48337951e-01],\n",
       "       [ 1.45668227e+00,  4.35949284e-01, -5.05339259e-01,\n",
       "        -1.75838026e-01,  1.23255663e+00],\n",
       "       [ 1.76291266e+00,  4.35949284e-01, -6.94304647e-01,\n",
       "        -1.75838026e-01,  1.71677530e+00],\n",
       "       [ 1.88540481e+00,  1.08617872e+00, -6.94304647e-01,\n",
       "        -1.75838026e-01,  1.71677530e+00],\n",
       "       [ 1.57917443e+00,  1.45773840e+00, -3.16373870e-01,\n",
       "        -1.75838026e-01,  5.06228614e-01]])"
      ]
     },
     "execution_count": 23,
     "metadata": {},
     "output_type": "execute_result"
    }
   ],
   "source": [
    "train_x_std"
   ]
  },
  {
   "cell_type": "markdown",
   "metadata": {},
   "source": [
    "# 모델링"
   ]
  },
  {
   "cell_type": "markdown",
   "metadata": {},
   "source": [
    "## 학습 \n",
    "\n",
    "이제 모델링을 해봅시다.\n",
    "\n",
    "앞서 다룬 여러 regression 모델들(Linear regression, Ridge Regression, Lasso Regression, ..)을 이용해서 fit을 진행해보도록 합시다."
   ]
  },
  {
   "cell_type": "code",
   "execution_count": 24,
   "metadata": {
    "id": "nCd88UXEQFdZ"
   },
   "outputs": [],
   "source": [
    "# 사용할 패키지를 import!\n",
    "from sklearn.linear_model import LinearRegression"
   ]
  },
  {
   "cell_type": "code",
   "execution_count": 25,
   "metadata": {
    "id": "y7hwaxnZUIwY"
   },
   "outputs": [],
   "source": [
    "# 선형회귀 모델 생성 후 fitting 시킵니다.\n",
    "model = LinearRegression().fit(train_x_std,train_y)"
   ]
  },
  {
   "cell_type": "markdown",
   "metadata": {},
   "source": [
    "## 추정\n",
    "\n",
    "이제 train_x를 이용하여 전력사용량을 추정해보도록 합시다."
   ]
  },
  {
   "cell_type": "code",
   "execution_count": 26,
   "metadata": {},
   "outputs": [],
   "source": [
    "esti_y = model.predict(train_x_std)"
   ]
  },
  {
   "cell_type": "markdown",
   "metadata": {},
   "source": [
    "# Loss 및 시각화\n",
    "\n",
    "앞서 fitting하여 얻은 모델을 이용하여 추정한 값으로 MSE를 측정해봅시다. 변수를 하나만 사용하신 분들은 xy 평면에 한번 같이 시각화도 해보셔도 좋습니다."
   ]
  },
  {
   "cell_type": "code",
   "execution_count": 27,
   "metadata": {},
   "outputs": [],
   "source": [
    "def mse(pred, true):\n",
    "    return np.mean((pred-true)**2)"
   ]
  },
  {
   "cell_type": "code",
   "execution_count": 28,
   "metadata": {},
   "outputs": [
    {
     "name": "stdout",
     "output_type": "stream",
     "text": [
      "Linear 2832.76020\n"
     ]
    }
   ],
   "source": [
    "train_mse = mse(esti_y, train_y)\n",
    "print(f\"Linear {train_mse:.5f}\")"
   ]
  },
  {
   "cell_type": "code",
   "execution_count": 32,
   "metadata": {
    "id": "ThKWK_QdUIyo"
   },
   "outputs": [],
   "source": [
    "def visualize(model, x, y):\n",
    "    if x.shape[1] != 1:\n",
    "        return None\n",
    "    beta = model.coef_[0]\n",
    "    intercept = model.intercept_\n",
    "    \n",
    "    x_axis = np.linspace(np.min(x), np.max(x), 100)\n",
    "    fit = intercept * x_axis**0 + beta*x_axis \n",
    "\n",
    "    plt.figure(figsize=(8,6))\n",
    "    plt.plot(x_axis, fit, label='Predict', c='r', linewidth=3)\n",
    "    plt.scatter(x, y, c='blue')\n",
    "    plt.legend()\n",
    "    plt.show()"
   ]
  },
  {
   "cell_type": "code",
   "execution_count": 33,
   "metadata": {},
   "outputs": [],
   "source": [
    "# visualization 하실 분은 진행해주세요!\n",
    "visualize(model, train_x, train_y)"
   ]
  },
  {
   "cell_type": "markdown",
   "metadata": {},
   "source": [
    "# 예측"
   ]
  },
  {
   "cell_type": "markdown",
   "metadata": {
    "id": "T-6Xv53GXm4K"
   },
   "source": [
    "테스트셋에 대해서 한번 **예측**해보도록 합시다.\n",
    "\n",
    "이미 fitting된 모델 (그리고 scaler를 사용하신다면 scaler)에 대해 **fit을 하지 말고** 단순히 predict만 진행해보도록 합시다. \n",
    "\n",
    "scaler는 transform만 하시고 model은 predict을 진행해주세요"
   ]
  },
  {
   "cell_type": "code",
   "execution_count": 34,
   "metadata": {
    "id": "YTwIN94ZYlhU"
   },
   "outputs": [],
   "source": [
    "# transform을 하시는 분들은 실행해주세요\n",
    "test_x_std = scaler.transform(test_x) "
   ]
  },
  {
   "cell_type": "code",
   "execution_count": 36,
   "metadata": {},
   "outputs": [],
   "source": [
    "# y1_hat에 predict값 할당\n",
    "pred_y = model.predict(test_x_std)"
   ]
  },
  {
   "cell_type": "markdown",
   "metadata": {},
   "source": [
    "# 성능 평가\n",
    "\n",
    "한번 학습한 모델에 대해 test_y를 이용하여 mse loss를 측정해도도록 합시다."
   ]
  },
  {
   "cell_type": "code",
   "execution_count": 37,
   "metadata": {},
   "outputs": [],
   "source": [
    "def score(train_mse, test_mse):\n",
    "    print(f\"{test_mse/train_mse: .4f}\")"
   ]
  },
  {
   "cell_type": "code",
   "execution_count": 38,
   "metadata": {
    "scrolled": true
   },
   "outputs": [
    {
     "name": "stdout",
     "output_type": "stream",
     "text": [
      "Linear 91231.18222\n"
     ]
    }
   ],
   "source": [
    "test_mse = mse(pred_y, test_y)\n",
    "print(f\"Linear {test_mse:.5f}\")"
   ]
  },
  {
   "cell_type": "code",
   "execution_count": 39,
   "metadata": {},
   "outputs": [
    {
     "name": "stdout",
     "output_type": "stream",
     "text": [
      " 32.2058\n"
     ]
    }
   ],
   "source": [
    "score(train_mse,test_mse)"
   ]
  },
  {
   "cell_type": "code",
   "execution_count": 40,
   "metadata": {
    "id": "hHQz6NrkXmtW"
   },
   "outputs": [],
   "source": [
    "# visualization 하실 분은 진행해주세요!\n",
    "# visualize(model, test_x, test_y)"
   ]
  },
  {
   "cell_type": "markdown",
   "metadata": {},
   "source": [
    "# 그 이후\n",
    "\n",
    "이제 여러분들은 한번 모델을 만들어보고 fitting한 다음 예측까지 해보셨습니다.\n",
    "\n",
    "이제 개선하기 위해 1.데이터부터 5.성능평가 중 수정, 변경하실 부분을 업데이트 해서  최적의 모델을 찾아보세요!\n",
    "\n",
    "현재 사용하고 있는 scaler, model부터 전처리과정 기타 여러 조건을 조작해보시고 어떤 효과가 있는지 한번 보시고 알려주세요:D"
   ]
  },
  {
   "cell_type": "code",
   "execution_count": 41,
   "metadata": {},
   "outputs": [
    {
     "data": {
      "text/plain": [
       "<matplotlib.collections.PathCollection at 0x7f9a237ed880>"
      ]
     },
     "execution_count": 41,
     "metadata": {},
     "output_type": "execute_result"
    },
    {
     "data": {
      "image/png": "[encoded data removed]",
      "text/plain": [
       "<Figure size 432x288 with 1 Axes>"
      ]
     },
     "metadata": {
      "needs_background": "light"
     },
     "output_type": "display_data"
    }
   ],
   "source": [
    "plt.scatter(train_x['Temp'],train_y)"
   ]
  },
  {
   "cell_type": "code",
   "execution_count": 42,
   "metadata": {},
   "outputs": [
    {
     "data": {
      "text/plain": [
       "<matplotlib.collections.PathCollection at 0x7f9a23a0ac40>"
      ]
     },
     "execution_count": 42,
     "metadata": {},
     "output_type": "execute_result"
    },
    {
     "data": {
      "image/png": "[encoded data removed]",
      "text/plain": [
       "<Figure size 432x288 with 1 Axes>"
      ]
     },
     "metadata": {
      "needs_background": "light"
     },
     "output_type": "display_data"
    }
   ],
   "source": [
    "plt.scatter(train_x['Wind'],train_y)"
   ]
  },
  {
   "cell_type": "code",
   "execution_count": 44,
   "metadata": {},
   "outputs": [
    {
     "data": {
      "text/plain": [
       "<matplotlib.collections.PathCollection at 0x7f9a23ab3e20>"
      ]
     },
     "execution_count": 44,
     "metadata": {},
     "output_type": "execute_result"
    },
    {
     "data": {
      "image/png": "[encoded data removed]",
      "text/plain": [
       "<Figure size 432x288 with 1 Axes>"
      ]
     },
     "metadata": {
      "needs_background": "light"
     },
     "output_type": "display_data"
    }
   ],
   "source": [
    "plt.scatter(train_x['Moisture'],train_y)"
   ]
  },
  {
   "cell_type": "code",
   "execution_count": 45,
   "metadata": {},
   "outputs": [
    {
     "data": {
      "text/plain": [
       "<matplotlib.collections.PathCollection at 0x7f9a23beda00>"
      ]
     },
     "execution_count": 45,
     "metadata": {},
     "output_type": "execute_result"
    },
    {
     "data": {
      "image/png": "[encoded data removed]",
      "text/plain": [
       "<Figure size 432x288 with 1 Axes>"
      ]
     },
     "metadata": {
      "needs_background": "light"
     },
     "output_type": "display_data"
    }
   ],
   "source": [
    "plt.scatter(train_x['Precipitation'],train_y)"
   ]
  },
  {
   "cell_type": "code",
   "execution_count": 46,
   "metadata": {},
   "outputs": [
    {
     "data": {
      "text/plain": [
       "<matplotlib.collections.PathCollection at 0x7f9a23cd54c0>"
      ]
     },
     "execution_count": 46,
     "metadata": {},
     "output_type": "execute_result"
    },
    {
     "data": {
      "image/png": "[encoded data removed]",
      "text/plain": [
       "<Figure size 432x288 with 1 Axes>"
      ]
     },
     "metadata": {
      "needs_background": "light"
     },
     "output_type": "display_data"
    }
   ],
   "source": [
    "plt.scatter(train_x['Sun'],train_y)"
   ]
  },
  {
   "cell_type": "code",
   "execution_count": null,
   "metadata": {},
   "outputs": [],
   "source": [
    "# Temp, Wind 두 변수만 사용해서 LinearRegression을 수행해보도록 하겠습니다."
   ]
  },
  {
   "cell_type": "code",
   "execution_count": 49,
   "metadata": {},
   "outputs": [],
   "source": [
    "train_x2 = train_x[['Temp','Wind']]\n",
    "test_x2 = test_x[['Temp','Wind']]"
   ]
  },
  {
   "cell_type": "code",
   "execution_count": 52,
   "metadata": {},
   "outputs": [],
   "source": [
    "scaler2 = StandardScaler()\n",
    "train_x2_std = scaler2.fit_transform(train_x2)\n",
    "\n",
    "model2 = LinearRegression()\n",
    "model2 = model2.fit(train_x2_std, train_y)"
   ]
  },
  {
   "cell_type": "code",
   "execution_count": 54,
   "metadata": {},
   "outputs": [
    {
     "data": {
      "text/plain": [
       "14336.297204998236"
      ]
     },
     "execution_count": 54,
     "metadata": {},
     "output_type": "execute_result"
    }
   ],
   "source": [
    "esti_y2 = model2.predict(train_x2_std)\n",
    "train_mse2 = mse(esti_y2,train_y)\n",
    "train_mse2"
   ]
  },
  {
   "cell_type": "code",
   "execution_count": 57,
   "metadata": {},
   "outputs": [
    {
     "data": {
      "text/plain": [
       "191535.82376663902"
      ]
     },
     "execution_count": 57,
     "metadata": {},
     "output_type": "execute_result"
    }
   ],
   "source": [
    "pred_y2 = model2.predict(scaler2.transform(test_x2))\n",
    "test_mse2 = mse(pred_y2, test_y)\n",
    "test_mse2"
   ]
  },
  {
   "cell_type": "code",
   "execution_count": 58,
   "metadata": {},
   "outputs": [
    {
     "name": "stdout",
     "output_type": "stream",
     "text": [
      " 13.3602\n"
     ]
    }
   ],
   "source": [
    "score(train_mse2,test_mse2)"
   ]
  },
  {
   "cell_type": "markdown",
   "metadata": {},
   "source": [
    "고생하셨습니다!"
   ]
  }
 ],
 "metadata": {
  "colab": {
   "authorship_tag": "ABX9TyOgug4KEXAF4mJb0CKcc9BQ",
   "collapsed_sections": [],
   "mount_file_id": "1Y2yJV5xqiiXMIdvOZmbHCI4AoGjowvm5",
   "name": "220203_Supervised_Learning_과제.ipynb",
   "provenance": []
  },
  "kernelspec": {
   "display_name": "Python 3 (ipykernel)",
   "language": "python",
   "name": "python3"
  },
  "language_info": {
   "codemirror_mode": {
    "name": "ipython",
    "version": 3
   },
   "file_extension": ".py",
   "mimetype": "text/x-python",
   "name": "python",
   "nbconvert_exporter": "python",
   "pygments_lexer": "ipython3",
   "version": "3.9.7"
  },
  "toc": {
   "base_numbering": 1,
   "nav_menu": {},
   "number_sections": true,
   "sideBar": true,
   "skip_h1_title": false,
   "title_cell": "Table of Contents",
   "title_sidebar": "Contents",
   "toc_cell": false,
   "toc_position": {
    "height": "calc(100% - 180px)",
    "left": "10px",
    "top": "150px",
    "width": "300.792px"
   },
   "toc_section_display": true,
   "toc_window_display": true
  }
 },
 "nbformat": 4,
 "nbformat_minor": 1
}
